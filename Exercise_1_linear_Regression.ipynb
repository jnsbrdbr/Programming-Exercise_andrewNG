{
  "cells": [
    {
      "cell_type": "markdown",
      "metadata": {
        "id": "view-in-github",
        "colab_type": "text"
      },
      "source": [
        "<a href=\"https://colab.research.google.com/github/jnsbrdbr/Programming-Exercise_andrewNG/blob/master/Exercise_1_linear_Regression.ipynb\" target=\"_parent\"><img src=\"https://colab.research.google.com/assets/colab-badge.svg\" alt=\"Open In Colab\"/></a>"
      ]
    },
    {
      "cell_type": "code",
      "execution_count": 1,
      "metadata": {
        "id": "52FQ-fFI9KUB"
      },
      "outputs": [],
      "source": [
        "import numpy as np\n",
        "import pandas as pd\n",
        "import seaborn as sns\n",
        "import matplotlib.pyplot as plt"
      ]
    },
    {
      "cell_type": "code",
      "execution_count": 2,
      "metadata": {
        "colab": {
          "base_uri": "https://localhost:8080/"
        },
        "id": "9iVtCYGrcb0s",
        "outputId": "e256c0b3-010e-4537-f664-4e6e22c564d7"
      },
      "outputs": [
        {
          "output_type": "stream",
          "name": "stdout",
          "text": [
            "--2022-07-19 14:58:14--  https://raw.githubusercontent.com/susilvaalmeida/machine-learning-andrew-ng/master/data/ex1data1.txt\n",
            "Resolving raw.githubusercontent.com (raw.githubusercontent.com)... 185.199.108.133, 185.199.109.133, 185.199.110.133, ...\n",
            "Connecting to raw.githubusercontent.com (raw.githubusercontent.com)|185.199.108.133|:443... connected.\n",
            "HTTP request sent, awaiting response... 200 OK\n",
            "Length: 1359 (1.3K) [text/plain]\n",
            "Saving to: ‘ex1data1.txt.5’\n",
            "\n",
            "\rex1data1.txt.5        0%[                    ]       0  --.-KB/s               \rex1data1.txt.5      100%[===================>]   1.33K  --.-KB/s    in 0s      \n",
            "\n",
            "2022-07-19 14:58:14 (80.6 MB/s) - ‘ex1data1.txt.5’ saved [1359/1359]\n",
            "\n"
          ]
        }
      ],
      "source": [
        "!wget https://raw.githubusercontent.com/susilvaalmeida/machine-learning-andrew-ng/master/data/ex1data1.txt\n",
        "data=pd.read_csv('ex1data1.txt', header=None).values"
      ]
    },
    {
      "cell_type": "code",
      "execution_count": 3,
      "metadata": {
        "colab": {
          "base_uri": "https://localhost:8080/"
        },
        "id": "VpSh8rpFczV7",
        "outputId": "30321ef5-a882-464f-caa4-738d4e9c360e"
      },
      "outputs": [
        {
          "output_type": "execute_result",
          "data": {
            "text/plain": [
              "array([[ 6.1101 , 17.592  ],\n",
              "       [ 5.5277 ,  9.1302 ],\n",
              "       [ 8.5186 , 13.662  ],\n",
              "       [ 7.0032 , 11.854  ],\n",
              "       [ 5.8598 ,  6.8233 ],\n",
              "       [ 8.3829 , 11.886  ],\n",
              "       [ 7.4764 ,  4.3483 ],\n",
              "       [ 8.5781 , 12.     ],\n",
              "       [ 6.4862 ,  6.5987 ],\n",
              "       [ 5.0546 ,  3.8166 ],\n",
              "       [ 5.7107 ,  3.2522 ],\n",
              "       [14.164  , 15.505  ],\n",
              "       [ 5.734  ,  3.1551 ],\n",
              "       [ 8.4084 ,  7.2258 ],\n",
              "       [ 5.6407 ,  0.71618],\n",
              "       [ 5.3794 ,  3.5129 ],\n",
              "       [ 6.3654 ,  5.3048 ],\n",
              "       [ 5.1301 ,  0.56077],\n",
              "       [ 6.4296 ,  3.6518 ],\n",
              "       [ 7.0708 ,  5.3893 ],\n",
              "       [ 6.1891 ,  3.1386 ],\n",
              "       [20.27   , 21.767  ],\n",
              "       [ 5.4901 ,  4.263  ],\n",
              "       [ 6.3261 ,  5.1875 ],\n",
              "       [ 5.5649 ,  3.0825 ],\n",
              "       [18.945  , 22.638  ],\n",
              "       [12.828  , 13.501  ],\n",
              "       [10.957  ,  7.0467 ],\n",
              "       [13.176  , 14.692  ],\n",
              "       [22.203  , 24.147  ],\n",
              "       [ 5.2524 , -1.22   ],\n",
              "       [ 6.5894 ,  5.9966 ],\n",
              "       [ 9.2482 , 12.134  ],\n",
              "       [ 5.8918 ,  1.8495 ],\n",
              "       [ 8.2111 ,  6.5426 ],\n",
              "       [ 7.9334 ,  4.5623 ],\n",
              "       [ 8.0959 ,  4.1164 ],\n",
              "       [ 5.6063 ,  3.3928 ],\n",
              "       [12.836  , 10.117  ],\n",
              "       [ 6.3534 ,  5.4974 ],\n",
              "       [ 5.4069 ,  0.55657],\n",
              "       [ 6.8825 ,  3.9115 ],\n",
              "       [11.708  ,  5.3854 ],\n",
              "       [ 5.7737 ,  2.4406 ],\n",
              "       [ 7.8247 ,  6.7318 ],\n",
              "       [ 7.0931 ,  1.0463 ],\n",
              "       [ 5.0702 ,  5.1337 ],\n",
              "       [ 5.8014 ,  1.844  ],\n",
              "       [11.7    ,  8.0043 ],\n",
              "       [ 5.5416 ,  1.0179 ],\n",
              "       [ 7.5402 ,  6.7504 ],\n",
              "       [ 5.3077 ,  1.8396 ],\n",
              "       [ 7.4239 ,  4.2885 ],\n",
              "       [ 7.6031 ,  4.9981 ],\n",
              "       [ 6.3328 ,  1.4233 ],\n",
              "       [ 6.3589 , -1.4211 ],\n",
              "       [ 6.2742 ,  2.4756 ],\n",
              "       [ 5.6397 ,  4.6042 ],\n",
              "       [ 9.3102 ,  3.9624 ],\n",
              "       [ 9.4536 ,  5.4141 ],\n",
              "       [ 8.8254 ,  5.1694 ],\n",
              "       [ 5.1793 , -0.74279],\n",
              "       [21.279  , 17.929  ],\n",
              "       [14.908  , 12.054  ],\n",
              "       [18.959  , 17.054  ],\n",
              "       [ 7.2182 ,  4.8852 ],\n",
              "       [ 8.2951 ,  5.7442 ],\n",
              "       [10.236  ,  7.7754 ],\n",
              "       [ 5.4994 ,  1.0173 ],\n",
              "       [20.341  , 20.992  ],\n",
              "       [10.136  ,  6.6799 ],\n",
              "       [ 7.3345 ,  4.0259 ],\n",
              "       [ 6.0062 ,  1.2784 ],\n",
              "       [ 7.2259 ,  3.3411 ],\n",
              "       [ 5.0269 , -2.6807 ],\n",
              "       [ 6.5479 ,  0.29678],\n",
              "       [ 7.5386 ,  3.8845 ],\n",
              "       [ 5.0365 ,  5.7014 ],\n",
              "       [10.274  ,  6.7526 ],\n",
              "       [ 5.1077 ,  2.0576 ],\n",
              "       [ 5.7292 ,  0.47953],\n",
              "       [ 5.1884 ,  0.20421],\n",
              "       [ 6.3557 ,  0.67861],\n",
              "       [ 9.7687 ,  7.5435 ],\n",
              "       [ 6.5159 ,  5.3436 ],\n",
              "       [ 8.5172 ,  4.2415 ],\n",
              "       [ 9.1802 ,  6.7981 ],\n",
              "       [ 6.002  ,  0.92695],\n",
              "       [ 5.5204 ,  0.152  ],\n",
              "       [ 5.0594 ,  2.8214 ],\n",
              "       [ 5.7077 ,  1.8451 ],\n",
              "       [ 7.6366 ,  4.2959 ],\n",
              "       [ 5.8707 ,  7.2029 ],\n",
              "       [ 5.3054 ,  1.9869 ],\n",
              "       [ 8.2934 ,  0.14454],\n",
              "       [13.394  ,  9.0551 ],\n",
              "       [ 5.4369 ,  0.61705]])"
            ]
          },
          "metadata": {},
          "execution_count": 3
        }
      ],
      "source": [
        "data"
      ]
    },
    {
      "cell_type": "code",
      "execution_count": 4,
      "metadata": {
        "colab": {
          "base_uri": "https://localhost:8080/"
        },
        "id": "nUfe_5-qezgM",
        "outputId": "065ce02e-cf93-4576-8c54-208fdcefc662"
      },
      "outputs": [
        {
          "output_type": "execute_result",
          "data": {
            "text/plain": [
              "numpy.ndarray"
            ]
          },
          "metadata": {},
          "execution_count": 4
        }
      ],
      "source": [
        "type(data)"
      ]
    },
    {
      "cell_type": "code",
      "execution_count": 5,
      "metadata": {
        "id": "7rxPeBKMdNLs"
      },
      "outputs": [],
      "source": [
        "x=data[:,0].reshape(-1, 1)\n",
        "y=data[:,1]\n",
        "M = len(y) "
      ]
    },
    {
      "cell_type": "code",
      "execution_count": 6,
      "metadata": {
        "colab": {
          "base_uri": "https://localhost:8080/",
          "height": 284
        },
        "id": "8xzA2EGFfs3Z",
        "outputId": "1433399b-ef45-417b-a65f-365b4d2d6b72"
      },
      "outputs": [
        {
          "output_type": "execute_result",
          "data": {
            "text/plain": [
              "<matplotlib.collections.PathCollection at 0x7f52e2f6d910>"
            ]
          },
          "metadata": {},
          "execution_count": 6
        },
        {
          "output_type": "display_data",
          "data": {
            "text/plain": [
              "<Figure size 432x288 with 1 Axes>"
            ],
            "image/png": "[encoded data removed]"
          },
          "metadata": {
            "needs_background": "light"
          }
        }
      ],
      "source": [
        "plt.scatter(x, y)"
      ]
    },
    {
      "cell_type": "code",
      "execution_count": 7,
      "metadata": {
        "id": "5ZRLChF8ouyx"
      },
      "outputs": [],
      "source": [
        "m = y.shape[0]\n",
        "ones = np.ones((m, 1)) \n",
        "X=np.hstack((ones,x))\n",
        "theta = np.zeros(2)"
      ]
    },
    {
      "cell_type": "code",
      "execution_count": 8,
      "metadata": {
        "id": "qQQ-DCZBkCS2"
      },
      "outputs": [],
      "source": [
        "num_iters = 1500\n",
        "alpha = 0.01"
      ]
    },
    {
      "cell_type": "code",
      "execution_count": 9,
      "metadata": {
        "id": "g42QcWavkKhZ"
      },
      "outputs": [],
      "source": [
        "def cost_function(X,y,theta):\n",
        "  h=X.dot(theta)\n",
        "  J = (1/(2*m)) * (np.sum((h - y)**2))\n",
        "  return J"
      ]
    },
    {
      "cell_type": "code",
      "execution_count": 10,
      "metadata": {
        "colab": {
          "base_uri": "https://localhost:8080/"
        },
        "id": "hl0Grc36o5Vn",
        "outputId": "8e88385b-513b-423e-c2a5-5cbdae5130ba"
      },
      "outputs": [
        {
          "output_type": "stream",
          "name": "stdout",
          "text": [
            "With theta = [0 ; 0]\n",
            "Cost computed = 32.072733877455676\n"
          ]
        }
      ],
      "source": [
        "J = cost_function(X, y, theta)\n",
        "print('With theta = [0 ; 0]\\nCost computed =', J)"
      ]
    },
    {
      "cell_type": "code",
      "execution_count": 11,
      "metadata": {
        "colab": {
          "base_uri": "https://localhost:8080/"
        },
        "id": "47ZxUMVtpbds",
        "outputId": "df20955f-1c26-46fe-de5f-77b40104b46e"
      },
      "outputs": [
        {
          "output_type": "stream",
          "name": "stdout",
          "text": [
            "With theta = [-1 ; 2]\n",
            "Cost computed = 54.24245508201238\n"
          ]
        }
      ],
      "source": [
        "J = cost_function(X, y, [-1,2])\n",
        "print('With theta = [-1 ; 2]\\nCost computed =', J)"
      ]
    },
    {
      "cell_type": "code",
      "source": [
        "def gradient_descent(X, y, theta, alpha, num_iters):\n",
        "    J_history = np.zeros(num_iters)\n",
        "    theta_0 = theta.copy()\n",
        "    for i in range(0, num_iters):\n",
        "        h = X.dot(theta_0)\n",
        "        diff_hy = h - y\n",
        "\n",
        "        delta = (1/m) * (diff_hy.T.dot(X))\n",
        "        theta_0 = theta_0 - (alpha * delta.T)\n",
        "        J_history[i] = cost_function(X, y, theta_0)\n",
        "\n",
        "    return theta_0, J_history"
      ],
      "metadata": {
        "id": "Lfzynpk60tyu"
      },
      "execution_count": 12,
      "outputs": []
    },
    {
      "cell_type": "code",
      "source": [
        "theta, _ = gradient_descent(X, y, theta, alpha, num_iters)\n",
        "print('Theta found by gradient descent:\\n', theta)"
      ],
      "metadata": {
        "colab": {
          "base_uri": "https://localhost:8080/"
        },
        "id": "FmI37n9i2x1_",
        "outputId": "a33ca1a1-0da3-4e06-e6b2-e83f2acff478"
      },
      "execution_count": 13,
      "outputs": [
        {
          "output_type": "stream",
          "name": "stdout",
          "text": [
            "Theta found by gradient descent:\n",
            " [-3.63029144  1.16636235]\n"
          ]
        }
      ]
    },
    {
      "cell_type": "code",
      "source": [
        "plt.scatter(x, y)\n",
        "plt.plot(X[:,1], X.dot(theta), color='r')"
      ],
      "metadata": {
        "colab": {
          "base_uri": "https://localhost:8080/",
          "height": 284
        },
        "id": "TjVohQfS4nuR",
        "outputId": "e100bcd6-7e55-43d1-d795-c155090690e1"
      },
      "execution_count": 14,
      "outputs": [
        {
          "output_type": "execute_result",
          "data": {
            "text/plain": [
              "[<matplotlib.lines.Line2D at 0x7f52e2a6de50>]"
            ]
          },
          "metadata": {},
          "execution_count": 14
        },
        {
          "output_type": "display_data",
          "data": {
            "text/plain": [
              "<Figure size 432x288 with 1 Axes>"
            ],
            "image/png": "[encoded data removed]"
          },
          "metadata": {
            "needs_background": "light"
          }
        }
      ]
    },
    {
      "cell_type": "markdown",
      "source": [
        "1.4 Equivalent Code using Scikit-Learn"
      ],
      "metadata": {
        "id": "fVaiY4eQLMaU"
      }
    },
    {
      "cell_type": "code",
      "source": [
        "from sklearn.linear_model import LinearRegression\n",
        "linear_reg = LinearRegression()\n",
        "linear_reg.fit(x,y)"
      ],
      "metadata": {
        "colab": {
          "base_uri": "https://localhost:8080/"
        },
        "id": "88KwRvweKyKV",
        "outputId": "c72b7a6f-636e-43c5-a404-033a4c13455d"
      },
      "execution_count": 28,
      "outputs": [
        {
          "output_type": "execute_result",
          "data": {
            "text/plain": [
              "LinearRegression()"
            ]
          },
          "metadata": {},
          "execution_count": 28
        }
      ]
    },
    {
      "cell_type": "code",
      "source": [
        "linear_reg.intercept_, linear_reg.coef_"
      ],
      "metadata": {
        "colab": {
          "base_uri": "https://localhost:8080/"
        },
        "id": "gO6xz2MFK9kU",
        "outputId": "36e408bd-e390-4eaa-800c-a1692f51364c"
      },
      "execution_count": 29,
      "outputs": [
        {
          "output_type": "execute_result",
          "data": {
            "text/plain": [
              "(-3.8957808783118484, array([1.19303364]))"
            ]
          },
          "metadata": {},
          "execution_count": 29
        }
      ]
    },
    {
      "cell_type": "code",
      "source": [
        "!wget https://raw.githubusercontent.com/susilvaalmeida/machine-learning-andrew-ng/master/data/ex1data2.txt\n",
        "\n",
        "data_mul= pd.read_csv('ex1data2.txt',header=None)"
      ],
      "metadata": {
        "colab": {
          "base_uri": "https://localhost:8080/"
        },
        "id": "_hhdEk0-RSQE",
        "outputId": "f90f9cb9-b5ef-49fd-ead7-42bfcf39d52d"
      },
      "execution_count": 37,
      "outputs": [
        {
          "output_type": "stream",
          "name": "stdout",
          "text": [
            "--2022-07-19 16:48:56--  https://raw.githubusercontent.com/susilvaalmeida/machine-learning-andrew-ng/master/data/ex1data2.txt\n",
            "Resolving raw.githubusercontent.com (raw.githubusercontent.com)... 185.199.111.133, 185.199.108.133, 185.199.109.133, ...\n",
            "Connecting to raw.githubusercontent.com (raw.githubusercontent.com)|185.199.111.133|:443... connected.\n",
            "HTTP request sent, awaiting response... 200 OK\n",
            "Length: 657 [text/plain]\n",
            "Saving to: ‘ex1data2.txt.2’\n",
            "\n",
            "\rex1data2.txt.2        0%[                    ]       0  --.-KB/s               \rex1data2.txt.2      100%[===================>]     657  --.-KB/s    in 0s      \n",
            "\n",
            "2022-07-19 16:48:56 (21.5 MB/s) - ‘ex1data2.txt.2’ saved [657/657]\n",
            "\n"
          ]
        }
      ]
    },
    {
      "cell_type": "code",
      "source": [
        "data_mul.columns=('house_size','bedrooms','house_price')\n",
        "data_mul.describe().T"
      ],
      "metadata": {
        "colab": {
          "base_uri": "https://localhost:8080/",
          "height": 143
        },
        "id": "l4oxP2XTW3PM",
        "outputId": "13a88664-1408-48df-dccf-c4a0881ef7e2"
      },
      "execution_count": 38,
      "outputs": [
        {
          "output_type": "execute_result",
          "data": {
            "text/plain": [
              "             count           mean            std       min       25%  \\\n",
              "house_size    47.0    2000.680851     794.702354     852.0    1432.0   \n",
              "bedrooms      47.0       3.170213       0.760982       1.0       3.0   \n",
              "house_price   47.0  340412.659574  125039.899586  169900.0  249900.0   \n",
              "\n",
              "                  50%       75%       max  \n",
              "house_size     1888.0    2269.0    4478.0  \n",
              "bedrooms          3.0       4.0       5.0  \n",
              "house_price  299900.0  384450.0  699900.0  "
            ],
            "text/html": [
              "\n",
              "  <div id=\"df-ca109f8d-eed3-4f94-a6d6-c95cfccea1e0\">\n",
              "    <div class=\"colab-df-container\">\n",
              "      <div>\n",
              "<style scoped>\n",
              "    .dataframe tbody tr th:only-of-type {\n",
              "        vertical-align: middle;\n",
              "    }\n",
              "\n",
              "    .dataframe tbody tr th {\n",
              "        vertical-align: top;\n",
              "    }\n",
              "\n",
              "    .dataframe thead th {\n",
              "        text-align: right;\n",
              "    }\n",
              "</style>\n",
              "<table border=\"1\" class=\"dataframe\">\n",
              "  <thead>\n",
              "    <tr style=\"text-align: right;\">\n",
              "      <th></th>\n",
              "      <th>count</th>\n",
              "      <th>mean</th>\n",
              "      <th>std</th>\n",
              "      <th>min</th>\n",
              "      <th>25%</th>\n",
              "      <th>50%</th>\n",
              "      <th>75%</th>\n",
              "      <th>max</th>\n",
              "    </tr>\n",
              "  </thead>\n",
              "  <tbody>\n",
              "    <tr>\n",
              "      <th>house_size</th>\n",
              "      <td>47.0</td>\n",
              "      <td>2000.680851</td>\n",
              "      <td>794.702354</td>\n",
              "      <td>852.0</td>\n",
              "      <td>1432.0</td>\n",
              "      <td>1888.0</td>\n",
              "      <td>2269.0</td>\n",
              "      <td>4478.0</td>\n",
              "    </tr>\n",
              "    <tr>\n",
              "      <th>bedrooms</th>\n",
              "      <td>47.0</td>\n",
              "      <td>3.170213</td>\n",
              "      <td>0.760982</td>\n",
              "      <td>1.0</td>\n",
              "      <td>3.0</td>\n",
              "      <td>3.0</td>\n",
              "      <td>4.0</td>\n",
              "      <td>5.0</td>\n",
              "    </tr>\n",
              "    <tr>\n",
              "      <th>house_price</th>\n",
              "      <td>47.0</td>\n",
              "      <td>340412.659574</td>\n",
              "      <td>125039.899586</td>\n",
              "      <td>169900.0</td>\n",
              "      <td>249900.0</td>\n",
              "      <td>299900.0</td>\n",
              "      <td>384450.0</td>\n",
              "      <td>699900.0</td>\n",
              "    </tr>\n",
              "  </tbody>\n",
              "</table>\n",
              "</div>\n",
              "      <button class=\"colab-df-convert\" onclick=\"convertToInteractive('df-ca109f8d-eed3-4f94-a6d6-c95cfccea1e0')\"\n",
              "              title=\"Convert this dataframe to an interactive table.\"\n",
              "              style=\"display:none;\">\n",
              "        \n",
              "  <svg xmlns=\"http://www.w3.org/2000/svg\" height=\"24px\"viewBox=\"0 0 24 24\"\n",
              "       width=\"24px\">\n",
              "    <path d=\"M0 0h24v24H0V0z\" fill=\"none\"/>\n",
              "    <path d=\"M18.56 5.44l.94 2.06.94-2.06 2.06-.94-2.06-.94-.94-2.06-.94 2.06-2.06.94zm-11 1L8.5 8.5l.94-2.06 2.06-.94-2.06-.94L8.5 2.5l-.94 2.06-2.06.94zm10 10l.94 2.06.94-2.06 2.06-.94-2.06-.94-.94-2.06-.94 2.06-2.06.94z\"/><path d=\"M17.41 7.96l-1.37-1.37c-.4-.4-.92-.59-1.43-.59-.52 0-1.04.2-1.43.59L10.3 9.45l-7.72 7.72c-.78.78-.78 2.05 0 2.83L4 21.41c.39.39.9.59 1.41.59.51 0 1.02-.2 1.41-.59l7.78-7.78 2.81-2.81c.8-.78.8-2.07 0-2.86zM5.41 20L4 18.59l7.72-7.72 1.47 1.35L5.41 20z\"/>\n",
              "  </svg>\n",
              "      </button>\n",
              "      \n",
              "  <style>\n",
              "    .colab-df-container {\n",
              "      display:flex;\n",
              "      flex-wrap:wrap;\n",
              "      gap: 12px;\n",
              "    }\n",
              "\n",
              "    .colab-df-convert {\n",
              "      background-color: #E8F0FE;\n",
              "      border: none;\n",
              "      border-radius: 50%;\n",
              "      cursor: pointer;\n",
              "      display: none;\n",
              "      fill: #1967D2;\n",
              "      height: 32px;\n",
              "      padding: 0 0 0 0;\n",
              "      width: 32px;\n",
              "    }\n",
              "\n",
              "    .colab-df-convert:hover {\n",
              "      background-color: #E2EBFA;\n",
              "      box-shadow: 0px 1px 2px rgba(60, 64, 67, 0.3), 0px 1px 3px 1px rgba(60, 64, 67, 0.15);\n",
              "      fill: #174EA6;\n",
              "    }\n",
              "\n",
              "    [theme=dark] .colab-df-convert {\n",
              "      background-color: #3B4455;\n",
              "      fill: #D2E3FC;\n",
              "    }\n",
              "\n",
              "    [theme=dark] .colab-df-convert:hover {\n",
              "      background-color: #434B5C;\n",
              "      box-shadow: 0px 1px 3px 1px rgba(0, 0, 0, 0.15);\n",
              "      filter: drop-shadow(0px 1px 2px rgba(0, 0, 0, 0.3));\n",
              "      fill: #FFFFFF;\n",
              "    }\n",
              "  </style>\n",
              "\n",
              "      <script>\n",
              "        const buttonEl =\n",
              "          document.querySelector('#df-ca109f8d-eed3-4f94-a6d6-c95cfccea1e0 button.colab-df-convert');\n",
              "        buttonEl.style.display =\n",
              "          google.colab.kernel.accessAllowed ? 'block' : 'none';\n",
              "\n",
              "        async function convertToInteractive(key) {\n",
              "          const element = document.querySelector('#df-ca109f8d-eed3-4f94-a6d6-c95cfccea1e0');\n",
              "          const dataTable =\n",
              "            await google.colab.kernel.invokeFunction('convertToInteractive',\n",
              "                                                     [key], {});\n",
              "          if (!dataTable) return;\n",
              "\n",
              "          const docLinkHtml = 'Like what you see? Visit the ' +\n",
              "            '<a target=\"_blank\" href=https://colab.research.google.com/notebooks/data_table.ipynb>data table notebook</a>'\n",
              "            + ' to learn more about interactive tables.';\n",
              "          element.innerHTML = '';\n",
              "          dataTable['output_type'] = 'display_data';\n",
              "          await google.colab.output.renderOutput(dataTable, element);\n",
              "          const docLink = document.createElement('div');\n",
              "          docLink.innerHTML = docLinkHtml;\n",
              "          element.appendChild(docLink);\n",
              "        }\n",
              "      </script>\n",
              "    </div>\n",
              "  </div>\n",
              "  "
            ]
          },
          "metadata": {},
          "execution_count": 38
        }
      ]
    },
    {
      "cell_type": "code",
      "source": [
        "#standardization\n",
        "def standardization(x,mean=np.zeros(1),std=np.zeros(1)):\n",
        "  x=np.array(x)\n",
        "  if len(mean.shape)==1 or len(std.shape)==1:\n",
        "     mean = np.mean(x, axis=0)\n",
        "     std = np.std(x, axis=0, ddof=1)\n",
        "  x=(x-mean)/std\n",
        "  return x,mean,std"
      ],
      "metadata": {
        "id": "2PFtAeZfW3NX"
      },
      "execution_count": 47,
      "outputs": []
    },
    {
      "cell_type": "code",
      "source": [
        "type(data_mul)"
      ],
      "metadata": {
        "colab": {
          "base_uri": "https://localhost:8080/"
        },
        "id": "EKMUEgpIb7GJ",
        "outputId": "3787ee35-5a28-430f-bc41-d0ea4b4881e8"
      },
      "execution_count": 43,
      "outputs": [
        {
          "output_type": "execute_result",
          "data": {
            "text/plain": [
              "pandas.core.frame.DataFrame"
            ]
          },
          "metadata": {},
          "execution_count": 43
        }
      ]
    },
    {
      "cell_type": "code",
      "source": [
        "x_norm, mu, sigma = standardization(data_mul[['house_size', 'bedrooms']])"
      ],
      "metadata": {
        "id": "cofo-CnYbdN0"
      },
      "execution_count": 49,
      "outputs": []
    },
    {
      "cell_type": "code",
      "source": [
        "data_mul['house_size_normalized'] =x_norm[:,0]\n",
        "data_mul['bedrooms_normalized'] = x_norm[:,1]\n",
        "data_mul[['house_size_normalized', 'bedrooms_normalized']].describe().T"
      ],
      "metadata": {
        "colab": {
          "base_uri": "https://localhost:8080/",
          "height": 112
        },
        "id": "nmSrDwHRhLZq",
        "outputId": "483e682f-1fac-4191-efd1-fa2f4776dd74"
      },
      "execution_count": 51,
      "outputs": [
        {
          "output_type": "execute_result",
          "data": {
            "text/plain": [
              "                       count          mean  std       min       25%       50%  \\\n",
              "house_size_normalized   47.0  3.779483e-17  1.0 -1.445423 -0.715590 -0.141790   \n",
              "bedrooms_normalized     47.0  2.746030e-16  1.0 -2.851859 -0.223675 -0.223675   \n",
              "\n",
              "                            75%       max  \n",
              "house_size_normalized  0.337635  3.117292  \n",
              "bedrooms_normalized    1.090417  2.404508  "
            ],
            "text/html": [
              "\n",
              "  <div id=\"df-a7744449-2a2b-4296-8f60-4116b25cdfbc\">\n",
              "    <div class=\"colab-df-container\">\n",
              "      <div>\n",
              "<style scoped>\n",
              "    .dataframe tbody tr th:only-of-type {\n",
              "        vertical-align: middle;\n",
              "    }\n",
              "\n",
              "    .dataframe tbody tr th {\n",
              "        vertical-align: top;\n",
              "    }\n",
              "\n",
              "    .dataframe thead th {\n",
              "        text-align: right;\n",
              "    }\n",
              "</style>\n",
              "<table border=\"1\" class=\"dataframe\">\n",
              "  <thead>\n",
              "    <tr style=\"text-align: right;\">\n",
              "      <th></th>\n",
              "      <th>count</th>\n",
              "      <th>mean</th>\n",
              "      <th>std</th>\n",
              "      <th>min</th>\n",
              "      <th>25%</th>\n",
              "      <th>50%</th>\n",
              "      <th>75%</th>\n",
              "      <th>max</th>\n",
              "    </tr>\n",
              "  </thead>\n",
              "  <tbody>\n",
              "    <tr>\n",
              "      <th>house_size_normalized</th>\n",
              "      <td>47.0</td>\n",
              "      <td>3.779483e-17</td>\n",
              "      <td>1.0</td>\n",
              "      <td>-1.445423</td>\n",
              "      <td>-0.715590</td>\n",
              "      <td>-0.141790</td>\n",
              "      <td>0.337635</td>\n",
              "      <td>3.117292</td>\n",
              "    </tr>\n",
              "    <tr>\n",
              "      <th>bedrooms_normalized</th>\n",
              "      <td>47.0</td>\n",
              "      <td>2.746030e-16</td>\n",
              "      <td>1.0</td>\n",
              "      <td>-2.851859</td>\n",
              "      <td>-0.223675</td>\n",
              "      <td>-0.223675</td>\n",
              "      <td>1.090417</td>\n",
              "      <td>2.404508</td>\n",
              "    </tr>\n",
              "  </tbody>\n",
              "</table>\n",
              "</div>\n",
              "      <button class=\"colab-df-convert\" onclick=\"convertToInteractive('df-a7744449-2a2b-4296-8f60-4116b25cdfbc')\"\n",
              "              title=\"Convert this dataframe to an interactive table.\"\n",
              "              style=\"display:none;\">\n",
              "        \n",
              "  <svg xmlns=\"http://www.w3.org/2000/svg\" height=\"24px\"viewBox=\"0 0 24 24\"\n",
              "       width=\"24px\">\n",
              "    <path d=\"M0 0h24v24H0V0z\" fill=\"none\"/>\n",
              "    <path d=\"M18.56 5.44l.94 2.06.94-2.06 2.06-.94-2.06-.94-.94-2.06-.94 2.06-2.06.94zm-11 1L8.5 8.5l.94-2.06 2.06-.94-2.06-.94L8.5 2.5l-.94 2.06-2.06.94zm10 10l.94 2.06.94-2.06 2.06-.94-2.06-.94-.94-2.06-.94 2.06-2.06.94z\"/><path d=\"M17.41 7.96l-1.37-1.37c-.4-.4-.92-.59-1.43-.59-.52 0-1.04.2-1.43.59L10.3 9.45l-7.72 7.72c-.78.78-.78 2.05 0 2.83L4 21.41c.39.39.9.59 1.41.59.51 0 1.02-.2 1.41-.59l7.78-7.78 2.81-2.81c.8-.78.8-2.07 0-2.86zM5.41 20L4 18.59l7.72-7.72 1.47 1.35L5.41 20z\"/>\n",
              "  </svg>\n",
              "      </button>\n",
              "      \n",
              "  <style>\n",
              "    .colab-df-container {\n",
              "      display:flex;\n",
              "      flex-wrap:wrap;\n",
              "      gap: 12px;\n",
              "    }\n",
              "\n",
              "    .colab-df-convert {\n",
              "      background-color: #E8F0FE;\n",
              "      border: none;\n",
              "      border-radius: 50%;\n",
              "      cursor: pointer;\n",
              "      display: none;\n",
              "      fill: #1967D2;\n",
              "      height: 32px;\n",
              "      padding: 0 0 0 0;\n",
              "      width: 32px;\n",
              "    }\n",
              "\n",
              "    .colab-df-convert:hover {\n",
              "      background-color: #E2EBFA;\n",
              "      box-shadow: 0px 1px 2px rgba(60, 64, 67, 0.3), 0px 1px 3px 1px rgba(60, 64, 67, 0.15);\n",
              "      fill: #174EA6;\n",
              "    }\n",
              "\n",
              "    [theme=dark] .colab-df-convert {\n",
              "      background-color: #3B4455;\n",
              "      fill: #D2E3FC;\n",
              "    }\n",
              "\n",
              "    [theme=dark] .colab-df-convert:hover {\n",
              "      background-color: #434B5C;\n",
              "      box-shadow: 0px 1px 3px 1px rgba(0, 0, 0, 0.15);\n",
              "      filter: drop-shadow(0px 1px 2px rgba(0, 0, 0, 0.3));\n",
              "      fill: #FFFFFF;\n",
              "    }\n",
              "  </style>\n",
              "\n",
              "      <script>\n",
              "        const buttonEl =\n",
              "          document.querySelector('#df-a7744449-2a2b-4296-8f60-4116b25cdfbc button.colab-df-convert');\n",
              "        buttonEl.style.display =\n",
              "          google.colab.kernel.accessAllowed ? 'block' : 'none';\n",
              "\n",
              "        async function convertToInteractive(key) {\n",
              "          const element = document.querySelector('#df-a7744449-2a2b-4296-8f60-4116b25cdfbc');\n",
              "          const dataTable =\n",
              "            await google.colab.kernel.invokeFunction('convertToInteractive',\n",
              "                                                     [key], {});\n",
              "          if (!dataTable) return;\n",
              "\n",
              "          const docLinkHtml = 'Like what you see? Visit the ' +\n",
              "            '<a target=\"_blank\" href=https://colab.research.google.com/notebooks/data_table.ipynb>data table notebook</a>'\n",
              "            + ' to learn more about interactive tables.';\n",
              "          element.innerHTML = '';\n",
              "          dataTable['output_type'] = 'display_data';\n",
              "          await google.colab.output.renderOutput(dataTable, element);\n",
              "          const docLink = document.createElement('div');\n",
              "          docLink.innerHTML = docLinkHtml;\n",
              "          element.appendChild(docLink);\n",
              "        }\n",
              "      </script>\n",
              "    </div>\n",
              "  </div>\n",
              "  "
            ]
          },
          "metadata": {},
          "execution_count": 51
        }
      ]
    },
    {
      "cell_type": "code",
      "source": [
        "m=data_mul.shape[0]\n",
        "x_x=np.hstack((np.ones((m,1)),x_norm))\n",
        "y_y=np.array(data_mul.house_price.values).reshape(-1,1)\n",
        "theta = np.zeros(shape=(x_x.shape[1],1))\n",
        "alpha = [0.3, 0.1, 0.03, 0.01]\n",
        "colors = ['b','r','g','c']\n",
        "num_iters = 50"
      ],
      "metadata": {
        "id": "Q9mWzsLohsUH"
      },
      "execution_count": 55,
      "outputs": []
    },
    {
      "cell_type": "code",
      "source": [
        "for i in range (0,len(alpha)):\n",
        "  theta = np.zeros(shape=(x_x.shape[1],1))\n",
        "  theta, J_history=gradient_descent(x_x, y_y, theta, alpha[i], num_iters)\n",
        "  plt.plot(range(len(J_history)), J_history, colors[i], label='Alpha {}'.format(alpha[i]))\n",
        "\n",
        "plt.xlabel('Number of iterations');\n",
        "plt.ylabel('Cost J');\n",
        "plt.title('Selecting learning rates');\n",
        "plt.legend()\n",
        "plt.show()"
      ],
      "metadata": {
        "colab": {
          "base_uri": "https://localhost:8080/",
          "height": 295
        },
        "id": "mDlzcnL0iDlr",
        "outputId": "7a2291ba-e6f2-4d5a-ca7d-6f37b4af9a53"
      },
      "execution_count": 56,
      "outputs": [
        {
          "output_type": "display_data",
          "data": {
            "text/plain": [
              "<Figure size 432x288 with 1 Axes>"
            ],
            "image/png": "[encoded data removed]"
          },
          "metadata": {
            "needs_background": "light"
          }
        }
      ]
    },
    {
      "cell_type": "code",
      "source": [
        "iterations = 250\n",
        "alpha = 0.1\n",
        "theta, _ = gradient_descent(x_x, y_y, theta, alpha, iterations)\n",
        "\n",
        "print('Theta found by gradient descent:')\n",
        "print(theta)"
      ],
      "metadata": {
        "colab": {
          "base_uri": "https://localhost:8080/"
        },
        "id": "EWq6XPBtjXPF",
        "outputId": "f3276b3e-f03c-4548-cbbd-c5ade0ac695b"
      },
      "execution_count": 58,
      "outputs": [
        {
          "output_type": "stream",
          "name": "stdout",
          "text": [
            "Theta found by gradient descent:\n",
            "[[340412.65957372]\n",
            " [110630.26530813]\n",
            " [ -6648.6893001 ]]\n"
          ]
        }
      ]
    },
    {
      "cell_type": "code",
      "source": [
        "sqft = (1650 - mu[0])/sigma[0]\n",
        "bedrooms = (3 - mu[1])/sigma[1]\n",
        "y_pred = theta[0] + theta[1]*sqft + theta[2]*bedrooms\n",
        "f'Price of a house with 1650 square feet and 3 bedrooms: {y_pred[0]}$'"
      ],
      "metadata": {
        "colab": {
          "base_uri": "https://localhost:8080/",
          "height": 35
        },
        "id": "WawGQbDEjmNN",
        "outputId": "8f7a9dc2-9467-4bc9-df95-fc4790a07226"
      },
      "execution_count": 59,
      "outputs": [
        {
          "output_type": "execute_result",
          "data": {
            "text/plain": [
              "'Price of a house with 1650 square feet and 3 bedrooms: 293081.63514221634$'"
            ],
            "application/vnd.google.colaboratory.intrinsic+json": {
              "type": "string"
            }
          },
          "metadata": {},
          "execution_count": 59
        }
      ]
    }
  ],
  "metadata": {
    "colab": {
      "name": "Untitled7.ipynb",
      "provenance": [],
      "collapsed_sections": [],
      "authorship_tag": "ABX9TyM73E5Srg+gxdNNY1v1nF1F",
      "include_colab_link": true
    },
    "kernelspec": {
      "display_name": "Python 3",
      "name": "python3"
    },
    "language_info": {
      "name": "python"
    }
  },
  "nbformat": 4,
  "nbformat_minor": 0
}