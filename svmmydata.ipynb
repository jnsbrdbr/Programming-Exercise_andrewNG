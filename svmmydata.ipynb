{
  "cells": [
    {
      "cell_type": "markdown",
      "metadata": {
        "id": "view-in-github",
        "colab_type": "text"
      },
      "source": [
        "<a href=\"https://colab.research.google.com/github/jnsbrdbr/andrew-ng/blob/master/svmmydata.ipynb\" target=\"_parent\"><img src=\"https://colab.research.google.com/assets/colab-badge.svg\" alt=\"Open In Colab\"/></a>"
      ]
    },
    {
      "cell_type": "code",
      "execution_count": 1,
      "metadata": {
        "colab": {
          "base_uri": "https://localhost:8080/"
        },
        "id": "Gnc9KwUTLok9",
        "outputId": "01d43a77-ea8b-406a-9c2a-603cb60a3767"
      },
      "outputs": [
        {
          "output_type": "stream",
          "name": "stdout",
          "text": [
            "`%tensorflow_version` only switches the major version: 1.x or 2.x.\n",
            "You set: `2.x  # Colab only.`. This will be interpreted as: `2.x`.\n",
            "\n",
            "\n",
            "TensorFlow 2.x selected.\n",
            "2.7.0\n"
          ]
        }
      ],
      "source": [
        "# Install TensorFlow\n",
        "# !pip install -q tensorflow-gpu==2.0.0-rc0\n",
        "\n",
        "try:\n",
        "  %tensorflow_version 2.x  # Colab only.\n",
        "except Exception:\n",
        "  pass\n",
        "\n",
        "import tensorflow as tf\n",
        "print(tf.__version__)"
      ]
    },
    {
      "cell_type": "code",
      "execution_count": 2,
      "metadata": {
        "id": "vHc-B6YJDEc8"
      },
      "outputs": [],
      "source": [
        "import scipy.io\n",
        "from sklearn.model_selection import train_test_split\n",
        "from sklearn.linear_model import LogisticRegression\n",
        "from sklearn import metrics\n",
        "import numpy as np\n",
        "import pandas as pd\n",
        "import seaborn as sns\n",
        "import matplotlib.pyplot as plt\n",
        "from decimal import Decimal\n",
        "from math import*\n",
        "\n",
        "from imblearn.over_sampling import SMOTE\n",
        "\n",
        "from sklearn.decomposition import PCA\n",
        "\n",
        "from sklearn.metrics import pairwise_distances\n",
        "\n",
        "sns.set(rc={'figure.figsize':(11.7,8.27)})\n",
        "palette = sns.color_palette(\"bright\", 10)\n",
        "%matplotlib inline"
      ]
    },
    {
      "cell_type": "code",
      "execution_count": 3,
      "metadata": {
        "id": "C7Bdhi9EL5TA"
      },
      "outputs": [],
      "source": [
        "from tensorflow.keras.layers import Input, Dense, LeakyReLU, Dropout, \\\n",
        "  BatchNormalization\n",
        "from tensorflow.keras.models import Model\n",
        "from tensorflow.keras.optimizers import SGD, Adam\n",
        "\n",
        "import sys, os"
      ]
    },
    {
      "cell_type": "code",
      "execution_count": 4,
      "metadata": {
        "id": "oo-V8gKkDoam",
        "colab": {
          "base_uri": "https://localhost:8080/"
        },
        "outputId": "5f63e531-3130-4b98-bf82-0648a865945e"
      },
      "outputs": [
        {
          "output_type": "stream",
          "name": "stdout",
          "text": [
            "Drive already mounted at /content/drive; to attempt to forcibly remount, call drive.mount(\"/content/drive\", force_remount=True).\n"
          ]
        }
      ],
      "source": [
        "from google.colab import drive\n",
        "drive.mount('/content/drive')"
      ]
    },
    {
      "cell_type": "code",
      "execution_count": 5,
      "metadata": {
        "id": "NTkelh2gDuMa"
      },
      "outputs": [],
      "source": [
        "path = \"/content/drive/MyDrive/test/test10.csv\"\n",
        "data = pd.read_csv(path)"
      ]
    },
    {
      "cell_type": "code",
      "execution_count": 6,
      "metadata": {
        "colab": {
          "base_uri": "https://localhost:8080/"
        },
        "id": "YRhQYXaUYtci",
        "outputId": "a03a5bc3-a727-4c67-c1fe-4c51c8242ef4"
      },
      "outputs": [
        {
          "output_type": "execute_result",
          "data": {
            "text/plain": [
              "pandas.core.frame.DataFrame"
            ]
          },
          "metadata": {},
          "execution_count": 6
        }
      ],
      "source": [
        "type(data)"
      ]
    },
    {
      "cell_type": "markdown",
      "metadata": {
        "id": "KT8_Tgui49xq"
      },
      "source": [
        "part 1"
      ]
    },
    {
      "cell_type": "code",
      "execution_count": 7,
      "metadata": {
        "colab": {
          "base_uri": "https://localhost:8080/",
          "height": 300
        },
        "id": "MPcYBwu7hrlb",
        "outputId": "8ec7b800-7e46-4790-8fa9-3a8115a8001c"
      },
      "outputs": [
        {
          "output_type": "execute_result",
          "data": {
            "text/html": [
              "\n",
              "  <div id=\"df-08b004a6-2bba-4876-8262-546a6aab57f0\">\n",
              "    <div class=\"colab-df-container\">\n",
              "      <div>\n",
              "<style scoped>\n",
              "    .dataframe tbody tr th:only-of-type {\n",
              "        vertical-align: middle;\n",
              "    }\n",
              "\n",
              "    .dataframe tbody tr th {\n",
              "        vertical-align: top;\n",
              "    }\n",
              "\n",
              "    .dataframe thead th {\n",
              "        text-align: right;\n",
              "    }\n",
              "</style>\n",
              "<table border=\"1\" class=\"dataframe\">\n",
              "  <thead>\n",
              "    <tr style=\"text-align: right;\">\n",
              "      <th></th>\n",
              "      <th>src</th>\n",
              "      <th>dst</th>\n",
              "    </tr>\n",
              "  </thead>\n",
              "  <tbody>\n",
              "    <tr>\n",
              "      <th>0</th>\n",
              "      <td>1</td>\n",
              "      <td>2</td>\n",
              "    </tr>\n",
              "    <tr>\n",
              "      <th>1</th>\n",
              "      <td>1</td>\n",
              "      <td>4</td>\n",
              "    </tr>\n",
              "    <tr>\n",
              "      <th>2</th>\n",
              "      <td>3</td>\n",
              "      <td>4</td>\n",
              "    </tr>\n",
              "    <tr>\n",
              "      <th>3</th>\n",
              "      <td>3</td>\n",
              "      <td>5</td>\n",
              "    </tr>\n",
              "    <tr>\n",
              "      <th>4</th>\n",
              "      <td>5</td>\n",
              "      <td>6</td>\n",
              "    </tr>\n",
              "    <tr>\n",
              "      <th>5</th>\n",
              "      <td>5</td>\n",
              "      <td>10</td>\n",
              "    </tr>\n",
              "    <tr>\n",
              "      <th>6</th>\n",
              "      <td>5</td>\n",
              "      <td>12</td>\n",
              "    </tr>\n",
              "    <tr>\n",
              "      <th>7</th>\n",
              "      <td>5</td>\n",
              "      <td>14</td>\n",
              "    </tr>\n",
              "  </tbody>\n",
              "</table>\n",
              "</div>\n",
              "      <button class=\"colab-df-convert\" onclick=\"convertToInteractive('df-08b004a6-2bba-4876-8262-546a6aab57f0')\"\n",
              "              title=\"Convert this dataframe to an interactive table.\"\n",
              "              style=\"display:none;\">\n",
              "        \n",
              "  <svg xmlns=\"http://www.w3.org/2000/svg\" height=\"24px\"viewBox=\"0 0 24 24\"\n",
              "       width=\"24px\">\n",
              "    <path d=\"M0 0h24v24H0V0z\" fill=\"none\"/>\n",
              "    <path d=\"M18.56 5.44l.94 2.06.94-2.06 2.06-.94-2.06-.94-.94-2.06-.94 2.06-2.06.94zm-11 1L8.5 8.5l.94-2.06 2.06-.94-2.06-.94L8.5 2.5l-.94 2.06-2.06.94zm10 10l.94 2.06.94-2.06 2.06-.94-2.06-.94-.94-2.06-.94 2.06-2.06.94z\"/><path d=\"M17.41 7.96l-1.37-1.37c-.4-.4-.92-.59-1.43-.59-.52 0-1.04.2-1.43.59L10.3 9.45l-7.72 7.72c-.78.78-.78 2.05 0 2.83L4 21.41c.39.39.9.59 1.41.59.51 0 1.02-.2 1.41-.59l7.78-7.78 2.81-2.81c.8-.78.8-2.07 0-2.86zM5.41 20L4 18.59l7.72-7.72 1.47 1.35L5.41 20z\"/>\n",
              "  </svg>\n",
              "      </button>\n",
              "      \n",
              "  <style>\n",
              "    .colab-df-container {\n",
              "      display:flex;\n",
              "      flex-wrap:wrap;\n",
              "      gap: 12px;\n",
              "    }\n",
              "\n",
              "    .colab-df-convert {\n",
              "      background-color: #E8F0FE;\n",
              "      border: none;\n",
              "      border-radius: 50%;\n",
              "      cursor: pointer;\n",
              "      display: none;\n",
              "      fill: #1967D2;\n",
              "      height: 32px;\n",
              "      padding: 0 0 0 0;\n",
              "      width: 32px;\n",
              "    }\n",
              "\n",
              "    .colab-df-convert:hover {\n",
              "      background-color: #E2EBFA;\n",
              "      box-shadow: 0px 1px 2px rgba(60, 64, 67, 0.3), 0px 1px 3px 1px rgba(60, 64, 67, 0.15);\n",
              "      fill: #174EA6;\n",
              "    }\n",
              "\n",
              "    [theme=dark] .colab-df-convert {\n",
              "      background-color: #3B4455;\n",
              "      fill: #D2E3FC;\n",
              "    }\n",
              "\n",
              "    [theme=dark] .colab-df-convert:hover {\n",
              "      background-color: #434B5C;\n",
              "      box-shadow: 0px 1px 3px 1px rgba(0, 0, 0, 0.15);\n",
              "      filter: drop-shadow(0px 1px 2px rgba(0, 0, 0, 0.3));\n",
              "      fill: #FFFFFF;\n",
              "    }\n",
              "  </style>\n",
              "\n",
              "      <script>\n",
              "        const buttonEl =\n",
              "          document.querySelector('#df-08b004a6-2bba-4876-8262-546a6aab57f0 button.colab-df-convert');\n",
              "        buttonEl.style.display =\n",
              "          google.colab.kernel.accessAllowed ? 'block' : 'none';\n",
              "\n",
              "        async function convertToInteractive(key) {\n",
              "          const element = document.querySelector('#df-08b004a6-2bba-4876-8262-546a6aab57f0');\n",
              "          const dataTable =\n",
              "            await google.colab.kernel.invokeFunction('convertToInteractive',\n",
              "                                                     [key], {});\n",
              "          if (!dataTable) return;\n",
              "\n",
              "          const docLinkHtml = 'Like what you see? Visit the ' +\n",
              "            '<a target=\"_blank\" href=https://colab.research.google.com/notebooks/data_table.ipynb>data table notebook</a>'\n",
              "            + ' to learn more about interactive tables.';\n",
              "          element.innerHTML = '';\n",
              "          dataTable['output_type'] = 'display_data';\n",
              "          await google.colab.output.renderOutput(dataTable, element);\n",
              "          const docLink = document.createElement('div');\n",
              "          docLink.innerHTML = docLinkHtml;\n",
              "          element.appendChild(docLink);\n",
              "        }\n",
              "      </script>\n",
              "    </div>\n",
              "  </div>\n",
              "  "
            ],
            "text/plain": [
              "   src  dst\n",
              "0    1    2\n",
              "1    1    4\n",
              "2    3    4\n",
              "3    3    5\n",
              "4    5    6\n",
              "5    5   10\n",
              "6    5   12\n",
              "7    5   14"
            ]
          },
          "metadata": {},
          "execution_count": 7
        }
      ],
      "source": [
        "data"
      ]
    },
    {
      "cell_type": "code",
      "execution_count": 8,
      "metadata": {
        "colab": {
          "base_uri": "https://localhost:8080/",
          "height": 248
        },
        "id": "1CGc9kOjK8ay",
        "outputId": "1e724814-062f-4bfc-d347-6daac2127dbf"
      },
      "outputs": [
        {
          "output_type": "display_data",
          "data": {
            "image/png": "[encoded data removed]",
            "text/plain": [
              "<Figure size 432x288 with 1 Axes>"
            ]
          },
          "metadata": {}
        }
      ],
      "source": [
        "import networkx as nx\n",
        "g = nx.from_pandas_edgelist(data, \"src\",\"dst\")\n",
        "nx.draw_networkx(g)"
      ]
    },
    {
      "cell_type": "markdown",
      "metadata": {
        "id": "lsKJHvv65j0j"
      },
      "source": [
        "data must be in order"
      ]
    },
    {
      "cell_type": "code",
      "execution_count": 9,
      "metadata": {
        "id": "t-sV7bOInoQR"
      },
      "outputs": [],
      "source": [
        "#adjucency matrix without chunking\n",
        "adjc = pd.crosstab(data.src, data.dst)\n",
        "idx = adjc.columns.union(adjc.index)\n",
        "up_adj_mtx = adjc.reindex(index = idx, columns=idx, fill_value=0)\n"
      ]
    },
    {
      "cell_type": "code",
      "execution_count": 10,
      "metadata": {
        "id": "-h8TFoiNkLbm"
      },
      "outputs": [],
      "source": [
        "#print(up_adj_mtx)"
      ]
    },
    {
      "cell_type": "code",
      "execution_count": 11,
      "metadata": {
        "id": "fNQtO5dW1kxr",
        "colab": {
          "base_uri": "https://localhost:8080/",
          "height": 332
        },
        "outputId": "d32d3700-6136-4478-ec51-eb1980f33dc0"
      },
      "outputs": [
        {
          "output_type": "execute_result",
          "data": {
            "text/html": [
              "\n",
              "  <div id=\"df-862c6bc2-74a5-4b42-8c82-7cf82600f121\">\n",
              "    <div class=\"colab-df-container\">\n",
              "      <div>\n",
              "<style scoped>\n",
              "    .dataframe tbody tr th:only-of-type {\n",
              "        vertical-align: middle;\n",
              "    }\n",
              "\n",
              "    .dataframe tbody tr th {\n",
              "        vertical-align: top;\n",
              "    }\n",
              "\n",
              "    .dataframe thead th {\n",
              "        text-align: right;\n",
              "    }\n",
              "</style>\n",
              "<table border=\"1\" class=\"dataframe\">\n",
              "  <thead>\n",
              "    <tr style=\"text-align: right;\">\n",
              "      <th></th>\n",
              "      <th>1</th>\n",
              "      <th>2</th>\n",
              "      <th>3</th>\n",
              "      <th>4</th>\n",
              "      <th>5</th>\n",
              "      <th>6</th>\n",
              "      <th>10</th>\n",
              "      <th>12</th>\n",
              "      <th>14</th>\n",
              "    </tr>\n",
              "  </thead>\n",
              "  <tbody>\n",
              "    <tr>\n",
              "      <th>1</th>\n",
              "      <td>0</td>\n",
              "      <td>1</td>\n",
              "      <td>0</td>\n",
              "      <td>1</td>\n",
              "      <td>0</td>\n",
              "      <td>0</td>\n",
              "      <td>0</td>\n",
              "      <td>0</td>\n",
              "      <td>0</td>\n",
              "    </tr>\n",
              "    <tr>\n",
              "      <th>2</th>\n",
              "      <td>1</td>\n",
              "      <td>0</td>\n",
              "      <td>0</td>\n",
              "      <td>0</td>\n",
              "      <td>0</td>\n",
              "      <td>0</td>\n",
              "      <td>0</td>\n",
              "      <td>0</td>\n",
              "      <td>0</td>\n",
              "    </tr>\n",
              "    <tr>\n",
              "      <th>3</th>\n",
              "      <td>0</td>\n",
              "      <td>0</td>\n",
              "      <td>0</td>\n",
              "      <td>1</td>\n",
              "      <td>1</td>\n",
              "      <td>0</td>\n",
              "      <td>0</td>\n",
              "      <td>0</td>\n",
              "      <td>0</td>\n",
              "    </tr>\n",
              "    <tr>\n",
              "      <th>4</th>\n",
              "      <td>1</td>\n",
              "      <td>0</td>\n",
              "      <td>1</td>\n",
              "      <td>0</td>\n",
              "      <td>0</td>\n",
              "      <td>0</td>\n",
              "      <td>0</td>\n",
              "      <td>0</td>\n",
              "      <td>0</td>\n",
              "    </tr>\n",
              "    <tr>\n",
              "      <th>5</th>\n",
              "      <td>0</td>\n",
              "      <td>0</td>\n",
              "      <td>1</td>\n",
              "      <td>0</td>\n",
              "      <td>0</td>\n",
              "      <td>1</td>\n",
              "      <td>1</td>\n",
              "      <td>1</td>\n",
              "      <td>1</td>\n",
              "    </tr>\n",
              "    <tr>\n",
              "      <th>6</th>\n",
              "      <td>0</td>\n",
              "      <td>0</td>\n",
              "      <td>0</td>\n",
              "      <td>0</td>\n",
              "      <td>1</td>\n",
              "      <td>0</td>\n",
              "      <td>0</td>\n",
              "      <td>0</td>\n",
              "      <td>0</td>\n",
              "    </tr>\n",
              "    <tr>\n",
              "      <th>10</th>\n",
              "      <td>0</td>\n",
              "      <td>0</td>\n",
              "      <td>0</td>\n",
              "      <td>0</td>\n",
              "      <td>1</td>\n",
              "      <td>0</td>\n",
              "      <td>0</td>\n",
              "      <td>0</td>\n",
              "      <td>0</td>\n",
              "    </tr>\n",
              "    <tr>\n",
              "      <th>12</th>\n",
              "      <td>0</td>\n",
              "      <td>0</td>\n",
              "      <td>0</td>\n",
              "      <td>0</td>\n",
              "      <td>1</td>\n",
              "      <td>0</td>\n",
              "      <td>0</td>\n",
              "      <td>0</td>\n",
              "      <td>0</td>\n",
              "    </tr>\n",
              "    <tr>\n",
              "      <th>14</th>\n",
              "      <td>0</td>\n",
              "      <td>0</td>\n",
              "      <td>0</td>\n",
              "      <td>0</td>\n",
              "      <td>1</td>\n",
              "      <td>0</td>\n",
              "      <td>0</td>\n",
              "      <td>0</td>\n",
              "      <td>0</td>\n",
              "    </tr>\n",
              "  </tbody>\n",
              "</table>\n",
              "</div>\n",
              "      <button class=\"colab-df-convert\" onclick=\"convertToInteractive('df-862c6bc2-74a5-4b42-8c82-7cf82600f121')\"\n",
              "              title=\"Convert this dataframe to an interactive table.\"\n",
              "              style=\"display:none;\">\n",
              "        \n",
              "  <svg xmlns=\"http://www.w3.org/2000/svg\" height=\"24px\"viewBox=\"0 0 24 24\"\n",
              "       width=\"24px\">\n",
              "    <path d=\"M0 0h24v24H0V0z\" fill=\"none\"/>\n",
              "    <path d=\"M18.56 5.44l.94 2.06.94-2.06 2.06-.94-2.06-.94-.94-2.06-.94 2.06-2.06.94zm-11 1L8.5 8.5l.94-2.06 2.06-.94-2.06-.94L8.5 2.5l-.94 2.06-2.06.94zm10 10l.94 2.06.94-2.06 2.06-.94-2.06-.94-.94-2.06-.94 2.06-2.06.94z\"/><path d=\"M17.41 7.96l-1.37-1.37c-.4-.4-.92-.59-1.43-.59-.52 0-1.04.2-1.43.59L10.3 9.45l-7.72 7.72c-.78.78-.78 2.05 0 2.83L4 21.41c.39.39.9.59 1.41.59.51 0 1.02-.2 1.41-.59l7.78-7.78 2.81-2.81c.8-.78.8-2.07 0-2.86zM5.41 20L4 18.59l7.72-7.72 1.47 1.35L5.41 20z\"/>\n",
              "  </svg>\n",
              "      </button>\n",
              "      \n",
              "  <style>\n",
              "    .colab-df-container {\n",
              "      display:flex;\n",
              "      flex-wrap:wrap;\n",
              "      gap: 12px;\n",
              "    }\n",
              "\n",
              "    .colab-df-convert {\n",
              "      background-color: #E8F0FE;\n",
              "      border: none;\n",
              "      border-radius: 50%;\n",
              "      cursor: pointer;\n",
              "      display: none;\n",
              "      fill: #1967D2;\n",
              "      height: 32px;\n",
              "      padding: 0 0 0 0;\n",
              "      width: 32px;\n",
              "    }\n",
              "\n",
              "    .colab-df-convert:hover {\n",
              "      background-color: #E2EBFA;\n",
              "      box-shadow: 0px 1px 2px rgba(60, 64, 67, 0.3), 0px 1px 3px 1px rgba(60, 64, 67, 0.15);\n",
              "      fill: #174EA6;\n",
              "    }\n",
              "\n",
              "    [theme=dark] .colab-df-convert {\n",
              "      background-color: #3B4455;\n",
              "      fill: #D2E3FC;\n",
              "    }\n",
              "\n",
              "    [theme=dark] .colab-df-convert:hover {\n",
              "      background-color: #434B5C;\n",
              "      box-shadow: 0px 1px 3px 1px rgba(0, 0, 0, 0.15);\n",
              "      filter: drop-shadow(0px 1px 2px rgba(0, 0, 0, 0.3));\n",
              "      fill: #FFFFFF;\n",
              "    }\n",
              "  </style>\n",
              "\n",
              "      <script>\n",
              "        const buttonEl =\n",
              "          document.querySelector('#df-862c6bc2-74a5-4b42-8c82-7cf82600f121 button.colab-df-convert');\n",
              "        buttonEl.style.display =\n",
              "          google.colab.kernel.accessAllowed ? 'block' : 'none';\n",
              "\n",
              "        async function convertToInteractive(key) {\n",
              "          const element = document.querySelector('#df-862c6bc2-74a5-4b42-8c82-7cf82600f121');\n",
              "          const dataTable =\n",
              "            await google.colab.kernel.invokeFunction('convertToInteractive',\n",
              "                                                     [key], {});\n",
              "          if (!dataTable) return;\n",
              "\n",
              "          const docLinkHtml = 'Like what you see? Visit the ' +\n",
              "            '<a target=\"_blank\" href=https://colab.research.google.com/notebooks/data_table.ipynb>data table notebook</a>'\n",
              "            + ' to learn more about interactive tables.';\n",
              "          element.innerHTML = '';\n",
              "          dataTable['output_type'] = 'display_data';\n",
              "          await google.colab.output.renderOutput(dataTable, element);\n",
              "          const docLink = document.createElement('div');\n",
              "          docLink.innerHTML = docLinkHtml;\n",
              "          element.appendChild(docLink);\n",
              "        }\n",
              "      </script>\n",
              "    </div>\n",
              "  </div>\n",
              "  "
            ],
            "text/plain": [
              "    1   2   3   4   5   6   10  12  14\n",
              "1    0   1   0   1   0   0   0   0   0\n",
              "2    1   0   0   0   0   0   0   0   0\n",
              "3    0   0   0   1   1   0   0   0   0\n",
              "4    1   0   1   0   0   0   0   0   0\n",
              "5    0   0   1   0   0   1   1   1   1\n",
              "6    0   0   0   0   1   0   0   0   0\n",
              "10   0   0   0   0   1   0   0   0   0\n",
              "12   0   0   0   0   1   0   0   0   0\n",
              "14   0   0   0   0   1   0   0   0   0"
            ]
          },
          "metadata": {},
          "execution_count": 11
        }
      ],
      "source": [
        "adj_mtx_df=up_adj_mtx\n",
        "for i in adj_mtx_df:\n",
        "  for j in adj_mtx_df:\n",
        "    if(adj_mtx_df[i][j]!=0):\n",
        "       adj_mtx_df[j][i]=adj_mtx_df[i][j]\n",
        "\n",
        "adj_mtx_df"
      ]
    },
    {
      "cell_type": "code",
      "execution_count": 12,
      "metadata": {
        "id": "LvNvEnJl9-r9"
      },
      "outputs": [],
      "source": [
        "adj_mtx=adj_mtx_df.to_numpy()\n",
        "#print(adj_mtx)"
      ]
    },
    {
      "cell_type": "code",
      "execution_count": 13,
      "metadata": {
        "id": "Jb1lh_l6FhJV"
      },
      "outputs": [],
      "source": [
        "#adjucency matrix with chunking\n",
        "\n",
        "#for data in pd.read_csv(path, chunksize=2):\n",
        "#    print (data)\n",
        "#    data1 = pd.crosstab(data.src, data.dst)\n",
        "#    idx = data1.columns.union(data1.index)\n",
        "#    data2 = data1.reindex(index = idx, columns=idx, fill_value=0)\n",
        "#    print(data2)"
      ]
    },
    {
      "cell_type": "markdown",
      "metadata": {
        "id": "Y35hSJXG4ujG"
      },
      "source": [
        "part2"
      ]
    },
    {
      "cell_type": "markdown",
      "metadata": {
        "id": "jSv_sB-KBG7W"
      },
      "source": [
        "common firend(CF):one of the measure for similarity in social networks is the number of firends,shared.given the sicial network G and two nodes u and v all vertics that are on a path wih the length of two between these two nodes are common firends of the nodes.\n",
        "در مربع ماتریس مجاورت درایه\"آی جی ام\"و غیر واقع بر قطر اصلی مربع ماتریس مجاورت نشان دهنده تعدا مسیر به طول دو بین دو راس آی و جی هست"
      ]
    },
    {
      "cell_type": "code",
      "execution_count": 14,
      "metadata": {
        "id": "KQN6DlBJ4wTe"
      },
      "outputs": [],
      "source": [
        "#common firend\n",
        "\n",
        "CF=np.dot(adj_mtx,adj_mtx) #matrix multiplication\n",
        "#print(CF,'\\n')\n",
        "\n",
        "CF=CF - np.diag(np.diag(CF))#matrix off_diagonal\n",
        "#print(CF)"
      ]
    },
    {
      "cell_type": "code",
      "execution_count": 15,
      "metadata": {
        "id": "LmbUtBc_qZm8"
      },
      "outputs": [],
      "source": [
        "#total_firend\n",
        "\n",
        "adjc = pd.crosstab(data.src, data.dst)\n",
        "idx = adjc.columns.union(adjc.index)\n",
        "up_adj_mtx = adjc.reindex(index = idx, columns=idx, fill_value=0)\n",
        "up_adj_mtx=up_adj_mtx.to_numpy()\n",
        "#print(up_adj_mtx)"
      ]
    },
    {
      "cell_type": "code",
      "execution_count": 16,
      "metadata": {
        "id": "NN7vgxI9IR9S"
      },
      "outputs": [],
      "source": [
        "i=up_adj_mtx.shape[0]\n",
        "c=np.zeros(shape=(i,i))\n",
        "for i in range(0,up_adj_mtx.shape[0]):\n",
        "  for j in range(0,up_adj_mtx.shape[1]):\n",
        "     if i==j:\n",
        "       c[i,j]=(sum(up_adj_mtx[i,:])+sum(up_adj_mtx[:,j]))\n",
        "#print(c)"
      ]
    },
    {
      "cell_type": "code",
      "execution_count": 17,
      "metadata": {
        "id": "19E_w0_qW1W_"
      },
      "outputs": [],
      "source": [
        "i=c.shape[0]\n",
        "TF=np.zeros(shape=(i,i))\n",
        "for i in range(0,c.shape[0]):\n",
        "  for j in range(0,c.shape[1]):\n",
        "    TF[i,j]=c[i,i]+c[j,j]\n",
        "TF=TF - np.diag(np.diag(TF))#matrix off_diagonal\n",
        "#print(TF)"
      ]
    },
    {
      "cell_type": "code",
      "execution_count": 18,
      "metadata": {
        "id": "Y50h9kYtzxx7"
      },
      "outputs": [],
      "source": [
        "#jaccard_similarity\n",
        "\n",
        "i=adj_mtx.shape[0]\n",
        "jaccard_similarity=np.zeros(shape=(i,i))\n",
        "for i in range(0,jaccard_similarity.shape[0]):\n",
        "  for j in range(0,jaccard_similarity.shape[1]):\n",
        "    if CF[i,j]==0 or TF[i,j]==0:\n",
        "       jaccard_similarity[i,j]==0\n",
        "    else:\n",
        "       #jaccard_similarity[i,j]=(CF[i,j]/TF[i,j])\n",
        "       jaccard_similarity[i,j]=np.divide(CF[i,j],TF[i,j])\n",
        "       jaccard_similarity=np.round(jaccard_similarity,2)\n",
        "\n",
        "jaccard_similarity=jaccard_similarity - np.diag(np.diag(jaccard_similarity))#matrix off_diagonal\n",
        "#print(jaccard_similarity)\n"
      ]
    },
    {
      "cell_type": "code",
      "execution_count": 19,
      "metadata": {
        "id": "DrlUDobEC-Gd"
      },
      "outputs": [],
      "source": [
        "#cosine_similarity\n",
        "\n",
        "i=up_adj_mtx.shape[0]\n",
        "cosine_similarity1=np.zeros(shape=(i,i))\n",
        "for i in range(0,cosine_similarity1.shape[0]):\n",
        "  for j in range(0,cosine_similarity1.shape[1]):\n",
        "       cosine_similarity1[i,j]=sqrt((c[i,i])*(c[j,j]))\n",
        "\n",
        "#print(cosine_similarity1)"
      ]
    },
    {
      "cell_type": "code",
      "execution_count": 20,
      "metadata": {
        "id": "kH3zRItHz1DA"
      },
      "outputs": [],
      "source": [
        "i=adj_mtx.shape[0]\n",
        "cosine_similarity=np.zeros(shape=(i,i))\n",
        "for i in range(0,cosine_similarity.shape[0]):\n",
        "  for j in range(0,cosine_similarity.shape[1]):\n",
        "    if CF[i,j]==0 or cosine_similarity1[i,j]==0:\n",
        "       cosine_similarity[i,j]==0\n",
        "    else:\n",
        "       cosine_similarity[i,j]=np.divide(CF[i,j],cosine_similarity1[i,j])\n",
        "       cosine_similarity=np.round(cosine_similarity,2)\n",
        "\n",
        "cosine_similarity=cosine_similarity - np.diag(np.diag(cosine_similarity))#matrix off_diagonal\n",
        "#print(cosine_similarity)"
      ]
    },
    {
      "cell_type": "code",
      "execution_count": 21,
      "metadata": {
        "id": "dvJCdFmG9tPl"
      },
      "outputs": [],
      "source": [
        "cosine_similarity = pairwise_distances(up_adj_mtx, metric='cosine')\n",
        "#print(cosine_similarity)"
      ]
    },
    {
      "cell_type": "code",
      "execution_count": 22,
      "metadata": {
        "id": "FhzJpELXHIdN"
      },
      "outputs": [],
      "source": [
        "#L1_norm()\n",
        " \n",
        "i=up_adj_mtx.shape[0]\n",
        "L1_norm1=np.zeros(shape=(i,i))\n",
        "for i in range(0,L1_norm1.shape[0]):\n",
        "  for j in range(0,L1_norm1.shape[1]):\n",
        "       L1_norm1[i,j]=(c[i,i])*(c[j,j])\n",
        "\n",
        "#print(L1_norm1)"
      ]
    },
    {
      "cell_type": "code",
      "execution_count": 23,
      "metadata": {
        "id": "jUsVygMw1T8K"
      },
      "outputs": [],
      "source": [
        "i=adj_mtx.shape[0]\n",
        "L1_norm=np.zeros(shape=(i,i))\n",
        "for i in range(0,L1_norm.shape[0]):\n",
        "  for j in range(0,L1_norm.shape[1]):\n",
        "    if CF[i,j]==0 or L1_norm1[i,j]==0:\n",
        "       L1_norm[i,j]==0\n",
        "    else:\n",
        "       #jaccard_similarity[i,j]=(CF[i,j]/TF[i,j])\n",
        "       L1_norm[i,j]=np.divide(CF[i,j],L1_norm1[i,j])\n",
        "       L1_norm=np.round(L1_norm,2)\n",
        "\n",
        "L1_norm=L1_norm - np.diag(np.diag(L1_norm))#matrix off_diagonal\n",
        "#print(L1_norm)"
      ]
    },
    {
      "cell_type": "code",
      "execution_count": 24,
      "metadata": {
        "id": "4qos6gmu2KiK"
      },
      "outputs": [],
      "source": [
        "#edge_weight_measure\n",
        "\n",
        "i=up_adj_mtx.shape[0]\n",
        "ewm=np.zeros(shape=(i,i))\n",
        "for i in range(0,ewm.shape[0]):\n",
        "  for j in range(0,ewm.shape[1]):\n",
        "     if i==j:\n",
        "       ewm[i,j]=1/sqrt(1+c[i,i])\n",
        "       ewm=np.round(ewm)\n",
        "\n",
        "#print(ewm)"
      ]
    },
    {
      "cell_type": "code",
      "execution_count": 25,
      "metadata": {
        "id": "HBeOFTN17CDf"
      },
      "outputs": [],
      "source": [
        "i=up_adj_mtx.shape[0]\n",
        "wsum=np.zeros(shape=(i,i))\n",
        "for i in range(0,wsum.shape[0]):\n",
        "  for j in range(0,wsum.shape[1]):\n",
        "    wsum[i,j]=ewm[i,i]+ewm[j,j]\n",
        "    #wsum=np.round(wsum)\n",
        "#print(wsum)"
      ]
    },
    {
      "cell_type": "code",
      "execution_count": 26,
      "metadata": {
        "id": "NBImwel48wje"
      },
      "outputs": [],
      "source": [
        "i=up_adj_mtx.shape[0]\n",
        "wmul=np.zeros(shape=(i,i))\n",
        "for i in range(0,wmul.shape[0]):\n",
        "  for j in range(0,wmul.shape[1]):\n",
        "    wmul[i,j]=ewm[i,i]*ewm[j,j]\n",
        "    wmul=np.round(wmul,2)\n",
        "#print(wmul)"
      ]
    },
    {
      "cell_type": "markdown",
      "source": [
        "data_label"
      ],
      "metadata": {
        "id": "u5zX0qaMGQ9L"
      }
    },
    {
      "cell_type": "code",
      "execution_count": 27,
      "metadata": {
        "id": "s5bVdKqZGImN"
      },
      "outputs": [],
      "source": [
        "path_label = \"/content/drive/MyDrive/test/label_test10_10.csv\"\n",
        "data_label = pd.read_csv(path_label)"
      ]
    },
    {
      "cell_type": "code",
      "execution_count": 28,
      "metadata": {
        "colab": {
          "base_uri": "https://localhost:8080/",
          "height": 143
        },
        "id": "Ki1MpIe-GBAi",
        "outputId": "f006b3e6-c480-40a7-8d0e-5fea8ca5faad"
      },
      "outputs": [
        {
          "output_type": "execute_result",
          "data": {
            "text/html": [
              "\n",
              "  <div id=\"df-60c0873a-db76-4740-9300-92d3ba8d0511\">\n",
              "    <div class=\"colab-df-container\">\n",
              "      <div>\n",
              "<style scoped>\n",
              "    .dataframe tbody tr th:only-of-type {\n",
              "        vertical-align: middle;\n",
              "    }\n",
              "\n",
              "    .dataframe tbody tr th {\n",
              "        vertical-align: top;\n",
              "    }\n",
              "\n",
              "    .dataframe thead th {\n",
              "        text-align: right;\n",
              "    }\n",
              "</style>\n",
              "<table border=\"1\" class=\"dataframe\">\n",
              "  <thead>\n",
              "    <tr style=\"text-align: right;\">\n",
              "      <th></th>\n",
              "      <th>id</th>\n",
              "      <th>label</th>\n",
              "    </tr>\n",
              "  </thead>\n",
              "  <tbody>\n",
              "    <tr>\n",
              "      <th>0</th>\n",
              "      <td>1</td>\n",
              "      <td>False</td>\n",
              "    </tr>\n",
              "    <tr>\n",
              "      <th>1</th>\n",
              "      <td>5</td>\n",
              "      <td>False</td>\n",
              "    </tr>\n",
              "    <tr>\n",
              "      <th>2</th>\n",
              "      <td>6</td>\n",
              "      <td>False</td>\n",
              "    </tr>\n",
              "  </tbody>\n",
              "</table>\n",
              "</div>\n",
              "      <button class=\"colab-df-convert\" onclick=\"convertToInteractive('df-60c0873a-db76-4740-9300-92d3ba8d0511')\"\n",
              "              title=\"Convert this dataframe to an interactive table.\"\n",
              "              style=\"display:none;\">\n",
              "        \n",
              "  <svg xmlns=\"http://www.w3.org/2000/svg\" height=\"24px\"viewBox=\"0 0 24 24\"\n",
              "       width=\"24px\">\n",
              "    <path d=\"M0 0h24v24H0V0z\" fill=\"none\"/>\n",
              "    <path d=\"M18.56 5.44l.94 2.06.94-2.06 2.06-.94-2.06-.94-.94-2.06-.94 2.06-2.06.94zm-11 1L8.5 8.5l.94-2.06 2.06-.94-2.06-.94L8.5 2.5l-.94 2.06-2.06.94zm10 10l.94 2.06.94-2.06 2.06-.94-2.06-.94-.94-2.06-.94 2.06-2.06.94z\"/><path d=\"M17.41 7.96l-1.37-1.37c-.4-.4-.92-.59-1.43-.59-.52 0-1.04.2-1.43.59L10.3 9.45l-7.72 7.72c-.78.78-.78 2.05 0 2.83L4 21.41c.39.39.9.59 1.41.59.51 0 1.02-.2 1.41-.59l7.78-7.78 2.81-2.81c.8-.78.8-2.07 0-2.86zM5.41 20L4 18.59l7.72-7.72 1.47 1.35L5.41 20z\"/>\n",
              "  </svg>\n",
              "      </button>\n",
              "      \n",
              "  <style>\n",
              "    .colab-df-container {\n",
              "      display:flex;\n",
              "      flex-wrap:wrap;\n",
              "      gap: 12px;\n",
              "    }\n",
              "\n",
              "    .colab-df-convert {\n",
              "      background-color: #E8F0FE;\n",
              "      border: none;\n",
              "      border-radius: 50%;\n",
              "      cursor: pointer;\n",
              "      display: none;\n",
              "      fill: #1967D2;\n",
              "      height: 32px;\n",
              "      padding: 0 0 0 0;\n",
              "      width: 32px;\n",
              "    }\n",
              "\n",
              "    .colab-df-convert:hover {\n",
              "      background-color: #E2EBFA;\n",
              "      box-shadow: 0px 1px 2px rgba(60, 64, 67, 0.3), 0px 1px 3px 1px rgba(60, 64, 67, 0.15);\n",
              "      fill: #174EA6;\n",
              "    }\n",
              "\n",
              "    [theme=dark] .colab-df-convert {\n",
              "      background-color: #3B4455;\n",
              "      fill: #D2E3FC;\n",
              "    }\n",
              "\n",
              "    [theme=dark] .colab-df-convert:hover {\n",
              "      background-color: #434B5C;\n",
              "      box-shadow: 0px 1px 3px 1px rgba(0, 0, 0, 0.15);\n",
              "      filter: drop-shadow(0px 1px 2px rgba(0, 0, 0, 0.3));\n",
              "      fill: #FFFFFF;\n",
              "    }\n",
              "  </style>\n",
              "\n",
              "      <script>\n",
              "        const buttonEl =\n",
              "          document.querySelector('#df-60c0873a-db76-4740-9300-92d3ba8d0511 button.colab-df-convert');\n",
              "        buttonEl.style.display =\n",
              "          google.colab.kernel.accessAllowed ? 'block' : 'none';\n",
              "\n",
              "        async function convertToInteractive(key) {\n",
              "          const element = document.querySelector('#df-60c0873a-db76-4740-9300-92d3ba8d0511');\n",
              "          const dataTable =\n",
              "            await google.colab.kernel.invokeFunction('convertToInteractive',\n",
              "                                                     [key], {});\n",
              "          if (!dataTable) return;\n",
              "\n",
              "          const docLinkHtml = 'Like what you see? Visit the ' +\n",
              "            '<a target=\"_blank\" href=https://colab.research.google.com/notebooks/data_table.ipynb>data table notebook</a>'\n",
              "            + ' to learn more about interactive tables.';\n",
              "          element.innerHTML = '';\n",
              "          dataTable['output_type'] = 'display_data';\n",
              "          await google.colab.output.renderOutput(dataTable, element);\n",
              "          const docLink = document.createElement('div');\n",
              "          docLink.innerHTML = docLinkHtml;\n",
              "          element.appendChild(docLink);\n",
              "        }\n",
              "      </script>\n",
              "    </div>\n",
              "  </div>\n",
              "  "
            ],
            "text/plain": [
              "   id   label\n",
              "0   1   False\n",
              "1   5   False\n",
              "2   6   False"
            ]
          },
          "metadata": {},
          "execution_count": 28
        }
      ],
      "source": [
        "data_label"
      ]
    },
    {
      "cell_type": "code",
      "execution_count": 29,
      "metadata": {
        "id": "E-15qSXiPYxk",
        "colab": {
          "base_uri": "https://localhost:8080/"
        },
        "outputId": "7935f466-e5bb-4171-c42a-dfeb17353340"
      },
      "outputs": [
        {
          "output_type": "stream",
          "name": "stdout",
          "text": [
            "[1, 2, 3, 4, 5, 6, 10, 12, 14]\n"
          ]
        }
      ],
      "source": [
        "#data_label=np.array(data_label)\n",
        "adjList=list(adj_mtx_df.columns)\n",
        "print(adjList)"
      ]
    },
    {
      "cell_type": "code",
      "execution_count": 30,
      "metadata": {
        "id": "NaCR2QndTII9",
        "colab": {
          "base_uri": "https://localhost:8080/"
        },
        "outputId": "68e15264-f783-45ad-ded5-d4fd4d61984c"
      },
      "outputs": [
        {
          "output_type": "stream",
          "name": "stdout",
          "text": [
            "[1, 5, 6]\n"
          ]
        }
      ],
      "source": [
        "labelList=list(data_label['id'])\n",
        "print(labelList)\n",
        "#col_data_label=(data_label[:,1])\n",
        "#print(col_data_label)"
      ]
    },
    {
      "cell_type": "code",
      "source": [
        "def elm_exists(list_little, list_big):\n",
        "    result=[]\n",
        "    for elm in list_big:\n",
        "        if elm in list_little:\n",
        "            result.append(1)\n",
        "        else:\n",
        "            result.append(0)\n",
        "    return result\n"
      ],
      "metadata": {
        "id": "4_MYEc-KhW3a"
      },
      "execution_count": 31,
      "outputs": []
    },
    {
      "cell_type": "code",
      "source": [
        "res=elm_exists(labelList,adjList)\n",
        "print(res)"
      ],
      "metadata": {
        "colab": {
          "base_uri": "https://localhost:8080/"
        },
        "id": "eeW5OCzwhYjr",
        "outputId": "6a1a8348-7f65-4065-cda2-27fbd7ebe946"
      },
      "execution_count": 32,
      "outputs": [
        {
          "output_type": "stream",
          "name": "stdout",
          "text": [
            "[1, 0, 0, 0, 1, 1, 0, 0, 0]\n"
          ]
        }
      ]
    },
    {
      "cell_type": "code",
      "source": [
        "adj_mtx_df['label']=res\n",
        "print(adj_mtx_df)"
      ],
      "metadata": {
        "colab": {
          "base_uri": "https://localhost:8080/"
        },
        "id": "7GfpXGGzhbLP",
        "outputId": "529fb48a-9016-48c7-ae4b-2d7514f4adf6"
      },
      "execution_count": 33,
      "outputs": [
        {
          "output_type": "stream",
          "name": "stdout",
          "text": [
            "    1  2  3  4  5  6  10  12  14  label\n",
            "1   0  1  0  1  0  0   0   0   0      1\n",
            "2   1  0  0  0  0  0   0   0   0      0\n",
            "3   0  0  0  1  1  0   0   0   0      0\n",
            "4   1  0  1  0  0  0   0   0   0      0\n",
            "5   0  0  1  0  0  1   1   1   1      1\n",
            "6   0  0  0  0  1  0   0   0   0      1\n",
            "10  0  0  0  0  1  0   0   0   0      0\n",
            "12  0  0  0  0  1  0   0   0   0      0\n",
            "14  0  0  0  0  1  0   0   0   0      0\n"
          ]
        }
      ]
    },
    {
      "cell_type": "code",
      "execution_count": 34,
      "metadata": {
        "id": "v4nzxdDkTbTI"
      },
      "outputs": [],
      "source": [
        "#fin_data_label=CF_label.reshape(-1,1)\n"
      ]
    },
    {
      "cell_type": "markdown",
      "source": [
        "SMOTE:Synthetic Minority Oversampling TEchnique"
      ],
      "metadata": {
        "id": "M5cZGC9MG3_2"
      }
    },
    {
      "cell_type": "code",
      "source": [
        "#CF\n",
        "oversample1 = SMOTE(k_neighbors=2)\n",
        "CF_smote,CF_label= oversample1.fit_resample(CF,adj_mtx_df['label'])\n",
        "\n",
        "#CF\n",
        "oversample1 = SMOTE(k_neighbors=2)\n",
        "CF_smote,CF_label= oversample1.fit_resample(CF,adj_mtx_df['label'])"
      ],
      "metadata": {
        "id": "hqGNw2LioGQe"
      },
      "execution_count": 35,
      "outputs": []
    },
    {
      "cell_type": "code",
      "source": [
        "print(CF_label)"
      ],
      "metadata": {
        "colab": {
          "base_uri": "https://localhost:8080/"
        },
        "id": "kNcn_j57EH2J",
        "outputId": "c7885acf-1683-46fc-fbfb-b2842600ade8"
      },
      "execution_count": 36,
      "outputs": [
        {
          "output_type": "stream",
          "name": "stdout",
          "text": [
            "0     1\n",
            "1     0\n",
            "2     0\n",
            "3     0\n",
            "4     1\n",
            "5     1\n",
            "6     0\n",
            "7     0\n",
            "8     0\n",
            "9     1\n",
            "10    1\n",
            "11    1\n",
            "Name: label, dtype: int64\n"
          ]
        }
      ]
    },
    {
      "cell_type": "code",
      "source": [
        "#TF\n",
        "oversample2 = SMOTE(k_neighbors=2)\n",
        "TF_smote,TF_label= oversample2.fit_resample(TF,adj_mtx_df['label'])"
      ],
      "metadata": {
        "id": "p5DuxJVm6mgG"
      },
      "execution_count": 37,
      "outputs": []
    },
    {
      "cell_type": "code",
      "source": [
        "print(TF_label)"
      ],
      "metadata": {
        "colab": {
          "base_uri": "https://localhost:8080/"
        },
        "id": "sZnZ-nJ4ELs2",
        "outputId": "12aac04c-17d9-4f4d-c7eb-fa4d1f68b1de"
      },
      "execution_count": 38,
      "outputs": [
        {
          "output_type": "stream",
          "name": "stdout",
          "text": [
            "0     1\n",
            "1     0\n",
            "2     0\n",
            "3     0\n",
            "4     1\n",
            "5     1\n",
            "6     0\n",
            "7     0\n",
            "8     0\n",
            "9     1\n",
            "10    1\n",
            "11    1\n",
            "Name: label, dtype: int64\n"
          ]
        }
      ]
    },
    {
      "cell_type": "code",
      "source": [
        "#jaccard_similarity\n",
        "oversample3 = SMOTE(k_neighbors=2)\n",
        "jaccard_similarity_smote,jaccard_similarity_label= oversample3.fit_resample(jaccard_similarity,adj_mtx_df['label'])"
      ],
      "metadata": {
        "id": "Am6gamz_77QG"
      },
      "execution_count": 39,
      "outputs": []
    },
    {
      "cell_type": "code",
      "source": [
        "#cosine_similarity\n",
        "oversample4 = SMOTE(k_neighbors=2)\n",
        "cosine_similarity_smote,cosine_similarity_label= oversample4.fit_resample(cosine_similarity,adj_mtx_df['label'])"
      ],
      "metadata": {
        "id": "TkoVGY7P77IB"
      },
      "execution_count": 40,
      "outputs": []
    },
    {
      "cell_type": "code",
      "source": [
        "#L1_norm\n",
        "oversample5 = SMOTE(k_neighbors=2)\n",
        "L1_norm_smote,L1_norm_label= oversample5.fit_resample(L1_norm,adj_mtx_df['label'])"
      ],
      "metadata": {
        "id": "igeHwrlF760l"
      },
      "execution_count": 41,
      "outputs": []
    },
    {
      "cell_type": "code",
      "source": [
        "#wsum\n",
        "oversample6 = SMOTE(k_neighbors=2)\n",
        "wsum_smote,wsum_label= oversample6.fit_resample(wsum,adj_mtx_df['label'])"
      ],
      "metadata": {
        "id": "_ZNIMglT7_SQ"
      },
      "execution_count": 42,
      "outputs": []
    },
    {
      "cell_type": "code",
      "source": [
        "#wmul\n",
        "oversample7 = SMOTE(k_neighbors=2)\n",
        "wmul_smote,wmul_label= oversample7.fit_resample(wmul,adj_mtx_df['label'])"
      ],
      "metadata": {
        "id": "tmqnxfwU9DD5"
      },
      "execution_count": 43,
      "outputs": []
    },
    {
      "cell_type": "markdown",
      "source": [
        "PCA"
      ],
      "metadata": {
        "id": "uGu1D6xYoEQE"
      }
    },
    {
      "cell_type": "code",
      "source": [
        "\n",
        "pca = PCA(n_components=2)\n",
        "CF_pca = pca.fit_transform(CF_smote)\n",
        "#principalDf = pd.DataFrame(data = principalComponents)\n",
        "print(np.round(CF_pca))"
      ],
      "metadata": {
        "colab": {
          "base_uri": "https://localhost:8080/"
        },
        "id": "wB3bwZQY-CR-",
        "outputId": "08c6c0a5-3904-479e-bb3f-b748838667a9"
      },
      "execution_count": 44,
      "outputs": [
        {
          "output_type": "stream",
          "name": "stdout",
          "text": [
            "[[-0. -1.]\n",
            " [-1.  0.]\n",
            " [ 1.  1.]\n",
            " [-1.  0.]\n",
            " [-1.  0.]\n",
            " [ 1. -0.]\n",
            " [ 1. -0.]\n",
            " [ 1. -0.]\n",
            " [ 1. -0.]\n",
            " [-0. -1.]\n",
            " [-1.  0.]\n",
            " [-1.  0.]]\n"
          ]
        }
      ]
    },
    {
      "cell_type": "code",
      "source": [
        "pca = PCA(n_components=2)\n",
        "TF_pca = pca.fit_transform(TF_smote)\n",
        "#principalDf = pd.DataFrame(data = principalComponents)\n",
        "print(np.round(TF_pca))"
      ],
      "metadata": {
        "colab": {
          "base_uri": "https://localhost:8080/"
        },
        "id": "yTF1ryEA-ods",
        "outputId": "f8a84346-8bb6-4fac-d338-f7f37701d454"
      },
      "execution_count": 45,
      "outputs": [
        {
          "output_type": "stream",
          "name": "stdout",
          "text": [
            "[[-0.  3.]\n",
            " [-2. -1.]\n",
            " [-0. -1.]\n",
            " [-0. -1.]\n",
            " [12. -0.]\n",
            " [-2. -1.]\n",
            " [-2. -1.]\n",
            " [-2. -1.]\n",
            " [-2. -1.]\n",
            " [-1.  1.]\n",
            " [-1.  0.]\n",
            " [-1.  2.]]\n"
          ]
        }
      ]
    },
    {
      "cell_type": "code",
      "source": [
        "pca = PCA(n_components=2)\n",
        "jaccard_similarity_pca = pca.fit_transform(jaccard_similarity_smote)\n",
        "print(np.round(jaccard_similarity_pca))"
      ],
      "metadata": {
        "colab": {
          "base_uri": "https://localhost:8080/"
        },
        "id": "36wKOnAM-_as",
        "outputId": "7b8b32c0-e10b-4d10-87c0-8033b0e9867e"
      },
      "execution_count": 46,
      "outputs": [
        {
          "output_type": "stream",
          "name": "stdout",
          "text": [
            "[[ 0.  0.]\n",
            " [ 0.  0.]\n",
            " [-0. -0.]\n",
            " [ 0.  0.]\n",
            " [ 0.  0.]\n",
            " [-0.  0.]\n",
            " [-0. -0.]\n",
            " [-0. -0.]\n",
            " [-0. -0.]\n",
            " [-0.  0.]\n",
            " [-0.  0.]\n",
            " [ 0.  0.]]\n"
          ]
        }
      ]
    },
    {
      "cell_type": "code",
      "source": [
        "pca = PCA(n_components=2)\n",
        "cosine_similarity_pca = pca.fit_transform(cosine_similarity_smote)\n",
        "print(np.round(cosine_similarity_pca))"
      ],
      "metadata": {
        "colab": {
          "base_uri": "https://localhost:8080/"
        },
        "id": "X08ildo2-_XS",
        "outputId": "fc5c5996-0dbf-4475-b7b6-3151e8656e97"
      },
      "execution_count": 47,
      "outputs": [
        {
          "output_type": "stream",
          "name": "stdout",
          "text": [
            "[[ 1.  0.]\n",
            " [-0. -0.]\n",
            " [ 1.  0.]\n",
            " [-0. -0.]\n",
            " [-0. -0.]\n",
            " [-0.  1.]\n",
            " [-0. -0.]\n",
            " [-0. -0.]\n",
            " [-0. -0.]\n",
            " [ 1. -0.]\n",
            " [-0.  1.]\n",
            " [ 0. -0.]]\n"
          ]
        }
      ]
    },
    {
      "cell_type": "code",
      "source": [
        "pca = PCA(n_components=2)\n",
        "L1_norm_pca = pca.fit_transform(L1_norm_smote)\n",
        "print(np.round(L1_norm_pca))"
      ],
      "metadata": {
        "colab": {
          "base_uri": "https://localhost:8080/"
        },
        "id": "XiUdZV6j-_Ty",
        "outputId": "021c6ea7-9b70-4f4b-81b5-6fdf0db14264"
      },
      "execution_count": 48,
      "outputs": [
        {
          "output_type": "stream",
          "name": "stdout",
          "text": [
            "[[-1. -0.]\n",
            " [-1. -0.]\n",
            " [ 0. -0.]\n",
            " [-1. -0.]\n",
            " [-1. -0.]\n",
            " [ 1.  1.]\n",
            " [ 1. -0.]\n",
            " [ 1. -0.]\n",
            " [ 1. -0.]\n",
            " [-1. -0.]\n",
            " [-1.  0.]\n",
            " [-1. -0.]]\n"
          ]
        }
      ]
    },
    {
      "cell_type": "code",
      "source": [
        "pca = PCA(n_components=2)\n",
        "wsum_pca = pca.fit_transform(wsum_smote)\n",
        "print(np.round(wsum_pca))"
      ],
      "metadata": {
        "colab": {
          "base_uri": "https://localhost:8080/"
        },
        "id": "hAbdiDYm-_Qh",
        "outputId": "44d12ad2-1859-4cee-b644-1271b8a55ed2"
      },
      "execution_count": 49,
      "outputs": [
        {
          "output_type": "stream",
          "name": "stdout",
          "text": [
            "[[-0.  0.]\n",
            " [-0.  0.]\n",
            " [-0.  0.]\n",
            " [-0.  0.]\n",
            " [ 3.  0.]\n",
            " [-0.  0.]\n",
            " [-0.  0.]\n",
            " [-0.  0.]\n",
            " [-0.  0.]\n",
            " [-0.  0.]\n",
            " [-0.  0.]\n",
            " [-0.  0.]]\n"
          ]
        }
      ]
    },
    {
      "cell_type": "code",
      "source": [
        "pca = PCA(n_components=2)\n",
        "wmul_pca = pca.fit_transform(wmul_smote)\n",
        "print(np.round(wmul_pca))"
      ],
      "metadata": {
        "colab": {
          "base_uri": "https://localhost:8080/"
        },
        "id": "fK2Waefo-_NQ",
        "outputId": "a80e72e8-7419-407b-cca4-d69c4e115715"
      },
      "execution_count": 50,
      "outputs": [
        {
          "output_type": "stream",
          "name": "stdout",
          "text": [
            "[[-1. -0.]\n",
            " [-1. -0.]\n",
            " [-1.  0.]\n",
            " [-1. -0.]\n",
            " [ 2.  0.]\n",
            " [-1. -0.]\n",
            " [-1. -0.]\n",
            " [-1. -0.]\n",
            " [-1. -0.]\n",
            " [-1. -0.]\n",
            " [ 1.  0.]\n",
            " [ 2.  0.]]\n"
          ]
        }
      ]
    },
    {
      "cell_type": "code",
      "source": [
        "fin_data_label=np.array(CF_label)\n",
        "print(fin_data_label)"
      ],
      "metadata": {
        "id": "o4oUeJrkEXdf",
        "colab": {
          "base_uri": "https://localhost:8080/"
        },
        "outputId": "974e0392-75d3-49cd-b264-cf4ade195c6c"
      },
      "execution_count": 51,
      "outputs": [
        {
          "output_type": "stream",
          "name": "stdout",
          "text": [
            "[1 0 0 0 1 1 0 0 0 1 1 1]\n"
          ]
        }
      ]
    },
    {
      "cell_type": "code",
      "source": [
        "final_mtx=np.column_stack((CF_pca,TF_pca,jaccard_similarity_pca,\n",
        "                          cosine_similarity_pca,L1_norm_pca,wsum_pca,wmul_pca,\n",
        "                          fin_data_label))\n"
      ],
      "metadata": {
        "id": "UkzdOFZC-_CP"
      },
      "execution_count": 52,
      "outputs": []
    },
    {
      "cell_type": "code",
      "source": [
        "final_mtx=np.round(final_mtx)"
      ],
      "metadata": {
        "id": "3DaJXSbbGXS_"
      },
      "execution_count": 53,
      "outputs": []
    },
    {
      "cell_type": "code",
      "source": [
        "print(final_mtx)"
      ],
      "metadata": {
        "colab": {
          "base_uri": "https://localhost:8080/"
        },
        "id": "KY1vdkIg--2t",
        "outputId": "8861745c-e1e9-4bbd-ca9a-7eb715878547"
      },
      "execution_count": 54,
      "outputs": [
        {
          "output_type": "stream",
          "name": "stdout",
          "text": [
            "[[-0. -1. -0.  3.  0.  0.  1.  0. -1. -0. -0.  0. -1. -0.  1.]\n",
            " [-1.  0. -2. -1.  0.  0. -0. -0. -1. -0. -0.  0. -1. -0.  0.]\n",
            " [ 1.  1. -0. -1. -0. -0.  1.  0.  0. -0. -0.  0. -1.  0.  0.]\n",
            " [-1.  0. -0. -1.  0.  0. -0. -0. -1. -0. -0.  0. -1. -0.  0.]\n",
            " [-1.  0. 12. -0.  0.  0. -0. -0. -1. -0.  3.  0.  2.  0.  1.]\n",
            " [ 1. -0. -2. -1. -0.  0. -0.  1.  1.  1. -0.  0. -1. -0.  1.]\n",
            " [ 1. -0. -2. -1. -0. -0. -0. -0.  1. -0. -0.  0. -1. -0.  0.]\n",
            " [ 1. -0. -2. -1. -0. -0. -0. -0.  1. -0. -0.  0. -1. -0.  0.]\n",
            " [ 1. -0. -2. -1. -0. -0. -0. -0.  1. -0. -0.  0. -1. -0.  0.]\n",
            " [-0. -1. -1.  1. -0.  0.  1. -0. -1. -0. -0.  0. -1. -0.  1.]\n",
            " [-1.  0. -1.  0. -0.  0. -0.  1. -1.  0. -0.  0.  1.  0.  1.]\n",
            " [-1.  0. -1.  2.  0.  0.  0. -0. -1. -0. -0.  0.  2.  0.  1.]]\n"
          ]
        }
      ]
    },
    {
      "cell_type": "code",
      "source": [
        "df = pd.DataFrame(final_mtx,columns= ['CF_pca', 'CF_pca','TF_pca','TF_pca',\n",
        "                                      'jaccard_similarity_pca','jaccard_similarity_pca',\n",
        "                                      'cosine_similarity_pca','cosine_similarity_pca',\n",
        "                                      'L1_norm_pca','L1_norm_pca','wsum_pca',\n",
        "                                      'wsum_pca','wmul_pca','wmul_pca',\n",
        "                                      'label'])\n",
        "print(df)"
      ],
      "metadata": {
        "colab": {
          "base_uri": "https://localhost:8080/"
        },
        "id": "cx84oDcMDcHu",
        "outputId": "280cf57f-fb9f-4830-83f7-9546284bb3db"
      },
      "execution_count": 55,
      "outputs": [
        {
          "output_type": "stream",
          "name": "stdout",
          "text": [
            "    CF_pca  CF_pca  TF_pca  TF_pca  ...  wsum_pca  wmul_pca  wmul_pca  label\n",
            "0     -0.0    -1.0    -0.0     3.0  ...       0.0      -1.0      -0.0    1.0\n",
            "1     -1.0     0.0    -2.0    -1.0  ...       0.0      -1.0      -0.0    0.0\n",
            "2      1.0     1.0    -0.0    -1.0  ...       0.0      -1.0       0.0    0.0\n",
            "3     -1.0     0.0    -0.0    -1.0  ...       0.0      -1.0      -0.0    0.0\n",
            "4     -1.0     0.0    12.0    -0.0  ...       0.0       2.0       0.0    1.0\n",
            "5      1.0    -0.0    -2.0    -1.0  ...       0.0      -1.0      -0.0    1.0\n",
            "6      1.0    -0.0    -2.0    -1.0  ...       0.0      -1.0      -0.0    0.0\n",
            "7      1.0    -0.0    -2.0    -1.0  ...       0.0      -1.0      -0.0    0.0\n",
            "8      1.0    -0.0    -2.0    -1.0  ...       0.0      -1.0      -0.0    0.0\n",
            "9     -0.0    -1.0    -1.0     1.0  ...       0.0      -1.0      -0.0    1.0\n",
            "10    -1.0     0.0    -1.0     0.0  ...       0.0       1.0       0.0    1.0\n",
            "11    -1.0     0.0    -1.0     2.0  ...       0.0       2.0       0.0    1.0\n",
            "\n",
            "[12 rows x 15 columns]\n"
          ]
        }
      ]
    },
    {
      "cell_type": "code",
      "source": [
        "X = df[['CF_pca', 'CF_pca','TF_pca','TF_pca',\n",
        "        'jaccard_similarity_pca','jaccard_similarity_pca',\n",
        "        'cosine_similarity_pca','cosine_similarity_pca',\n",
        "        'L1_norm_pca','L1_norm_pca','wsum_pca',\n",
        "        'wsum_pca','wmul_pca','wmul_pca',]]\n",
        "\n",
        "y = df['label']"
      ],
      "metadata": {
        "id": "3m4vFXPKGlTR"
      },
      "execution_count": 56,
      "outputs": []
    },
    {
      "cell_type": "markdown",
      "source": [
        "logestic_regression"
      ],
      "metadata": {
        "id": "gJtDHtgzMPZG"
      }
    },
    {
      "cell_type": "code",
      "source": [
        "X_train,X_test,y_train,y_test = train_test_split(X,y,test_size=0.3,random_state=0)"
      ],
      "metadata": {
        "id": "XUPwI9YaHnHc"
      },
      "execution_count": 57,
      "outputs": []
    },
    {
      "cell_type": "code",
      "source": [
        "X_train"
      ],
      "metadata": {
        "colab": {
          "base_uri": "https://localhost:8080/",
          "height": 364
        },
        "id": "TnIeRzMeM9Nk",
        "outputId": "7adb0013-ee5d-489b-a6c4-03a8360bf1a5"
      },
      "execution_count": 58,
      "outputs": [
        {
          "output_type": "execute_result",
          "data": {
            "text/html": [
              "\n",
              "  <div id=\"df-0557a799-2c43-405e-b6c9-f900801c90e1\">\n",
              "    <div class=\"colab-df-container\">\n",
              "      <div>\n",
              "<style scoped>\n",
              "    .dataframe tbody tr th:only-of-type {\n",
              "        vertical-align: middle;\n",
              "    }\n",
              "\n",
              "    .dataframe tbody tr th {\n",
              "        vertical-align: top;\n",
              "    }\n",
              "\n",
              "    .dataframe thead th {\n",
              "        text-align: right;\n",
              "    }\n",
              "</style>\n",
              "<table border=\"1\" class=\"dataframe\">\n",
              "  <thead>\n",
              "    <tr style=\"text-align: right;\">\n",
              "      <th></th>\n",
              "      <th>CF_pca</th>\n",
              "      <th>CF_pca</th>\n",
              "      <th>CF_pca</th>\n",
              "      <th>CF_pca</th>\n",
              "      <th>TF_pca</th>\n",
              "      <th>TF_pca</th>\n",
              "      <th>TF_pca</th>\n",
              "      <th>TF_pca</th>\n",
              "      <th>jaccard_similarity_pca</th>\n",
              "      <th>jaccard_similarity_pca</th>\n",
              "      <th>jaccard_similarity_pca</th>\n",
              "      <th>jaccard_similarity_pca</th>\n",
              "      <th>cosine_similarity_pca</th>\n",
              "      <th>cosine_similarity_pca</th>\n",
              "      <th>cosine_similarity_pca</th>\n",
              "      <th>cosine_similarity_pca</th>\n",
              "      <th>L1_norm_pca</th>\n",
              "      <th>L1_norm_pca</th>\n",
              "      <th>L1_norm_pca</th>\n",
              "      <th>L1_norm_pca</th>\n",
              "      <th>wsum_pca</th>\n",
              "      <th>wsum_pca</th>\n",
              "      <th>wsum_pca</th>\n",
              "      <th>wsum_pca</th>\n",
              "      <th>wmul_pca</th>\n",
              "      <th>wmul_pca</th>\n",
              "      <th>wmul_pca</th>\n",
              "      <th>wmul_pca</th>\n",
              "    </tr>\n",
              "  </thead>\n",
              "  <tbody>\n",
              "    <tr>\n",
              "      <th>2</th>\n",
              "      <td>1.0</td>\n",
              "      <td>1.0</td>\n",
              "      <td>1.0</td>\n",
              "      <td>1.0</td>\n",
              "      <td>-0.0</td>\n",
              "      <td>-1.0</td>\n",
              "      <td>-0.0</td>\n",
              "      <td>-1.0</td>\n",
              "      <td>-0.0</td>\n",
              "      <td>-0.0</td>\n",
              "      <td>-0.0</td>\n",
              "      <td>-0.0</td>\n",
              "      <td>1.0</td>\n",
              "      <td>0.0</td>\n",
              "      <td>1.0</td>\n",
              "      <td>0.0</td>\n",
              "      <td>0.0</td>\n",
              "      <td>-0.0</td>\n",
              "      <td>0.0</td>\n",
              "      <td>-0.0</td>\n",
              "      <td>-0.0</td>\n",
              "      <td>0.0</td>\n",
              "      <td>-0.0</td>\n",
              "      <td>0.0</td>\n",
              "      <td>-1.0</td>\n",
              "      <td>0.0</td>\n",
              "      <td>-1.0</td>\n",
              "      <td>0.0</td>\n",
              "    </tr>\n",
              "    <tr>\n",
              "      <th>8</th>\n",
              "      <td>1.0</td>\n",
              "      <td>-0.0</td>\n",
              "      <td>1.0</td>\n",
              "      <td>-0.0</td>\n",
              "      <td>-2.0</td>\n",
              "      <td>-1.0</td>\n",
              "      <td>-2.0</td>\n",
              "      <td>-1.0</td>\n",
              "      <td>-0.0</td>\n",
              "      <td>-0.0</td>\n",
              "      <td>-0.0</td>\n",
              "      <td>-0.0</td>\n",
              "      <td>-0.0</td>\n",
              "      <td>-0.0</td>\n",
              "      <td>-0.0</td>\n",
              "      <td>-0.0</td>\n",
              "      <td>1.0</td>\n",
              "      <td>-0.0</td>\n",
              "      <td>1.0</td>\n",
              "      <td>-0.0</td>\n",
              "      <td>-0.0</td>\n",
              "      <td>0.0</td>\n",
              "      <td>-0.0</td>\n",
              "      <td>0.0</td>\n",
              "      <td>-1.0</td>\n",
              "      <td>-0.0</td>\n",
              "      <td>-1.0</td>\n",
              "      <td>-0.0</td>\n",
              "    </tr>\n",
              "    <tr>\n",
              "      <th>1</th>\n",
              "      <td>-1.0</td>\n",
              "      <td>0.0</td>\n",
              "      <td>-1.0</td>\n",
              "      <td>0.0</td>\n",
              "      <td>-2.0</td>\n",
              "      <td>-1.0</td>\n",
              "      <td>-2.0</td>\n",
              "      <td>-1.0</td>\n",
              "      <td>0.0</td>\n",
              "      <td>0.0</td>\n",
              "      <td>0.0</td>\n",
              "      <td>0.0</td>\n",
              "      <td>-0.0</td>\n",
              "      <td>-0.0</td>\n",
              "      <td>-0.0</td>\n",
              "      <td>-0.0</td>\n",
              "      <td>-1.0</td>\n",
              "      <td>-0.0</td>\n",
              "      <td>-1.0</td>\n",
              "      <td>-0.0</td>\n",
              "      <td>-0.0</td>\n",
              "      <td>0.0</td>\n",
              "      <td>-0.0</td>\n",
              "      <td>0.0</td>\n",
              "      <td>-1.0</td>\n",
              "      <td>-0.0</td>\n",
              "      <td>-1.0</td>\n",
              "      <td>-0.0</td>\n",
              "    </tr>\n",
              "    <tr>\n",
              "      <th>7</th>\n",
              "      <td>1.0</td>\n",
              "      <td>-0.0</td>\n",
              "      <td>1.0</td>\n",
              "      <td>-0.0</td>\n",
              "      <td>-2.0</td>\n",
              "      <td>-1.0</td>\n",
              "      <td>-2.0</td>\n",
              "      <td>-1.0</td>\n",
              "      <td>-0.0</td>\n",
              "      <td>-0.0</td>\n",
              "      <td>-0.0</td>\n",
              "      <td>-0.0</td>\n",
              "      <td>-0.0</td>\n",
              "      <td>-0.0</td>\n",
              "      <td>-0.0</td>\n",
              "      <td>-0.0</td>\n",
              "      <td>1.0</td>\n",
              "      <td>-0.0</td>\n",
              "      <td>1.0</td>\n",
              "      <td>-0.0</td>\n",
              "      <td>-0.0</td>\n",
              "      <td>0.0</td>\n",
              "      <td>-0.0</td>\n",
              "      <td>0.0</td>\n",
              "      <td>-1.0</td>\n",
              "      <td>-0.0</td>\n",
              "      <td>-1.0</td>\n",
              "      <td>-0.0</td>\n",
              "    </tr>\n",
              "    <tr>\n",
              "      <th>9</th>\n",
              "      <td>-0.0</td>\n",
              "      <td>-1.0</td>\n",
              "      <td>-0.0</td>\n",
              "      <td>-1.0</td>\n",
              "      <td>-1.0</td>\n",
              "      <td>1.0</td>\n",
              "      <td>-1.0</td>\n",
              "      <td>1.0</td>\n",
              "      <td>-0.0</td>\n",
              "      <td>0.0</td>\n",
              "      <td>-0.0</td>\n",
              "      <td>0.0</td>\n",
              "      <td>1.0</td>\n",
              "      <td>-0.0</td>\n",
              "      <td>1.0</td>\n",
              "      <td>-0.0</td>\n",
              "      <td>-1.0</td>\n",
              "      <td>-0.0</td>\n",
              "      <td>-1.0</td>\n",
              "      <td>-0.0</td>\n",
              "      <td>-0.0</td>\n",
              "      <td>0.0</td>\n",
              "      <td>-0.0</td>\n",
              "      <td>0.0</td>\n",
              "      <td>-1.0</td>\n",
              "      <td>-0.0</td>\n",
              "      <td>-1.0</td>\n",
              "      <td>-0.0</td>\n",
              "    </tr>\n",
              "    <tr>\n",
              "      <th>3</th>\n",
              "      <td>-1.0</td>\n",
              "      <td>0.0</td>\n",
              "      <td>-1.0</td>\n",
              "      <td>0.0</td>\n",
              "      <td>-0.0</td>\n",
              "      <td>-1.0</td>\n",
              "      <td>-0.0</td>\n",
              "      <td>-1.0</td>\n",
              "      <td>0.0</td>\n",
              "      <td>0.0</td>\n",
              "      <td>0.0</td>\n",
              "      <td>0.0</td>\n",
              "      <td>-0.0</td>\n",
              "      <td>-0.0</td>\n",
              "      <td>-0.0</td>\n",
              "      <td>-0.0</td>\n",
              "      <td>-1.0</td>\n",
              "      <td>-0.0</td>\n",
              "      <td>-1.0</td>\n",
              "      <td>-0.0</td>\n",
              "      <td>-0.0</td>\n",
              "      <td>0.0</td>\n",
              "      <td>-0.0</td>\n",
              "      <td>0.0</td>\n",
              "      <td>-1.0</td>\n",
              "      <td>-0.0</td>\n",
              "      <td>-1.0</td>\n",
              "      <td>-0.0</td>\n",
              "    </tr>\n",
              "    <tr>\n",
              "      <th>0</th>\n",
              "      <td>-0.0</td>\n",
              "      <td>-1.0</td>\n",
              "      <td>-0.0</td>\n",
              "      <td>-1.0</td>\n",
              "      <td>-0.0</td>\n",
              "      <td>3.0</td>\n",
              "      <td>-0.0</td>\n",
              "      <td>3.0</td>\n",
              "      <td>0.0</td>\n",
              "      <td>0.0</td>\n",
              "      <td>0.0</td>\n",
              "      <td>0.0</td>\n",
              "      <td>1.0</td>\n",
              "      <td>0.0</td>\n",
              "      <td>1.0</td>\n",
              "      <td>0.0</td>\n",
              "      <td>-1.0</td>\n",
              "      <td>-0.0</td>\n",
              "      <td>-1.0</td>\n",
              "      <td>-0.0</td>\n",
              "      <td>-0.0</td>\n",
              "      <td>0.0</td>\n",
              "      <td>-0.0</td>\n",
              "      <td>0.0</td>\n",
              "      <td>-1.0</td>\n",
              "      <td>-0.0</td>\n",
              "      <td>-1.0</td>\n",
              "      <td>-0.0</td>\n",
              "    </tr>\n",
              "    <tr>\n",
              "      <th>5</th>\n",
              "      <td>1.0</td>\n",
              "      <td>-0.0</td>\n",
              "      <td>1.0</td>\n",
              "      <td>-0.0</td>\n",
              "      <td>-2.0</td>\n",
              "      <td>-1.0</td>\n",
              "      <td>-2.0</td>\n",
              "      <td>-1.0</td>\n",
              "      <td>-0.0</td>\n",
              "      <td>0.0</td>\n",
              "      <td>-0.0</td>\n",
              "      <td>0.0</td>\n",
              "      <td>-0.0</td>\n",
              "      <td>1.0</td>\n",
              "      <td>-0.0</td>\n",
              "      <td>1.0</td>\n",
              "      <td>1.0</td>\n",
              "      <td>1.0</td>\n",
              "      <td>1.0</td>\n",
              "      <td>1.0</td>\n",
              "      <td>-0.0</td>\n",
              "      <td>0.0</td>\n",
              "      <td>-0.0</td>\n",
              "      <td>0.0</td>\n",
              "      <td>-1.0</td>\n",
              "      <td>-0.0</td>\n",
              "      <td>-1.0</td>\n",
              "      <td>-0.0</td>\n",
              "    </tr>\n",
              "  </tbody>\n",
              "</table>\n",
              "</div>\n",
              "      <button class=\"colab-df-convert\" onclick=\"convertToInteractive('df-0557a799-2c43-405e-b6c9-f900801c90e1')\"\n",
              "              title=\"Convert this dataframe to an interactive table.\"\n",
              "              style=\"display:none;\">\n",
              "        \n",
              "  <svg xmlns=\"http://www.w3.org/2000/svg\" height=\"24px\"viewBox=\"0 0 24 24\"\n",
              "       width=\"24px\">\n",
              "    <path d=\"M0 0h24v24H0V0z\" fill=\"none\"/>\n",
              "    <path d=\"M18.56 5.44l.94 2.06.94-2.06 2.06-.94-2.06-.94-.94-2.06-.94 2.06-2.06.94zm-11 1L8.5 8.5l.94-2.06 2.06-.94-2.06-.94L8.5 2.5l-.94 2.06-2.06.94zm10 10l.94 2.06.94-2.06 2.06-.94-2.06-.94-.94-2.06-.94 2.06-2.06.94z\"/><path d=\"M17.41 7.96l-1.37-1.37c-.4-.4-.92-.59-1.43-.59-.52 0-1.04.2-1.43.59L10.3 9.45l-7.72 7.72c-.78.78-.78 2.05 0 2.83L4 21.41c.39.39.9.59 1.41.59.51 0 1.02-.2 1.41-.59l7.78-7.78 2.81-2.81c.8-.78.8-2.07 0-2.86zM5.41 20L4 18.59l7.72-7.72 1.47 1.35L5.41 20z\"/>\n",
              "  </svg>\n",
              "      </button>\n",
              "      \n",
              "  <style>\n",
              "    .colab-df-container {\n",
              "      display:flex;\n",
              "      flex-wrap:wrap;\n",
              "      gap: 12px;\n",
              "    }\n",
              "\n",
              "    .colab-df-convert {\n",
              "      background-color: #E8F0FE;\n",
              "      border: none;\n",
              "      border-radius: 50%;\n",
              "      cursor: pointer;\n",
              "      display: none;\n",
              "      fill: #1967D2;\n",
              "      height: 32px;\n",
              "      padding: 0 0 0 0;\n",
              "      width: 32px;\n",
              "    }\n",
              "\n",
              "    .colab-df-convert:hover {\n",
              "      background-color: #E2EBFA;\n",
              "      box-shadow: 0px 1px 2px rgba(60, 64, 67, 0.3), 0px 1px 3px 1px rgba(60, 64, 67, 0.15);\n",
              "      fill: #174EA6;\n",
              "    }\n",
              "\n",
              "    [theme=dark] .colab-df-convert {\n",
              "      background-color: #3B4455;\n",
              "      fill: #D2E3FC;\n",
              "    }\n",
              "\n",
              "    [theme=dark] .colab-df-convert:hover {\n",
              "      background-color: #434B5C;\n",
              "      box-shadow: 0px 1px 3px 1px rgba(0, 0, 0, 0.15);\n",
              "      filter: drop-shadow(0px 1px 2px rgba(0, 0, 0, 0.3));\n",
              "      fill: #FFFFFF;\n",
              "    }\n",
              "  </style>\n",
              "\n",
              "      <script>\n",
              "        const buttonEl =\n",
              "          document.querySelector('#df-0557a799-2c43-405e-b6c9-f900801c90e1 button.colab-df-convert');\n",
              "        buttonEl.style.display =\n",
              "          google.colab.kernel.accessAllowed ? 'block' : 'none';\n",
              "\n",
              "        async function convertToInteractive(key) {\n",
              "          const element = document.querySelector('#df-0557a799-2c43-405e-b6c9-f900801c90e1');\n",
              "          const dataTable =\n",
              "            await google.colab.kernel.invokeFunction('convertToInteractive',\n",
              "                                                     [key], {});\n",
              "          if (!dataTable) return;\n",
              "\n",
              "          const docLinkHtml = 'Like what you see? Visit the ' +\n",
              "            '<a target=\"_blank\" href=https://colab.research.google.com/notebooks/data_table.ipynb>data table notebook</a>'\n",
              "            + ' to learn more about interactive tables.';\n",
              "          element.innerHTML = '';\n",
              "          dataTable['output_type'] = 'display_data';\n",
              "          await google.colab.output.renderOutput(dataTable, element);\n",
              "          const docLink = document.createElement('div');\n",
              "          docLink.innerHTML = docLinkHtml;\n",
              "          element.appendChild(docLink);\n",
              "        }\n",
              "      </script>\n",
              "    </div>\n",
              "  </div>\n",
              "  "
            ],
            "text/plain": [
              "   CF_pca  CF_pca  CF_pca  CF_pca  ...  wmul_pca  wmul_pca  wmul_pca  wmul_pca\n",
              "2     1.0     1.0     1.0     1.0  ...      -1.0       0.0      -1.0       0.0\n",
              "8     1.0    -0.0     1.0    -0.0  ...      -1.0      -0.0      -1.0      -0.0\n",
              "1    -1.0     0.0    -1.0     0.0  ...      -1.0      -0.0      -1.0      -0.0\n",
              "7     1.0    -0.0     1.0    -0.0  ...      -1.0      -0.0      -1.0      -0.0\n",
              "9    -0.0    -1.0    -0.0    -1.0  ...      -1.0      -0.0      -1.0      -0.0\n",
              "3    -1.0     0.0    -1.0     0.0  ...      -1.0      -0.0      -1.0      -0.0\n",
              "0    -0.0    -1.0    -0.0    -1.0  ...      -1.0      -0.0      -1.0      -0.0\n",
              "5     1.0    -0.0     1.0    -0.0  ...      -1.0      -0.0      -1.0      -0.0\n",
              "\n",
              "[8 rows x 28 columns]"
            ]
          },
          "metadata": {},
          "execution_count": 58
        }
      ]
    },
    {
      "cell_type": "code",
      "source": [
        "y_train"
      ],
      "metadata": {
        "colab": {
          "base_uri": "https://localhost:8080/"
        },
        "id": "wrrvR0MyNkwY",
        "outputId": "2a5774b0-83f1-46ac-db70-1a9fbbcbb8b2"
      },
      "execution_count": 59,
      "outputs": [
        {
          "output_type": "execute_result",
          "data": {
            "text/plain": [
              "2    0.0\n",
              "8    0.0\n",
              "1    0.0\n",
              "7    0.0\n",
              "9    1.0\n",
              "3    0.0\n",
              "0    1.0\n",
              "5    1.0\n",
              "Name: label, dtype: float64"
            ]
          },
          "metadata": {},
          "execution_count": 59
        }
      ]
    },
    {
      "cell_type": "code",
      "source": [
        "X_test"
      ],
      "metadata": {
        "colab": {
          "base_uri": "https://localhost:8080/",
          "height": 239
        },
        "id": "AC3Xcx-uNE_X",
        "outputId": "f475c708-14db-49ce-df8f-28c01e53f07b"
      },
      "execution_count": 60,
      "outputs": [
        {
          "output_type": "execute_result",
          "data": {
            "text/html": [
              "\n",
              "  <div id=\"df-92dd472e-9d8b-4d5e-aa76-75c319740729\">\n",
              "    <div class=\"colab-df-container\">\n",
              "      <div>\n",
              "<style scoped>\n",
              "    .dataframe tbody tr th:only-of-type {\n",
              "        vertical-align: middle;\n",
              "    }\n",
              "\n",
              "    .dataframe tbody tr th {\n",
              "        vertical-align: top;\n",
              "    }\n",
              "\n",
              "    .dataframe thead th {\n",
              "        text-align: right;\n",
              "    }\n",
              "</style>\n",
              "<table border=\"1\" class=\"dataframe\">\n",
              "  <thead>\n",
              "    <tr style=\"text-align: right;\">\n",
              "      <th></th>\n",
              "      <th>CF_pca</th>\n",
              "      <th>CF_pca</th>\n",
              "      <th>CF_pca</th>\n",
              "      <th>CF_pca</th>\n",
              "      <th>TF_pca</th>\n",
              "      <th>TF_pca</th>\n",
              "      <th>TF_pca</th>\n",
              "      <th>TF_pca</th>\n",
              "      <th>jaccard_similarity_pca</th>\n",
              "      <th>jaccard_similarity_pca</th>\n",
              "      <th>jaccard_similarity_pca</th>\n",
              "      <th>jaccard_similarity_pca</th>\n",
              "      <th>cosine_similarity_pca</th>\n",
              "      <th>cosine_similarity_pca</th>\n",
              "      <th>cosine_similarity_pca</th>\n",
              "      <th>cosine_similarity_pca</th>\n",
              "      <th>L1_norm_pca</th>\n",
              "      <th>L1_norm_pca</th>\n",
              "      <th>L1_norm_pca</th>\n",
              "      <th>L1_norm_pca</th>\n",
              "      <th>wsum_pca</th>\n",
              "      <th>wsum_pca</th>\n",
              "      <th>wsum_pca</th>\n",
              "      <th>wsum_pca</th>\n",
              "      <th>wmul_pca</th>\n",
              "      <th>wmul_pca</th>\n",
              "      <th>wmul_pca</th>\n",
              "      <th>wmul_pca</th>\n",
              "    </tr>\n",
              "  </thead>\n",
              "  <tbody>\n",
              "    <tr>\n",
              "      <th>6</th>\n",
              "      <td>1.0</td>\n",
              "      <td>-0.0</td>\n",
              "      <td>1.0</td>\n",
              "      <td>-0.0</td>\n",
              "      <td>-2.0</td>\n",
              "      <td>-1.0</td>\n",
              "      <td>-2.0</td>\n",
              "      <td>-1.0</td>\n",
              "      <td>-0.0</td>\n",
              "      <td>-0.0</td>\n",
              "      <td>-0.0</td>\n",
              "      <td>-0.0</td>\n",
              "      <td>-0.0</td>\n",
              "      <td>-0.0</td>\n",
              "      <td>-0.0</td>\n",
              "      <td>-0.0</td>\n",
              "      <td>1.0</td>\n",
              "      <td>-0.0</td>\n",
              "      <td>1.0</td>\n",
              "      <td>-0.0</td>\n",
              "      <td>-0.0</td>\n",
              "      <td>0.0</td>\n",
              "      <td>-0.0</td>\n",
              "      <td>0.0</td>\n",
              "      <td>-1.0</td>\n",
              "      <td>-0.0</td>\n",
              "      <td>-1.0</td>\n",
              "      <td>-0.0</td>\n",
              "    </tr>\n",
              "    <tr>\n",
              "      <th>11</th>\n",
              "      <td>-1.0</td>\n",
              "      <td>0.0</td>\n",
              "      <td>-1.0</td>\n",
              "      <td>0.0</td>\n",
              "      <td>-1.0</td>\n",
              "      <td>2.0</td>\n",
              "      <td>-1.0</td>\n",
              "      <td>2.0</td>\n",
              "      <td>0.0</td>\n",
              "      <td>0.0</td>\n",
              "      <td>0.0</td>\n",
              "      <td>0.0</td>\n",
              "      <td>0.0</td>\n",
              "      <td>-0.0</td>\n",
              "      <td>0.0</td>\n",
              "      <td>-0.0</td>\n",
              "      <td>-1.0</td>\n",
              "      <td>-0.0</td>\n",
              "      <td>-1.0</td>\n",
              "      <td>-0.0</td>\n",
              "      <td>-0.0</td>\n",
              "      <td>0.0</td>\n",
              "      <td>-0.0</td>\n",
              "      <td>0.0</td>\n",
              "      <td>2.0</td>\n",
              "      <td>0.0</td>\n",
              "      <td>2.0</td>\n",
              "      <td>0.0</td>\n",
              "    </tr>\n",
              "    <tr>\n",
              "      <th>4</th>\n",
              "      <td>-1.0</td>\n",
              "      <td>0.0</td>\n",
              "      <td>-1.0</td>\n",
              "      <td>0.0</td>\n",
              "      <td>12.0</td>\n",
              "      <td>-0.0</td>\n",
              "      <td>12.0</td>\n",
              "      <td>-0.0</td>\n",
              "      <td>0.0</td>\n",
              "      <td>0.0</td>\n",
              "      <td>0.0</td>\n",
              "      <td>0.0</td>\n",
              "      <td>-0.0</td>\n",
              "      <td>-0.0</td>\n",
              "      <td>-0.0</td>\n",
              "      <td>-0.0</td>\n",
              "      <td>-1.0</td>\n",
              "      <td>-0.0</td>\n",
              "      <td>-1.0</td>\n",
              "      <td>-0.0</td>\n",
              "      <td>3.0</td>\n",
              "      <td>0.0</td>\n",
              "      <td>3.0</td>\n",
              "      <td>0.0</td>\n",
              "      <td>2.0</td>\n",
              "      <td>0.0</td>\n",
              "      <td>2.0</td>\n",
              "      <td>0.0</td>\n",
              "    </tr>\n",
              "    <tr>\n",
              "      <th>10</th>\n",
              "      <td>-1.0</td>\n",
              "      <td>0.0</td>\n",
              "      <td>-1.0</td>\n",
              "      <td>0.0</td>\n",
              "      <td>-1.0</td>\n",
              "      <td>0.0</td>\n",
              "      <td>-1.0</td>\n",
              "      <td>0.0</td>\n",
              "      <td>-0.0</td>\n",
              "      <td>0.0</td>\n",
              "      <td>-0.0</td>\n",
              "      <td>0.0</td>\n",
              "      <td>-0.0</td>\n",
              "      <td>1.0</td>\n",
              "      <td>-0.0</td>\n",
              "      <td>1.0</td>\n",
              "      <td>-1.0</td>\n",
              "      <td>0.0</td>\n",
              "      <td>-1.0</td>\n",
              "      <td>0.0</td>\n",
              "      <td>-0.0</td>\n",
              "      <td>0.0</td>\n",
              "      <td>-0.0</td>\n",
              "      <td>0.0</td>\n",
              "      <td>1.0</td>\n",
              "      <td>0.0</td>\n",
              "      <td>1.0</td>\n",
              "      <td>0.0</td>\n",
              "    </tr>\n",
              "  </tbody>\n",
              "</table>\n",
              "</div>\n",
              "      <button class=\"colab-df-convert\" onclick=\"convertToInteractive('df-92dd472e-9d8b-4d5e-aa76-75c319740729')\"\n",
              "              title=\"Convert this dataframe to an interactive table.\"\n",
              "              style=\"display:none;\">\n",
              "        \n",
              "  <svg xmlns=\"http://www.w3.org/2000/svg\" height=\"24px\"viewBox=\"0 0 24 24\"\n",
              "       width=\"24px\">\n",
              "    <path d=\"M0 0h24v24H0V0z\" fill=\"none\"/>\n",
              "    <path d=\"M18.56 5.44l.94 2.06.94-2.06 2.06-.94-2.06-.94-.94-2.06-.94 2.06-2.06.94zm-11 1L8.5 8.5l.94-2.06 2.06-.94-2.06-.94L8.5 2.5l-.94 2.06-2.06.94zm10 10l.94 2.06.94-2.06 2.06-.94-2.06-.94-.94-2.06-.94 2.06-2.06.94z\"/><path d=\"M17.41 7.96l-1.37-1.37c-.4-.4-.92-.59-1.43-.59-.52 0-1.04.2-1.43.59L10.3 9.45l-7.72 7.72c-.78.78-.78 2.05 0 2.83L4 21.41c.39.39.9.59 1.41.59.51 0 1.02-.2 1.41-.59l7.78-7.78 2.81-2.81c.8-.78.8-2.07 0-2.86zM5.41 20L4 18.59l7.72-7.72 1.47 1.35L5.41 20z\"/>\n",
              "  </svg>\n",
              "      </button>\n",
              "      \n",
              "  <style>\n",
              "    .colab-df-container {\n",
              "      display:flex;\n",
              "      flex-wrap:wrap;\n",
              "      gap: 12px;\n",
              "    }\n",
              "\n",
              "    .colab-df-convert {\n",
              "      background-color: #E8F0FE;\n",
              "      border: none;\n",
              "      border-radius: 50%;\n",
              "      cursor: pointer;\n",
              "      display: none;\n",
              "      fill: #1967D2;\n",
              "      height: 32px;\n",
              "      padding: 0 0 0 0;\n",
              "      width: 32px;\n",
              "    }\n",
              "\n",
              "    .colab-df-convert:hover {\n",
              "      background-color: #E2EBFA;\n",
              "      box-shadow: 0px 1px 2px rgba(60, 64, 67, 0.3), 0px 1px 3px 1px rgba(60, 64, 67, 0.15);\n",
              "      fill: #174EA6;\n",
              "    }\n",
              "\n",
              "    [theme=dark] .colab-df-convert {\n",
              "      background-color: #3B4455;\n",
              "      fill: #D2E3FC;\n",
              "    }\n",
              "\n",
              "    [theme=dark] .colab-df-convert:hover {\n",
              "      background-color: #434B5C;\n",
              "      box-shadow: 0px 1px 3px 1px rgba(0, 0, 0, 0.15);\n",
              "      filter: drop-shadow(0px 1px 2px rgba(0, 0, 0, 0.3));\n",
              "      fill: #FFFFFF;\n",
              "    }\n",
              "  </style>\n",
              "\n",
              "      <script>\n",
              "        const buttonEl =\n",
              "          document.querySelector('#df-92dd472e-9d8b-4d5e-aa76-75c319740729 button.colab-df-convert');\n",
              "        buttonEl.style.display =\n",
              "          google.colab.kernel.accessAllowed ? 'block' : 'none';\n",
              "\n",
              "        async function convertToInteractive(key) {\n",
              "          const element = document.querySelector('#df-92dd472e-9d8b-4d5e-aa76-75c319740729');\n",
              "          const dataTable =\n",
              "            await google.colab.kernel.invokeFunction('convertToInteractive',\n",
              "                                                     [key], {});\n",
              "          if (!dataTable) return;\n",
              "\n",
              "          const docLinkHtml = 'Like what you see? Visit the ' +\n",
              "            '<a target=\"_blank\" href=https://colab.research.google.com/notebooks/data_table.ipynb>data table notebook</a>'\n",
              "            + ' to learn more about interactive tables.';\n",
              "          element.innerHTML = '';\n",
              "          dataTable['output_type'] = 'display_data';\n",
              "          await google.colab.output.renderOutput(dataTable, element);\n",
              "          const docLink = document.createElement('div');\n",
              "          docLink.innerHTML = docLinkHtml;\n",
              "          element.appendChild(docLink);\n",
              "        }\n",
              "      </script>\n",
              "    </div>\n",
              "  </div>\n",
              "  "
            ],
            "text/plain": [
              "    CF_pca  CF_pca  CF_pca  CF_pca  ...  wmul_pca  wmul_pca  wmul_pca  wmul_pca\n",
              "6      1.0    -0.0     1.0    -0.0  ...      -1.0      -0.0      -1.0      -0.0\n",
              "11    -1.0     0.0    -1.0     0.0  ...       2.0       0.0       2.0       0.0\n",
              "4     -1.0     0.0    -1.0     0.0  ...       2.0       0.0       2.0       0.0\n",
              "10    -1.0     0.0    -1.0     0.0  ...       1.0       0.0       1.0       0.0\n",
              "\n",
              "[4 rows x 28 columns]"
            ]
          },
          "metadata": {},
          "execution_count": 60
        }
      ]
    },
    {
      "cell_type": "code",
      "source": [
        "y_test"
      ],
      "metadata": {
        "colab": {
          "base_uri": "https://localhost:8080/"
        },
        "id": "Z-RD9rdsNo9Z",
        "outputId": "3ee745ae-2d4d-47ac-d1f4-8faa8b2d1786"
      },
      "execution_count": 61,
      "outputs": [
        {
          "output_type": "execute_result",
          "data": {
            "text/plain": [
              "6     0.0\n",
              "11    1.0\n",
              "4     1.0\n",
              "10    1.0\n",
              "Name: label, dtype: float64"
            ]
          },
          "metadata": {},
          "execution_count": 61
        }
      ]
    },
    {
      "cell_type": "code",
      "source": [
        "from sklearn.svm import SVC\n",
        "svclassifier = SVC(kernel='linear')\n",
        "svclassifier.fit(X_train, y_train)\n",
        "y_pred = svclassifier.predict(X_test)"
      ],
      "metadata": {
        "id": "IQfjpsZUHqpX"
      },
      "execution_count": 62,
      "outputs": []
    },
    {
      "cell_type": "code",
      "source": [
        "from sklearn.metrics import classification_report, confusion_matrix\n",
        "print(confusion_matrix(y_test,y_pred))\n",
        "print(classification_report(y_test,y_pred))"
      ],
      "metadata": {
        "colab": {
          "base_uri": "https://localhost:8080/"
        },
        "id": "VWrhR9Kubs3a",
        "outputId": "7e71d762-301b-45a9-dd4d-177d66eea520"
      },
      "execution_count": 63,
      "outputs": [
        {
          "output_type": "stream",
          "name": "stdout",
          "text": [
            "[[1 0]\n",
            " [1 2]]\n",
            "              precision    recall  f1-score   support\n",
            "\n",
            "         0.0       0.50      1.00      0.67         1\n",
            "         1.0       1.00      0.67      0.80         3\n",
            "\n",
            "    accuracy                           0.75         4\n",
            "   macro avg       0.75      0.83      0.73         4\n",
            "weighted avg       0.88      0.75      0.77         4\n",
            "\n"
          ]
        }
      ]
    },
    {
      "cell_type": "code",
      "source": [
        "confusion_matrix = pd.crosstab(y_test, y_pred, rownames=['Actual'], colnames=['Predicted'])\n",
        "sns.heatmap(confusion_matrix, annot=True)"
      ],
      "metadata": {
        "colab": {
          "base_uri": "https://localhost:8080/",
          "height": 307
        },
        "id": "psrDe4UdHtoQ",
        "outputId": "1db1f56f-ba63-4dfc-fd86-18572e1dc0c7"
      },
      "execution_count": 64,
      "outputs": [
        {
          "output_type": "execute_result",
          "data": {
            "text/plain": [
              "<matplotlib.axes._subplots.AxesSubplot at 0x7f07e791d9d0>"
            ]
          },
          "metadata": {},
          "execution_count": 64
        },
        {
          "output_type": "display_data",
          "data": {
            "image/png": "[encoded data removed]",
            "text/plain": [
              "<Figure size 432x288 with 2 Axes>"
            ]
          },
          "metadata": {
            "needs_background": "light"
          }
        }
      ]
    },
    {
      "cell_type": "code",
      "source": [
        "y_pred"
      ],
      "metadata": {
        "colab": {
          "base_uri": "https://localhost:8080/"
        },
        "id": "1L6tBdF-N56m",
        "outputId": "07c00314-c61b-4a42-d4c9-277bdcd44a02"
      },
      "execution_count": 65,
      "outputs": [
        {
          "output_type": "execute_result",
          "data": {
            "text/plain": [
              "array([0., 1., 0., 1.])"
            ]
          },
          "metadata": {},
          "execution_count": 65
        }
      ]
    },
    {
      "cell_type": "code",
      "source": [
        "print('Accuracy: ',metrics.accuracy_score(y_test, y_pred))\n",
        "plt.show()"
      ],
      "metadata": {
        "colab": {
          "base_uri": "https://localhost:8080/"
        },
        "id": "jk-gwa8NH1ox",
        "outputId": "d234a759-8d97-45e3-b13d-865669e8a7f0"
      },
      "execution_count": 66,
      "outputs": [
        {
          "output_type": "stream",
          "name": "stdout",
          "text": [
            "Accuracy:  0.75\n"
          ]
        }
      ]
    }
  ],
  "metadata": {
    "colab": {
      "collapsed_sections": [],
      "name": "svmmydata.ipynb",
      "provenance": [],
      "toc_visible": true,
      "mount_file_id": "1xozuISp_VUfJjlKTPh5qmltbePLVfWBL",
      "authorship_tag": "ABX9TyM2D0X4SJDYbqaMlhehBVbf",
      "include_colab_link": true
    },
    "kernelspec": {
      "display_name": "Python 3",
      "name": "python3"
    },
    "language_info": {
      "name": "python"
    }
  },
  "nbformat": 4,
  "nbformat_minor": 0
}