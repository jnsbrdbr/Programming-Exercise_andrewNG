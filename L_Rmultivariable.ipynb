{
  "nbformat": 4,
  "nbformat_minor": 0,
  "metadata": {
    "colab": {
      "name": "Copy of L_Rmultivariable.ipynb",
      "provenance": [],
      "collapsed_sections": [],
      "authorship_tag": "ABX9TyNw3PJhNewYD4vTlVHgZr5b",
      "include_colab_link": true
    },
    "kernelspec": {
      "name": "python3",
      "display_name": "Python 3"
    },
    "language_info": {
      "name": "python"
    }
  },
  "cells": [
    {
      "cell_type": "markdown",
      "metadata": {
        "id": "view-in-github",
        "colab_type": "text"
      },
      "source": [
        "<a href=\"https://colab.research.google.com/github/jnsbrdbr/andrew-ng/blob/master/L_Rmultivariable.ipynb\" target=\"_parent\"><img src=\"https://colab.research.google.com/assets/colab-badge.svg\" alt=\"Open In Colab\"/></a>"
      ]
    },
    {
      "cell_type": "code",
      "metadata": {
        "colab": {
          "base_uri": "https://localhost:8080/"
        },
        "id": "ZmNkr2inwCgW",
        "outputId": "b2f7ab32-ceb8-4277-e836-41952058519f"
      },
      "source": [
        "# Install TensorFlow\n",
        "# !pip install -q tensorflow-gpu==2.0.0-beta1\n",
        "\n",
        "try:\n",
        "  %tensorflow_version 2.x  # Colab only.\n",
        "except Exception:\n",
        "  pass\n",
        "\n",
        "import tensorflow as tf\n",
        "print(tf.__version__)"
      ],
      "execution_count": null,
      "outputs": [
        {
          "output_type": "stream",
          "name": "stdout",
          "text": [
            "`%tensorflow_version` only switches the major version: 1.x or 2.x.\n",
            "You set: `2.x  # Colab only.`. This will be interpreted as: `2.x`.\n",
            "\n",
            "\n",
            "TensorFlow 2.x selected.\n",
            "2.6.0\n"
          ]
        }
      ]
    },
    {
      "cell_type": "code",
      "metadata": {
        "id": "LnK2spfAzdRR"
      },
      "source": [
        "import os\n",
        "\n",
        "# Scientific and vector computation for python\n",
        "import numpy as np\n",
        "import pandas as pd\n",
        "import io\n",
        "import seaborn as sns\n",
        "\n",
        "# Plotting library\n",
        "from matplotlib import pyplot\n",
        "from mpl_toolkits.mplot3d import Axes3D  # needed to plot 3-D surfaces\n",
        "import matplotlib.pyplot as plt"
      ],
      "execution_count": null,
      "outputs": []
    },
    {
      "cell_type": "code",
      "metadata": {
        "id": "ZRFWojs_znEP",
        "colab": {
          "base_uri": "https://localhost:8080/"
        },
        "outputId": "dab6ca3e-cdf5-4211-d084-dabffdb6d3e8"
      },
      "source": [
        "!wget https://raw.githubusercontent.com/susilvaalmeida/machine-learning-andrew-ng/master/data/ex1data2.txt\n",
        "\n",
        "\n",
        "data= pd.read_csv('ex1data2.txt',header=None ).values"
      ],
      "execution_count": null,
      "outputs": [
        {
          "output_type": "stream",
          "name": "stdout",
          "text": [
            "--2021-11-09 15:12:01--  https://raw.githubusercontent.com/susilvaalmeida/machine-learning-andrew-ng/master/data/ex1data2.txt\n",
            "Resolving raw.githubusercontent.com (raw.githubusercontent.com)... 185.199.108.133, 185.199.109.133, 185.199.110.133, ...\n",
            "Connecting to raw.githubusercontent.com (raw.githubusercontent.com)|185.199.108.133|:443... connected.\n",
            "HTTP request sent, awaiting response... 200 OK\n",
            "Length: 657 [text/plain]\n",
            "Saving to: ‘ex1data2.txt’\n",
            "\n",
            "\rex1data2.txt          0%[                    ]       0  --.-KB/s               \rex1data2.txt        100%[===================>]     657  --.-KB/s    in 0s      \n",
            "\n",
            "2021-11-09 15:12:02 (25.8 MB/s) - ‘ex1data2.txt’ saved [657/657]\n",
            "\n"
          ]
        }
      ]
    },
    {
      "cell_type": "code",
      "metadata": {
        "id": "YF6RfUT0FGny"
      },
      "source": [
        "x = data[:, :2]\n",
        "y = data[:, 2].reshape(-1, 1)\n",
        "m=len(y)"
      ],
      "execution_count": null,
      "outputs": []
    },
    {
      "cell_type": "code",
      "metadata": {
        "colab": {
          "base_uri": "https://localhost:8080/"
        },
        "id": "qrU_6LhuFRye",
        "outputId": "97fd8ef0-31d3-458a-bfab-83d225e10c13"
      },
      "source": [
        "print(x)"
      ],
      "execution_count": null,
      "outputs": [
        {
          "output_type": "stream",
          "name": "stdout",
          "text": [
            "[[2104    3]\n",
            " [1600    3]\n",
            " [2400    3]\n",
            " [1416    2]\n",
            " [3000    4]\n",
            " [1985    4]\n",
            " [1534    3]\n",
            " [1427    3]\n",
            " [1380    3]\n",
            " [1494    3]\n",
            " [1940    4]\n",
            " [2000    3]\n",
            " [1890    3]\n",
            " [4478    5]\n",
            " [1268    3]\n",
            " [2300    4]\n",
            " [1320    2]\n",
            " [1236    3]\n",
            " [2609    4]\n",
            " [3031    4]\n",
            " [1767    3]\n",
            " [1888    2]\n",
            " [1604    3]\n",
            " [1962    4]\n",
            " [3890    3]\n",
            " [1100    3]\n",
            " [1458    3]\n",
            " [2526    3]\n",
            " [2200    3]\n",
            " [2637    3]\n",
            " [1839    2]\n",
            " [1000    1]\n",
            " [2040    4]\n",
            " [3137    3]\n",
            " [1811    4]\n",
            " [1437    3]\n",
            " [1239    3]\n",
            " [2132    4]\n",
            " [4215    4]\n",
            " [2162    4]\n",
            " [1664    2]\n",
            " [2238    3]\n",
            " [2567    4]\n",
            " [1200    3]\n",
            " [ 852    2]\n",
            " [1852    4]\n",
            " [1203    3]]\n"
          ]
        }
      ]
    },
    {
      "cell_type": "code",
      "metadata": {
        "colab": {
          "base_uri": "https://localhost:8080/"
        },
        "id": "ZhwItFrkFUI4",
        "outputId": "8d6a75f4-a5f8-4d7e-d4f5-8f064bdccff4"
      },
      "source": [
        "print(y)"
      ],
      "execution_count": null,
      "outputs": [
        {
          "output_type": "stream",
          "name": "stdout",
          "text": [
            "[[399900]\n",
            " [329900]\n",
            " [369000]\n",
            " [232000]\n",
            " [539900]\n",
            " [299900]\n",
            " [314900]\n",
            " [198999]\n",
            " [212000]\n",
            " [242500]\n",
            " [239999]\n",
            " [347000]\n",
            " [329999]\n",
            " [699900]\n",
            " [259900]\n",
            " [449900]\n",
            " [299900]\n",
            " [199900]\n",
            " [499998]\n",
            " [599000]\n",
            " [252900]\n",
            " [255000]\n",
            " [242900]\n",
            " [259900]\n",
            " [573900]\n",
            " [249900]\n",
            " [464500]\n",
            " [469000]\n",
            " [475000]\n",
            " [299900]\n",
            " [349900]\n",
            " [169900]\n",
            " [314900]\n",
            " [579900]\n",
            " [285900]\n",
            " [249900]\n",
            " [229900]\n",
            " [345000]\n",
            " [549000]\n",
            " [287000]\n",
            " [368500]\n",
            " [329900]\n",
            " [314000]\n",
            " [299000]\n",
            " [179900]\n",
            " [299900]\n",
            " [239500]]\n"
          ]
        }
      ]
    },
    {
      "cell_type": "code",
      "metadata": {
        "colab": {
          "base_uri": "https://localhost:8080/"
        },
        "id": "baBAPoyk02jn",
        "outputId": "e88f9156-df24-4558-d3e1-820bd607451a"
      },
      "source": [
        "data.shape"
      ],
      "execution_count": null,
      "outputs": [
        {
          "output_type": "execute_result",
          "data": {
            "text/plain": [
              "(47, 3)"
            ]
          },
          "metadata": {},
          "execution_count": 10
        }
      ]
    },
    {
      "cell_type": "code",
      "metadata": {
        "id": "Rb2Vhrvr06id"
      },
      "source": [
        "#data.columns = ['house_size', 'bedrooms', 'house_price']\n",
        "#data.describe().T"
      ],
      "execution_count": null,
      "outputs": []
    },
    {
      "cell_type": "code",
      "metadata": {
        "id": "LoIgLK3k5xCI"
      },
      "source": [
        "#def feature_normalize(X, mean=np.zeros(1), std=np.zeros(1)):\n",
        "#    X = np.array(X)\n",
        "#    if len(mean.shape) == 1 or len(std.shape) == 1:\n",
        "#        mean = np.mean(X, axis=0)\n",
        "#        std = np.std(X, axis=0, ddof=1)\n",
        "\n",
        "#    X = (X - mean)/std\n",
        "#    return X, mean, std"
      ],
      "execution_count": null,
      "outputs": []
    },
    {
      "cell_type": "code",
      "metadata": {
        "id": "qjnyBwOELsM0"
      },
      "source": [
        "#X_norm, mu, sigma = feature_normalize(data[['house_size', 'bedrooms']])"
      ],
      "execution_count": null,
      "outputs": []
    },
    {
      "cell_type": "code",
      "metadata": {
        "id": "jpxUacjiMGxs"
      },
      "source": [
        "#data['house_size_normalized'] = X_norm[:,0]\n",
        "#data['bedrooms_normalized'] = X_norm[:,1]\n",
        "#data[['house_size_normalized', 'bedrooms_normalized']].describe().T"
      ],
      "execution_count": null,
      "outputs": []
    },
    {
      "cell_type": "code",
      "metadata": {
        "id": "3MIXVRHkhtFY"
      },
      "source": [
        "def normalize(x):\n",
        "  x_norm = x.copy()\n",
        "  mu = np.zeros(data.shape[1])\n",
        "  sigma = np.zeros(data.shape[1])\n",
        "  mu = np.mean(x, axis = 0)\n",
        "  sigma = np.std(x, axis = 0)\n",
        "  x_norm = (x - mu) / sigma\n",
        "  return x_norm, mu, sigma"
      ],
      "execution_count": null,
      "outputs": []
    },
    {
      "cell_type": "code",
      "metadata": {
        "colab": {
          "base_uri": "https://localhost:8080/"
        },
        "id": "tdbkaYy6iTUi",
        "outputId": "72e72660-c329-4669-fc9b-3965e02cfd2c"
      },
      "source": [
        "x_norm, mu, sigma = normalize(x)\n",
        "\n",
        "print('Computed mean:', mu)\n",
        "print('Computed standard deviation:', sigma)"
      ],
      "execution_count": null,
      "outputs": [
        {
          "output_type": "stream",
          "name": "stdout",
          "text": [
            "Computed mean: [2000.68085106    3.17021277]\n",
            "Computed standard deviation: [7.86202619e+02 7.52842809e-01]\n"
          ]
        }
      ]
    },
    {
      "cell_type": "code",
      "metadata": {
        "colab": {
          "base_uri": "https://localhost:8080/"
        },
        "id": "H8K6Hx9x_2pt",
        "outputId": "886bf79a-49c3-417d-a0b9-fc4575fb088d"
      },
      "source": [
        "X = np.concatenate([np.ones((m, 1)), x_norm], axis=1)\n",
        "theta = np.zeros((3))\n",
        "print(theta)\n",
        "num_iters=50\n",
        "alpha=0.03"
      ],
      "execution_count": null,
      "outputs": [
        {
          "output_type": "stream",
          "name": "stdout",
          "text": [
            "[0. 0. 0.]\n"
          ]
        }
      ]
    },
    {
      "cell_type": "code",
      "metadata": {
        "id": "8RcMlXhaQ5Cd"
      },
      "source": [
        "def computeCostMulti(X, y, theta):\n",
        "  m = y.shape[0]\n",
        "  h=np.dot(X,theta)\n",
        "  J = (1/(2 * m)) * np.sum(np.square(h - y))\n",
        "  return J"
      ],
      "execution_count": null,
      "outputs": []
    },
    {
      "cell_type": "code",
      "metadata": {
        "colab": {
          "base_uri": "https://localhost:8080/"
        },
        "id": "qXZ5Y-T_RVKA",
        "outputId": "a0442289-1063-4705-c5fd-84437002280c"
      },
      "source": [
        "J=computeCostMulti(X, y, theta)\n",
        "print(\"the cost for theta[0,0] is:\",J)"
      ],
      "execution_count": null,
      "outputs": [
        {
          "output_type": "stream",
          "name": "stdout",
          "text": [
            "the cost for theta[0,0] is: 3082802761003.5\n"
          ]
        }
      ]
    },
    {
      "cell_type": "code",
      "metadata": {
        "id": "P9odiPYdW0GP"
      },
      "source": [
        "def gradientDescentMulti(X, y, theta, alpha, num_iters):\n",
        "  m = y.shape[0]\n",
        "  J_history = np.zeros(num_iters)\n",
        "  theta_0 = theta.copy()\n",
        "  for i in range(0, num_iters):\n",
        "      h = X.dot(theta_0)\n",
        "      diff_hy = h - y\n",
        "\n",
        "      delta = (1/m) * (diff_hy.T.dot(X))\n",
        "      theta_0 = theta_0 - (alpha * delta.T)\n",
        "      J_history[i] = computeCostMulti(X, y, theta_0)\n",
        "\n",
        "  return theta_0, J_history"
      ],
      "execution_count": null,
      "outputs": []
    },
    {
      "cell_type": "code",
      "metadata": {
        "colab": {
          "base_uri": "https://localhost:8080/",
          "height": 319
        },
        "id": "Rr-dMF-VYFCR",
        "outputId": "aa8e6f01-3dd6-4e51-9cd2-17d31791f6e8"
      },
      "source": [
        "theta, _ = gradientDescentMulti(X, y, theta, alpha, num_iters)\n",
        "print('Theta found by gradient descent:\\n', theta)"
      ],
      "execution_count": null,
      "outputs": [
        {
          "output_type": "error",
          "ename": "ValueError",
          "evalue": "ignored",
          "traceback": [
            "\u001b[0;31m---------------------------------------------------------------------------\u001b[0m",
            "\u001b[0;31mValueError\u001b[0m                                Traceback (most recent call last)",
            "\u001b[0;32m<ipython-input-87-7c45bf78b1f1>\u001b[0m in \u001b[0;36m<module>\u001b[0;34m()\u001b[0m\n\u001b[0;32m----> 1\u001b[0;31m \u001b[0mtheta\u001b[0m\u001b[0;34m,\u001b[0m \u001b[0m_\u001b[0m \u001b[0;34m=\u001b[0m \u001b[0mgradientDescentMulti\u001b[0m\u001b[0;34m(\u001b[0m\u001b[0mX\u001b[0m\u001b[0;34m,\u001b[0m \u001b[0my\u001b[0m\u001b[0;34m,\u001b[0m \u001b[0mtheta\u001b[0m\u001b[0;34m,\u001b[0m \u001b[0malpha\u001b[0m\u001b[0;34m,\u001b[0m \u001b[0mnum_iters\u001b[0m\u001b[0;34m)\u001b[0m\u001b[0;34m\u001b[0m\u001b[0;34m\u001b[0m\u001b[0m\n\u001b[0m\u001b[1;32m      2\u001b[0m \u001b[0mprint\u001b[0m\u001b[0;34m(\u001b[0m\u001b[0;34m'Theta found by gradient descent:\\n'\u001b[0m\u001b[0;34m,\u001b[0m \u001b[0mtheta\u001b[0m\u001b[0;34m)\u001b[0m\u001b[0;34m\u001b[0m\u001b[0;34m\u001b[0m\u001b[0m\n",
            "\u001b[0;32m<ipython-input-86-d043c73103a9>\u001b[0m in \u001b[0;36mgradientDescentMulti\u001b[0;34m(X, y, theta, alpha, num_iters)\u001b[0m\n\u001b[1;32m      8\u001b[0m \u001b[0;34m\u001b[0m\u001b[0m\n\u001b[1;32m      9\u001b[0m       \u001b[0mdelta\u001b[0m \u001b[0;34m=\u001b[0m \u001b[0;34m(\u001b[0m\u001b[0;36m1\u001b[0m\u001b[0;34m/\u001b[0m\u001b[0mm\u001b[0m\u001b[0;34m)\u001b[0m \u001b[0;34m*\u001b[0m \u001b[0;34m(\u001b[0m\u001b[0mdiff_hy\u001b[0m\u001b[0;34m.\u001b[0m\u001b[0mT\u001b[0m\u001b[0;34m.\u001b[0m\u001b[0mdot\u001b[0m\u001b[0;34m(\u001b[0m\u001b[0mX\u001b[0m\u001b[0;34m)\u001b[0m\u001b[0;34m)\u001b[0m\u001b[0;34m\u001b[0m\u001b[0;34m\u001b[0m\u001b[0m\n\u001b[0;32m---> 10\u001b[0;31m       \u001b[0mtheta_0\u001b[0m \u001b[0;34m=\u001b[0m \u001b[0mtheta_0\u001b[0m \u001b[0;34m-\u001b[0m \u001b[0;34m(\u001b[0m\u001b[0malpha\u001b[0m \u001b[0;34m*\u001b[0m \u001b[0mdelta\u001b[0m\u001b[0;34m.\u001b[0m\u001b[0mT\u001b[0m\u001b[0;34m)\u001b[0m\u001b[0;34m\u001b[0m\u001b[0;34m\u001b[0m\u001b[0m\n\u001b[0m\u001b[1;32m     11\u001b[0m       \u001b[0mJ_history\u001b[0m\u001b[0;34m[\u001b[0m\u001b[0mi\u001b[0m\u001b[0;34m]\u001b[0m \u001b[0;34m=\u001b[0m \u001b[0mcomputeCostMulti\u001b[0m\u001b[0;34m(\u001b[0m\u001b[0mX\u001b[0m\u001b[0;34m,\u001b[0m \u001b[0my\u001b[0m\u001b[0;34m,\u001b[0m \u001b[0mtheta_0\u001b[0m\u001b[0;34m)\u001b[0m\u001b[0;34m\u001b[0m\u001b[0;34m\u001b[0m\u001b[0m\n\u001b[1;32m     12\u001b[0m \u001b[0;34m\u001b[0m\u001b[0m\n",
            "\u001b[0;31mValueError\u001b[0m: operands could not be broadcast together with shapes (3,) (3,47) "
          ]
        }
      ]
    }
  ]
}