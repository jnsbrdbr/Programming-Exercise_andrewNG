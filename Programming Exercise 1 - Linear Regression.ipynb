{
  "nbformat": 4,
  "nbformat_minor": 0,
  "metadata": {
    "colab": {
      "name": "Untitled9.ipynb",
      "provenance": [],
      "authorship_tag": "ABX9TyMxYjydv44d6/NRSWqrE86j",
      "include_colab_link": true
    },
    "kernelspec": {
      "name": "python3",
      "display_name": "Python 3"
    },
    "language_info": {
      "name": "python"
    }
  },
  "cells": [
    {
      "cell_type": "markdown",
      "metadata": {
        "id": "view-in-github",
        "colab_type": "text"
      },
      "source": [
        "<a href=\"https://colab.research.google.com/github/jnsbrdbr/Programming-Exercise_andrewNG/blob/master/Programming%20Exercise%201%20-%20Linear%20Regression.ipynb\" target=\"_parent\"><img src=\"https://colab.research.google.com/assets/colab-badge.svg\" alt=\"Open In Colab\"/></a>"
      ]
    },
    {
      "cell_type": "markdown",
      "source": [
        "\n",
        "1. Linear Regression with One Variable"
      ],
      "metadata": {
        "id": "5Zkahyi9hIMN"
      }
    },
    {
      "cell_type": "code",
      "execution_count": 1,
      "metadata": {
        "id": "Cz-bOheq4qg-"
      },
      "outputs": [],
      "source": [
        "import numpy as np\n",
        "import pandas as pd\n",
        "import seaborn as sns\n",
        "import matplotlib.pyplot as plt"
      ]
    },
    {
      "cell_type": "code",
      "source": [
        "!wget https://raw.githubusercontent.com/susilvaalmeida/machine-learning-andrew-ng/master/data/ex1data1.txt\n",
        "data=pd.read_csv('ex1data1.txt', header=None).values"
      ],
      "metadata": {
        "colab": {
          "base_uri": "https://localhost:8080/"
        },
        "id": "UxHG2oH84toV",
        "outputId": "39f1029c-2264-4ae3-85f3-4d164fcd803c"
      },
      "execution_count": 2,
      "outputs": [
        {
          "output_type": "stream",
          "name": "stdout",
          "text": [
            "--2022-07-21 15:56:09--  https://raw.githubusercontent.com/susilvaalmeida/machine-learning-andrew-ng/master/data/ex1data1.txt\n",
            "Resolving raw.githubusercontent.com (raw.githubusercontent.com)... 185.199.108.133, 185.199.109.133, 185.199.110.133, ...\n",
            "Connecting to raw.githubusercontent.com (raw.githubusercontent.com)|185.199.108.133|:443... connected.\n",
            "HTTP request sent, awaiting response... 200 OK\n",
            "Length: 1359 (1.3K) [text/plain]\n",
            "Saving to: ‘ex1data1.txt.16’\n",
            "\n",
            "\rex1data1.txt.16       0%[                    ]       0  --.-KB/s               \rex1data1.txt.16     100%[===================>]   1.33K  --.-KB/s    in 0s      \n",
            "\n",
            "2022-07-21 15:56:09 (38.3 MB/s) - ‘ex1data1.txt.16’ saved [1359/1359]\n",
            "\n"
          ]
        }
      ]
    },
    {
      "cell_type": "code",
      "source": [
        "data"
      ],
      "metadata": {
        "colab": {
          "base_uri": "https://localhost:8080/"
        },
        "id": "leAuItAr4vk2",
        "outputId": "982de598-4eca-4c57-f7e3-1d16a6ab9509"
      },
      "execution_count": 3,
      "outputs": [
        {
          "output_type": "execute_result",
          "data": {
            "text/plain": [
              "array([[ 6.1101 , 17.592  ],\n",
              "       [ 5.5277 ,  9.1302 ],\n",
              "       [ 8.5186 , 13.662  ],\n",
              "       [ 7.0032 , 11.854  ],\n",
              "       [ 5.8598 ,  6.8233 ],\n",
              "       [ 8.3829 , 11.886  ],\n",
              "       [ 7.4764 ,  4.3483 ],\n",
              "       [ 8.5781 , 12.     ],\n",
              "       [ 6.4862 ,  6.5987 ],\n",
              "       [ 5.0546 ,  3.8166 ],\n",
              "       [ 5.7107 ,  3.2522 ],\n",
              "       [14.164  , 15.505  ],\n",
              "       [ 5.734  ,  3.1551 ],\n",
              "       [ 8.4084 ,  7.2258 ],\n",
              "       [ 5.6407 ,  0.71618],\n",
              "       [ 5.3794 ,  3.5129 ],\n",
              "       [ 6.3654 ,  5.3048 ],\n",
              "       [ 5.1301 ,  0.56077],\n",
              "       [ 6.4296 ,  3.6518 ],\n",
              "       [ 7.0708 ,  5.3893 ],\n",
              "       [ 6.1891 ,  3.1386 ],\n",
              "       [20.27   , 21.767  ],\n",
              "       [ 5.4901 ,  4.263  ],\n",
              "       [ 6.3261 ,  5.1875 ],\n",
              "       [ 5.5649 ,  3.0825 ],\n",
              "       [18.945  , 22.638  ],\n",
              "       [12.828  , 13.501  ],\n",
              "       [10.957  ,  7.0467 ],\n",
              "       [13.176  , 14.692  ],\n",
              "       [22.203  , 24.147  ],\n",
              "       [ 5.2524 , -1.22   ],\n",
              "       [ 6.5894 ,  5.9966 ],\n",
              "       [ 9.2482 , 12.134  ],\n",
              "       [ 5.8918 ,  1.8495 ],\n",
              "       [ 8.2111 ,  6.5426 ],\n",
              "       [ 7.9334 ,  4.5623 ],\n",
              "       [ 8.0959 ,  4.1164 ],\n",
              "       [ 5.6063 ,  3.3928 ],\n",
              "       [12.836  , 10.117  ],\n",
              "       [ 6.3534 ,  5.4974 ],\n",
              "       [ 5.4069 ,  0.55657],\n",
              "       [ 6.8825 ,  3.9115 ],\n",
              "       [11.708  ,  5.3854 ],\n",
              "       [ 5.7737 ,  2.4406 ],\n",
              "       [ 7.8247 ,  6.7318 ],\n",
              "       [ 7.0931 ,  1.0463 ],\n",
              "       [ 5.0702 ,  5.1337 ],\n",
              "       [ 5.8014 ,  1.844  ],\n",
              "       [11.7    ,  8.0043 ],\n",
              "       [ 5.5416 ,  1.0179 ],\n",
              "       [ 7.5402 ,  6.7504 ],\n",
              "       [ 5.3077 ,  1.8396 ],\n",
              "       [ 7.4239 ,  4.2885 ],\n",
              "       [ 7.6031 ,  4.9981 ],\n",
              "       [ 6.3328 ,  1.4233 ],\n",
              "       [ 6.3589 , -1.4211 ],\n",
              "       [ 6.2742 ,  2.4756 ],\n",
              "       [ 5.6397 ,  4.6042 ],\n",
              "       [ 9.3102 ,  3.9624 ],\n",
              "       [ 9.4536 ,  5.4141 ],\n",
              "       [ 8.8254 ,  5.1694 ],\n",
              "       [ 5.1793 , -0.74279],\n",
              "       [21.279  , 17.929  ],\n",
              "       [14.908  , 12.054  ],\n",
              "       [18.959  , 17.054  ],\n",
              "       [ 7.2182 ,  4.8852 ],\n",
              "       [ 8.2951 ,  5.7442 ],\n",
              "       [10.236  ,  7.7754 ],\n",
              "       [ 5.4994 ,  1.0173 ],\n",
              "       [20.341  , 20.992  ],\n",
              "       [10.136  ,  6.6799 ],\n",
              "       [ 7.3345 ,  4.0259 ],\n",
              "       [ 6.0062 ,  1.2784 ],\n",
              "       [ 7.2259 ,  3.3411 ],\n",
              "       [ 5.0269 , -2.6807 ],\n",
              "       [ 6.5479 ,  0.29678],\n",
              "       [ 7.5386 ,  3.8845 ],\n",
              "       [ 5.0365 ,  5.7014 ],\n",
              "       [10.274  ,  6.7526 ],\n",
              "       [ 5.1077 ,  2.0576 ],\n",
              "       [ 5.7292 ,  0.47953],\n",
              "       [ 5.1884 ,  0.20421],\n",
              "       [ 6.3557 ,  0.67861],\n",
              "       [ 9.7687 ,  7.5435 ],\n",
              "       [ 6.5159 ,  5.3436 ],\n",
              "       [ 8.5172 ,  4.2415 ],\n",
              "       [ 9.1802 ,  6.7981 ],\n",
              "       [ 6.002  ,  0.92695],\n",
              "       [ 5.5204 ,  0.152  ],\n",
              "       [ 5.0594 ,  2.8214 ],\n",
              "       [ 5.7077 ,  1.8451 ],\n",
              "       [ 7.6366 ,  4.2959 ],\n",
              "       [ 5.8707 ,  7.2029 ],\n",
              "       [ 5.3054 ,  1.9869 ],\n",
              "       [ 8.2934 ,  0.14454],\n",
              "       [13.394  ,  9.0551 ],\n",
              "       [ 5.4369 ,  0.61705]])"
            ]
          },
          "metadata": {},
          "execution_count": 3
        }
      ]
    },
    {
      "cell_type": "code",
      "source": [
        "data.shape"
      ],
      "metadata": {
        "colab": {
          "base_uri": "https://localhost:8080/"
        },
        "id": "utuh38X14yNc",
        "outputId": "623659ed-5a14-49fe-affe-00292738fb58"
      },
      "execution_count": 4,
      "outputs": [
        {
          "output_type": "execute_result",
          "data": {
            "text/plain": [
              "(97, 2)"
            ]
          },
          "metadata": {},
          "execution_count": 4
        }
      ]
    },
    {
      "cell_type": "code",
      "source": [
        "x=data[:,0].reshape(-1,1)\n",
        "y=data[:,1]\n",
        "m=len(y)"
      ],
      "metadata": {
        "id": "2WORQlpB5Htg"
      },
      "execution_count": 5,
      "outputs": []
    },
    {
      "cell_type": "code",
      "source": [
        "y.shape"
      ],
      "metadata": {
        "colab": {
          "base_uri": "https://localhost:8080/"
        },
        "id": "m3j8su_m5XAj",
        "outputId": "b7140510-431c-4dae-fc56-a7872b8768c5"
      },
      "execution_count": 6,
      "outputs": [
        {
          "output_type": "execute_result",
          "data": {
            "text/plain": [
              "(97,)"
            ]
          },
          "metadata": {},
          "execution_count": 6
        }
      ]
    },
    {
      "cell_type": "code",
      "source": [
        "x.shape"
      ],
      "metadata": {
        "colab": {
          "base_uri": "https://localhost:8080/"
        },
        "id": "0iLXf0Y96EG-",
        "outputId": "e1625dfd-dfcf-4c0a-983d-682609c1f1b0"
      },
      "execution_count": 7,
      "outputs": [
        {
          "output_type": "execute_result",
          "data": {
            "text/plain": [
              "(97, 1)"
            ]
          },
          "metadata": {},
          "execution_count": 7
        }
      ]
    },
    {
      "cell_type": "code",
      "source": [
        "theta=np.zeros(2)\n",
        "num_iters = 1500\n",
        "alpha = 0.01"
      ],
      "metadata": {
        "id": "iDWrxqC-6Jf-"
      },
      "execution_count": 8,
      "outputs": []
    },
    {
      "cell_type": "code",
      "source": [
        "theta.shape"
      ],
      "metadata": {
        "colab": {
          "base_uri": "https://localhost:8080/"
        },
        "id": "bnQt2CQV6WsN",
        "outputId": "1841ed33-0b88-43d9-f573-cc577f8fc4c6"
      },
      "execution_count": 9,
      "outputs": [
        {
          "output_type": "execute_result",
          "data": {
            "text/plain": [
              "(2,)"
            ]
          },
          "metadata": {},
          "execution_count": 9
        }
      ]
    },
    {
      "cell_type": "code",
      "source": [
        "ones=np.ones((m,1))\n",
        "X=np.hstack((ones,x))"
      ],
      "metadata": {
        "id": "DFNHqkTZ6bBP"
      },
      "execution_count": 10,
      "outputs": []
    },
    {
      "cell_type": "code",
      "source": [
        "def costfunction(X,y,theta):\n",
        "  h=X.dot(theta)\n",
        "  j = (1/(2*m)) * (np.sum((h - y)**2))\n",
        "  return j"
      ],
      "metadata": {
        "id": "ev845WJI43l4"
      },
      "execution_count": 11,
      "outputs": []
    },
    {
      "cell_type": "code",
      "source": [
        "j = costfunction(X, y, theta)\n",
        "print('With theta = [0 ; 0]\\nCost computed =', j)"
      ],
      "metadata": {
        "colab": {
          "base_uri": "https://localhost:8080/"
        },
        "id": "3PU0lmKL65Bi",
        "outputId": "77e358db-a91c-455f-bd1a-850ae2630695"
      },
      "execution_count": 12,
      "outputs": [
        {
          "output_type": "stream",
          "name": "stdout",
          "text": [
            "With theta = [0 ; 0]\n",
            "Cost computed = 32.072733877455676\n"
          ]
        }
      ]
    },
    {
      "cell_type": "markdown",
      "source": [
        "it means that the hypothesis in theta(0,0) have the diffrence of 32.07 with it s actual y"
      ],
      "metadata": {
        "id": "eNwWnJJFCvQb"
      }
    },
    {
      "cell_type": "code",
      "source": [
        "j = costfunction(X, y, [-1,2])\n",
        "print('With theta = [-1 ; 2]\\nCost computed =', j)"
      ],
      "metadata": {
        "colab": {
          "base_uri": "https://localhost:8080/"
        },
        "id": "hmlaKjgf8Cjb",
        "outputId": "72e67005-cab2-481a-9173-be0a15339bf0"
      },
      "execution_count": 13,
      "outputs": [
        {
          "output_type": "stream",
          "name": "stdout",
          "text": [
            "With theta = [-1 ; 2]\n",
            "Cost computed = 54.24245508201238\n"
          ]
        }
      ]
    },
    {
      "cell_type": "code",
      "source": [
        "def gradient(X,y,theta,alpha,num_iters):\n",
        "  j_history=np.zeros(num_iters)\n",
        "  theta_0=theta.copy()\n",
        "  for i in range(0,num_iters):\n",
        "    h=X.dot(theta_0)\n",
        "    diff=h-y\n",
        "    delta=(1/m)*(diff.dot(X))\n",
        "    theta_0=theta_0 - (alpha*(delta.T))\n",
        "    j_history[i]=costfunction(X,y,theta_0)\n",
        "  return theta_0,j_history"
      ],
      "metadata": {
        "id": "fH9mWqO18OGC"
      },
      "execution_count": 14,
      "outputs": []
    },
    {
      "cell_type": "code",
      "source": [
        "theta, _ = gradient(X, y, theta, alpha, num_iters)\n",
        "print('Theta found by gradient descent:\\n', theta)"
      ],
      "metadata": {
        "colab": {
          "base_uri": "https://localhost:8080/"
        },
        "id": "NQ2KtFCK9mZ_",
        "outputId": "f957ec40-1394-4ce2-b59b-7738d6531935"
      },
      "execution_count": 15,
      "outputs": [
        {
          "output_type": "stream",
          "name": "stdout",
          "text": [
            "Theta found by gradient descent:\n",
            " [-3.63029144  1.16636235]\n"
          ]
        }
      ]
    },
    {
      "cell_type": "markdown",
      "source": [
        "this two point show the best fit of hypothesis to the data"
      ],
      "metadata": {
        "id": "h2nxRwjZFXH2"
      }
    },
    {
      "cell_type": "code",
      "source": [
        "plt.scatter(x, y)\n",
        "plt.plot(X[:,1], X.dot(theta), color='r')"
      ],
      "metadata": {
        "colab": {
          "base_uri": "https://localhost:8080/",
          "height": 284
        },
        "id": "IKrj0ANoAqUS",
        "outputId": "392d828c-eb27-44a4-ce65-1a5a3d47ae5f"
      },
      "execution_count": 16,
      "outputs": [
        {
          "output_type": "execute_result",
          "data": {
            "text/plain": [
              "[<matplotlib.lines.Line2D at 0x7fbd69d12bd0>]"
            ]
          },
          "metadata": {},
          "execution_count": 16
        },
        {
          "output_type": "display_data",
          "data": {
            "text/plain": [
              "<Figure size 432x288 with 1 Axes>"
            ],
            "image/png": "[encoded data removed]"
          },
          "metadata": {
            "needs_background": "light"
          }
        }
      ]
    },
    {
      "cell_type": "markdown",
      "source": [
        "1.2 Visualizing J(@)"
      ],
      "metadata": {
        "id": "Wliwmm9-StsX"
      }
    },
    {
      "cell_type": "code",
      "source": [
        "theta0_vals = np.linspace(-10, 10, 100)\n",
        "theta1_vals = np.linspace(-1, 4, 100)"
      ],
      "metadata": {
        "id": "RIzZ9nd7StZT"
      },
      "execution_count": 17,
      "outputs": []
    },
    {
      "cell_type": "code",
      "source": [
        "J_vals = np.zeros(shape=(len(theta0_vals), len(theta1_vals)))"
      ],
      "metadata": {
        "id": "sUmS3co6S92P"
      },
      "execution_count": 18,
      "outputs": []
    },
    {
      "cell_type": "code",
      "source": [
        "for i in range(0, len(theta0_vals)):\n",
        "    for j in range(0, len(theta1_vals)):\n",
        "        J_vals[i,j] = costfunction(X, y, [[theta0_vals[i]], [theta1_vals[j]]])"
      ],
      "metadata": {
        "id": "KRAs5om6S_vc"
      },
      "execution_count": 19,
      "outputs": []
    },
    {
      "cell_type": "code",
      "source": [
        "fig = plt.figure()\n",
        "ax = fig.add_subplot(111, projection='3d')\n",
        "surf=ax.plot_surface(theta0_vals,theta1_vals,J_vals,cmap=\"coolwarm\")\n",
        "fig.colorbar(surf, shrink=0.5, aspect=5)\n",
        "ax.set_xlabel(\"$\\Theta_0$\")\n",
        "ax.set_ylabel(\"$\\Theta_1$\")\n",
        "ax.set_zlabel(\"$J(\\Theta)$\")\n",
        "\n",
        "#rotate for better angle\n",
        "ax.view_init(30,120)"
      ],
      "metadata": {
        "colab": {
          "base_uri": "https://localhost:8080/",
          "height": 248
        },
        "id": "h_UceZPjbSBe",
        "outputId": "8955585a-2a99-4d87-f421-c27a19959e84"
      },
      "execution_count": 20,
      "outputs": [
        {
          "output_type": "display_data",
          "data": {
            "text/plain": [
              "<Figure size 432x288 with 2 Axes>"
            ],
            "image/png": "[encoded data removed]"
          },
          "metadata": {
            "needs_background": "light"
          }
        }
      ]
    },
    {
      "cell_type": "markdown",
      "source": [
        "1.3 Equivalent Code using Scikit-Learn"
      ],
      "metadata": {
        "id": "hQ1VCSNtfQex"
      }
    },
    {
      "cell_type": "code",
      "source": [
        "\n",
        "\n",
        "from sklearn.linear_model import LinearRegression\n",
        "lin_reg = LinearRegression()\n",
        "lin_reg.fit(x, y)\n",
        "\n"
      ],
      "metadata": {
        "colab": {
          "base_uri": "https://localhost:8080/"
        },
        "id": "A482xA9yfQM8",
        "outputId": "ee08c886-d7c1-4550-ab8a-db98c7ae3c8d"
      },
      "execution_count": 22,
      "outputs": [
        {
          "output_type": "execute_result",
          "data": {
            "text/plain": [
              "LinearRegression()"
            ]
          },
          "metadata": {},
          "execution_count": 22
        }
      ]
    },
    {
      "cell_type": "code",
      "source": [
        "lin_reg.intercept_, lin_reg.coef_"
      ],
      "metadata": {
        "colab": {
          "base_uri": "https://localhost:8080/"
        },
        "id": "_eTIzydZeZn5",
        "outputId": "1c823d7d-b31c-44bf-dfb4-1c3d0fc4b1ef"
      },
      "execution_count": 23,
      "outputs": [
        {
          "output_type": "execute_result",
          "data": {
            "text/plain": [
              "(-3.8957808783118484, array([1.19303364]))"
            ]
          },
          "metadata": {},
          "execution_count": 23
        }
      ]
    },
    {
      "cell_type": "markdown",
      "source": [
        "\n",
        "2. Linear Regression with Multiple Variables"
      ],
      "metadata": {
        "id": "60LrhSXFg9JB"
      }
    },
    {
      "cell_type": "code",
      "source": [
        "!wget https://raw.githubusercontent.com/susilvaalmeida/machine-learning-andrew-ng/master/data/ex1data2.txt\n",
        "\n",
        "data_mul= pd.read_csv('ex1data2.txt',header=None,error_bad_lines=False)"
      ],
      "metadata": {
        "colab": {
          "base_uri": "https://localhost:8080/"
        },
        "id": "2w6vA2VjfPQp",
        "outputId": "461c0f73-7485-48ac-d51f-22a09686e038"
      },
      "execution_count": 24,
      "outputs": [
        {
          "output_type": "stream",
          "name": "stdout",
          "text": [
            "--2022-07-21 16:24:59--  https://raw.githubusercontent.com/susilvaalmeida/machine-learning-andrew-ng/master/data/ex1data2.txt\n",
            "Resolving raw.githubusercontent.com (raw.githubusercontent.com)... 185.199.108.133, 185.199.109.133, 185.199.111.133, ...\n",
            "Connecting to raw.githubusercontent.com (raw.githubusercontent.com)|185.199.108.133|:443... connected.\n",
            "HTTP request sent, awaiting response... 200 OK\n",
            "Length: 657 [text/plain]\n",
            "Saving to: ‘ex1data2.txt’\n",
            "\n",
            "\rex1data2.txt          0%[                    ]       0  --.-KB/s               \rex1data2.txt        100%[===================>]     657  --.-KB/s    in 0s      \n",
            "\n",
            "2022-07-21 16:24:59 (15.7 MB/s) - ‘ex1data2.txt’ saved [657/657]\n",
            "\n"
          ]
        },
        {
          "output_type": "stream",
          "name": "stderr",
          "text": [
            "/usr/local/lib/python3.7/dist-packages/IPython/core/interactiveshell.py:2882: FutureWarning: The error_bad_lines argument has been deprecated and will be removed in a future version.\n",
            "\n",
            "\n",
            "  exec(code_obj, self.user_global_ns, self.user_ns)\n"
          ]
        }
      ]
    },
    {
      "cell_type": "code",
      "source": [
        "data_mul.columns=['house_size', 'bedrooms', 'house_price']"
      ],
      "metadata": {
        "id": "kqzL_7PQlDfd"
      },
      "execution_count": 25,
      "outputs": []
    },
    {
      "cell_type": "code",
      "source": [
        "def feature_normalization(x,mean=np.zeros(1),std=np.zeros(1)):\n",
        "  x=np.array(x)\n",
        "  if len(mean.shape)==1 or len(std.shape)==1:\n",
        "    mean = np.mean(x, axis=0)\n",
        "    std = np.std(x, axis=0, ddof=1)\n",
        "  x = (x - mean)/std\n",
        "  return x, mean, std"
      ],
      "metadata": {
        "id": "hZxR6nM2qrUb"
      },
      "execution_count": 31,
      "outputs": []
    },
    {
      "cell_type": "code",
      "source": [
        "x_norm, mu, sigma = feature_normalization(data_mul[['house_size', 'bedrooms']])"
      ],
      "metadata": {
        "id": "SkP7RiEgrb7H"
      },
      "execution_count": 32,
      "outputs": []
    },
    {
      "cell_type": "code",
      "source": [
        "data_mul['house_size_normalized'] = x_norm[:,0]\n",
        "data_mul['bedrooms_normalized'] = x_norm[:,1]"
      ],
      "metadata": {
        "id": "HzqArMTwro5-"
      },
      "execution_count": 34,
      "outputs": []
    },
    {
      "cell_type": "code",
      "source": [
        "def compute_cost(X, y, theta):\n",
        "    m = y.shape[0]\n",
        "    h = X.dot(theta)\n",
        "    J = (1/(2*m)) * ((h-y).T.dot(h-y))\n",
        "    return J"
      ],
      "metadata": {
        "id": "9tdd1YEgxk0s"
      },
      "execution_count": 45,
      "outputs": []
    },
    {
      "cell_type": "code",
      "source": [
        "def gradient_descent(X, y, theta, alpha, num_iters):\n",
        "    m = y.shape[0]\n",
        "    J_history = np.zeros(shape=(num_iters, 1))\n",
        "\n",
        "    for i in range(0, num_iters):\n",
        "        h = X.dot(theta)\n",
        "        diff_hy = h - y\n",
        "\n",
        "        delta = (1/m) * (diff_hy.T.dot(X))\n",
        "        theta = theta - (alpha * delta.T)\n",
        "        J_history[i] = compute_cost(X, y, theta)\n",
        "\n",
        "    return theta, J_history"
      ],
      "metadata": {
        "id": "iuDG41XJxp3v"
      },
      "execution_count": 46,
      "outputs": []
    },
    {
      "cell_type": "code",
      "source": [
        "m = data_mul.shape[0]\n",
        "X = np.hstack((np.ones((m,1)),x_norm))\n",
        "y = np.array(data_mul.house_price.values).reshape(-1,1)\n",
        "theta = np.zeros(shape=(X.shape[1],1))"
      ],
      "metadata": {
        "id": "8e0yG_epxviZ"
      },
      "execution_count": 47,
      "outputs": []
    },
    {
      "cell_type": "code",
      "source": [
        "alpha = [0.3, 0.1, 0.03, 0.01]\n",
        "colors = ['b','r','g','c']\n",
        "num_iters = 50"
      ],
      "metadata": {
        "id": "09l_ctvsxyfT"
      },
      "execution_count": 48,
      "outputs": []
    },
    {
      "cell_type": "code",
      "source": [
        "for i in range(0, len(alpha)):\n",
        "    theta = np.zeros(shape=(X.shape[1],1))\n",
        "    theta, J_history = gradient_descent(X, y, theta, alpha[i], num_iters)\n",
        "    plt.plot(range(len(J_history)), J_history, colors[i], label='Alpha {}'.format(alpha[i]))\n",
        "plt.xlabel('Number of iterations');\n",
        "plt.ylabel('Cost J');\n",
        "plt.title('Selecting learning rates');\n",
        "plt.legend()\n",
        "plt.show()"
      ],
      "metadata": {
        "colab": {
          "base_uri": "https://localhost:8080/",
          "height": 295
        },
        "id": "ybD6tHQNx5sd",
        "outputId": "27dcf152-d853-410e-e7de-3e0f1deaf75f"
      },
      "execution_count": 49,
      "outputs": [
        {
          "output_type": "display_data",
          "data": {
            "text/plain": [
              "<Figure size 432x288 with 1 Axes>"
            ],
            "image/png": "[encoded data removed]"
          },
          "metadata": {
            "needs_background": "light"
          }
        }
      ]
    },
    {
      "cell_type": "markdown",
      "source": [
        "یعنی به ازای هر لرنیگ ریتی به یک شکل خاص همگرا میشه"
      ],
      "metadata": {
        "id": "gcjb5_VFx-Oc"
      }
    },
    {
      "cell_type": "code",
      "source": [
        "iterations = 250\n",
        "alpha = 0.1\n",
        "theta, _ = gradient_descent(X, y, theta, alpha, iterations)\n",
        "\n",
        "print('Theta found by gradient descent:')\n",
        "print(theta)"
      ],
      "metadata": {
        "colab": {
          "base_uri": "https://localhost:8080/"
        },
        "id": "Om29qtJax9Wh",
        "outputId": "f500378d-a45b-4ad7-8441-c85a4fac239e"
      },
      "execution_count": 50,
      "outputs": [
        {
          "output_type": "stream",
          "name": "stdout",
          "text": [
            "Theta found by gradient descent:\n",
            "[[340412.65957372]\n",
            " [110630.26530813]\n",
            " [ -6648.6893001 ]]\n"
          ]
        }
      ]
    },
    {
      "cell_type": "code",
      "source": [
        "sqft = (1650 - mu[0])/sigma[0]\n",
        "bedrooms = (3 - mu[1])/sigma[1]\n",
        "y_pred = theta[0] + theta[1]*sqft + theta[2]*bedrooms\n",
        "f'Price of a house with 1650 square feet and 3 bedrooms: {y_pred[0]}$'"
      ],
      "metadata": {
        "colab": {
          "base_uri": "https://localhost:8080/",
          "height": 35
        },
        "id": "Xilm1ysKyNIy",
        "outputId": "cda9198e-b927-44f7-bc3e-aa334697b227"
      },
      "execution_count": 51,
      "outputs": [
        {
          "output_type": "execute_result",
          "data": {
            "text/plain": [
              "'Price of a house with 1650 square feet and 3 bedrooms: 293081.63514221634$'"
            ],
            "application/vnd.google.colaboratory.intrinsic+json": {
              "type": "string"
            }
          },
          "metadata": {},
          "execution_count": 51
        }
      ]
    },
    {
      "cell_type": "markdown",
      "source": [
        "\n",
        "2.3 Equivalent Code using Scikit-Learn"
      ],
      "metadata": {
        "id": "evQW9bbQyWmx"
      }
    },
    {
      "cell_type": "code",
      "source": [
        "from sklearn.linear_model import LinearRegression\n",
        "lin_reg = LinearRegression()\n",
        "lin_reg.fit(x_norm, y)"
      ],
      "metadata": {
        "colab": {
          "base_uri": "https://localhost:8080/"
        },
        "id": "-7_v3xCFyeHM",
        "outputId": "5dd99397-1645-4d11-bbfc-7361dfc91e1b"
      },
      "execution_count": 52,
      "outputs": [
        {
          "output_type": "execute_result",
          "data": {
            "text/plain": [
              "LinearRegression()"
            ]
          },
          "metadata": {},
          "execution_count": 52
        }
      ]
    },
    {
      "cell_type": "code",
      "source": [
        "lin_reg.intercept_, lin_reg.coef_"
      ],
      "metadata": {
        "colab": {
          "base_uri": "https://localhost:8080/"
        },
        "id": "z0sivfJoy6HJ",
        "outputId": "0586ffb2-a9f2-4f81-f86c-c3f354d808c7"
      },
      "execution_count": 53,
      "outputs": [
        {
          "output_type": "execute_result",
          "data": {
            "text/plain": [
              "(array([340412.65957447]), array([[110631.05027885,  -6649.47427082]]))"
            ]
          },
          "metadata": {},
          "execution_count": 53
        }
      ]
    }
  ]
}