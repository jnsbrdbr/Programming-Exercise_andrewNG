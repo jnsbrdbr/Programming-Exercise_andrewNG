{
  "nbformat": 4,
  "nbformat_minor": 0,
  "metadata": {
    "colab": {
      "name": "Linear Regression with Multiple Variables.ipynb",
      "provenance": [],
      "authorship_tag": "ABX9TyOBMYvOio6TXSMkA//LK0AI",
      "include_colab_link": true
    },
    "kernelspec": {
      "name": "python3",
      "display_name": "Python 3"
    },
    "language_info": {
      "name": "python"
    }
  },
  "cells": [
    {
      "cell_type": "markdown",
      "metadata": {
        "id": "view-in-github",
        "colab_type": "text"
      },
      "source": [
        "<a href=\"https://colab.research.google.com/github/jnsbrdbr/andrew-ng/blob/master/Linear_Regression_with_Multiple_Variables.ipynb\" target=\"_parent\"><img src=\"https://colab.research.google.com/assets/colab-badge.svg\" alt=\"Open In Colab\"/></a>"
      ]
    },
    {
      "cell_type": "code",
      "metadata": {
        "colab": {
          "base_uri": "https://localhost:8080/"
        },
        "id": "U-eaLRiuh67s",
        "outputId": "1eb717d4-9db2-40b6-ab6c-edb2063b72ff"
      },
      "source": [
        "# Install TensorFlow\n",
        "# !pip install -q tensorflow-gpu==2.0.0-beta1\n",
        "\n",
        "try:\n",
        "  %tensorflow_version 2.x  # Colab only.\n",
        "except Exception:\n",
        "  pass\n",
        "\n",
        "import tensorflow as tf\n",
        "print(tf.__version__)"
      ],
      "execution_count": 1,
      "outputs": [
        {
          "output_type": "stream",
          "name": "stdout",
          "text": [
            "`%tensorflow_version` only switches the major version: 1.x or 2.x.\n",
            "You set: `2.x  # Colab only.`. This will be interpreted as: `2.x`.\n",
            "\n",
            "\n",
            "TensorFlow 2.x selected.\n",
            "2.7.0\n"
          ]
        }
      ]
    },
    {
      "cell_type": "code",
      "metadata": {
        "id": "yBng5I_biAVe"
      },
      "source": [
        "import os\n",
        "\n",
        "# Scientific and vector computation for python\n",
        "import numpy as np\n",
        "import pandas as pd\n",
        "import io\n",
        "import seaborn as sns\n",
        "\n",
        "# Plotting library\n",
        "from matplotlib import pyplot\n",
        "from mpl_toolkits.mplot3d import Axes3D  # needed to plot 3-D surfaces\n",
        "import matplotlib.pyplot as plt"
      ],
      "execution_count": 2,
      "outputs": []
    },
    {
      "cell_type": "code",
      "metadata": {
        "colab": {
          "base_uri": "https://localhost:8080/"
        },
        "id": "BFvlxclFiBzK",
        "outputId": "2e5d9bfd-3909-48c0-9f8e-aad89460a471"
      },
      "source": [
        "!wget https://raw.githubusercontent.com/susilvaalmeida/machine-learning-andrew-ng/master/data/ex1data2.txt\n",
        "\n",
        "data= pd.read_csv('ex1data2.txt',header=None,error_bad_lines=False)"
      ],
      "execution_count": 3,
      "outputs": [
        {
          "output_type": "stream",
          "name": "stdout",
          "text": [
            "--2021-11-14 11:53:06--  https://raw.githubusercontent.com/susilvaalmeida/machine-learning-andrew-ng/master/data/ex1data2.txt\n",
            "Resolving raw.githubusercontent.com (raw.githubusercontent.com)... 185.199.108.133, 185.199.109.133, 185.199.110.133, ...\n",
            "Connecting to raw.githubusercontent.com (raw.githubusercontent.com)|185.199.108.133|:443... connected.\n",
            "HTTP request sent, awaiting response... 200 OK\n",
            "Length: 657 [text/plain]\n",
            "Saving to: ‘ex1data2.txt.3’\n",
            "\n",
            "ex1data2.txt.3      100%[===================>]     657  --.-KB/s    in 0s      \n",
            "\n",
            "2021-11-14 11:53:06 (39.1 MB/s) - ‘ex1data2.txt.3’ saved [657/657]\n",
            "\n"
          ]
        }
      ]
    },
    {
      "cell_type": "code",
      "metadata": {
        "colab": {
          "base_uri": "https://localhost:8080/",
          "height": 143
        },
        "id": "zxkrqcmriuPU",
        "outputId": "6bb23aa4-6a50-4808-f603-e5cd2e3366b5"
      },
      "source": [
        "data.columns=('house_size','bedrooms','house_price')\n",
        "data.describe().T"
      ],
      "execution_count": 4,
      "outputs": [
        {
          "output_type": "execute_result",
          "data": {
            "text/html": [
              "<div>\n",
              "<style scoped>\n",
              "    .dataframe tbody tr th:only-of-type {\n",
              "        vertical-align: middle;\n",
              "    }\n",
              "\n",
              "    .dataframe tbody tr th {\n",
              "        vertical-align: top;\n",
              "    }\n",
              "\n",
              "    .dataframe thead th {\n",
              "        text-align: right;\n",
              "    }\n",
              "</style>\n",
              "<table border=\"1\" class=\"dataframe\">\n",
              "  <thead>\n",
              "    <tr style=\"text-align: right;\">\n",
              "      <th></th>\n",
              "      <th>count</th>\n",
              "      <th>mean</th>\n",
              "      <th>std</th>\n",
              "      <th>min</th>\n",
              "      <th>25%</th>\n",
              "      <th>50%</th>\n",
              "      <th>75%</th>\n",
              "      <th>max</th>\n",
              "    </tr>\n",
              "  </thead>\n",
              "  <tbody>\n",
              "    <tr>\n",
              "      <th>house_size</th>\n",
              "      <td>47.0</td>\n",
              "      <td>2000.680851</td>\n",
              "      <td>794.702354</td>\n",
              "      <td>852.0</td>\n",
              "      <td>1432.0</td>\n",
              "      <td>1888.0</td>\n",
              "      <td>2269.0</td>\n",
              "      <td>4478.0</td>\n",
              "    </tr>\n",
              "    <tr>\n",
              "      <th>bedrooms</th>\n",
              "      <td>47.0</td>\n",
              "      <td>3.170213</td>\n",
              "      <td>0.760982</td>\n",
              "      <td>1.0</td>\n",
              "      <td>3.0</td>\n",
              "      <td>3.0</td>\n",
              "      <td>4.0</td>\n",
              "      <td>5.0</td>\n",
              "    </tr>\n",
              "    <tr>\n",
              "      <th>house_price</th>\n",
              "      <td>47.0</td>\n",
              "      <td>340412.659574</td>\n",
              "      <td>125039.899586</td>\n",
              "      <td>169900.0</td>\n",
              "      <td>249900.0</td>\n",
              "      <td>299900.0</td>\n",
              "      <td>384450.0</td>\n",
              "      <td>699900.0</td>\n",
              "    </tr>\n",
              "  </tbody>\n",
              "</table>\n",
              "</div>"
            ],
            "text/plain": [
              "             count           mean            std  ...       50%       75%       max\n",
              "house_size    47.0    2000.680851     794.702354  ...    1888.0    2269.0    4478.0\n",
              "bedrooms      47.0       3.170213       0.760982  ...       3.0       4.0       5.0\n",
              "house_price   47.0  340412.659574  125039.899586  ...  299900.0  384450.0  699900.0\n",
              "\n",
              "[3 rows x 8 columns]"
            ]
          },
          "metadata": {},
          "execution_count": 4
        }
      ]
    },
    {
      "cell_type": "code",
      "metadata": {
        "id": "bXuGtOiKkrLG"
      },
      "source": [
        "#feature_normalization\n",
        "def feature_normalization(x,mean=np.zeros(1),std=np.zeros(1)):\n",
        "  x=np.array(x)\n",
        "  if len(mean.shape) ==1 or len(std.shape)==1:\n",
        "     mean = np.mean(x, axis=0)\n",
        "     std = np.std(x, axis=0, ddof=1)\n",
        "  x=(x-mean)/std\n",
        "  return x,mean,std\n"
      ],
      "execution_count": 5,
      "outputs": []
    },
    {
      "cell_type": "code",
      "metadata": {
        "id": "upqlhBhhHbDR"
      },
      "source": [
        "x_norm, mu, sigma = feature_normalization(data[['house_size', 'bedrooms']])"
      ],
      "execution_count": 6,
      "outputs": []
    },
    {
      "cell_type": "code",
      "metadata": {
        "colab": {
          "base_uri": "https://localhost:8080/",
          "height": 112
        },
        "id": "7QEO2tJwHhWH",
        "outputId": "6def600d-0a8a-4b27-b669-d5f66cee8b59"
      },
      "source": [
        "data['house_size_normalized'] = x_norm[:,0]\n",
        "data['bedrooms_normalized'] = x_norm[:,1]\n",
        "data[['house_size_normalized', 'bedrooms_normalized']].describe().T"
      ],
      "execution_count": 7,
      "outputs": [
        {
          "output_type": "execute_result",
          "data": {
            "text/html": [
              "<div>\n",
              "<style scoped>\n",
              "    .dataframe tbody tr th:only-of-type {\n",
              "        vertical-align: middle;\n",
              "    }\n",
              "\n",
              "    .dataframe tbody tr th {\n",
              "        vertical-align: top;\n",
              "    }\n",
              "\n",
              "    .dataframe thead th {\n",
              "        text-align: right;\n",
              "    }\n",
              "</style>\n",
              "<table border=\"1\" class=\"dataframe\">\n",
              "  <thead>\n",
              "    <tr style=\"text-align: right;\">\n",
              "      <th></th>\n",
              "      <th>count</th>\n",
              "      <th>mean</th>\n",
              "      <th>std</th>\n",
              "      <th>min</th>\n",
              "      <th>25%</th>\n",
              "      <th>50%</th>\n",
              "      <th>75%</th>\n",
              "      <th>max</th>\n",
              "    </tr>\n",
              "  </thead>\n",
              "  <tbody>\n",
              "    <tr>\n",
              "      <th>house_size_normalized</th>\n",
              "      <td>47.0</td>\n",
              "      <td>1.889741e-17</td>\n",
              "      <td>1.0</td>\n",
              "      <td>-1.445423</td>\n",
              "      <td>-0.715590</td>\n",
              "      <td>-0.141790</td>\n",
              "      <td>0.337635</td>\n",
              "      <td>3.117292</td>\n",
              "    </tr>\n",
              "    <tr>\n",
              "      <th>bedrooms_normalized</th>\n",
              "      <td>47.0</td>\n",
              "      <td>2.651543e-16</td>\n",
              "      <td>1.0</td>\n",
              "      <td>-2.851859</td>\n",
              "      <td>-0.223675</td>\n",
              "      <td>-0.223675</td>\n",
              "      <td>1.090417</td>\n",
              "      <td>2.404508</td>\n",
              "    </tr>\n",
              "  </tbody>\n",
              "</table>\n",
              "</div>"
            ],
            "text/plain": [
              "                       count          mean  std  ...       50%       75%       max\n",
              "house_size_normalized   47.0  1.889741e-17  1.0  ... -0.141790  0.337635  3.117292\n",
              "bedrooms_normalized     47.0  2.651543e-16  1.0  ... -0.223675  1.090417  2.404508\n",
              "\n",
              "[2 rows x 8 columns]"
            ]
          },
          "metadata": {},
          "execution_count": 7
        }
      ]
    },
    {
      "cell_type": "code",
      "metadata": {
        "id": "G2e45c_pKBI3"
      },
      "source": [
        "def compute_cost(x, y, theta):\n",
        "    m = y.shape[0]\n",
        "    h = x.dot(theta)\n",
        "    J = (1/(2*m)) * ((h-y).T.dot(h-y))\n",
        "    return J"
      ],
      "execution_count": 14,
      "outputs": []
    },
    {
      "cell_type": "code",
      "metadata": {
        "id": "2eTVuMadKDMq"
      },
      "source": [
        "def gradient_descent(x, y, theta, alpha, num_iters):\n",
        "    m = y.shape[0]\n",
        "    J_history = np.zeros(shape=(num_iters, 1))\n",
        "\n",
        "    for i in range(0, num_iters):\n",
        "        h = x.dot(theta)\n",
        "        diff_hy = h - y\n",
        "\n",
        "        delta = (1/m) * (diff_hy.T.dot(x))\n",
        "        theta = theta - (alpha * delta.T)\n",
        "        J_history[i] = compute_cost(x, y, theta)\n",
        "\n",
        "    return theta, J_history"
      ],
      "execution_count": 15,
      "outputs": []
    },
    {
      "cell_type": "code",
      "metadata": {
        "id": "TBnj_ZEtV1i8"
      },
      "source": [
        "m=data.shape[0]\n",
        "x=np.hstack((np.ones((m,1)),x_norm))\n",
        "y=np.array(data.house_price.values).reshape(-1,1)\n",
        "theta=theta = np.zeros(shape=(x.shape[1],1))\n",
        "alpha = [0.3, 0.1, 0.03, 0.01]\n",
        "colors = ['b','r','g','c']\n",
        "num_iters = 50"
      ],
      "execution_count": 16,
      "outputs": []
    },
    {
      "cell_type": "code",
      "metadata": {
        "colab": {
          "base_uri": "https://localhost:8080/",
          "height": 295
        },
        "id": "bCF7aMWfQVpM",
        "outputId": "1235a0d4-4203-4b6d-9e88-5fd1230895b1"
      },
      "source": [
        "for i in range (0,len(alpha)):\n",
        "  theta = np.zeros(shape=(x.shape[1],1))\n",
        "  theta, J_history=gradient_descent(x, y, theta, alpha[i], num_iters)\n",
        "  plt.plot(range(len(J_history)), J_history, colors[i], label='Alpha {}'.format(alpha[i]))\n",
        "\n",
        "plt.xlabel('Number of iterations');\n",
        "plt.ylabel('Cost J');\n",
        "plt.title('Selecting learning rates');\n",
        "plt.legend()\n",
        "plt.show()"
      ],
      "execution_count": 18,
      "outputs": [
        {
          "output_type": "display_data",
          "data": {
            "image/png": "[encoded data removed]",
            "text/plain": [
              "<Figure size 432x288 with 1 Axes>"
            ]
          },
          "metadata": {
            "needs_background": "light"
          }
        }
      ]
    },
    {
      "cell_type": "code",
      "metadata": {
        "id": "TwQ9qOFJWMC-"
      },
      "source": [
        "iterations = 250\n",
        "alpha = 0.1\n",
        "theta, _ = gradient_descent(X, y, theta, alpha, iterations)\n",
        "\n",
        "print('Theta found by gradient descent:')\n",
        "print(theta)"
      ],
      "execution_count": null,
      "outputs": []
    },
    {
      "cell_type": "code",
      "metadata": {
        "id": "7BlfxWYYWM3Q"
      },
      "source": [
        ""
      ],
      "execution_count": null,
      "outputs": []
    }
  ]
}