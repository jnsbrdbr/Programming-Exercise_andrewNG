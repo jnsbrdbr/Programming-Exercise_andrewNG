{
  "nbformat": 4,
  "nbformat_minor": 0,
  "metadata": {
    "colab": {
      "name": "test10.ipynb",
      "provenance": [],
      "collapsed_sections": [],
      "toc_visible": true,
      "mount_file_id": "1iXKcCZdgaSdlvTFyW3d5nyFXrx-GS1hT",
      "authorship_tag": "ABX9TyPCOxGqIpSzFGmYfTHo+roe",
      "include_colab_link": true
    },
    "kernelspec": {
      "name": "python3",
      "display_name": "Python 3"
    },
    "language_info": {
      "name": "python"
    }
  },
  "cells": [
    {
      "cell_type": "markdown",
      "metadata": {
        "id": "view-in-github",
        "colab_type": "text"
      },
      "source": [
        "<a href=\"https://colab.research.google.com/github/jnsbrdbr/andrew-ng/blob/master/test10.ipynb\" target=\"_parent\"><img src=\"https://colab.research.google.com/assets/colab-badge.svg\" alt=\"Open In Colab\"/></a>"
      ]
    },
    {
      "cell_type": "code",
      "execution_count": 1,
      "metadata": {
        "id": "vHc-B6YJDEc8"
      },
      "outputs": [],
      "source": [
        "import scipy.io\n",
        "import numpy as np\n",
        "import pandas as pd\n",
        "import seaborn as sns\n",
        "import matplotlib.pyplot as plt\n",
        "from decimal import Decimal\n",
        "from math import*\n",
        "%matplotlib inline"
      ]
    },
    {
      "cell_type": "code",
      "source": [
        "from google.colab import drive\n",
        "drive.mount('/content/drive')"
      ],
      "metadata": {
        "id": "oo-V8gKkDoam",
        "colab": {
          "base_uri": "https://localhost:8080/"
        },
        "outputId": "6aed273c-bd17-4c7a-e524-427175739dee"
      },
      "execution_count": 2,
      "outputs": [
        {
          "output_type": "stream",
          "name": "stdout",
          "text": [
            "Drive already mounted at /content/drive; to attempt to forcibly remount, call drive.mount(\"/content/drive\", force_remount=True).\n"
          ]
        }
      ]
    },
    {
      "cell_type": "code",
      "source": [
        "path = \"/content/drive/MyDrive/test/test10.csv\"\n",
        "data = pd.read_csv(path)"
      ],
      "metadata": {
        "id": "NTkelh2gDuMa"
      },
      "execution_count": 3,
      "outputs": []
    },
    {
      "cell_type": "code",
      "source": [
        "type(data)"
      ],
      "metadata": {
        "id": "YRhQYXaUYtci",
        "colab": {
          "base_uri": "https://localhost:8080/"
        },
        "outputId": "4e57e1fa-a512-4d63-a6ca-50fb56c4b755"
      },
      "execution_count": 4,
      "outputs": [
        {
          "output_type": "execute_result",
          "data": {
            "text/plain": [
              "pandas.core.frame.DataFrame"
            ]
          },
          "metadata": {},
          "execution_count": 4
        }
      ]
    },
    {
      "cell_type": "markdown",
      "source": [
        "part 1"
      ],
      "metadata": {
        "id": "KT8_Tgui49xq"
      }
    },
    {
      "cell_type": "code",
      "source": [
        "data"
      ],
      "metadata": {
        "colab": {
          "base_uri": "https://localhost:8080/",
          "height": 300
        },
        "id": "MPcYBwu7hrlb",
        "outputId": "dabb2139-77ce-49e5-e5dc-935fc7641512"
      },
      "execution_count": 5,
      "outputs": [
        {
          "output_type": "execute_result",
          "data": {
            "text/html": [
              "\n",
              "  <div id=\"df-37b8e375-ac9f-4455-a5a6-3bf245598028\">\n",
              "    <div class=\"colab-df-container\">\n",
              "      <div>\n",
              "<style scoped>\n",
              "    .dataframe tbody tr th:only-of-type {\n",
              "        vertical-align: middle;\n",
              "    }\n",
              "\n",
              "    .dataframe tbody tr th {\n",
              "        vertical-align: top;\n",
              "    }\n",
              "\n",
              "    .dataframe thead th {\n",
              "        text-align: right;\n",
              "    }\n",
              "</style>\n",
              "<table border=\"1\" class=\"dataframe\">\n",
              "  <thead>\n",
              "    <tr style=\"text-align: right;\">\n",
              "      <th></th>\n",
              "      <th>src</th>\n",
              "      <th>dst</th>\n",
              "    </tr>\n",
              "  </thead>\n",
              "  <tbody>\n",
              "    <tr>\n",
              "      <th>0</th>\n",
              "      <td>1</td>\n",
              "      <td>2</td>\n",
              "    </tr>\n",
              "    <tr>\n",
              "      <th>1</th>\n",
              "      <td>1</td>\n",
              "      <td>4</td>\n",
              "    </tr>\n",
              "    <tr>\n",
              "      <th>2</th>\n",
              "      <td>3</td>\n",
              "      <td>4</td>\n",
              "    </tr>\n",
              "    <tr>\n",
              "      <th>3</th>\n",
              "      <td>3</td>\n",
              "      <td>5</td>\n",
              "    </tr>\n",
              "    <tr>\n",
              "      <th>4</th>\n",
              "      <td>5</td>\n",
              "      <td>6</td>\n",
              "    </tr>\n",
              "    <tr>\n",
              "      <th>5</th>\n",
              "      <td>5</td>\n",
              "      <td>10</td>\n",
              "    </tr>\n",
              "    <tr>\n",
              "      <th>6</th>\n",
              "      <td>5</td>\n",
              "      <td>12</td>\n",
              "    </tr>\n",
              "    <tr>\n",
              "      <th>7</th>\n",
              "      <td>5</td>\n",
              "      <td>14</td>\n",
              "    </tr>\n",
              "  </tbody>\n",
              "</table>\n",
              "</div>\n",
              "      <button class=\"colab-df-convert\" onclick=\"convertToInteractive('df-37b8e375-ac9f-4455-a5a6-3bf245598028')\"\n",
              "              title=\"Convert this dataframe to an interactive table.\"\n",
              "              style=\"display:none;\">\n",
              "        \n",
              "  <svg xmlns=\"http://www.w3.org/2000/svg\" height=\"24px\"viewBox=\"0 0 24 24\"\n",
              "       width=\"24px\">\n",
              "    <path d=\"M0 0h24v24H0V0z\" fill=\"none\"/>\n",
              "    <path d=\"M18.56 5.44l.94 2.06.94-2.06 2.06-.94-2.06-.94-.94-2.06-.94 2.06-2.06.94zm-11 1L8.5 8.5l.94-2.06 2.06-.94-2.06-.94L8.5 2.5l-.94 2.06-2.06.94zm10 10l.94 2.06.94-2.06 2.06-.94-2.06-.94-.94-2.06-.94 2.06-2.06.94z\"/><path d=\"M17.41 7.96l-1.37-1.37c-.4-.4-.92-.59-1.43-.59-.52 0-1.04.2-1.43.59L10.3 9.45l-7.72 7.72c-.78.78-.78 2.05 0 2.83L4 21.41c.39.39.9.59 1.41.59.51 0 1.02-.2 1.41-.59l7.78-7.78 2.81-2.81c.8-.78.8-2.07 0-2.86zM5.41 20L4 18.59l7.72-7.72 1.47 1.35L5.41 20z\"/>\n",
              "  </svg>\n",
              "      </button>\n",
              "      \n",
              "  <style>\n",
              "    .colab-df-container {\n",
              "      display:flex;\n",
              "      flex-wrap:wrap;\n",
              "      gap: 12px;\n",
              "    }\n",
              "\n",
              "    .colab-df-convert {\n",
              "      background-color: #E8F0FE;\n",
              "      border: none;\n",
              "      border-radius: 50%;\n",
              "      cursor: pointer;\n",
              "      display: none;\n",
              "      fill: #1967D2;\n",
              "      height: 32px;\n",
              "      padding: 0 0 0 0;\n",
              "      width: 32px;\n",
              "    }\n",
              "\n",
              "    .colab-df-convert:hover {\n",
              "      background-color: #E2EBFA;\n",
              "      box-shadow: 0px 1px 2px rgba(60, 64, 67, 0.3), 0px 1px 3px 1px rgba(60, 64, 67, 0.15);\n",
              "      fill: #174EA6;\n",
              "    }\n",
              "\n",
              "    [theme=dark] .colab-df-convert {\n",
              "      background-color: #3B4455;\n",
              "      fill: #D2E3FC;\n",
              "    }\n",
              "\n",
              "    [theme=dark] .colab-df-convert:hover {\n",
              "      background-color: #434B5C;\n",
              "      box-shadow: 0px 1px 3px 1px rgba(0, 0, 0, 0.15);\n",
              "      filter: drop-shadow(0px 1px 2px rgba(0, 0, 0, 0.3));\n",
              "      fill: #FFFFFF;\n",
              "    }\n",
              "  </style>\n",
              "\n",
              "      <script>\n",
              "        const buttonEl =\n",
              "          document.querySelector('#df-37b8e375-ac9f-4455-a5a6-3bf245598028 button.colab-df-convert');\n",
              "        buttonEl.style.display =\n",
              "          google.colab.kernel.accessAllowed ? 'block' : 'none';\n",
              "\n",
              "        async function convertToInteractive(key) {\n",
              "          const element = document.querySelector('#df-37b8e375-ac9f-4455-a5a6-3bf245598028');\n",
              "          const dataTable =\n",
              "            await google.colab.kernel.invokeFunction('convertToInteractive',\n",
              "                                                     [key], {});\n",
              "          if (!dataTable) return;\n",
              "\n",
              "          const docLinkHtml = 'Like what you see? Visit the ' +\n",
              "            '<a target=\"_blank\" href=https://colab.research.google.com/notebooks/data_table.ipynb>data table notebook</a>'\n",
              "            + ' to learn more about interactive tables.';\n",
              "          element.innerHTML = '';\n",
              "          dataTable['output_type'] = 'display_data';\n",
              "          await google.colab.output.renderOutput(dataTable, element);\n",
              "          const docLink = document.createElement('div');\n",
              "          docLink.innerHTML = docLinkHtml;\n",
              "          element.appendChild(docLink);\n",
              "        }\n",
              "      </script>\n",
              "    </div>\n",
              "  </div>\n",
              "  "
            ],
            "text/plain": [
              "   src  dst\n",
              "0    1    2\n",
              "1    1    4\n",
              "2    3    4\n",
              "3    3    5\n",
              "4    5    6\n",
              "5    5   10\n",
              "6    5   12\n",
              "7    5   14"
            ]
          },
          "metadata": {},
          "execution_count": 5
        }
      ]
    },
    {
      "cell_type": "code",
      "source": [
        "import networkx as nx\n",
        "g = nx.from_pandas_edgelist(data, \"src\",\"dst\")\n",
        "nx.draw_networkx(g)"
      ],
      "metadata": {
        "colab": {
          "base_uri": "https://localhost:8080/",
          "height": 248
        },
        "id": "1CGc9kOjK8ay",
        "outputId": "1ae814a1-9227-4b35-9f85-7e31ff58e01b"
      },
      "execution_count": 6,
      "outputs": [
        {
          "output_type": "display_data",
          "data": {
            "image/png": "[encoded data removed]",
            "text/plain": [
              "<Figure size 432x288 with 1 Axes>"
            ]
          },
          "metadata": {}
        }
      ]
    },
    {
      "cell_type": "markdown",
      "source": [
        "data must be in order"
      ],
      "metadata": {
        "id": "lsKJHvv65j0j"
      }
    },
    {
      "cell_type": "code",
      "source": [
        "#adjucency matrix without chunking\n",
        "adjc = pd.crosstab(data.src, data.dst)\n",
        "idx = adjc.columns.union(adjc.index)\n",
        "up_adj_mtx = adjc.reindex(index = idx, columns=idx, fill_value=0)\n"
      ],
      "metadata": {
        "id": "t-sV7bOInoQR"
      },
      "execution_count": 7,
      "outputs": []
    },
    {
      "cell_type": "code",
      "source": [
        "print(up_adj_mtx)"
      ],
      "metadata": {
        "colab": {
          "base_uri": "https://localhost:8080/"
        },
        "id": "-h8TFoiNkLbm",
        "outputId": "3a0b469b-3271-4c3d-bc9c-f9d89be8b133"
      },
      "execution_count": 8,
      "outputs": [
        {
          "output_type": "stream",
          "name": "stdout",
          "text": [
            "    1   2   3   4   5   6   10  12  14\n",
            "1    0   1   0   1   0   0   0   0   0\n",
            "2    0   0   0   0   0   0   0   0   0\n",
            "3    0   0   0   1   1   0   0   0   0\n",
            "4    0   0   0   0   0   0   0   0   0\n",
            "5    0   0   0   0   0   1   1   1   1\n",
            "6    0   0   0   0   0   0   0   0   0\n",
            "10   0   0   0   0   0   0   0   0   0\n",
            "12   0   0   0   0   0   0   0   0   0\n",
            "14   0   0   0   0   0   0   0   0   0\n"
          ]
        }
      ]
    },
    {
      "cell_type": "code",
      "source": [
        "adj_mtx=up_adj_mtx\n",
        "for i in adj_mtx:\n",
        "  for j in adj_mtx:\n",
        "    if(adj_mtx[i][j]!=0):\n",
        "       adj_mtx[j][i]=adj_mtx[i][j]"
      ],
      "metadata": {
        "id": "fNQtO5dW1kxr"
      },
      "execution_count": 9,
      "outputs": []
    },
    {
      "cell_type": "code",
      "source": [
        "adj_mtx=adj_mtx.to_numpy()\n",
        "print(adj_mtx)"
      ],
      "metadata": {
        "colab": {
          "base_uri": "https://localhost:8080/"
        },
        "id": "LvNvEnJl9-r9",
        "outputId": "e09bc02b-ad76-47ca-ff5f-86f361048608"
      },
      "execution_count": 10,
      "outputs": [
        {
          "output_type": "stream",
          "name": "stdout",
          "text": [
            "[[0 1 0 1 0 0 0 0 0]\n",
            " [1 0 0 0 0 0 0 0 0]\n",
            " [0 0 0 1 1 0 0 0 0]\n",
            " [1 0 1 0 0 0 0 0 0]\n",
            " [0 0 1 0 0 1 1 1 1]\n",
            " [0 0 0 0 1 0 0 0 0]\n",
            " [0 0 0 0 1 0 0 0 0]\n",
            " [0 0 0 0 1 0 0 0 0]\n",
            " [0 0 0 0 1 0 0 0 0]]\n"
          ]
        }
      ]
    },
    {
      "cell_type": "code",
      "source": [
        "#adjucency matrix with chunking\n",
        "\n",
        "#for data in pd.read_csv(path, chunksize=2):\n",
        "#    print (data)\n",
        "#    data1 = pd.crosstab(data.src, data.dst)\n",
        "#    idx = data1.columns.union(data1.index)\n",
        "#    data2 = data1.reindex(index = idx, columns=idx, fill_value=0)\n",
        "#    print(data2)"
      ],
      "metadata": {
        "id": "Jb1lh_l6FhJV"
      },
      "execution_count": 11,
      "outputs": []
    },
    {
      "cell_type": "markdown",
      "source": [
        "part2"
      ],
      "metadata": {
        "id": "Y35hSJXG4ujG"
      }
    },
    {
      "cell_type": "markdown",
      "source": [
        "common firend(CF):one of the measure for similarity in social networks is the number of firends,shared.given the sicial network G and two nodes u and v all vertics that are on a path wih the length of two between these two nodes are common firends of the nodes.\n",
        "در مربع ماتریس مجاورت درایه\"آی جی ام\"و غیر واقع بر قطر اصلی مربع ماتریس مجاورت نشان دهنده تعدا مسیر به طول دو بین دو راس آی و جی هست"
      ],
      "metadata": {
        "id": "jSv_sB-KBG7W"
      }
    },
    {
      "cell_type": "code",
      "source": [
        "#common firend\n",
        "\n",
        "CF=np.dot(adj_mtx,adj_mtx) #matrix multiplication\n",
        "#print(CF,'\\n')\n",
        "\n",
        "CF=CF - np.diag(np.diag(CF))#matrix off_diagonal\n",
        "print(CF)"
      ],
      "metadata": {
        "colab": {
          "base_uri": "https://localhost:8080/"
        },
        "id": "KQN6DlBJ4wTe",
        "outputId": "c93552d9-009d-4c82-fa83-347f7018385b"
      },
      "execution_count": 12,
      "outputs": [
        {
          "output_type": "stream",
          "name": "stdout",
          "text": [
            "[[0 0 1 0 0 0 0 0 0]\n",
            " [0 0 0 1 0 0 0 0 0]\n",
            " [1 0 0 0 0 1 1 1 1]\n",
            " [0 1 0 0 1 0 0 0 0]\n",
            " [0 0 0 1 0 0 0 0 0]\n",
            " [0 0 1 0 0 0 1 1 1]\n",
            " [0 0 1 0 0 1 0 1 1]\n",
            " [0 0 1 0 0 1 1 0 1]\n",
            " [0 0 1 0 0 1 1 1 0]]\n"
          ]
        }
      ]
    },
    {
      "cell_type": "code",
      "source": [
        "#total_firend\n",
        "\n",
        "adjc = pd.crosstab(data.src, data.dst)\n",
        "idx = adjc.columns.union(adjc.index)\n",
        "up_adj_mtx = adjc.reindex(index = idx, columns=idx, fill_value=0)\n",
        "up_adj_mtx=up_adj_mtx.to_numpy()\n",
        "#print(up_adj_mtx)"
      ],
      "metadata": {
        "id": "LmbUtBc_qZm8"
      },
      "execution_count": 13,
      "outputs": []
    },
    {
      "cell_type": "code",
      "source": [
        "i=up_adj_mtx.shape[0]\n",
        "c=np.zeros(shape=(i,i))\n",
        "for i in range(0,up_adj_mtx.shape[0]):\n",
        "  for j in range(0,up_adj_mtx.shape[1]):\n",
        "     if i==j:\n",
        "       c[i,j]=(sum(up_adj_mtx[i,:])+sum(up_adj_mtx[:,j]))\n",
        "#print(c)"
      ],
      "metadata": {
        "id": "NN7vgxI9IR9S"
      },
      "execution_count": 14,
      "outputs": []
    },
    {
      "cell_type": "code",
      "source": [
        "i=c.shape[0]\n",
        "TF=np.zeros(shape=(i,i))\n",
        "for i in range(0,c.shape[0]):\n",
        "  for j in range(0,c.shape[1]):\n",
        "    TF[i,j]=c[i,i]+c[j,j]\n",
        "TF=TF - np.diag(np.diag(TF))#matrix off_diagonal\n",
        "print(TF)"
      ],
      "metadata": {
        "colab": {
          "base_uri": "https://localhost:8080/"
        },
        "id": "19E_w0_qW1W_",
        "outputId": "dfb6da76-5746-4555-d029-4dfaf7b61753"
      },
      "execution_count": 15,
      "outputs": [
        {
          "output_type": "stream",
          "name": "stdout",
          "text": [
            "[[0. 3. 4. 4. 7. 3. 3. 3. 3.]\n",
            " [3. 0. 3. 3. 6. 2. 2. 2. 2.]\n",
            " [4. 3. 0. 4. 7. 3. 3. 3. 3.]\n",
            " [4. 3. 4. 0. 7. 3. 3. 3. 3.]\n",
            " [7. 6. 7. 7. 0. 6. 6. 6. 6.]\n",
            " [3. 2. 3. 3. 6. 0. 2. 2. 2.]\n",
            " [3. 2. 3. 3. 6. 2. 0. 2. 2.]\n",
            " [3. 2. 3. 3. 6. 2. 2. 0. 2.]\n",
            " [3. 2. 3. 3. 6. 2. 2. 2. 0.]]\n"
          ]
        }
      ]
    },
    {
      "cell_type": "code",
      "source": [
        "#jaccard_similarity\n",
        "\n",
        "i=adj_mtx.shape[0]\n",
        "jaccard_similarity=np.zeros(shape=(i,i))\n",
        "for i in range(0,jaccard_similarity.shape[0]):\n",
        "  for j in range(0,jaccard_similarity.shape[1]):\n",
        "    if CF[i,j]==0 or TF[i,j]==0:\n",
        "       jaccard_similarity[i,j]==0\n",
        "    else:\n",
        "       #jaccard_similarity[i,j]=(CF[i,j]/TF[i,j])\n",
        "       jaccard_similarity[i,j]=np.divide(CF[i,j],TF[i,j])\n",
        "       jaccard_similarity=np.round(jaccard_similarity,2)\n",
        "\n",
        "jaccard_similarity=jaccard_similarity - np.diag(np.diag(jaccard_similarity))#matrix off_diagonal\n",
        "print(jaccard_similarity)\n"
      ],
      "metadata": {
        "id": "Y50h9kYtzxx7",
        "colab": {
          "base_uri": "https://localhost:8080/"
        },
        "outputId": "9b660f03-272f-454c-f648-6469e5024188"
      },
      "execution_count": 16,
      "outputs": [
        {
          "output_type": "stream",
          "name": "stdout",
          "text": [
            "[[0.   0.   0.25 0.   0.   0.   0.   0.   0.  ]\n",
            " [0.   0.   0.   0.33 0.   0.   0.   0.   0.  ]\n",
            " [0.25 0.   0.   0.   0.   0.33 0.33 0.33 0.33]\n",
            " [0.   0.33 0.   0.   0.14 0.   0.   0.   0.  ]\n",
            " [0.   0.   0.   0.14 0.   0.   0.   0.   0.  ]\n",
            " [0.   0.   0.33 0.   0.   0.   0.5  0.5  0.5 ]\n",
            " [0.   0.   0.33 0.   0.   0.5  0.   0.5  0.5 ]\n",
            " [0.   0.   0.33 0.   0.   0.5  0.5  0.   0.5 ]\n",
            " [0.   0.   0.33 0.   0.   0.5  0.5  0.5  0.  ]]\n"
          ]
        }
      ]
    },
    {
      "cell_type": "code",
      "source": [
        "#cosine_similarity\n",
        "\n",
        "i=up_adj_mtx.shape[0]\n",
        "cosine_similarity1=np.zeros(shape=(i,i))\n",
        "for i in range(0,cosine_similarity1.shape[0]):\n",
        "  for j in range(0,cosine_similarity1.shape[1]):\n",
        "       cosine_similarity1[i,j]=sqrt((c[i,i])*(c[j,j]))\n",
        "\n",
        "#print(cosine_similarity1)"
      ],
      "metadata": {
        "id": "DrlUDobEC-Gd"
      },
      "execution_count": 17,
      "outputs": []
    },
    {
      "cell_type": "code",
      "source": [
        "i=adj_mtx.shape[0]\n",
        "cosine_similarity=np.zeros(shape=(i,i))\n",
        "for i in range(0,cosine_similarity.shape[0]):\n",
        "  for j in range(0,cosine_similarity.shape[1]):\n",
        "    if CF[i,j]==0 or cosine_similarity1[i,j]==0:\n",
        "       cosine_similarity[i,j]==0\n",
        "    else:\n",
        "       #jaccard_similarity[i,j]=(CF[i,j]/TF[i,j])\n",
        "       cosine_similarity[i,j]=np.divide(CF[i,j],cosine_similarity1[i,j])\n",
        "       cosine_similarity=np.round(cosine_similarity,2)\n",
        "\n",
        "cosine_similarity=cosine_similarity - np.diag(np.diag(cosine_similarity))#matrix off_diagonal\n",
        "print(cosine_similarity)"
      ],
      "metadata": {
        "colab": {
          "base_uri": "https://localhost:8080/"
        },
        "id": "kH3zRItHz1DA",
        "outputId": "7c909381-3605-4c7c-eac1-849b0a1b6dd4"
      },
      "execution_count": 25,
      "outputs": [
        {
          "output_type": "stream",
          "name": "stdout",
          "text": [
            "[[0.   0.   0.5  0.   0.   0.   0.   0.   0.  ]\n",
            " [0.   0.   0.   0.71 0.   0.   0.   0.   0.  ]\n",
            " [0.5  0.   0.   0.   0.   0.71 0.71 0.71 0.71]\n",
            " [0.   0.71 0.   0.   0.32 0.   0.   0.   0.  ]\n",
            " [0.   0.   0.   0.32 0.   0.   0.   0.   0.  ]\n",
            " [0.   0.   0.71 0.   0.   0.   1.   1.   1.  ]\n",
            " [0.   0.   0.71 0.   0.   1.   0.   1.   1.  ]\n",
            " [0.   0.   0.71 0.   0.   1.   1.   0.   1.  ]\n",
            " [0.   0.   0.71 0.   0.   1.   1.   1.   0.  ]]\n"
          ]
        }
      ]
    },
    {
      "cell_type": "code",
      "source": [
        "#L1_norm()\n",
        " \n",
        "i=up_adj_mtx.shape[0]\n",
        "L1_norm1=np.zeros(shape=(i,i))\n",
        "for i in range(0,L1_norm1.shape[0]):\n",
        "  for j in range(0,L1_norm1.shape[1]):\n",
        "       L1_norm1[i,j]=(c[i,i])*(c[j,j])\n",
        "\n",
        "#print(L1_norm1)"
      ],
      "metadata": {
        "id": "FhzJpELXHIdN"
      },
      "execution_count": 26,
      "outputs": []
    },
    {
      "cell_type": "code",
      "source": [
        "i=adj_mtx.shape[0]\n",
        "L1_norm=np.zeros(shape=(i,i))\n",
        "for i in range(0,L1_norm.shape[0]):\n",
        "  for j in range(0,L1_norm.shape[1]):\n",
        "    if CF[i,j]==0 or L1_norm1[i,j]==0:\n",
        "       L1_norm[i,j]==0\n",
        "    else:\n",
        "       #jaccard_similarity[i,j]=(CF[i,j]/TF[i,j])\n",
        "       L1_norm[i,j]=np.divide(CF[i,j],L1_norm1[i,j])\n",
        "       L1_norm=np.round(L1_norm,2)\n",
        "\n",
        "L1_norm=L1_norm - np.diag(np.diag(L1_norm))#matrix off_diagonal\n",
        "print(L1_norm)"
      ],
      "metadata": {
        "colab": {
          "base_uri": "https://localhost:8080/"
        },
        "id": "jUsVygMw1T8K",
        "outputId": "a88f2bfa-2924-4063-b16e-538b3897ad7e"
      },
      "execution_count": 27,
      "outputs": [
        {
          "output_type": "stream",
          "name": "stdout",
          "text": [
            "[[0.   0.   0.25 0.   0.   0.   0.   0.   0.  ]\n",
            " [0.   0.   0.   0.5  0.   0.   0.   0.   0.  ]\n",
            " [0.25 0.   0.   0.   0.   0.5  0.5  0.5  0.5 ]\n",
            " [0.   0.5  0.   0.   0.1  0.   0.   0.   0.  ]\n",
            " [0.   0.   0.   0.1  0.   0.   0.   0.   0.  ]\n",
            " [0.   0.   0.5  0.   0.   0.   1.   1.   1.  ]\n",
            " [0.   0.   0.5  0.   0.   1.   0.   1.   1.  ]\n",
            " [0.   0.   0.5  0.   0.   1.   1.   0.   1.  ]\n",
            " [0.   0.   0.5  0.   0.   1.   1.   1.   0.  ]]\n"
          ]
        }
      ]
    },
    {
      "cell_type": "code",
      "source": [
        "#edge_weight_measure\n",
        "\n",
        "i=up_adj_mtx.shape[0]\n",
        "ewm=np.zeros(shape=(i,i))\n",
        "for i in range(0,ewm.shape[0]):\n",
        "  for j in range(0,ewm.shape[1]):\n",
        "     if i==j:\n",
        "       ewm[i,j]=1/sqrt(1+c[i,i])\n",
        "       ewm=np.round(ewm)\n",
        "\n",
        "#print(ewm)"
      ],
      "metadata": {
        "id": "4qos6gmu2KiK"
      },
      "execution_count": 31,
      "outputs": []
    },
    {
      "cell_type": "code",
      "source": [
        "i=up_adj_mtx.shape[0]\n",
        "wsum=np.zeros(shape=(i,i))\n",
        "for i in range(0,wsum.shape[0]):\n",
        "  for j in range(0,wsum.shape[1]):\n",
        "    wsum[i,j]=ewm[i,i]+ewm[j,j]\n",
        "    #wsum=np.round(wsum)\n",
        "print(wsum)"
      ],
      "metadata": {
        "colab": {
          "base_uri": "https://localhost:8080/"
        },
        "id": "HBeOFTN17CDf",
        "outputId": "0920a3fb-9ef7-4147-9565-b45c97f41281"
      },
      "execution_count": 32,
      "outputs": [
        {
          "output_type": "stream",
          "name": "stdout",
          "text": [
            "[[2. 2. 2. 2. 1. 2. 2. 2. 2.]\n",
            " [2. 2. 2. 2. 1. 2. 2. 2. 2.]\n",
            " [2. 2. 2. 2. 1. 2. 2. 2. 2.]\n",
            " [2. 2. 2. 2. 1. 2. 2. 2. 2.]\n",
            " [1. 1. 1. 1. 0. 1. 1. 1. 1.]\n",
            " [2. 2. 2. 2. 1. 2. 2. 2. 2.]\n",
            " [2. 2. 2. 2. 1. 2. 2. 2. 2.]\n",
            " [2. 2. 2. 2. 1. 2. 2. 2. 2.]\n",
            " [2. 2. 2. 2. 1. 2. 2. 2. 2.]]\n"
          ]
        }
      ]
    },
    {
      "cell_type": "code",
      "source": [
        "i=up_adj_mtx.shape[0]\n",
        "wmul=np.zeros(shape=(i,i))\n",
        "for i in range(0,wmul.shape[0]):\n",
        "  for j in range(0,wmul.shape[1]):\n",
        "    wmul[i,j]=ewm[i,i]*ewm[j,j]\n",
        "    wmul=np.round(wmul,2)\n",
        "print(wmul)"
      ],
      "metadata": {
        "colab": {
          "base_uri": "https://localhost:8080/"
        },
        "id": "NBImwel48wje",
        "outputId": "9835b3d5-b776-48c0-85bf-30b1f138b8d8"
      },
      "execution_count": 33,
      "outputs": [
        {
          "output_type": "stream",
          "name": "stdout",
          "text": [
            "[[1. 1. 1. 1. 0. 1. 1. 1. 1.]\n",
            " [1. 1. 1. 1. 0. 1. 1. 1. 1.]\n",
            " [1. 1. 1. 1. 0. 1. 1. 1. 1.]\n",
            " [1. 1. 1. 1. 0. 1. 1. 1. 1.]\n",
            " [0. 0. 0. 0. 0. 0. 0. 0. 0.]\n",
            " [1. 1. 1. 1. 0. 1. 1. 1. 1.]\n",
            " [1. 1. 1. 1. 0. 1. 1. 1. 1.]\n",
            " [1. 1. 1. 1. 0. 1. 1. 1. 1.]\n",
            " [1. 1. 1. 1. 0. 1. 1. 1. 1.]]\n"
          ]
        }
      ]
    }
  ]
}