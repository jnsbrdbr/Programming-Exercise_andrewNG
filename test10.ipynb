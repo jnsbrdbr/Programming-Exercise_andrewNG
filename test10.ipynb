{
  "nbformat": 4,
  "nbformat_minor": 0,
  "metadata": {
    "colab": {
      "name": "test10.ipynb",
      "provenance": [],
      "collapsed_sections": [],
      "mount_file_id": "1iXKcCZdgaSdlvTFyW3d5nyFXrx-GS1hT",
      "authorship_tag": "ABX9TyP0Q7rnj2wMZ4r+w+ppvu6c",
      "include_colab_link": true
    },
    "kernelspec": {
      "name": "python3",
      "display_name": "Python 3"
    },
    "language_info": {
      "name": "python"
    }
  },
  "cells": [
    {
      "cell_type": "markdown",
      "metadata": {
        "id": "view-in-github",
        "colab_type": "text"
      },
      "source": [
        "<a href=\"https://colab.research.google.com/github/jnsbrdbr/andrew-ng/blob/master/test10.ipynb\" target=\"_parent\"><img src=\"https://colab.research.google.com/assets/colab-badge.svg\" alt=\"Open In Colab\"/></a>"
      ]
    },
    {
      "cell_type": "code",
      "execution_count": null,
      "metadata": {
        "id": "vHc-B6YJDEc8"
      },
      "outputs": [],
      "source": [
        "import scipy.io\n",
        "import numpy as np\n",
        "import pandas as pd\n",
        "import seaborn as sns\n",
        "import matplotlib.pyplot as plt\n",
        "from decimal import Decimal\n",
        "from math import*\n",
        "from sklearn.datasets import load_digits\n",
        "from scipy.spatial.distance import pdist\n",
        "from sklearn.manifold._t_sne import _joint_probabilities\n",
        "import sklearn.manifold\n",
        "from sklearn.manifold import TSNE\n",
        "from scipy import linalg\n",
        "from sklearn.metrics import pairwise_distances\n",
        "from scipy.spatial.distance import squareform\n",
        "from sklearn.manifold import TSNE\n",
        "sns.set(rc={'figure.figsize':(11.7,8.27)})\n",
        "palette = sns.color_palette(\"bright\", 10)\n",
        "%matplotlib inline"
      ]
    },
    {
      "cell_type": "code",
      "source": [
        "from google.colab import drive\n",
        "drive.mount('/content/drive')"
      ],
      "metadata": {
        "id": "oo-V8gKkDoam",
        "colab": {
          "base_uri": "https://localhost:8080/"
        },
        "outputId": "a7369f48-eaf8-46bf-a40b-825942d2c71f"
      },
      "execution_count": null,
      "outputs": [
        {
          "output_type": "stream",
          "name": "stdout",
          "text": [
            "Drive already mounted at /content/drive; to attempt to forcibly remount, call drive.mount(\"/content/drive\", force_remount=True).\n"
          ]
        }
      ]
    },
    {
      "cell_type": "code",
      "source": [
        "path = \"/content/drive/MyDrive/test/test10.csv\"\n",
        "data = pd.read_csv(path)"
      ],
      "metadata": {
        "id": "NTkelh2gDuMa"
      },
      "execution_count": null,
      "outputs": []
    },
    {
      "cell_type": "code",
      "source": [
        "type(data)"
      ],
      "metadata": {
        "id": "YRhQYXaUYtci",
        "colab": {
          "base_uri": "https://localhost:8080/"
        },
        "outputId": "1b3fd255-dd6a-44d2-a56b-83f9d5e55533"
      },
      "execution_count": null,
      "outputs": [
        {
          "output_type": "execute_result",
          "data": {
            "text/plain": [
              "pandas.core.frame.DataFrame"
            ]
          },
          "metadata": {},
          "execution_count": 4
        }
      ]
    },
    {
      "cell_type": "markdown",
      "source": [
        "part 1"
      ],
      "metadata": {
        "id": "KT8_Tgui49xq"
      }
    },
    {
      "cell_type": "code",
      "source": [
        "data"
      ],
      "metadata": {
        "colab": {
          "base_uri": "https://localhost:8080/",
          "height": 300
        },
        "id": "MPcYBwu7hrlb",
        "outputId": "bbebff0a-81ee-411b-9e80-8aef08e1ec2d"
      },
      "execution_count": null,
      "outputs": [
        {
          "output_type": "execute_result",
          "data": {
            "text/html": [
              "\n",
              "  <div id=\"df-fa4b181c-800c-4e66-913b-bd7227a2e6db\">\n",
              "    <div class=\"colab-df-container\">\n",
              "      <div>\n",
              "<style scoped>\n",
              "    .dataframe tbody tr th:only-of-type {\n",
              "        vertical-align: middle;\n",
              "    }\n",
              "\n",
              "    .dataframe tbody tr th {\n",
              "        vertical-align: top;\n",
              "    }\n",
              "\n",
              "    .dataframe thead th {\n",
              "        text-align: right;\n",
              "    }\n",
              "</style>\n",
              "<table border=\"1\" class=\"dataframe\">\n",
              "  <thead>\n",
              "    <tr style=\"text-align: right;\">\n",
              "      <th></th>\n",
              "      <th>src</th>\n",
              "      <th>dst</th>\n",
              "    </tr>\n",
              "  </thead>\n",
              "  <tbody>\n",
              "    <tr>\n",
              "      <th>0</th>\n",
              "      <td>1</td>\n",
              "      <td>2</td>\n",
              "    </tr>\n",
              "    <tr>\n",
              "      <th>1</th>\n",
              "      <td>1</td>\n",
              "      <td>4</td>\n",
              "    </tr>\n",
              "    <tr>\n",
              "      <th>2</th>\n",
              "      <td>3</td>\n",
              "      <td>4</td>\n",
              "    </tr>\n",
              "    <tr>\n",
              "      <th>3</th>\n",
              "      <td>3</td>\n",
              "      <td>5</td>\n",
              "    </tr>\n",
              "    <tr>\n",
              "      <th>4</th>\n",
              "      <td>5</td>\n",
              "      <td>6</td>\n",
              "    </tr>\n",
              "    <tr>\n",
              "      <th>5</th>\n",
              "      <td>5</td>\n",
              "      <td>10</td>\n",
              "    </tr>\n",
              "    <tr>\n",
              "      <th>6</th>\n",
              "      <td>5</td>\n",
              "      <td>12</td>\n",
              "    </tr>\n",
              "    <tr>\n",
              "      <th>7</th>\n",
              "      <td>5</td>\n",
              "      <td>14</td>\n",
              "    </tr>\n",
              "  </tbody>\n",
              "</table>\n",
              "</div>\n",
              "      <button class=\"colab-df-convert\" onclick=\"convertToInteractive('df-fa4b181c-800c-4e66-913b-bd7227a2e6db')\"\n",
              "              title=\"Convert this dataframe to an interactive table.\"\n",
              "              style=\"display:none;\">\n",
              "        \n",
              "  <svg xmlns=\"http://www.w3.org/2000/svg\" height=\"24px\"viewBox=\"0 0 24 24\"\n",
              "       width=\"24px\">\n",
              "    <path d=\"M0 0h24v24H0V0z\" fill=\"none\"/>\n",
              "    <path d=\"M18.56 5.44l.94 2.06.94-2.06 2.06-.94-2.06-.94-.94-2.06-.94 2.06-2.06.94zm-11 1L8.5 8.5l.94-2.06 2.06-.94-2.06-.94L8.5 2.5l-.94 2.06-2.06.94zm10 10l.94 2.06.94-2.06 2.06-.94-2.06-.94-.94-2.06-.94 2.06-2.06.94z\"/><path d=\"M17.41 7.96l-1.37-1.37c-.4-.4-.92-.59-1.43-.59-.52 0-1.04.2-1.43.59L10.3 9.45l-7.72 7.72c-.78.78-.78 2.05 0 2.83L4 21.41c.39.39.9.59 1.41.59.51 0 1.02-.2 1.41-.59l7.78-7.78 2.81-2.81c.8-.78.8-2.07 0-2.86zM5.41 20L4 18.59l7.72-7.72 1.47 1.35L5.41 20z\"/>\n",
              "  </svg>\n",
              "      </button>\n",
              "      \n",
              "  <style>\n",
              "    .colab-df-container {\n",
              "      display:flex;\n",
              "      flex-wrap:wrap;\n",
              "      gap: 12px;\n",
              "    }\n",
              "\n",
              "    .colab-df-convert {\n",
              "      background-color: #E8F0FE;\n",
              "      border: none;\n",
              "      border-radius: 50%;\n",
              "      cursor: pointer;\n",
              "      display: none;\n",
              "      fill: #1967D2;\n",
              "      height: 32px;\n",
              "      padding: 0 0 0 0;\n",
              "      width: 32px;\n",
              "    }\n",
              "\n",
              "    .colab-df-convert:hover {\n",
              "      background-color: #E2EBFA;\n",
              "      box-shadow: 0px 1px 2px rgba(60, 64, 67, 0.3), 0px 1px 3px 1px rgba(60, 64, 67, 0.15);\n",
              "      fill: #174EA6;\n",
              "    }\n",
              "\n",
              "    [theme=dark] .colab-df-convert {\n",
              "      background-color: #3B4455;\n",
              "      fill: #D2E3FC;\n",
              "    }\n",
              "\n",
              "    [theme=dark] .colab-df-convert:hover {\n",
              "      background-color: #434B5C;\n",
              "      box-shadow: 0px 1px 3px 1px rgba(0, 0, 0, 0.15);\n",
              "      filter: drop-shadow(0px 1px 2px rgba(0, 0, 0, 0.3));\n",
              "      fill: #FFFFFF;\n",
              "    }\n",
              "  </style>\n",
              "\n",
              "      <script>\n",
              "        const buttonEl =\n",
              "          document.querySelector('#df-fa4b181c-800c-4e66-913b-bd7227a2e6db button.colab-df-convert');\n",
              "        buttonEl.style.display =\n",
              "          google.colab.kernel.accessAllowed ? 'block' : 'none';\n",
              "\n",
              "        async function convertToInteractive(key) {\n",
              "          const element = document.querySelector('#df-fa4b181c-800c-4e66-913b-bd7227a2e6db');\n",
              "          const dataTable =\n",
              "            await google.colab.kernel.invokeFunction('convertToInteractive',\n",
              "                                                     [key], {});\n",
              "          if (!dataTable) return;\n",
              "\n",
              "          const docLinkHtml = 'Like what you see? Visit the ' +\n",
              "            '<a target=\"_blank\" href=https://colab.research.google.com/notebooks/data_table.ipynb>data table notebook</a>'\n",
              "            + ' to learn more about interactive tables.';\n",
              "          element.innerHTML = '';\n",
              "          dataTable['output_type'] = 'display_data';\n",
              "          await google.colab.output.renderOutput(dataTable, element);\n",
              "          const docLink = document.createElement('div');\n",
              "          docLink.innerHTML = docLinkHtml;\n",
              "          element.appendChild(docLink);\n",
              "        }\n",
              "      </script>\n",
              "    </div>\n",
              "  </div>\n",
              "  "
            ],
            "text/plain": [
              "   src  dst\n",
              "0    1    2\n",
              "1    1    4\n",
              "2    3    4\n",
              "3    3    5\n",
              "4    5    6\n",
              "5    5   10\n",
              "6    5   12\n",
              "7    5   14"
            ]
          },
          "metadata": {},
          "execution_count": 5
        }
      ]
    },
    {
      "cell_type": "code",
      "source": [
        "import networkx as nx\n",
        "g = nx.from_pandas_edgelist(data, \"src\",\"dst\")\n",
        "nx.draw_networkx(g)"
      ],
      "metadata": {
        "colab": {
          "base_uri": "https://localhost:8080/",
          "height": 248
        },
        "id": "1CGc9kOjK8ay",
        "outputId": "9177aca6-c69b-44e8-c66d-a091ee194ca4"
      },
      "execution_count": null,
      "outputs": [
        {
          "output_type": "display_data",
          "data": {
            "image/png": "[encoded data removed]",
            "text/plain": [
              "<Figure size 432x288 with 1 Axes>"
            ]
          },
          "metadata": {}
        }
      ]
    },
    {
      "cell_type": "markdown",
      "source": [
        "data must be in order"
      ],
      "metadata": {
        "id": "lsKJHvv65j0j"
      }
    },
    {
      "cell_type": "code",
      "source": [
        "#adjucency matrix without chunking\n",
        "adjc = pd.crosstab(data.src, data.dst)\n",
        "idx = adjc.columns.union(adjc.index)\n",
        "up_adj_mtx = adjc.reindex(index = idx, columns=idx, fill_value=0)\n"
      ],
      "metadata": {
        "id": "t-sV7bOInoQR"
      },
      "execution_count": null,
      "outputs": []
    },
    {
      "cell_type": "code",
      "source": [
        "print(up_adj_mtx)"
      ],
      "metadata": {
        "colab": {
          "base_uri": "https://localhost:8080/"
        },
        "id": "-h8TFoiNkLbm",
        "outputId": "bbbf7076-914a-4920-eb94-beab1cc359ec"
      },
      "execution_count": null,
      "outputs": [
        {
          "output_type": "stream",
          "name": "stdout",
          "text": [
            "    1   2   3   4   5   6   10  12  14\n",
            "1    0   1   0   1   0   0   0   0   0\n",
            "2    0   0   0   0   0   0   0   0   0\n",
            "3    0   0   0   1   1   0   0   0   0\n",
            "4    0   0   0   0   0   0   0   0   0\n",
            "5    0   0   0   0   0   1   1   1   1\n",
            "6    0   0   0   0   0   0   0   0   0\n",
            "10   0   0   0   0   0   0   0   0   0\n",
            "12   0   0   0   0   0   0   0   0   0\n",
            "14   0   0   0   0   0   0   0   0   0\n"
          ]
        }
      ]
    },
    {
      "cell_type": "code",
      "source": [
        "adj_mtx=up_adj_mtx\n",
        "for i in adj_mtx:\n",
        "  for j in adj_mtx:\n",
        "    if(adj_mtx[i][j]!=0):\n",
        "       adj_mtx[j][i]=adj_mtx[i][j]"
      ],
      "metadata": {
        "id": "fNQtO5dW1kxr"
      },
      "execution_count": null,
      "outputs": []
    },
    {
      "cell_type": "code",
      "source": [
        "adj_mtx=adj_mtx.to_numpy()\n",
        "print(adj_mtx)"
      ],
      "metadata": {
        "colab": {
          "base_uri": "https://localhost:8080/"
        },
        "id": "LvNvEnJl9-r9",
        "outputId": "0712d896-bfb4-4127-8e11-8f51246de425"
      },
      "execution_count": null,
      "outputs": [
        {
          "output_type": "stream",
          "name": "stdout",
          "text": [
            "[[0 1 0 1 0 0 0 0 0]\n",
            " [1 0 0 0 0 0 0 0 0]\n",
            " [0 0 0 1 1 0 0 0 0]\n",
            " [1 0 1 0 0 0 0 0 0]\n",
            " [0 0 1 0 0 1 1 1 1]\n",
            " [0 0 0 0 1 0 0 0 0]\n",
            " [0 0 0 0 1 0 0 0 0]\n",
            " [0 0 0 0 1 0 0 0 0]\n",
            " [0 0 0 0 1 0 0 0 0]]\n"
          ]
        }
      ]
    },
    {
      "cell_type": "code",
      "source": [
        "#adjucency matrix with chunking\n",
        "\n",
        "#for data in pd.read_csv(path, chunksize=2):\n",
        "#    print (data)\n",
        "#    data1 = pd.crosstab(data.src, data.dst)\n",
        "#    idx = data1.columns.union(data1.index)\n",
        "#    data2 = data1.reindex(index = idx, columns=idx, fill_value=0)\n",
        "#    print(data2)"
      ],
      "metadata": {
        "id": "Jb1lh_l6FhJV"
      },
      "execution_count": null,
      "outputs": []
    },
    {
      "cell_type": "markdown",
      "source": [
        "part2"
      ],
      "metadata": {
        "id": "Y35hSJXG4ujG"
      }
    },
    {
      "cell_type": "markdown",
      "source": [
        "common firend(CF):one of the measure for similarity in social networks is the number of firends,shared.given the sicial network G and two nodes u and v all vertics that are on a path wih the length of two between these two nodes are common firends of the nodes.\n",
        "در مربع ماتریس مجاورت درایه\"آی جی ام\"و غیر واقع بر قطر اصلی مربع ماتریس مجاورت نشان دهنده تعدا مسیر به طول دو بین دو راس آی و جی هست"
      ],
      "metadata": {
        "id": "jSv_sB-KBG7W"
      }
    },
    {
      "cell_type": "code",
      "source": [
        "#common firend\n",
        "\n",
        "CF=np.dot(adj_mtx,adj_mtx) #matrix multiplication\n",
        "#print(CF,'\\n')\n",
        "\n",
        "CF=CF - np.diag(np.diag(CF))#matrix off_diagonal\n",
        "print(CF)"
      ],
      "metadata": {
        "colab": {
          "base_uri": "https://localhost:8080/"
        },
        "id": "KQN6DlBJ4wTe",
        "outputId": "d518dc2e-c7de-44c3-cab6-b6a2275df460"
      },
      "execution_count": null,
      "outputs": [
        {
          "output_type": "stream",
          "name": "stdout",
          "text": [
            "[[0 0 1 0 0 0 0 0 0]\n",
            " [0 0 0 1 0 0 0 0 0]\n",
            " [1 0 0 0 0 1 1 1 1]\n",
            " [0 1 0 0 1 0 0 0 0]\n",
            " [0 0 0 1 0 0 0 0 0]\n",
            " [0 0 1 0 0 0 1 1 1]\n",
            " [0 0 1 0 0 1 0 1 1]\n",
            " [0 0 1 0 0 1 1 0 1]\n",
            " [0 0 1 0 0 1 1 1 0]]\n"
          ]
        }
      ]
    },
    {
      "cell_type": "code",
      "source": [
        "#total_firend\n",
        "\n",
        "adjc = pd.crosstab(data.src, data.dst)\n",
        "idx = adjc.columns.union(adjc.index)\n",
        "up_adj_mtx = adjc.reindex(index = idx, columns=idx, fill_value=0)\n",
        "up_adj_mtx=up_adj_mtx.to_numpy()\n",
        "#print(up_adj_mtx)"
      ],
      "metadata": {
        "id": "LmbUtBc_qZm8"
      },
      "execution_count": null,
      "outputs": []
    },
    {
      "cell_type": "code",
      "source": [
        "i=up_adj_mtx.shape[0]\n",
        "c=np.zeros(shape=(i,i))\n",
        "for i in range(0,up_adj_mtx.shape[0]):\n",
        "  for j in range(0,up_adj_mtx.shape[1]):\n",
        "     if i==j:\n",
        "       c[i,j]=(sum(up_adj_mtx[i,:])+sum(up_adj_mtx[:,j]))\n",
        "#print(c)"
      ],
      "metadata": {
        "id": "NN7vgxI9IR9S"
      },
      "execution_count": null,
      "outputs": []
    },
    {
      "cell_type": "code",
      "source": [
        "i=c.shape[0]\n",
        "TF=np.zeros(shape=(i,i))\n",
        "for i in range(0,c.shape[0]):\n",
        "  for j in range(0,c.shape[1]):\n",
        "    TF[i,j]=c[i,i]+c[j,j]\n",
        "TF=TF - np.diag(np.diag(TF))#matrix off_diagonal\n",
        "print(TF)"
      ],
      "metadata": {
        "colab": {
          "base_uri": "https://localhost:8080/"
        },
        "id": "19E_w0_qW1W_",
        "outputId": "590e48bc-d43e-477a-de96-dcddf38aa108"
      },
      "execution_count": null,
      "outputs": [
        {
          "output_type": "stream",
          "name": "stdout",
          "text": [
            "[[0. 3. 4. 4. 7. 3. 3. 3. 3.]\n",
            " [3. 0. 3. 3. 6. 2. 2. 2. 2.]\n",
            " [4. 3. 0. 4. 7. 3. 3. 3. 3.]\n",
            " [4. 3. 4. 0. 7. 3. 3. 3. 3.]\n",
            " [7. 6. 7. 7. 0. 6. 6. 6. 6.]\n",
            " [3. 2. 3. 3. 6. 0. 2. 2. 2.]\n",
            " [3. 2. 3. 3. 6. 2. 0. 2. 2.]\n",
            " [3. 2. 3. 3. 6. 2. 2. 0. 2.]\n",
            " [3. 2. 3. 3. 6. 2. 2. 2. 0.]]\n"
          ]
        }
      ]
    },
    {
      "cell_type": "code",
      "source": [
        "#jaccard_similarity\n",
        "\n",
        "i=adj_mtx.shape[0]\n",
        "jaccard_similarity=np.zeros(shape=(i,i))\n",
        "for i in range(0,jaccard_similarity.shape[0]):\n",
        "  for j in range(0,jaccard_similarity.shape[1]):\n",
        "    if CF[i,j]==0 or TF[i,j]==0:\n",
        "       jaccard_similarity[i,j]==0\n",
        "    else:\n",
        "       #jaccard_similarity[i,j]=(CF[i,j]/TF[i,j])\n",
        "       jaccard_similarity[i,j]=np.divide(CF[i,j],TF[i,j])\n",
        "       jaccard_similarity=np.round(jaccard_similarity,2)\n",
        "\n",
        "jaccard_similarity=jaccard_similarity - np.diag(np.diag(jaccard_similarity))#matrix off_diagonal\n",
        "print(jaccard_similarity)\n"
      ],
      "metadata": {
        "id": "Y50h9kYtzxx7",
        "colab": {
          "base_uri": "https://localhost:8080/"
        },
        "outputId": "efb10af1-db85-47b1-c326-a327b740e4dd"
      },
      "execution_count": null,
      "outputs": [
        {
          "output_type": "stream",
          "name": "stdout",
          "text": [
            "[[0.   0.   0.25 0.   0.   0.   0.   0.   0.  ]\n",
            " [0.   0.   0.   0.33 0.   0.   0.   0.   0.  ]\n",
            " [0.25 0.   0.   0.   0.   0.33 0.33 0.33 0.33]\n",
            " [0.   0.33 0.   0.   0.14 0.   0.   0.   0.  ]\n",
            " [0.   0.   0.   0.14 0.   0.   0.   0.   0.  ]\n",
            " [0.   0.   0.33 0.   0.   0.   0.5  0.5  0.5 ]\n",
            " [0.   0.   0.33 0.   0.   0.5  0.   0.5  0.5 ]\n",
            " [0.   0.   0.33 0.   0.   0.5  0.5  0.   0.5 ]\n",
            " [0.   0.   0.33 0.   0.   0.5  0.5  0.5  0.  ]]\n"
          ]
        }
      ]
    },
    {
      "cell_type": "code",
      "source": [
        "#cosine_similarity\n",
        "\n",
        "i=up_adj_mtx.shape[0]\n",
        "cosine_similarity1=np.zeros(shape=(i,i))\n",
        "for i in range(0,cosine_similarity1.shape[0]):\n",
        "  for j in range(0,cosine_similarity1.shape[1]):\n",
        "       cosine_similarity1[i,j]=sqrt((c[i,i])*(c[j,j]))\n",
        "\n",
        "#print(cosine_similarity1)"
      ],
      "metadata": {
        "id": "DrlUDobEC-Gd"
      },
      "execution_count": null,
      "outputs": []
    },
    {
      "cell_type": "code",
      "source": [
        "i=adj_mtx.shape[0]\n",
        "cosine_similarity=np.zeros(shape=(i,i))\n",
        "for i in range(0,cosine_similarity.shape[0]):\n",
        "  for j in range(0,cosine_similarity.shape[1]):\n",
        "    if CF[i,j]==0 or cosine_similarity1[i,j]==0:\n",
        "       cosine_similarity[i,j]==0\n",
        "    else:\n",
        "       cosine_similarity[i,j]=np.divide(CF[i,j],cosine_similarity1[i,j])\n",
        "       cosine_similarity=np.round(cosine_similarity,2)\n",
        "\n",
        "cosine_similarity=cosine_similarity - np.diag(np.diag(cosine_similarity))#matrix off_diagonal\n",
        "print(cosine_similarity)"
      ],
      "metadata": {
        "colab": {
          "base_uri": "https://localhost:8080/"
        },
        "id": "kH3zRItHz1DA",
        "outputId": "bb63ec04-20ea-47f8-aefc-cecf5a1f935d"
      },
      "execution_count": null,
      "outputs": [
        {
          "output_type": "stream",
          "name": "stdout",
          "text": [
            "[[0.   0.   0.5  0.   0.   0.   0.   0.   0.  ]\n",
            " [0.   0.   0.   0.71 0.   0.   0.   0.   0.  ]\n",
            " [0.5  0.   0.   0.   0.   0.71 0.71 0.71 0.71]\n",
            " [0.   0.71 0.   0.   0.32 0.   0.   0.   0.  ]\n",
            " [0.   0.   0.   0.32 0.   0.   0.   0.   0.  ]\n",
            " [0.   0.   0.71 0.   0.   0.   1.   1.   1.  ]\n",
            " [0.   0.   0.71 0.   0.   1.   0.   1.   1.  ]\n",
            " [0.   0.   0.71 0.   0.   1.   1.   0.   1.  ]\n",
            " [0.   0.   0.71 0.   0.   1.   1.   1.   0.  ]]\n"
          ]
        }
      ]
    },
    {
      "cell_type": "code",
      "source": [
        "cosine_similarity = pairwise_distances(up_adj_mtx, metric='cosine')\n",
        "print(cosine_similarity)"
      ],
      "metadata": {
        "colab": {
          "base_uri": "https://localhost:8080/"
        },
        "id": "dvJCdFmG9tPl",
        "outputId": "acfa22fc-bde5-42f4-98b4-61be4afdfd16"
      },
      "execution_count": null,
      "outputs": [
        {
          "output_type": "stream",
          "name": "stdout",
          "text": [
            "[[0.  1.  0.5 1.  1.  1.  1.  1.  1. ]\n",
            " [1.  0.  1.  1.  1.  1.  1.  1.  1. ]\n",
            " [0.5 1.  0.  1.  1.  1.  1.  1.  1. ]\n",
            " [1.  1.  1.  0.  1.  1.  1.  1.  1. ]\n",
            " [1.  1.  1.  1.  0.  1.  1.  1.  1. ]\n",
            " [1.  1.  1.  1.  1.  0.  1.  1.  1. ]\n",
            " [1.  1.  1.  1.  1.  1.  0.  1.  1. ]\n",
            " [1.  1.  1.  1.  1.  1.  1.  0.  1. ]\n",
            " [1.  1.  1.  1.  1.  1.  1.  1.  0. ]]\n"
          ]
        }
      ]
    },
    {
      "cell_type": "code",
      "source": [
        "#L1_norm()\n",
        " \n",
        "i=up_adj_mtx.shape[0]\n",
        "L1_norm1=np.zeros(shape=(i,i))\n",
        "for i in range(0,L1_norm1.shape[0]):\n",
        "  for j in range(0,L1_norm1.shape[1]):\n",
        "       L1_norm1[i,j]=(c[i,i])*(c[j,j])\n",
        "\n",
        "#print(L1_norm1)"
      ],
      "metadata": {
        "id": "FhzJpELXHIdN"
      },
      "execution_count": null,
      "outputs": []
    },
    {
      "cell_type": "code",
      "source": [
        "i=adj_mtx.shape[0]\n",
        "L1_norm=np.zeros(shape=(i,i))\n",
        "for i in range(0,L1_norm.shape[0]):\n",
        "  for j in range(0,L1_norm.shape[1]):\n",
        "    if CF[i,j]==0 or L1_norm1[i,j]==0:\n",
        "       L1_norm[i,j]==0\n",
        "    else:\n",
        "       #jaccard_similarity[i,j]=(CF[i,j]/TF[i,j])\n",
        "       L1_norm[i,j]=np.divide(CF[i,j],L1_norm1[i,j])\n",
        "       L1_norm=np.round(L1_norm,2)\n",
        "\n",
        "L1_norm=L1_norm - np.diag(np.diag(L1_norm))#matrix off_diagonal\n",
        "print(L1_norm)"
      ],
      "metadata": {
        "colab": {
          "base_uri": "https://localhost:8080/"
        },
        "id": "jUsVygMw1T8K",
        "outputId": "d94d30b1-feb5-4efb-e35d-50c0bfde928d"
      },
      "execution_count": null,
      "outputs": [
        {
          "output_type": "stream",
          "name": "stdout",
          "text": [
            "[[0.   0.   0.25 0.   0.   0.   0.   0.   0.  ]\n",
            " [0.   0.   0.   0.5  0.   0.   0.   0.   0.  ]\n",
            " [0.25 0.   0.   0.   0.   0.5  0.5  0.5  0.5 ]\n",
            " [0.   0.5  0.   0.   0.1  0.   0.   0.   0.  ]\n",
            " [0.   0.   0.   0.1  0.   0.   0.   0.   0.  ]\n",
            " [0.   0.   0.5  0.   0.   0.   1.   1.   1.  ]\n",
            " [0.   0.   0.5  0.   0.   1.   0.   1.   1.  ]\n",
            " [0.   0.   0.5  0.   0.   1.   1.   0.   1.  ]\n",
            " [0.   0.   0.5  0.   0.   1.   1.   1.   0.  ]]\n"
          ]
        }
      ]
    },
    {
      "cell_type": "code",
      "source": [
        "#edge_weight_measure\n",
        "\n",
        "i=up_adj_mtx.shape[0]\n",
        "ewm=np.zeros(shape=(i,i))\n",
        "for i in range(0,ewm.shape[0]):\n",
        "  for j in range(0,ewm.shape[1]):\n",
        "     if i==j:\n",
        "       ewm[i,j]=1/sqrt(1+c[i,i])\n",
        "       ewm=np.round(ewm)\n",
        "\n",
        "#print(ewm)"
      ],
      "metadata": {
        "id": "4qos6gmu2KiK"
      },
      "execution_count": null,
      "outputs": []
    },
    {
      "cell_type": "code",
      "source": [
        "i=up_adj_mtx.shape[0]\n",
        "wsum=np.zeros(shape=(i,i))\n",
        "for i in range(0,wsum.shape[0]):\n",
        "  for j in range(0,wsum.shape[1]):\n",
        "    wsum[i,j]=ewm[i,i]+ewm[j,j]\n",
        "    #wsum=np.round(wsum)\n",
        "print(wsum)"
      ],
      "metadata": {
        "colab": {
          "base_uri": "https://localhost:8080/"
        },
        "id": "HBeOFTN17CDf",
        "outputId": "82cb3bf4-88b9-4285-f37b-95f0a24c74ac"
      },
      "execution_count": null,
      "outputs": [
        {
          "output_type": "stream",
          "name": "stdout",
          "text": [
            "[[2. 2. 2. 2. 1. 2. 2. 2. 2.]\n",
            " [2. 2. 2. 2. 1. 2. 2. 2. 2.]\n",
            " [2. 2. 2. 2. 1. 2. 2. 2. 2.]\n",
            " [2. 2. 2. 2. 1. 2. 2. 2. 2.]\n",
            " [1. 1. 1. 1. 0. 1. 1. 1. 1.]\n",
            " [2. 2. 2. 2. 1. 2. 2. 2. 2.]\n",
            " [2. 2. 2. 2. 1. 2. 2. 2. 2.]\n",
            " [2. 2. 2. 2. 1. 2. 2. 2. 2.]\n",
            " [2. 2. 2. 2. 1. 2. 2. 2. 2.]]\n"
          ]
        }
      ]
    },
    {
      "cell_type": "code",
      "source": [
        "i=up_adj_mtx.shape[0]\n",
        "wmul=np.zeros(shape=(i,i))\n",
        "for i in range(0,wmul.shape[0]):\n",
        "  for j in range(0,wmul.shape[1]):\n",
        "    wmul[i,j]=ewm[i,i]*ewm[j,j]\n",
        "    wmul=np.round(wmul,2)\n",
        "print(wmul)"
      ],
      "metadata": {
        "colab": {
          "base_uri": "https://localhost:8080/"
        },
        "id": "NBImwel48wje",
        "outputId": "45dad317-7834-4498-ed1e-94a4e36876f0"
      },
      "execution_count": null,
      "outputs": [
        {
          "output_type": "stream",
          "name": "stdout",
          "text": [
            "[[1. 1. 1. 1. 0. 1. 1. 1. 1.]\n",
            " [1. 1. 1. 1. 0. 1. 1. 1. 1.]\n",
            " [1. 1. 1. 1. 0. 1. 1. 1. 1.]\n",
            " [1. 1. 1. 1. 0. 1. 1. 1. 1.]\n",
            " [0. 0. 0. 0. 0. 0. 0. 0. 0.]\n",
            " [1. 1. 1. 1. 0. 1. 1. 1. 1.]\n",
            " [1. 1. 1. 1. 0. 1. 1. 1. 1.]\n",
            " [1. 1. 1. 1. 0. 1. 1. 1. 1.]\n",
            " [1. 1. 1. 1. 0. 1. 1. 1. 1.]]\n"
          ]
        }
      ]
    },
    {
      "cell_type": "markdown",
      "source": [
        "t_sne section\n",
        "\n",
        "actual data"
      ],
      "metadata": {
        "id": "ca25bPE7rOht"
      }
    },
    {
      "cell_type": "code",
      "source": [
        "print('CF:','\\n',CF, '\\n')\n",
        "print('TF:','\\n',TF, '\\n ')"
      ],
      "metadata": {
        "colab": {
          "base_uri": "https://localhost:8080/"
        },
        "id": "xIC9O_h6rQ99",
        "outputId": "04a5d9da-7c4f-4c28-c270-1133969d11f4"
      },
      "execution_count": null,
      "outputs": [
        {
          "output_type": "stream",
          "name": "stdout",
          "text": [
            "CF: \n",
            " [[0 0 1 0 0 0 0 0 0]\n",
            " [0 0 0 1 0 0 0 0 0]\n",
            " [1 0 0 0 0 1 1 1 1]\n",
            " [0 1 0 0 1 0 0 0 0]\n",
            " [0 0 0 1 0 0 0 0 0]\n",
            " [0 0 1 0 0 0 1 1 1]\n",
            " [0 0 1 0 0 1 0 1 1]\n",
            " [0 0 1 0 0 1 1 0 1]\n",
            " [0 0 1 0 0 1 1 1 0]] \n",
            "\n",
            "TF: \n",
            " [[0. 3. 4. 4. 7. 3. 3. 3. 3.]\n",
            " [3. 0. 3. 3. 6. 2. 2. 2. 2.]\n",
            " [4. 3. 0. 4. 7. 3. 3. 3. 3.]\n",
            " [4. 3. 4. 0. 7. 3. 3. 3. 3.]\n",
            " [7. 6. 7. 7. 0. 6. 6. 6. 6.]\n",
            " [3. 2. 3. 3. 6. 0. 2. 2. 2.]\n",
            " [3. 2. 3. 3. 6. 2. 0. 2. 2.]\n",
            " [3. 2. 3. 3. 6. 2. 2. 0. 2.]\n",
            " [3. 2. 3. 3. 6. 2. 2. 2. 0.]] \n",
            " \n"
          ]
        }
      ]
    },
    {
      "cell_type": "code",
      "source": [
        "print('jaccard_similarity:','\\n',jaccard_similarity, '\\n ')\n",
        "print('cosine_similarity:','\\n',cosine_similarity, '\\n ')"
      ],
      "metadata": {
        "colab": {
          "base_uri": "https://localhost:8080/"
        },
        "id": "uUpWxyiGtdtg",
        "outputId": "cc08b091-3e26-4b1a-e803-17ab2a4a1fac"
      },
      "execution_count": null,
      "outputs": [
        {
          "output_type": "stream",
          "name": "stdout",
          "text": [
            "jaccard_similarity: \n",
            " [[0.   0.   0.25 0.   0.   0.   0.   0.   0.  ]\n",
            " [0.   0.   0.   0.33 0.   0.   0.   0.   0.  ]\n",
            " [0.25 0.   0.   0.   0.   0.33 0.33 0.33 0.33]\n",
            " [0.   0.33 0.   0.   0.14 0.   0.   0.   0.  ]\n",
            " [0.   0.   0.   0.14 0.   0.   0.   0.   0.  ]\n",
            " [0.   0.   0.33 0.   0.   0.   0.5  0.5  0.5 ]\n",
            " [0.   0.   0.33 0.   0.   0.5  0.   0.5  0.5 ]\n",
            " [0.   0.   0.33 0.   0.   0.5  0.5  0.   0.5 ]\n",
            " [0.   0.   0.33 0.   0.   0.5  0.5  0.5  0.  ]] \n",
            " \n",
            "cosine_similarity: \n",
            " [[0.  1.  0.5 1.  1.  1.  1.  1.  1. ]\n",
            " [1.  0.  1.  1.  1.  1.  1.  1.  1. ]\n",
            " [0.5 1.  0.  1.  1.  1.  1.  1.  1. ]\n",
            " [1.  1.  1.  0.  1.  1.  1.  1.  1. ]\n",
            " [1.  1.  1.  1.  0.  1.  1.  1.  1. ]\n",
            " [1.  1.  1.  1.  1.  0.  1.  1.  1. ]\n",
            " [1.  1.  1.  1.  1.  1.  0.  1.  1. ]\n",
            " [1.  1.  1.  1.  1.  1.  1.  0.  1. ]\n",
            " [1.  1.  1.  1.  1.  1.  1.  1.  0. ]] \n",
            " \n"
          ]
        }
      ]
    },
    {
      "cell_type": "code",
      "source": [
        "print('L1_norm:','\\n',L1_norm, '\\n ')\n",
        "print('wsum:','\\n',wsum, '\\n ')\n",
        "print('wmul:','\\n',wmul, '\\n ')"
      ],
      "metadata": {
        "colab": {
          "base_uri": "https://localhost:8080/"
        },
        "id": "vGkv6K7Atxzr",
        "outputId": "b8148763-f3a9-4c86-81de-9f8670227fcb"
      },
      "execution_count": null,
      "outputs": [
        {
          "output_type": "stream",
          "name": "stdout",
          "text": [
            "L1_norm: \n",
            " [[0.   0.   0.25 0.   0.   0.   0.   0.   0.  ]\n",
            " [0.   0.   0.   0.5  0.   0.   0.   0.   0.  ]\n",
            " [0.25 0.   0.   0.   0.   0.5  0.5  0.5  0.5 ]\n",
            " [0.   0.5  0.   0.   0.1  0.   0.   0.   0.  ]\n",
            " [0.   0.   0.   0.1  0.   0.   0.   0.   0.  ]\n",
            " [0.   0.   0.5  0.   0.   0.   1.   1.   1.  ]\n",
            " [0.   0.   0.5  0.   0.   1.   0.   1.   1.  ]\n",
            " [0.   0.   0.5  0.   0.   1.   1.   0.   1.  ]\n",
            " [0.   0.   0.5  0.   0.   1.   1.   1.   0.  ]] \n",
            " \n",
            "wsum: \n",
            " [[2. 2. 2. 2. 1. 2. 2. 2. 2.]\n",
            " [2. 2. 2. 2. 1. 2. 2. 2. 2.]\n",
            " [2. 2. 2. 2. 1. 2. 2. 2. 2.]\n",
            " [2. 2. 2. 2. 1. 2. 2. 2. 2.]\n",
            " [1. 1. 1. 1. 0. 1. 1. 1. 1.]\n",
            " [2. 2. 2. 2. 1. 2. 2. 2. 2.]\n",
            " [2. 2. 2. 2. 1. 2. 2. 2. 2.]\n",
            " [2. 2. 2. 2. 1. 2. 2. 2. 2.]\n",
            " [2. 2. 2. 2. 1. 2. 2. 2. 2.]] \n",
            " \n",
            "wmul: \n",
            " [[1. 1. 1. 1. 0. 1. 1. 1. 1.]\n",
            " [1. 1. 1. 1. 0. 1. 1. 1. 1.]\n",
            " [1. 1. 1. 1. 0. 1. 1. 1. 1.]\n",
            " [1. 1. 1. 1. 0. 1. 1. 1. 1.]\n",
            " [0. 0. 0. 0. 0. 0. 0. 0. 0.]\n",
            " [1. 1. 1. 1. 0. 1. 1. 1. 1.]\n",
            " [1. 1. 1. 1. 0. 1. 1. 1. 1.]\n",
            " [1. 1. 1. 1. 0. 1. 1. 1. 1.]\n",
            " [1. 1. 1. 1. 0. 1. 1. 1. 1.]] \n",
            " \n"
          ]
        }
      ]
    },
    {
      "cell_type": "code",
      "source": [
        "euclidean_distances = pairwise_distances(up_adj_mtx, metric='euclidean', squared=True)\n",
        "print('euclidean_distances:','\\n',euclidean_distances, '\\n ')"
      ],
      "metadata": {
        "colab": {
          "base_uri": "https://localhost:8080/"
        },
        "id": "kricErGQ0p1L",
        "outputId": "c90fed6c-c31c-41f2-98ce-dcdc704511ec"
      },
      "execution_count": null,
      "outputs": [
        {
          "output_type": "stream",
          "name": "stdout",
          "text": [
            "euclidean_distances: \n",
            " [[0. 2. 2. 2. 6. 2. 2. 2. 2.]\n",
            " [2. 0. 2. 0. 4. 0. 0. 0. 0.]\n",
            " [2. 2. 0. 2. 6. 2. 2. 2. 2.]\n",
            " [2. 0. 2. 0. 4. 0. 0. 0. 0.]\n",
            " [6. 4. 6. 4. 0. 4. 4. 4. 4.]\n",
            " [2. 0. 2. 0. 4. 0. 0. 0. 0.]\n",
            " [2. 0. 2. 0. 4. 0. 0. 0. 0.]\n",
            " [2. 0. 2. 0. 4. 0. 0. 0. 0.]\n",
            " [2. 0. 2. 0. 4. 0. 0. 0. 0.]] \n",
            " \n"
          ]
        }
      ]
    },
    {
      "cell_type": "markdown",
      "source": [
        "t_sne implementation"
      ],
      "metadata": {
        "id": "gxxG3NeK2EU1"
      }
    },
    {
      "cell_type": "code",
      "source": [
        "CF_embedded = TSNE(n_components=1, learning_rate='auto',\n",
        "                   init='random').fit_transform(CF)\n",
        "CF_embedded.shape"
      ],
      "metadata": {
        "colab": {
          "base_uri": "https://localhost:8080/"
        },
        "id": "E1_7KgzIfQMJ",
        "outputId": "8a4f5212-4bc8-4efb-e5db-1ef31f431486"
      },
      "execution_count": null,
      "outputs": [
        {
          "output_type": "execute_result",
          "data": {
            "text/plain": [
              "(9, 1)"
            ]
          },
          "metadata": {},
          "execution_count": 29
        }
      ]
    },
    {
      "cell_type": "code",
      "source": [
        "print('CF_embedded:','\\n',CF_embedded, '\\n ')"
      ],
      "metadata": {
        "colab": {
          "base_uri": "https://localhost:8080/"
        },
        "id": "BspQhGbnrCOJ",
        "outputId": "5d2da679-ac8b-4216-ccb8-93fc538b7c7d"
      },
      "execution_count": null,
      "outputs": [
        {
          "output_type": "stream",
          "name": "stdout",
          "text": [
            "CF_embedded: \n",
            " [[ 176.15851 ]\n",
            " [ 161.26678 ]\n",
            " [ -90.07316 ]\n",
            " [-153.0869  ]\n",
            " [-235.8407  ]\n",
            " [  64.46424 ]\n",
            " [ -48.570732]\n",
            " [  95.29342 ]\n",
            " [  96.22285 ]] \n",
            " \n"
          ]
        }
      ]
    },
    {
      "cell_type": "code",
      "source": [
        "TF_embedded = TSNE(n_components=1, learning_rate='auto',\n",
        "                   init='random').fit_transform(TF)\n",
        "TF_embedded.shape"
      ],
      "metadata": {
        "colab": {
          "base_uri": "https://localhost:8080/"
        },
        "id": "QsGVUntXtBsi",
        "outputId": "bb34acf5-9cd9-4a31-ecc3-bf57bc7320b3"
      },
      "execution_count": null,
      "outputs": [
        {
          "output_type": "execute_result",
          "data": {
            "text/plain": [
              "(9, 1)"
            ]
          },
          "metadata": {},
          "execution_count": 31
        }
      ]
    },
    {
      "cell_type": "code",
      "source": [
        "print('TF_embedded:','\\n',TF_embedded, '\\n ')"
      ],
      "metadata": {
        "colab": {
          "base_uri": "https://localhost:8080/"
        },
        "id": "D9kzjKv-tbZe",
        "outputId": "56f8cb95-9d51-479f-f245-7da062724a3e"
      },
      "execution_count": null,
      "outputs": [
        {
          "output_type": "stream",
          "name": "stdout",
          "text": [
            "TF_embedded: \n",
            " [[ -6.184548]\n",
            " [  8.55129 ]\n",
            " [ 67.92217 ]\n",
            " [ 37.229626]\n",
            " [-40.3258  ]\n",
            " [ 51.96888 ]\n",
            " [ 22.887758]\n",
            " [-21.907274]\n",
            " [ 86.40291 ]] \n",
            " \n"
          ]
        }
      ]
    },
    {
      "cell_type": "code",
      "source": [
        "jaccard_similarity_embedded = TSNE(n_components=1, learning_rate='auto',\n",
        "                   init='random').fit_transform(jaccard_similarity)\n",
        "jaccard_similarity_embedded.shape"
      ],
      "metadata": {
        "colab": {
          "base_uri": "https://localhost:8080/"
        },
        "id": "Ha6soUT5te2m",
        "outputId": "e24afe9b-3a1a-4147-dde8-a4d5cd078c9f"
      },
      "execution_count": null,
      "outputs": [
        {
          "output_type": "execute_result",
          "data": {
            "text/plain": [
              "(9, 1)"
            ]
          },
          "metadata": {},
          "execution_count": 33
        }
      ]
    },
    {
      "cell_type": "code",
      "source": [
        "print('jaccard_similarity_embedded:','\\n',jaccard_similarity_embedded, '\\n ')"
      ],
      "metadata": {
        "colab": {
          "base_uri": "https://localhost:8080/"
        },
        "id": "S8owLwQSts5C",
        "outputId": "2a743154-c3ce-4646-fea0-f0204e822a5b"
      },
      "execution_count": null,
      "outputs": [
        {
          "output_type": "stream",
          "name": "stdout",
          "text": [
            "jaccard_similarity_embedded: \n",
            " [[-27.965124 ]\n",
            " [-11.790811 ]\n",
            " [-17.252148 ]\n",
            " [ 10.414379 ]\n",
            " [ 22.188656 ]\n",
            " [ 32.360672 ]\n",
            " [ -3.4787133]\n",
            " [  9.436594 ]\n",
            " [-70.72975  ]] \n",
            " \n"
          ]
        }
      ]
    },
    {
      "cell_type": "code",
      "source": [
        "cosine_similarity_embedded = TSNE(n_components=1, learning_rate='auto',\n",
        "                   init='random').fit_transform(cosine_similarity)\n",
        "cosine_similarity_embedded.shape"
      ],
      "metadata": {
        "colab": {
          "base_uri": "https://localhost:8080/"
        },
        "id": "zApMxcLeuN1o",
        "outputId": "32c1bcf0-31a9-4753-9273-4a19b206320e"
      },
      "execution_count": null,
      "outputs": [
        {
          "output_type": "execute_result",
          "data": {
            "text/plain": [
              "(9, 1)"
            ]
          },
          "metadata": {},
          "execution_count": 35
        }
      ]
    },
    {
      "cell_type": "code",
      "source": [
        "print('cosine_similarity_embedded:','\\n',cosine_similarity_embedded, '\\n ')"
      ],
      "metadata": {
        "colab": {
          "base_uri": "https://localhost:8080/"
        },
        "id": "ApNFRaF0uQ0d",
        "outputId": "ef564f29-ba24-4c34-d399-8208ff2d5370"
      },
      "execution_count": null,
      "outputs": [
        {
          "output_type": "stream",
          "name": "stdout",
          "text": [
            "cosine_similarity_embedded: \n",
            " [[ -44.66767 ]\n",
            " [   2.570412]\n",
            " [ 211.97458 ]\n",
            " [-145.22267 ]\n",
            " [-206.12373 ]\n",
            " [  49.793793]\n",
            " [ -93.29548 ]\n",
            " [  98.34949 ]\n",
            " [ 150.95416 ]] \n",
            " \n"
          ]
        }
      ]
    },
    {
      "cell_type": "code",
      "source": [
        "L1_norm_embedded = TSNE(n_components=1, learning_rate='auto',\n",
        "                   init='random').fit_transform(L1_norm)\n",
        "L1_norm_embedded.shape"
      ],
      "metadata": {
        "colab": {
          "base_uri": "https://localhost:8080/"
        },
        "id": "4X6ZpTecugVN",
        "outputId": "0e1d768e-733e-4f79-c2b8-950829bbd0de"
      },
      "execution_count": null,
      "outputs": [
        {
          "output_type": "execute_result",
          "data": {
            "text/plain": [
              "(9, 1)"
            ]
          },
          "metadata": {},
          "execution_count": 37
        }
      ]
    },
    {
      "cell_type": "code",
      "source": [
        "print('L1_norm_embedded:','\\n',L1_norm_embedded, '\\n ')"
      ],
      "metadata": {
        "colab": {
          "base_uri": "https://localhost:8080/"
        },
        "id": "OEl6Cq8mugPM",
        "outputId": "85ada754-26bf-473a-8ed4-8445f8da65cc"
      },
      "execution_count": null,
      "outputs": [
        {
          "output_type": "stream",
          "name": "stdout",
          "text": [
            "L1_norm_embedded: \n",
            " [[  5.6641808]\n",
            " [ 21.485052 ]\n",
            " [-71.6468   ]\n",
            " [-32.9966   ]\n",
            " [-20.63123  ]\n",
            " [ -7.9382415]\n",
            " [-45.25633  ]\n",
            " [-58.0473   ]\n",
            " [-87.61526  ]] \n",
            " \n"
          ]
        }
      ]
    },
    {
      "cell_type": "code",
      "source": [
        "wsum_embedded = TSNE(n_components=1, learning_rate='auto',\n",
        "                   init='random').fit_transform(wsum)\n",
        "wsum_embedded.shape"
      ],
      "metadata": {
        "colab": {
          "base_uri": "https://localhost:8080/"
        },
        "id": "Vava1PBwut7e",
        "outputId": "47e42395-e390-4da5-8040-0326777af641"
      },
      "execution_count": null,
      "outputs": [
        {
          "output_type": "execute_result",
          "data": {
            "text/plain": [
              "(9, 1)"
            ]
          },
          "metadata": {},
          "execution_count": 39
        }
      ]
    },
    {
      "cell_type": "code",
      "source": [
        "print('wsum_embedded:','\\n',wsum_embedded, '\\n ')"
      ],
      "metadata": {
        "colab": {
          "base_uri": "https://localhost:8080/"
        },
        "id": "Pn7RPs39uwFI",
        "outputId": "95ac30e4-7d44-493a-b0ef-7d7d7c1383a7"
      },
      "execution_count": null,
      "outputs": [
        {
          "output_type": "stream",
          "name": "stdout",
          "text": [
            "wsum_embedded: \n",
            " [[ -22.148314]\n",
            " [ -84.74321 ]\n",
            " [ 102.67986 ]\n",
            " [-150.07278 ]\n",
            " [ 169.18434 ]\n",
            " [ 325.71024 ]\n",
            " [-225.07312 ]\n",
            " [  39.848576]\n",
            " [ 240.68536 ]] \n",
            " \n"
          ]
        }
      ]
    },
    {
      "cell_type": "code",
      "source": [
        "wmul_embedded = TSNE(n_components=1, learning_rate='auto',\n",
        "                   init='random').fit_transform(wmul)\n",
        "wmul_embedded.shape"
      ],
      "metadata": {
        "colab": {
          "base_uri": "https://localhost:8080/"
        },
        "id": "oJ7sy3gyuyV5",
        "outputId": "f6b8f09a-8074-4b75-a16e-aa81014cbe1b"
      },
      "execution_count": null,
      "outputs": [
        {
          "output_type": "execute_result",
          "data": {
            "text/plain": [
              "(9, 1)"
            ]
          },
          "metadata": {},
          "execution_count": 41
        }
      ]
    },
    {
      "cell_type": "code",
      "source": [
        "print('wmul_embedded:','\\n',wmul_embedded, '\\n ')"
      ],
      "metadata": {
        "colab": {
          "base_uri": "https://localhost:8080/"
        },
        "id": "_HvbwD8VuzjL",
        "outputId": "98ca12ef-0245-47c2-d974-bf97d1e29bda"
      },
      "execution_count": null,
      "outputs": [
        {
          "output_type": "stream",
          "name": "stdout",
          "text": [
            "wmul_embedded: \n",
            " [[ 172.63329 ]\n",
            " [ 323.63724 ]\n",
            " [-231.9089  ]\n",
            " [ 108.08074 ]\n",
            " [  45.30711 ]\n",
            " [ -17.480188]\n",
            " [-151.0705  ]\n",
            " [ 242.56874 ]\n",
            " [ -82.09821 ]] \n",
            " \n"
          ]
        }
      ]
    },
    {
      "cell_type": "code",
      "source": [
        "euclidean_distances_embedded = TSNE(n_components=1, learning_rate='auto',\n",
        "                   init='random').fit_transform(euclidean_distances)\n",
        "euclidean_distances_embedded.shape"
      ],
      "metadata": {
        "colab": {
          "base_uri": "https://localhost:8080/"
        },
        "id": "b3vGkbNc01A9",
        "outputId": "47e7fd2a-0eb2-48ec-e2b4-b5367ee51e0d"
      },
      "execution_count": null,
      "outputs": [
        {
          "output_type": "execute_result",
          "data": {
            "text/plain": [
              "(9, 1)"
            ]
          },
          "metadata": {},
          "execution_count": 43
        }
      ]
    },
    {
      "cell_type": "code",
      "source": [
        "print('euclidean_distances_embedded:','\\n',euclidean_distances_embedded, '\\n ')"
      ],
      "metadata": {
        "colab": {
          "base_uri": "https://localhost:8080/"
        },
        "id": "1YezIQ9J09-v",
        "outputId": "5aa102ed-83e9-4344-dff6-c92b25ee24c0"
      },
      "execution_count": null,
      "outputs": [
        {
          "output_type": "stream",
          "name": "stdout",
          "text": [
            "euclidean_distances_embedded: \n",
            " [[ 198.56268 ]\n",
            " [  48.338066]\n",
            " [ 120.456665]\n",
            " [ -91.96891 ]\n",
            " [-331.51855 ]\n",
            " [ -21.807232]\n",
            " [-241.22377 ]\n",
            " [-164.16545 ]\n",
            " [ 289.08307 ]] \n",
            " \n"
          ]
        }
      ]
    },
    {
      "cell_type": "markdown",
      "source": [
        "concatinating the matrices"
      ],
      "metadata": {
        "id": "eGpBls_jXyJ_"
      }
    },
    {
      "cell_type": "code",
      "source": [
        "#concatinating the matrices\n",
        "final_mtx1=np.concatenate((CF_embedded, TF_embedded,jaccard_similarity_embedded,\n",
        "                          cosine_similarity_embedded,L1_norm_embedded,wsum_embedded,wmul_embedded,\n",
        "                          euclidean_distances_embedded), axis=1)"
      ],
      "metadata": {
        "id": "zP_sP1Xz_ybV"
      },
      "execution_count": null,
      "outputs": []
    },
    {
      "cell_type": "code",
      "source": [
        "#making the matrix n*n\n",
        "n=8\n",
        "final_mtx=np.zeros(shape=(n,n))\n",
        "for i in range(0,final_mtx.shape[0]):\n",
        "  for j in range(0,final_mtx.shape[1]):\n",
        "    final_mtx[i][j]=final_mtx1[i][j]\n",
        "print(np.round(final_mtx,2))"
      ],
      "metadata": {
        "colab": {
          "base_uri": "https://localhost:8080/"
        },
        "id": "C8BR8hEbVJLP",
        "outputId": "04cf3c2d-8e73-48bf-b562-c98a5fa91922"
      },
      "execution_count": null,
      "outputs": [
        {
          "output_type": "stream",
          "name": "stdout",
          "text": [
            "[[ 176.16   -6.18  -27.97  -44.67    5.66  -22.15  172.63  198.56]\n",
            " [ 161.27    8.55  -11.79    2.57   21.49  -84.74  323.64   48.34]\n",
            " [ -90.07   67.92  -17.25  211.97  -71.65  102.68 -231.91  120.46]\n",
            " [-153.09   37.23   10.41 -145.22  -33.   -150.07  108.08  -91.97]\n",
            " [-235.84  -40.33   22.19 -206.12  -20.63  169.18   45.31 -331.52]\n",
            " [  64.46   51.97   32.36   49.79   -7.94  325.71  -17.48  -21.81]\n",
            " [ -48.57   22.89   -3.48  -93.3   -45.26 -225.07 -151.07 -241.22]\n",
            " [  95.29  -21.91    9.44   98.35  -58.05   39.85  242.57 -164.17]]\n"
          ]
        }
      ]
    },
    {
      "cell_type": "code",
      "source": [
        ""
      ],
      "metadata": {
        "id": "QtROtR7gX_BT"
      },
      "execution_count": null,
      "outputs": []
    }
  ]
}