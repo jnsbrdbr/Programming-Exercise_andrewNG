{
  "nbformat": 4,
  "nbformat_minor": 0,
  "metadata": {
    "colab": {
      "name": "test10.ipynb",
      "provenance": [],
      "collapsed_sections": [],
      "mount_file_id": "1xozuISp_VUfJjlKTPh5qmltbePLVfWBL",
      "authorship_tag": "ABX9TyN48ry0EkasB5+gsMQ0X5GI",
      "include_colab_link": true
    },
    "kernelspec": {
      "name": "python3",
      "display_name": "Python 3"
    },
    "language_info": {
      "name": "python"
    }
  },
  "cells": [
    {
      "cell_type": "markdown",
      "metadata": {
        "id": "view-in-github",
        "colab_type": "text"
      },
      "source": [
        "<a href=\"https://colab.research.google.com/github/jnsbrdbr/andrew-ng/blob/master/test10.ipynb\" target=\"_parent\"><img src=\"https://colab.research.google.com/assets/colab-badge.svg\" alt=\"Open In Colab\"/></a>"
      ]
    },
    {
      "cell_type": "code",
      "source": [
        "# Install TensorFlow\n",
        "# !pip install -q tensorflow-gpu==2.0.0-rc0\n",
        "\n",
        "try:\n",
        "  %tensorflow_version 2.x  # Colab only.\n",
        "except Exception:\n",
        "  pass\n",
        "\n",
        "import tensorflow as tf\n",
        "print(tf.__version__)"
      ],
      "metadata": {
        "colab": {
          "base_uri": "https://localhost:8080/"
        },
        "id": "Gnc9KwUTLok9",
        "outputId": "840beedb-8d9e-43a8-9b17-b132eac04f8c"
      },
      "execution_count": 1,
      "outputs": [
        {
          "output_type": "stream",
          "name": "stdout",
          "text": [
            "`%tensorflow_version` only switches the major version: 1.x or 2.x.\n",
            "You set: `2.x  # Colab only.`. This will be interpreted as: `2.x`.\n",
            "\n",
            "\n",
            "TensorFlow 2.x selected.\n",
            "2.7.0\n"
          ]
        }
      ]
    },
    {
      "cell_type": "code",
      "execution_count": 2,
      "metadata": {
        "id": "vHc-B6YJDEc8"
      },
      "outputs": [],
      "source": [
        "import scipy.io\n",
        "from sklearn.model_selection import train_test_split\n",
        "from sklearn.linear_model import LogisticRegression\n",
        "from sklearn import metrics\n",
        "import numpy as np\n",
        "import pandas as pd\n",
        "import seaborn as sns\n",
        "import matplotlib.pyplot as plt\n",
        "from decimal import Decimal\n",
        "from math import*\n",
        "\n",
        "import sklearn.manifold\n",
        "from sklearn.manifold import TSNE\n",
        "\n",
        "from sklearn.metrics import pairwise_distances\n",
        "\n",
        "sns.set(rc={'figure.figsize':(11.7,8.27)})\n",
        "palette = sns.color_palette(\"bright\", 10)\n",
        "%matplotlib inline"
      ]
    },
    {
      "cell_type": "code",
      "source": [
        "from tensorflow.keras.layers import Input, Dense, LeakyReLU, Dropout, \\\n",
        "  BatchNormalization\n",
        "from tensorflow.keras.models import Model\n",
        "from tensorflow.keras.optimizers import SGD, Adam\n",
        "\n",
        "import sys, os"
      ],
      "metadata": {
        "id": "C7Bdhi9EL5TA"
      },
      "execution_count": 3,
      "outputs": []
    },
    {
      "cell_type": "code",
      "source": [
        "from google.colab import drive\n",
        "drive.mount('/content/drive')"
      ],
      "metadata": {
        "id": "oo-V8gKkDoam",
        "colab": {
          "base_uri": "https://localhost:8080/"
        },
        "outputId": "a41123e6-09af-4a7e-8464-6897d3a9391e"
      },
      "execution_count": 4,
      "outputs": [
        {
          "output_type": "stream",
          "name": "stdout",
          "text": [
            "Drive already mounted at /content/drive; to attempt to forcibly remount, call drive.mount(\"/content/drive\", force_remount=True).\n"
          ]
        }
      ]
    },
    {
      "cell_type": "code",
      "source": [
        "path = \"/content/drive/MyDrive/test/test10.csv\"\n",
        "data = pd.read_csv(path)"
      ],
      "metadata": {
        "id": "NTkelh2gDuMa"
      },
      "execution_count": 5,
      "outputs": []
    },
    {
      "cell_type": "code",
      "source": [
        "type(data)"
      ],
      "metadata": {
        "id": "YRhQYXaUYtci",
        "colab": {
          "base_uri": "https://localhost:8080/"
        },
        "outputId": "8016c22d-ecef-4914-e6be-f5f80c19ea11"
      },
      "execution_count": 6,
      "outputs": [
        {
          "output_type": "execute_result",
          "data": {
            "text/plain": [
              "pandas.core.frame.DataFrame"
            ]
          },
          "metadata": {},
          "execution_count": 6
        }
      ]
    },
    {
      "cell_type": "markdown",
      "source": [
        "part 1"
      ],
      "metadata": {
        "id": "KT8_Tgui49xq"
      }
    },
    {
      "cell_type": "code",
      "source": [
        "data"
      ],
      "metadata": {
        "colab": {
          "base_uri": "https://localhost:8080/",
          "height": 300
        },
        "id": "MPcYBwu7hrlb",
        "outputId": "63ed9bf3-fe39-4f6d-cb40-c9d37e0f7e38"
      },
      "execution_count": 7,
      "outputs": [
        {
          "output_type": "execute_result",
          "data": {
            "text/html": [
              "\n",
              "  <div id=\"df-26708fd8-de62-468f-8022-2f75b2405dd3\">\n",
              "    <div class=\"colab-df-container\">\n",
              "      <div>\n",
              "<style scoped>\n",
              "    .dataframe tbody tr th:only-of-type {\n",
              "        vertical-align: middle;\n",
              "    }\n",
              "\n",
              "    .dataframe tbody tr th {\n",
              "        vertical-align: top;\n",
              "    }\n",
              "\n",
              "    .dataframe thead th {\n",
              "        text-align: right;\n",
              "    }\n",
              "</style>\n",
              "<table border=\"1\" class=\"dataframe\">\n",
              "  <thead>\n",
              "    <tr style=\"text-align: right;\">\n",
              "      <th></th>\n",
              "      <th>src</th>\n",
              "      <th>dst</th>\n",
              "    </tr>\n",
              "  </thead>\n",
              "  <tbody>\n",
              "    <tr>\n",
              "      <th>0</th>\n",
              "      <td>1</td>\n",
              "      <td>2</td>\n",
              "    </tr>\n",
              "    <tr>\n",
              "      <th>1</th>\n",
              "      <td>1</td>\n",
              "      <td>4</td>\n",
              "    </tr>\n",
              "    <tr>\n",
              "      <th>2</th>\n",
              "      <td>3</td>\n",
              "      <td>4</td>\n",
              "    </tr>\n",
              "    <tr>\n",
              "      <th>3</th>\n",
              "      <td>3</td>\n",
              "      <td>5</td>\n",
              "    </tr>\n",
              "    <tr>\n",
              "      <th>4</th>\n",
              "      <td>5</td>\n",
              "      <td>6</td>\n",
              "    </tr>\n",
              "    <tr>\n",
              "      <th>5</th>\n",
              "      <td>5</td>\n",
              "      <td>10</td>\n",
              "    </tr>\n",
              "    <tr>\n",
              "      <th>6</th>\n",
              "      <td>5</td>\n",
              "      <td>12</td>\n",
              "    </tr>\n",
              "    <tr>\n",
              "      <th>7</th>\n",
              "      <td>5</td>\n",
              "      <td>14</td>\n",
              "    </tr>\n",
              "  </tbody>\n",
              "</table>\n",
              "</div>\n",
              "      <button class=\"colab-df-convert\" onclick=\"convertToInteractive('df-26708fd8-de62-468f-8022-2f75b2405dd3')\"\n",
              "              title=\"Convert this dataframe to an interactive table.\"\n",
              "              style=\"display:none;\">\n",
              "        \n",
              "  <svg xmlns=\"http://www.w3.org/2000/svg\" height=\"24px\"viewBox=\"0 0 24 24\"\n",
              "       width=\"24px\">\n",
              "    <path d=\"M0 0h24v24H0V0z\" fill=\"none\"/>\n",
              "    <path d=\"M18.56 5.44l.94 2.06.94-2.06 2.06-.94-2.06-.94-.94-2.06-.94 2.06-2.06.94zm-11 1L8.5 8.5l.94-2.06 2.06-.94-2.06-.94L8.5 2.5l-.94 2.06-2.06.94zm10 10l.94 2.06.94-2.06 2.06-.94-2.06-.94-.94-2.06-.94 2.06-2.06.94z\"/><path d=\"M17.41 7.96l-1.37-1.37c-.4-.4-.92-.59-1.43-.59-.52 0-1.04.2-1.43.59L10.3 9.45l-7.72 7.72c-.78.78-.78 2.05 0 2.83L4 21.41c.39.39.9.59 1.41.59.51 0 1.02-.2 1.41-.59l7.78-7.78 2.81-2.81c.8-.78.8-2.07 0-2.86zM5.41 20L4 18.59l7.72-7.72 1.47 1.35L5.41 20z\"/>\n",
              "  </svg>\n",
              "      </button>\n",
              "      \n",
              "  <style>\n",
              "    .colab-df-container {\n",
              "      display:flex;\n",
              "      flex-wrap:wrap;\n",
              "      gap: 12px;\n",
              "    }\n",
              "\n",
              "    .colab-df-convert {\n",
              "      background-color: #E8F0FE;\n",
              "      border: none;\n",
              "      border-radius: 50%;\n",
              "      cursor: pointer;\n",
              "      display: none;\n",
              "      fill: #1967D2;\n",
              "      height: 32px;\n",
              "      padding: 0 0 0 0;\n",
              "      width: 32px;\n",
              "    }\n",
              "\n",
              "    .colab-df-convert:hover {\n",
              "      background-color: #E2EBFA;\n",
              "      box-shadow: 0px 1px 2px rgba(60, 64, 67, 0.3), 0px 1px 3px 1px rgba(60, 64, 67, 0.15);\n",
              "      fill: #174EA6;\n",
              "    }\n",
              "\n",
              "    [theme=dark] .colab-df-convert {\n",
              "      background-color: #3B4455;\n",
              "      fill: #D2E3FC;\n",
              "    }\n",
              "\n",
              "    [theme=dark] .colab-df-convert:hover {\n",
              "      background-color: #434B5C;\n",
              "      box-shadow: 0px 1px 3px 1px rgba(0, 0, 0, 0.15);\n",
              "      filter: drop-shadow(0px 1px 2px rgba(0, 0, 0, 0.3));\n",
              "      fill: #FFFFFF;\n",
              "    }\n",
              "  </style>\n",
              "\n",
              "      <script>\n",
              "        const buttonEl =\n",
              "          document.querySelector('#df-26708fd8-de62-468f-8022-2f75b2405dd3 button.colab-df-convert');\n",
              "        buttonEl.style.display =\n",
              "          google.colab.kernel.accessAllowed ? 'block' : 'none';\n",
              "\n",
              "        async function convertToInteractive(key) {\n",
              "          const element = document.querySelector('#df-26708fd8-de62-468f-8022-2f75b2405dd3');\n",
              "          const dataTable =\n",
              "            await google.colab.kernel.invokeFunction('convertToInteractive',\n",
              "                                                     [key], {});\n",
              "          if (!dataTable) return;\n",
              "\n",
              "          const docLinkHtml = 'Like what you see? Visit the ' +\n",
              "            '<a target=\"_blank\" href=https://colab.research.google.com/notebooks/data_table.ipynb>data table notebook</a>'\n",
              "            + ' to learn more about interactive tables.';\n",
              "          element.innerHTML = '';\n",
              "          dataTable['output_type'] = 'display_data';\n",
              "          await google.colab.output.renderOutput(dataTable, element);\n",
              "          const docLink = document.createElement('div');\n",
              "          docLink.innerHTML = docLinkHtml;\n",
              "          element.appendChild(docLink);\n",
              "        }\n",
              "      </script>\n",
              "    </div>\n",
              "  </div>\n",
              "  "
            ],
            "text/plain": [
              "   src  dst\n",
              "0    1    2\n",
              "1    1    4\n",
              "2    3    4\n",
              "3    3    5\n",
              "4    5    6\n",
              "5    5   10\n",
              "6    5   12\n",
              "7    5   14"
            ]
          },
          "metadata": {},
          "execution_count": 7
        }
      ]
    },
    {
      "cell_type": "code",
      "source": [
        "import networkx as nx\n",
        "g = nx.from_pandas_edgelist(data, \"src\",\"dst\")\n",
        "nx.draw_networkx(g)"
      ],
      "metadata": {
        "colab": {
          "base_uri": "https://localhost:8080/",
          "height": 248
        },
        "id": "1CGc9kOjK8ay",
        "outputId": "75b5ca08-210b-4bf6-bfff-5e08ca60e7a1"
      },
      "execution_count": 8,
      "outputs": [
        {
          "output_type": "display_data",
          "data": {
            "image/png": "[encoded data removed]",
            "text/plain": [
              "<Figure size 432x288 with 1 Axes>"
            ]
          },
          "metadata": {}
        }
      ]
    },
    {
      "cell_type": "markdown",
      "source": [
        "data must be in order"
      ],
      "metadata": {
        "id": "lsKJHvv65j0j"
      }
    },
    {
      "cell_type": "code",
      "source": [
        "#adjucency matrix without chunking\n",
        "adjc = pd.crosstab(data.src, data.dst)\n",
        "idx = adjc.columns.union(adjc.index)\n",
        "up_adj_mtx = adjc.reindex(index = idx, columns=idx, fill_value=0)\n"
      ],
      "metadata": {
        "id": "t-sV7bOInoQR"
      },
      "execution_count": 9,
      "outputs": []
    },
    {
      "cell_type": "code",
      "source": [
        "print(up_adj_mtx)"
      ],
      "metadata": {
        "colab": {
          "base_uri": "https://localhost:8080/"
        },
        "id": "-h8TFoiNkLbm",
        "outputId": "4993e1b5-b67a-42c8-815d-34e503ba038a"
      },
      "execution_count": 10,
      "outputs": [
        {
          "output_type": "stream",
          "name": "stdout",
          "text": [
            "    1   2   3   4   5   6   10  12  14\n",
            "1    0   1   0   1   0   0   0   0   0\n",
            "2    0   0   0   0   0   0   0   0   0\n",
            "3    0   0   0   1   1   0   0   0   0\n",
            "4    0   0   0   0   0   0   0   0   0\n",
            "5    0   0   0   0   0   1   1   1   1\n",
            "6    0   0   0   0   0   0   0   0   0\n",
            "10   0   0   0   0   0   0   0   0   0\n",
            "12   0   0   0   0   0   0   0   0   0\n",
            "14   0   0   0   0   0   0   0   0   0\n"
          ]
        }
      ]
    },
    {
      "cell_type": "code",
      "source": [
        "adj_mtx=up_adj_mtx\n",
        "for i in adj_mtx:\n",
        "  for j in adj_mtx:\n",
        "    if(adj_mtx[i][j]!=0):\n",
        "       adj_mtx[j][i]=adj_mtx[i][j]"
      ],
      "metadata": {
        "id": "fNQtO5dW1kxr"
      },
      "execution_count": 11,
      "outputs": []
    },
    {
      "cell_type": "code",
      "source": [
        "adj_mtx=adj_mtx.to_numpy()\n",
        "print(adj_mtx)"
      ],
      "metadata": {
        "colab": {
          "base_uri": "https://localhost:8080/"
        },
        "id": "LvNvEnJl9-r9",
        "outputId": "19cde2bd-a71d-49d6-fbe3-f0a8badcf74b"
      },
      "execution_count": 12,
      "outputs": [
        {
          "output_type": "stream",
          "name": "stdout",
          "text": [
            "[[0 1 0 1 0 0 0 0 0]\n",
            " [1 0 0 0 0 0 0 0 0]\n",
            " [0 0 0 1 1 0 0 0 0]\n",
            " [1 0 1 0 0 0 0 0 0]\n",
            " [0 0 1 0 0 1 1 1 1]\n",
            " [0 0 0 0 1 0 0 0 0]\n",
            " [0 0 0 0 1 0 0 0 0]\n",
            " [0 0 0 0 1 0 0 0 0]\n",
            " [0 0 0 0 1 0 0 0 0]]\n"
          ]
        }
      ]
    },
    {
      "cell_type": "code",
      "source": [
        "#adjucency matrix with chunking\n",
        "\n",
        "#for data in pd.read_csv(path, chunksize=2):\n",
        "#    print (data)\n",
        "#    data1 = pd.crosstab(data.src, data.dst)\n",
        "#    idx = data1.columns.union(data1.index)\n",
        "#    data2 = data1.reindex(index = idx, columns=idx, fill_value=0)\n",
        "#    print(data2)"
      ],
      "metadata": {
        "id": "Jb1lh_l6FhJV"
      },
      "execution_count": 13,
      "outputs": []
    },
    {
      "cell_type": "markdown",
      "source": [
        "part2"
      ],
      "metadata": {
        "id": "Y35hSJXG4ujG"
      }
    },
    {
      "cell_type": "markdown",
      "source": [
        "common firend(CF):one of the measure for similarity in social networks is the number of firends,shared.given the sicial network G and two nodes u and v all vertics that are on a path wih the length of two between these two nodes are common firends of the nodes.\n",
        "در مربع ماتریس مجاورت درایه\"آی جی ام\"و غیر واقع بر قطر اصلی مربع ماتریس مجاورت نشان دهنده تعدا مسیر به طول دو بین دو راس آی و جی هست"
      ],
      "metadata": {
        "id": "jSv_sB-KBG7W"
      }
    },
    {
      "cell_type": "code",
      "source": [
        "#common firend\n",
        "\n",
        "CF=np.dot(adj_mtx,adj_mtx) #matrix multiplication\n",
        "#print(CF,'\\n')\n",
        "\n",
        "CF=CF - np.diag(np.diag(CF))#matrix off_diagonal\n",
        "print(CF)"
      ],
      "metadata": {
        "colab": {
          "base_uri": "https://localhost:8080/"
        },
        "id": "KQN6DlBJ4wTe",
        "outputId": "452ca654-cb3f-470b-aafc-5af67e8d9d1f"
      },
      "execution_count": 14,
      "outputs": [
        {
          "output_type": "stream",
          "name": "stdout",
          "text": [
            "[[0 0 1 0 0 0 0 0 0]\n",
            " [0 0 0 1 0 0 0 0 0]\n",
            " [1 0 0 0 0 1 1 1 1]\n",
            " [0 1 0 0 1 0 0 0 0]\n",
            " [0 0 0 1 0 0 0 0 0]\n",
            " [0 0 1 0 0 0 1 1 1]\n",
            " [0 0 1 0 0 1 0 1 1]\n",
            " [0 0 1 0 0 1 1 0 1]\n",
            " [0 0 1 0 0 1 1 1 0]]\n"
          ]
        }
      ]
    },
    {
      "cell_type": "code",
      "source": [
        "#total_firend\n",
        "\n",
        "adjc = pd.crosstab(data.src, data.dst)\n",
        "idx = adjc.columns.union(adjc.index)\n",
        "up_adj_mtx = adjc.reindex(index = idx, columns=idx, fill_value=0)\n",
        "up_adj_mtx=up_adj_mtx.to_numpy()\n",
        "#print(up_adj_mtx)"
      ],
      "metadata": {
        "id": "LmbUtBc_qZm8"
      },
      "execution_count": 15,
      "outputs": []
    },
    {
      "cell_type": "code",
      "source": [
        "i=up_adj_mtx.shape[0]\n",
        "c=np.zeros(shape=(i,i))\n",
        "for i in range(0,up_adj_mtx.shape[0]):\n",
        "  for j in range(0,up_adj_mtx.shape[1]):\n",
        "     if i==j:\n",
        "       c[i,j]=(sum(up_adj_mtx[i,:])+sum(up_adj_mtx[:,j]))\n",
        "#print(c)"
      ],
      "metadata": {
        "id": "NN7vgxI9IR9S"
      },
      "execution_count": 16,
      "outputs": []
    },
    {
      "cell_type": "code",
      "source": [
        "i=c.shape[0]\n",
        "TF=np.zeros(shape=(i,i))\n",
        "for i in range(0,c.shape[0]):\n",
        "  for j in range(0,c.shape[1]):\n",
        "    TF[i,j]=c[i,i]+c[j,j]\n",
        "TF=TF - np.diag(np.diag(TF))#matrix off_diagonal\n",
        "print(TF)"
      ],
      "metadata": {
        "colab": {
          "base_uri": "https://localhost:8080/"
        },
        "id": "19E_w0_qW1W_",
        "outputId": "9aaca4c9-4424-4cf5-bd6a-26134f3044c4"
      },
      "execution_count": 17,
      "outputs": [
        {
          "output_type": "stream",
          "name": "stdout",
          "text": [
            "[[0. 3. 4. 4. 7. 3. 3. 3. 3.]\n",
            " [3. 0. 3. 3. 6. 2. 2. 2. 2.]\n",
            " [4. 3. 0. 4. 7. 3. 3. 3. 3.]\n",
            " [4. 3. 4. 0. 7. 3. 3. 3. 3.]\n",
            " [7. 6. 7. 7. 0. 6. 6. 6. 6.]\n",
            " [3. 2. 3. 3. 6. 0. 2. 2. 2.]\n",
            " [3. 2. 3. 3. 6. 2. 0. 2. 2.]\n",
            " [3. 2. 3. 3. 6. 2. 2. 0. 2.]\n",
            " [3. 2. 3. 3. 6. 2. 2. 2. 0.]]\n"
          ]
        }
      ]
    },
    {
      "cell_type": "code",
      "source": [
        "#jaccard_similarity\n",
        "\n",
        "i=adj_mtx.shape[0]\n",
        "jaccard_similarity=np.zeros(shape=(i,i))\n",
        "for i in range(0,jaccard_similarity.shape[0]):\n",
        "  for j in range(0,jaccard_similarity.shape[1]):\n",
        "    if CF[i,j]==0 or TF[i,j]==0:\n",
        "       jaccard_similarity[i,j]==0\n",
        "    else:\n",
        "       #jaccard_similarity[i,j]=(CF[i,j]/TF[i,j])\n",
        "       jaccard_similarity[i,j]=np.divide(CF[i,j],TF[i,j])\n",
        "       jaccard_similarity=np.round(jaccard_similarity,2)\n",
        "\n",
        "jaccard_similarity=jaccard_similarity - np.diag(np.diag(jaccard_similarity))#matrix off_diagonal\n",
        "print(jaccard_similarity)\n"
      ],
      "metadata": {
        "id": "Y50h9kYtzxx7",
        "colab": {
          "base_uri": "https://localhost:8080/"
        },
        "outputId": "8a1f187a-c09d-4be5-f197-0acb4a172f79"
      },
      "execution_count": 18,
      "outputs": [
        {
          "output_type": "stream",
          "name": "stdout",
          "text": [
            "[[0.   0.   0.25 0.   0.   0.   0.   0.   0.  ]\n",
            " [0.   0.   0.   0.33 0.   0.   0.   0.   0.  ]\n",
            " [0.25 0.   0.   0.   0.   0.33 0.33 0.33 0.33]\n",
            " [0.   0.33 0.   0.   0.14 0.   0.   0.   0.  ]\n",
            " [0.   0.   0.   0.14 0.   0.   0.   0.   0.  ]\n",
            " [0.   0.   0.33 0.   0.   0.   0.5  0.5  0.5 ]\n",
            " [0.   0.   0.33 0.   0.   0.5  0.   0.5  0.5 ]\n",
            " [0.   0.   0.33 0.   0.   0.5  0.5  0.   0.5 ]\n",
            " [0.   0.   0.33 0.   0.   0.5  0.5  0.5  0.  ]]\n"
          ]
        }
      ]
    },
    {
      "cell_type": "code",
      "source": [
        "#cosine_similarity\n",
        "\n",
        "i=up_adj_mtx.shape[0]\n",
        "cosine_similarity1=np.zeros(shape=(i,i))\n",
        "for i in range(0,cosine_similarity1.shape[0]):\n",
        "  for j in range(0,cosine_similarity1.shape[1]):\n",
        "       cosine_similarity1[i,j]=sqrt((c[i,i])*(c[j,j]))\n",
        "\n",
        "#print(cosine_similarity1)"
      ],
      "metadata": {
        "id": "DrlUDobEC-Gd"
      },
      "execution_count": 19,
      "outputs": []
    },
    {
      "cell_type": "code",
      "source": [
        "i=adj_mtx.shape[0]\n",
        "cosine_similarity=np.zeros(shape=(i,i))\n",
        "for i in range(0,cosine_similarity.shape[0]):\n",
        "  for j in range(0,cosine_similarity.shape[1]):\n",
        "    if CF[i,j]==0 or cosine_similarity1[i,j]==0:\n",
        "       cosine_similarity[i,j]==0\n",
        "    else:\n",
        "       cosine_similarity[i,j]=np.divide(CF[i,j],cosine_similarity1[i,j])\n",
        "       cosine_similarity=np.round(cosine_similarity,2)\n",
        "\n",
        "cosine_similarity=cosine_similarity - np.diag(np.diag(cosine_similarity))#matrix off_diagonal\n",
        "print(cosine_similarity)"
      ],
      "metadata": {
        "colab": {
          "base_uri": "https://localhost:8080/"
        },
        "id": "kH3zRItHz1DA",
        "outputId": "546f3bf9-35c7-443d-b006-89fcb4dfa1d7"
      },
      "execution_count": 20,
      "outputs": [
        {
          "output_type": "stream",
          "name": "stdout",
          "text": [
            "[[0.   0.   0.5  0.   0.   0.   0.   0.   0.  ]\n",
            " [0.   0.   0.   0.71 0.   0.   0.   0.   0.  ]\n",
            " [0.5  0.   0.   0.   0.   0.71 0.71 0.71 0.71]\n",
            " [0.   0.71 0.   0.   0.32 0.   0.   0.   0.  ]\n",
            " [0.   0.   0.   0.32 0.   0.   0.   0.   0.  ]\n",
            " [0.   0.   0.71 0.   0.   0.   1.   1.   1.  ]\n",
            " [0.   0.   0.71 0.   0.   1.   0.   1.   1.  ]\n",
            " [0.   0.   0.71 0.   0.   1.   1.   0.   1.  ]\n",
            " [0.   0.   0.71 0.   0.   1.   1.   1.   0.  ]]\n"
          ]
        }
      ]
    },
    {
      "cell_type": "code",
      "source": [
        "cosine_similarity = pairwise_distances(up_adj_mtx, metric='cosine')\n",
        "print(cosine_similarity)"
      ],
      "metadata": {
        "colab": {
          "base_uri": "https://localhost:8080/"
        },
        "id": "dvJCdFmG9tPl",
        "outputId": "0c788536-9fdd-4ec6-bed6-619506909c93"
      },
      "execution_count": 21,
      "outputs": [
        {
          "output_type": "stream",
          "name": "stdout",
          "text": [
            "[[0.  1.  0.5 1.  1.  1.  1.  1.  1. ]\n",
            " [1.  0.  1.  1.  1.  1.  1.  1.  1. ]\n",
            " [0.5 1.  0.  1.  1.  1.  1.  1.  1. ]\n",
            " [1.  1.  1.  0.  1.  1.  1.  1.  1. ]\n",
            " [1.  1.  1.  1.  0.  1.  1.  1.  1. ]\n",
            " [1.  1.  1.  1.  1.  0.  1.  1.  1. ]\n",
            " [1.  1.  1.  1.  1.  1.  0.  1.  1. ]\n",
            " [1.  1.  1.  1.  1.  1.  1.  0.  1. ]\n",
            " [1.  1.  1.  1.  1.  1.  1.  1.  0. ]]\n"
          ]
        }
      ]
    },
    {
      "cell_type": "code",
      "source": [
        "#L1_norm()\n",
        " \n",
        "i=up_adj_mtx.shape[0]\n",
        "L1_norm1=np.zeros(shape=(i,i))\n",
        "for i in range(0,L1_norm1.shape[0]):\n",
        "  for j in range(0,L1_norm1.shape[1]):\n",
        "       L1_norm1[i,j]=(c[i,i])*(c[j,j])\n",
        "\n",
        "#print(L1_norm1)"
      ],
      "metadata": {
        "id": "FhzJpELXHIdN"
      },
      "execution_count": 22,
      "outputs": []
    },
    {
      "cell_type": "code",
      "source": [
        "i=adj_mtx.shape[0]\n",
        "L1_norm=np.zeros(shape=(i,i))\n",
        "for i in range(0,L1_norm.shape[0]):\n",
        "  for j in range(0,L1_norm.shape[1]):\n",
        "    if CF[i,j]==0 or L1_norm1[i,j]==0:\n",
        "       L1_norm[i,j]==0\n",
        "    else:\n",
        "       #jaccard_similarity[i,j]=(CF[i,j]/TF[i,j])\n",
        "       L1_norm[i,j]=np.divide(CF[i,j],L1_norm1[i,j])\n",
        "       L1_norm=np.round(L1_norm,2)\n",
        "\n",
        "L1_norm=L1_norm - np.diag(np.diag(L1_norm))#matrix off_diagonal\n",
        "print(L1_norm)"
      ],
      "metadata": {
        "colab": {
          "base_uri": "https://localhost:8080/"
        },
        "id": "jUsVygMw1T8K",
        "outputId": "dfc6c0be-c4e0-462b-f687-9ed3c325f2e1"
      },
      "execution_count": 23,
      "outputs": [
        {
          "output_type": "stream",
          "name": "stdout",
          "text": [
            "[[0.   0.   0.25 0.   0.   0.   0.   0.   0.  ]\n",
            " [0.   0.   0.   0.5  0.   0.   0.   0.   0.  ]\n",
            " [0.25 0.   0.   0.   0.   0.5  0.5  0.5  0.5 ]\n",
            " [0.   0.5  0.   0.   0.1  0.   0.   0.   0.  ]\n",
            " [0.   0.   0.   0.1  0.   0.   0.   0.   0.  ]\n",
            " [0.   0.   0.5  0.   0.   0.   1.   1.   1.  ]\n",
            " [0.   0.   0.5  0.   0.   1.   0.   1.   1.  ]\n",
            " [0.   0.   0.5  0.   0.   1.   1.   0.   1.  ]\n",
            " [0.   0.   0.5  0.   0.   1.   1.   1.   0.  ]]\n"
          ]
        }
      ]
    },
    {
      "cell_type": "code",
      "source": [
        "#edge_weight_measure\n",
        "\n",
        "i=up_adj_mtx.shape[0]\n",
        "ewm=np.zeros(shape=(i,i))\n",
        "for i in range(0,ewm.shape[0]):\n",
        "  for j in range(0,ewm.shape[1]):\n",
        "     if i==j:\n",
        "       ewm[i,j]=1/sqrt(1+c[i,i])\n",
        "       ewm=np.round(ewm)\n",
        "\n",
        "#print(ewm)"
      ],
      "metadata": {
        "id": "4qos6gmu2KiK"
      },
      "execution_count": 24,
      "outputs": []
    },
    {
      "cell_type": "code",
      "source": [
        "i=up_adj_mtx.shape[0]\n",
        "wsum=np.zeros(shape=(i,i))\n",
        "for i in range(0,wsum.shape[0]):\n",
        "  for j in range(0,wsum.shape[1]):\n",
        "    wsum[i,j]=ewm[i,i]+ewm[j,j]\n",
        "    #wsum=np.round(wsum)\n",
        "print(wsum)"
      ],
      "metadata": {
        "colab": {
          "base_uri": "https://localhost:8080/"
        },
        "id": "HBeOFTN17CDf",
        "outputId": "a01a6884-e0c6-4bcd-a2e9-d99af70623f2"
      },
      "execution_count": 25,
      "outputs": [
        {
          "output_type": "stream",
          "name": "stdout",
          "text": [
            "[[2. 2. 2. 2. 1. 2. 2. 2. 2.]\n",
            " [2. 2. 2. 2. 1. 2. 2. 2. 2.]\n",
            " [2. 2. 2. 2. 1. 2. 2. 2. 2.]\n",
            " [2. 2. 2. 2. 1. 2. 2. 2. 2.]\n",
            " [1. 1. 1. 1. 0. 1. 1. 1. 1.]\n",
            " [2. 2. 2. 2. 1. 2. 2. 2. 2.]\n",
            " [2. 2. 2. 2. 1. 2. 2. 2. 2.]\n",
            " [2. 2. 2. 2. 1. 2. 2. 2. 2.]\n",
            " [2. 2. 2. 2. 1. 2. 2. 2. 2.]]\n"
          ]
        }
      ]
    },
    {
      "cell_type": "code",
      "source": [
        "i=up_adj_mtx.shape[0]\n",
        "wmul=np.zeros(shape=(i,i))\n",
        "for i in range(0,wmul.shape[0]):\n",
        "  for j in range(0,wmul.shape[1]):\n",
        "    wmul[i,j]=ewm[i,i]*ewm[j,j]\n",
        "    wmul=np.round(wmul,2)\n",
        "print(wmul)"
      ],
      "metadata": {
        "colab": {
          "base_uri": "https://localhost:8080/"
        },
        "id": "NBImwel48wje",
        "outputId": "e74312db-3280-4706-ab3d-1e5a8d4bd2e5"
      },
      "execution_count": 26,
      "outputs": [
        {
          "output_type": "stream",
          "name": "stdout",
          "text": [
            "[[1. 1. 1. 1. 0. 1. 1. 1. 1.]\n",
            " [1. 1. 1. 1. 0. 1. 1. 1. 1.]\n",
            " [1. 1. 1. 1. 0. 1. 1. 1. 1.]\n",
            " [1. 1. 1. 1. 0. 1. 1. 1. 1.]\n",
            " [0. 0. 0. 0. 0. 0. 0. 0. 0.]\n",
            " [1. 1. 1. 1. 0. 1. 1. 1. 1.]\n",
            " [1. 1. 1. 1. 0. 1. 1. 1. 1.]\n",
            " [1. 1. 1. 1. 0. 1. 1. 1. 1.]\n",
            " [1. 1. 1. 1. 0. 1. 1. 1. 1.]]\n"
          ]
        }
      ]
    },
    {
      "cell_type": "markdown",
      "source": [
        "t_sne section\n",
        "\n",
        "actual data"
      ],
      "metadata": {
        "id": "ca25bPE7rOht"
      }
    },
    {
      "cell_type": "code",
      "source": [
        "euclidean_distances = pairwise_distances(up_adj_mtx, metric='euclidean', squared=True)\n",
        "print('euclidean_distances:','\\n',euclidean_distances, '\\n ')"
      ],
      "metadata": {
        "colab": {
          "base_uri": "https://localhost:8080/"
        },
        "id": "kricErGQ0p1L",
        "outputId": "f13278c9-8b11-4105-e090-9ce8a7a19453"
      },
      "execution_count": 27,
      "outputs": [
        {
          "output_type": "stream",
          "name": "stdout",
          "text": [
            "euclidean_distances: \n",
            " [[0. 2. 2. 2. 6. 2. 2. 2. 2.]\n",
            " [2. 0. 2. 0. 4. 0. 0. 0. 0.]\n",
            " [2. 2. 0. 2. 6. 2. 2. 2. 2.]\n",
            " [2. 0. 2. 0. 4. 0. 0. 0. 0.]\n",
            " [6. 4. 6. 4. 0. 4. 4. 4. 4.]\n",
            " [2. 0. 2. 0. 4. 0. 0. 0. 0.]\n",
            " [2. 0. 2. 0. 4. 0. 0. 0. 0.]\n",
            " [2. 0. 2. 0. 4. 0. 0. 0. 0.]\n",
            " [2. 0. 2. 0. 4. 0. 0. 0. 0.]] \n",
            " \n"
          ]
        }
      ]
    },
    {
      "cell_type": "markdown",
      "source": [
        "t_sne implementation"
      ],
      "metadata": {
        "id": "gxxG3NeK2EU1"
      }
    },
    {
      "cell_type": "code",
      "source": [
        "CF_embedded = TSNE(n_components=1, learning_rate='auto',\n",
        "                   init='random').fit_transform(CF)\n",
        "CF_embedded.shape"
      ],
      "metadata": {
        "colab": {
          "base_uri": "https://localhost:8080/"
        },
        "id": "E1_7KgzIfQMJ",
        "outputId": "a07153b8-af2d-4484-d928-754510edd815"
      },
      "execution_count": 28,
      "outputs": [
        {
          "output_type": "execute_result",
          "data": {
            "text/plain": [
              "(9, 1)"
            ]
          },
          "metadata": {},
          "execution_count": 28
        }
      ]
    },
    {
      "cell_type": "code",
      "source": [
        "print('CF_embedded:','\\n',CF_embedded, '\\n ')"
      ],
      "metadata": {
        "colab": {
          "base_uri": "https://localhost:8080/"
        },
        "id": "BspQhGbnrCOJ",
        "outputId": "ff083c9a-6e0e-423b-b7e0-b817c9796abb"
      },
      "execution_count": 29,
      "outputs": [
        {
          "output_type": "stream",
          "name": "stdout",
          "text": [
            "CF_embedded: \n",
            " [[-131.5163  ]\n",
            " [  33.99373 ]\n",
            " [ -48.17324 ]\n",
            " [ 116.199234]\n",
            " [ 301.02554 ]\n",
            " [ 202.18094 ]\n",
            " [-526.68036 ]\n",
            " [-219.37617 ]\n",
            " [-316.4857  ]] \n",
            " \n"
          ]
        }
      ]
    },
    {
      "cell_type": "code",
      "source": [
        "TF_embedded = TSNE(n_components=1, learning_rate='auto',\n",
        "                   init='random').fit_transform(TF)\n",
        "TF_embedded.shape"
      ],
      "metadata": {
        "colab": {
          "base_uri": "https://localhost:8080/"
        },
        "id": "QsGVUntXtBsi",
        "outputId": "8875739c-9a09-4df5-f862-042d38c3f8c8"
      },
      "execution_count": 30,
      "outputs": [
        {
          "output_type": "execute_result",
          "data": {
            "text/plain": [
              "(9, 1)"
            ]
          },
          "metadata": {},
          "execution_count": 30
        }
      ]
    },
    {
      "cell_type": "code",
      "source": [
        "print('TF_embedded:','\\n',TF_embedded, '\\n ')"
      ],
      "metadata": {
        "colab": {
          "base_uri": "https://localhost:8080/"
        },
        "id": "D9kzjKv-tbZe",
        "outputId": "424761e8-e110-442c-9454-9f7fb9918e9a"
      },
      "execution_count": 31,
      "outputs": [
        {
          "output_type": "stream",
          "name": "stdout",
          "text": [
            "TF_embedded: \n",
            " [[ 45.535755 ]\n",
            " [  0.8297681]\n",
            " [ 34.880215 ]\n",
            " [  9.0468445]\n",
            " [ 17.255756 ]\n",
            " [-16.748844 ]\n",
            " [ -7.669074 ]\n",
            " [ 25.792807 ]\n",
            " [-27.247236 ]] \n",
            " \n"
          ]
        }
      ]
    },
    {
      "cell_type": "code",
      "source": [
        "jaccard_similarity_embedded = TSNE(n_components=1, learning_rate='auto',\n",
        "                   init='random').fit_transform(jaccard_similarity)\n",
        "jaccard_similarity_embedded.shape"
      ],
      "metadata": {
        "colab": {
          "base_uri": "https://localhost:8080/"
        },
        "id": "Ha6soUT5te2m",
        "outputId": "b7627bd3-7a37-486d-b8f2-aaef2b7825a9"
      },
      "execution_count": 32,
      "outputs": [
        {
          "output_type": "execute_result",
          "data": {
            "text/plain": [
              "(9, 1)"
            ]
          },
          "metadata": {},
          "execution_count": 32
        }
      ]
    },
    {
      "cell_type": "code",
      "source": [
        "print('jaccard_similarity_embedded:','\\n',jaccard_similarity_embedded, '\\n ')"
      ],
      "metadata": {
        "colab": {
          "base_uri": "https://localhost:8080/"
        },
        "id": "S8owLwQSts5C",
        "outputId": "bd402ad8-2e6c-489e-a46d-81ad03be5c52"
      },
      "execution_count": 33,
      "outputs": [
        {
          "output_type": "stream",
          "name": "stdout",
          "text": [
            "jaccard_similarity_embedded: \n",
            " [[-110.01431 ]\n",
            " [-176.7788  ]\n",
            " [  71.492615]\n",
            " [ 276.38745 ]\n",
            " [ -48.391655]\n",
            " [-254.20003 ]\n",
            " [ 133.21095 ]\n",
            " [ 199.1135  ]\n",
            " [  11.540924]] \n",
            " \n"
          ]
        }
      ]
    },
    {
      "cell_type": "code",
      "source": [
        "cosine_similarity_embedded = TSNE(n_components=1, learning_rate='auto',\n",
        "                   init='random').fit_transform(cosine_similarity)\n",
        "cosine_similarity_embedded.shape"
      ],
      "metadata": {
        "colab": {
          "base_uri": "https://localhost:8080/"
        },
        "id": "zApMxcLeuN1o",
        "outputId": "43bb5dcd-3c8b-4617-b66c-f5d4348a9ebb"
      },
      "execution_count": 34,
      "outputs": [
        {
          "output_type": "execute_result",
          "data": {
            "text/plain": [
              "(9, 1)"
            ]
          },
          "metadata": {},
          "execution_count": 34
        }
      ]
    },
    {
      "cell_type": "code",
      "source": [
        "print('cosine_similarity_embedded:','\\n',cosine_similarity_embedded, '\\n ')"
      ],
      "metadata": {
        "colab": {
          "base_uri": "https://localhost:8080/"
        },
        "id": "ApNFRaF0uQ0d",
        "outputId": "38b0ab68-9d6f-4a80-c6ab-1bccc28dc67f"
      },
      "execution_count": 35,
      "outputs": [
        {
          "output_type": "stream",
          "name": "stdout",
          "text": [
            "cosine_similarity_embedded: \n",
            " [[  9.275242 ]\n",
            " [-16.034191 ]\n",
            " [ 14.089102 ]\n",
            " [ -7.9816523]\n",
            " [  5.85164  ]\n",
            " [-11.555798 ]\n",
            " [ -4.4223084]\n",
            " [ -1.3193907]\n",
            " [  2.4510348]] \n",
            " \n"
          ]
        }
      ]
    },
    {
      "cell_type": "code",
      "source": [
        "L1_norm_embedded = TSNE(n_components=1, learning_rate='auto',\n",
        "                   init='random').fit_transform(L1_norm)\n",
        "L1_norm_embedded.shape"
      ],
      "metadata": {
        "colab": {
          "base_uri": "https://localhost:8080/"
        },
        "id": "4X6ZpTecugVN",
        "outputId": "4d4429f1-8025-4655-8c55-a048892f863f"
      },
      "execution_count": 36,
      "outputs": [
        {
          "output_type": "execute_result",
          "data": {
            "text/plain": [
              "(9, 1)"
            ]
          },
          "metadata": {},
          "execution_count": 36
        }
      ]
    },
    {
      "cell_type": "code",
      "source": [
        "print('L1_norm_embedded:','\\n',L1_norm_embedded, '\\n ')"
      ],
      "metadata": {
        "colab": {
          "base_uri": "https://localhost:8080/"
        },
        "id": "OEl6Cq8mugPM",
        "outputId": "80e70541-fc9e-4043-f838-f0a285d7c60c"
      },
      "execution_count": 37,
      "outputs": [
        {
          "output_type": "stream",
          "name": "stdout",
          "text": [
            "L1_norm_embedded: \n",
            " [[ 224.73508  ]\n",
            " [   0.5445665]\n",
            " [-206.4682   ]\n",
            " [ -66.22036  ]\n",
            " [-287.871    ]\n",
            " [ 140.898    ]\n",
            " [  68.313774 ]\n",
            " [-134.33138  ]\n",
            " [-394.03125  ]] \n",
            " \n"
          ]
        }
      ]
    },
    {
      "cell_type": "code",
      "source": [
        "wsum_embedded = TSNE(n_components=1, learning_rate='auto',\n",
        "                   init='random').fit_transform(wsum)\n",
        "wsum_embedded.shape"
      ],
      "metadata": {
        "colab": {
          "base_uri": "https://localhost:8080/"
        },
        "id": "Vava1PBwut7e",
        "outputId": "497668c4-1341-4209-d91f-88ecfae1d8cd"
      },
      "execution_count": 38,
      "outputs": [
        {
          "output_type": "execute_result",
          "data": {
            "text/plain": [
              "(9, 1)"
            ]
          },
          "metadata": {},
          "execution_count": 38
        }
      ]
    },
    {
      "cell_type": "code",
      "source": [
        "print('wsum_embedded:','\\n',wsum_embedded, '\\n ')"
      ],
      "metadata": {
        "colab": {
          "base_uri": "https://localhost:8080/"
        },
        "id": "Pn7RPs39uwFI",
        "outputId": "e217daea-af7e-4c78-96d8-bbdaabf0359f"
      },
      "execution_count": 39,
      "outputs": [
        {
          "output_type": "stream",
          "name": "stdout",
          "text": [
            "wsum_embedded: \n",
            " [[ -96.26665 ]\n",
            " [-165.8994  ]\n",
            " [ -31.071049]\n",
            " [ 312.68256 ]\n",
            " [-247.62451 ]\n",
            " [ 231.00188 ]\n",
            " [  32.258427]\n",
            " [ 160.57884 ]\n",
            " [  95.53787 ]] \n",
            " \n"
          ]
        }
      ]
    },
    {
      "cell_type": "code",
      "source": [
        "wmul_embedded = TSNE(n_components=1, learning_rate='auto',\n",
        "                   init='random').fit_transform(wmul)\n",
        "wmul_embedded.shape"
      ],
      "metadata": {
        "colab": {
          "base_uri": "https://localhost:8080/"
        },
        "id": "oJ7sy3gyuyV5",
        "outputId": "562a7261-f1a8-4f37-e62b-a35ce67da067"
      },
      "execution_count": 40,
      "outputs": [
        {
          "output_type": "execute_result",
          "data": {
            "text/plain": [
              "(9, 1)"
            ]
          },
          "metadata": {},
          "execution_count": 40
        }
      ]
    },
    {
      "cell_type": "code",
      "source": [
        "print('wmul_embedded:','\\n',wmul_embedded, '\\n ')"
      ],
      "metadata": {
        "colab": {
          "base_uri": "https://localhost:8080/"
        },
        "id": "_HvbwD8VuzjL",
        "outputId": "a234d33a-d4d8-405d-860f-ee2af717a5a6"
      },
      "execution_count": 41,
      "outputs": [
        {
          "output_type": "stream",
          "name": "stdout",
          "text": [
            "wmul_embedded: \n",
            " [[ 285.68356 ]\n",
            " [  74.74709 ]\n",
            " [-135.36337 ]\n",
            " [ -61.531635]\n",
            " [   7.598785]\n",
            " [ 372.40457 ]\n",
            " [ 210.89946 ]\n",
            " [-221.94434 ]\n",
            " [ 141.87541 ]] \n",
            " \n"
          ]
        }
      ]
    },
    {
      "cell_type": "code",
      "source": [
        "euclidean_distances_embedded = TSNE(n_components=1, learning_rate='auto',\n",
        "                   init='random').fit_transform(euclidean_distances)\n",
        "euclidean_distances_embedded.shape"
      ],
      "metadata": {
        "colab": {
          "base_uri": "https://localhost:8080/"
        },
        "id": "b3vGkbNc01A9",
        "outputId": "0d764afe-e868-47fe-9653-0c30c3d90878"
      },
      "execution_count": 42,
      "outputs": [
        {
          "output_type": "execute_result",
          "data": {
            "text/plain": [
              "(9, 1)"
            ]
          },
          "metadata": {},
          "execution_count": 42
        }
      ]
    },
    {
      "cell_type": "code",
      "source": [
        "print('euclidean_distances_embedded:','\\n',euclidean_distances_embedded, '\\n ')"
      ],
      "metadata": {
        "colab": {
          "base_uri": "https://localhost:8080/"
        },
        "id": "1YezIQ9J09-v",
        "outputId": "0c06a32f-925c-4570-f774-17e06249b116"
      },
      "execution_count": 43,
      "outputs": [
        {
          "output_type": "stream",
          "name": "stdout",
          "text": [
            "euclidean_distances_embedded: \n",
            " [[ -59.987415]\n",
            " [-566.47406 ]\n",
            " [  21.257465]\n",
            " [  65.44977 ]\n",
            " [ -19.738651]\n",
            " [-197.10477 ]\n",
            " [-145.66078 ]\n",
            " [-101.49034 ]\n",
            " [ 117.12161 ]] \n",
            " \n"
          ]
        }
      ]
    },
    {
      "cell_type": "markdown",
      "source": [
        "concatinating the matrices"
      ],
      "metadata": {
        "id": "eGpBls_jXyJ_"
      }
    },
    {
      "cell_type": "code",
      "source": [
        "path_label = \"/content/drive/MyDrive/test/label_test10.csv\"\n",
        "data_label = pd.read_csv(path_label)"
      ],
      "metadata": {
        "id": "s5bVdKqZGImN"
      },
      "execution_count": 44,
      "outputs": []
    },
    {
      "cell_type": "code",
      "source": [
        "data_label"
      ],
      "metadata": {
        "colab": {
          "base_uri": "https://localhost:8080/",
          "height": 332
        },
        "id": "Ki1MpIe-GBAi",
        "outputId": "356fa135-75d8-4557-be7b-595c1df14573"
      },
      "execution_count": 45,
      "outputs": [
        {
          "output_type": "execute_result",
          "data": {
            "text/html": [
              "\n",
              "  <div id=\"df-38bfffcc-0080-4004-8e62-47809835943f\">\n",
              "    <div class=\"colab-df-container\">\n",
              "      <div>\n",
              "<style scoped>\n",
              "    .dataframe tbody tr th:only-of-type {\n",
              "        vertical-align: middle;\n",
              "    }\n",
              "\n",
              "    .dataframe tbody tr th {\n",
              "        vertical-align: top;\n",
              "    }\n",
              "\n",
              "    .dataframe thead th {\n",
              "        text-align: right;\n",
              "    }\n",
              "</style>\n",
              "<table border=\"1\" class=\"dataframe\">\n",
              "  <thead>\n",
              "    <tr style=\"text-align: right;\">\n",
              "      <th></th>\n",
              "      <th>id</th>\n",
              "      <th>label</th>\n",
              "    </tr>\n",
              "  </thead>\n",
              "  <tbody>\n",
              "    <tr>\n",
              "      <th>0</th>\n",
              "      <td>1</td>\n",
              "      <td>0</td>\n",
              "    </tr>\n",
              "    <tr>\n",
              "      <th>1</th>\n",
              "      <td>2</td>\n",
              "      <td>1</td>\n",
              "    </tr>\n",
              "    <tr>\n",
              "      <th>2</th>\n",
              "      <td>3</td>\n",
              "      <td>1</td>\n",
              "    </tr>\n",
              "    <tr>\n",
              "      <th>3</th>\n",
              "      <td>4</td>\n",
              "      <td>1</td>\n",
              "    </tr>\n",
              "    <tr>\n",
              "      <th>4</th>\n",
              "      <td>5</td>\n",
              "      <td>0</td>\n",
              "    </tr>\n",
              "    <tr>\n",
              "      <th>5</th>\n",
              "      <td>6</td>\n",
              "      <td>0</td>\n",
              "    </tr>\n",
              "    <tr>\n",
              "      <th>6</th>\n",
              "      <td>10</td>\n",
              "      <td>1</td>\n",
              "    </tr>\n",
              "    <tr>\n",
              "      <th>7</th>\n",
              "      <td>12</td>\n",
              "      <td>1</td>\n",
              "    </tr>\n",
              "    <tr>\n",
              "      <th>8</th>\n",
              "      <td>14</td>\n",
              "      <td>1</td>\n",
              "    </tr>\n",
              "  </tbody>\n",
              "</table>\n",
              "</div>\n",
              "      <button class=\"colab-df-convert\" onclick=\"convertToInteractive('df-38bfffcc-0080-4004-8e62-47809835943f')\"\n",
              "              title=\"Convert this dataframe to an interactive table.\"\n",
              "              style=\"display:none;\">\n",
              "        \n",
              "  <svg xmlns=\"http://www.w3.org/2000/svg\" height=\"24px\"viewBox=\"0 0 24 24\"\n",
              "       width=\"24px\">\n",
              "    <path d=\"M0 0h24v24H0V0z\" fill=\"none\"/>\n",
              "    <path d=\"M18.56 5.44l.94 2.06.94-2.06 2.06-.94-2.06-.94-.94-2.06-.94 2.06-2.06.94zm-11 1L8.5 8.5l.94-2.06 2.06-.94-2.06-.94L8.5 2.5l-.94 2.06-2.06.94zm10 10l.94 2.06.94-2.06 2.06-.94-2.06-.94-.94-2.06-.94 2.06-2.06.94z\"/><path d=\"M17.41 7.96l-1.37-1.37c-.4-.4-.92-.59-1.43-.59-.52 0-1.04.2-1.43.59L10.3 9.45l-7.72 7.72c-.78.78-.78 2.05 0 2.83L4 21.41c.39.39.9.59 1.41.59.51 0 1.02-.2 1.41-.59l7.78-7.78 2.81-2.81c.8-.78.8-2.07 0-2.86zM5.41 20L4 18.59l7.72-7.72 1.47 1.35L5.41 20z\"/>\n",
              "  </svg>\n",
              "      </button>\n",
              "      \n",
              "  <style>\n",
              "    .colab-df-container {\n",
              "      display:flex;\n",
              "      flex-wrap:wrap;\n",
              "      gap: 12px;\n",
              "    }\n",
              "\n",
              "    .colab-df-convert {\n",
              "      background-color: #E8F0FE;\n",
              "      border: none;\n",
              "      border-radius: 50%;\n",
              "      cursor: pointer;\n",
              "      display: none;\n",
              "      fill: #1967D2;\n",
              "      height: 32px;\n",
              "      padding: 0 0 0 0;\n",
              "      width: 32px;\n",
              "    }\n",
              "\n",
              "    .colab-df-convert:hover {\n",
              "      background-color: #E2EBFA;\n",
              "      box-shadow: 0px 1px 2px rgba(60, 64, 67, 0.3), 0px 1px 3px 1px rgba(60, 64, 67, 0.15);\n",
              "      fill: #174EA6;\n",
              "    }\n",
              "\n",
              "    [theme=dark] .colab-df-convert {\n",
              "      background-color: #3B4455;\n",
              "      fill: #D2E3FC;\n",
              "    }\n",
              "\n",
              "    [theme=dark] .colab-df-convert:hover {\n",
              "      background-color: #434B5C;\n",
              "      box-shadow: 0px 1px 3px 1px rgba(0, 0, 0, 0.15);\n",
              "      filter: drop-shadow(0px 1px 2px rgba(0, 0, 0, 0.3));\n",
              "      fill: #FFFFFF;\n",
              "    }\n",
              "  </style>\n",
              "\n",
              "      <script>\n",
              "        const buttonEl =\n",
              "          document.querySelector('#df-38bfffcc-0080-4004-8e62-47809835943f button.colab-df-convert');\n",
              "        buttonEl.style.display =\n",
              "          google.colab.kernel.accessAllowed ? 'block' : 'none';\n",
              "\n",
              "        async function convertToInteractive(key) {\n",
              "          const element = document.querySelector('#df-38bfffcc-0080-4004-8e62-47809835943f');\n",
              "          const dataTable =\n",
              "            await google.colab.kernel.invokeFunction('convertToInteractive',\n",
              "                                                     [key], {});\n",
              "          if (!dataTable) return;\n",
              "\n",
              "          const docLinkHtml = 'Like what you see? Visit the ' +\n",
              "            '<a target=\"_blank\" href=https://colab.research.google.com/notebooks/data_table.ipynb>data table notebook</a>'\n",
              "            + ' to learn more about interactive tables.';\n",
              "          element.innerHTML = '';\n",
              "          dataTable['output_type'] = 'display_data';\n",
              "          await google.colab.output.renderOutput(dataTable, element);\n",
              "          const docLink = document.createElement('div');\n",
              "          docLink.innerHTML = docLinkHtml;\n",
              "          element.appendChild(docLink);\n",
              "        }\n",
              "      </script>\n",
              "    </div>\n",
              "  </div>\n",
              "  "
            ],
            "text/plain": [
              "   id   label\n",
              "0   1       0\n",
              "1   2       1\n",
              "2   3       1\n",
              "3   4       1\n",
              "4   5       0\n",
              "5   6       0\n",
              "6  10       1\n",
              "7  12       1\n",
              "8  14       1"
            ]
          },
          "metadata": {},
          "execution_count": 45
        }
      ]
    },
    {
      "cell_type": "code",
      "source": [
        "data_label=np.array(data_label)"
      ],
      "metadata": {
        "id": "E-15qSXiPYxk"
      },
      "execution_count": 46,
      "outputs": []
    },
    {
      "cell_type": "code",
      "source": [
        "col_data_label=(data_label[:,1])"
      ],
      "metadata": {
        "id": "NaCR2QndTII9"
      },
      "execution_count": 47,
      "outputs": []
    },
    {
      "cell_type": "code",
      "source": [
        "fin_data_label=col_data_label.reshape(-1,1)"
      ],
      "metadata": {
        "id": "v4nzxdDkTbTI"
      },
      "execution_count": 48,
      "outputs": []
    },
    {
      "cell_type": "code",
      "source": [
        "#concatinating the matrices\n",
        "final_mtx=np.concatenate((CF_embedded, TF_embedded,jaccard_similarity_embedded,\n",
        "                          cosine_similarity_embedded,L1_norm_embedded,wsum_embedded,\n",
        "                          wmul_embedded,fin_data_label), axis=1)"
      ],
      "metadata": {
        "id": "zP_sP1Xz_ybV"
      },
      "execution_count": 49,
      "outputs": []
    },
    {
      "cell_type": "code",
      "source": [
        "#making the matrix n*n\n",
        "\n",
        "#n=8\n",
        "#final_mtx=np.zeros(shape=(n,n))\n",
        "#for i in range(0,final_mtx.shape[0]):\n",
        "#  for j in range(0,final_mtx.shape[1]):\n",
        "#    final_mtx[i][j]=final_mtx1[i][j]\n",
        "#print(np.round(final_mtx,2))"
      ],
      "metadata": {
        "id": "C8BR8hEbVJLP"
      },
      "execution_count": 50,
      "outputs": []
    },
    {
      "cell_type": "code",
      "source": [
        "print(np.round(final_mtx,2))"
      ],
      "metadata": {
        "colab": {
          "base_uri": "https://localhost:8080/"
        },
        "id": "R_58vyVFPJoT",
        "outputId": "e524b3d8-5092-4158-d22b-3ea26c491d17"
      },
      "execution_count": 51,
      "outputs": [
        {
          "output_type": "stream",
          "name": "stdout",
          "text": [
            "[[-131.52   45.54 -110.01    9.28  224.74  -96.27  285.68    0.  ]\n",
            " [  33.99    0.83 -176.78  -16.03    0.54 -165.9    74.75    1.  ]\n",
            " [ -48.17   34.88   71.49   14.09 -206.47  -31.07 -135.36    1.  ]\n",
            " [ 116.2     9.05  276.39   -7.98  -66.22  312.68  -61.53    1.  ]\n",
            " [ 301.03   17.26  -48.39    5.85 -287.87 -247.62    7.6     0.  ]\n",
            " [ 202.18  -16.75 -254.2   -11.56  140.9   231.    372.4     0.  ]\n",
            " [-526.68   -7.67  133.21   -4.42   68.31   32.26  210.9     1.  ]\n",
            " [-219.38   25.79  199.11   -1.32 -134.33  160.58 -221.94    1.  ]\n",
            " [-316.49  -27.25   11.54    2.45 -394.03   95.54  141.88    1.  ]]\n"
          ]
        }
      ]
    },
    {
      "cell_type": "code",
      "source": [
        "df = pd.DataFrame(final_mtx,columns= ['common firend', 'total firend','jaccard_similarity',\n",
        "                                      'cosine_similarity','L1_norm','wsum','wmul','fin_data_label'])\n",
        "print (df)"
      ],
      "metadata": {
        "colab": {
          "base_uri": "https://localhost:8080/"
        },
        "id": "RF5IEnYLFE9R",
        "outputId": "cacb7f2f-a61f-45a1-b770-e95e7f40e90f"
      },
      "execution_count": 52,
      "outputs": [
        {
          "output_type": "stream",
          "name": "stdout",
          "text": [
            "   common firend  total firend  ...        wmul  fin_data_label\n",
            "0    -131.516296     45.535755  ...  285.683563             0.0\n",
            "1      33.993729      0.829768  ...   74.747093             1.0\n",
            "2     -48.173241     34.880215  ... -135.363373             1.0\n",
            "3     116.199234      9.046844  ...  -61.531635             1.0\n",
            "4     301.025543     17.255756  ...    7.598785             0.0\n",
            "5     202.180939    -16.748844  ...  372.404572             0.0\n",
            "6    -526.680359     -7.669074  ...  210.899460             1.0\n",
            "7    -219.376175     25.792807  ... -221.944336             1.0\n",
            "8    -316.485687    -27.247236  ...  141.875412             1.0\n",
            "\n",
            "[9 rows x 8 columns]\n"
          ]
        }
      ]
    },
    {
      "cell_type": "code",
      "source": [
        "X = df[['common firend', 'total firend','jaccard_similarity','cosine_similarity','L1_norm',\n",
        "        'wsum','wmul']]\n",
        "y = df['fin_data_label']"
      ],
      "metadata": {
        "id": "BapbWmqmR8NP"
      },
      "execution_count": 53,
      "outputs": []
    },
    {
      "cell_type": "code",
      "source": [
        "X_train,X_test,y_train,y_test = train_test_split(X,y,test_size=0.25,random_state=0)"
      ],
      "metadata": {
        "id": "vttluI_ZVSu5"
      },
      "execution_count": 54,
      "outputs": []
    },
    {
      "cell_type": "code",
      "source": [
        "logistic_regression= LogisticRegression()\n",
        "logistic_regression.fit(X_train,y_train)\n",
        "y_pred=logistic_regression.predict(X_test)"
      ],
      "metadata": {
        "id": "Rmjs_l2mVpVx"
      },
      "execution_count": 55,
      "outputs": []
    },
    {
      "cell_type": "code",
      "source": [
        "confusion_matrix = pd.crosstab(y_test, y_pred, rownames=['Actual'], colnames=['Predicted'])\n",
        "sns.heatmap(confusion_matrix, annot=True)"
      ],
      "metadata": {
        "colab": {
          "base_uri": "https://localhost:8080/",
          "height": 307
        },
        "id": "knwxCyDFVz5q",
        "outputId": "7d0dc1ed-b548-4201-a83b-93f42a725676"
      },
      "execution_count": 57,
      "outputs": [
        {
          "output_type": "execute_result",
          "data": {
            "text/plain": [
              "<matplotlib.axes._subplots.AxesSubplot at 0x7f29eccdbbd0>"
            ]
          },
          "metadata": {},
          "execution_count": 57
        },
        {
          "output_type": "display_data",
          "data": {
            "image/png": "[encoded data removed]",
            "text/plain": [
              "<Figure size 432x288 with 2 Axes>"
            ]
          },
          "metadata": {
            "needs_background": "light"
          }
        }
      ]
    },
    {
      "cell_type": "code",
      "source": [
        "print('Accuracy: ',metrics.accuracy_score(y_test, y_pred))\n",
        "plt.show()"
      ],
      "metadata": {
        "colab": {
          "base_uri": "https://localhost:8080/"
        },
        "id": "f1BQR3uKWiAI",
        "outputId": "9ce6adf6-d6e3-4198-9c77-d0d119739d66"
      },
      "execution_count": 58,
      "outputs": [
        {
          "output_type": "stream",
          "name": "stdout",
          "text": [
            "Accuracy:  0.6666666666666666\n"
          ]
        }
      ]
    }
  ]
}