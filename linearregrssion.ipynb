{
  "nbformat": 4,
  "nbformat_minor": 0,
  "metadata": {
    "colab": {
      "name": "linearregrssion.ipynb",
      "provenance": [],
      "collapsed_sections": [],
      "toc_visible": true,
      "mount_file_id": "1-uTD702aueSr4Ejlvx8PSHkX4JnV35si",
      "authorship_tag": "ABX9TyOgDcHH+JcJpxZytjPdRWcw",
      "include_colab_link": true
    },
    "kernelspec": {
      "display_name": "Python 3",
      "name": "python3"
    },
    "language_info": {
      "name": "python"
    }
  },
  "cells": [
    {
      "cell_type": "markdown",
      "metadata": {
        "id": "view-in-github",
        "colab_type": "text"
      },
      "source": [
        "<a href=\"https://colab.research.google.com/github/jnsbrdbr/andrew-ng/blob/master/linearregrssion.ipynb\" target=\"_parent\"><img src=\"https://colab.research.google.com/assets/colab-badge.svg\" alt=\"Open In Colab\"/></a>"
      ]
    },
    {
      "cell_type": "code",
      "metadata": {
        "colab": {
          "base_uri": "https://localhost:8080/"
        },
        "id": "1YPbSE7kh6I8",
        "outputId": "79c04c50-7adb-4a48-8ccc-83d915fd758a"
      },
      "source": [
        "# Install TensorFlow\n",
        "# !pip install -q tensorflow-gpu==2.0.0-beta1\n",
        "\n",
        "try:\n",
        "  %tensorflow_version 2.x  # Colab only.\n",
        "except Exception:\n",
        "  pass\n",
        "\n",
        "import tensorflow as tf\n",
        "print(tf.__version__)"
      ],
      "execution_count": null,
      "outputs": [
        {
          "output_type": "stream",
          "name": "stdout",
          "text": [
            "`%tensorflow_version` only switches the major version: 1.x or 2.x.\n",
            "You set: `2.x  # Colab only.`. This will be interpreted as: `2.x`.\n",
            "\n",
            "\n",
            "TensorFlow is already loaded. Please restart the runtime to change versions.\n",
            "2.6.0\n"
          ]
        }
      ]
    },
    {
      "cell_type": "code",
      "metadata": {
        "id": "MVRFnUCkWSal"
      },
      "source": [
        "import os\n",
        "\n",
        "# Scientific and vector computation for python\n",
        "import numpy as np\n",
        "import pandas as pd\n",
        "import io\n",
        "import seaborn as sns\n",
        "\n",
        "# Plotting library\n",
        "from matplotlib import pyplot\n",
        "from mpl_toolkits.mplot3d import Axes3D  # needed to plot 3-D surfaces\n",
        "import matplotlib.pyplot as plt"
      ],
      "execution_count": null,
      "outputs": []
    },
    {
      "cell_type": "code",
      "metadata": {
        "colab": {
          "base_uri": "https://localhost:8080/"
        },
        "id": "JYk7SajJYaR1",
        "outputId": "b1bf1365-8d45-4b95-f716-11f7ad91dd36"
      },
      "source": [
        "!wget https://raw.githubusercontent.com/susilvaalmeida/machine-learning-andrew-ng/master/data/ex1data1.txt\n",
        "\n",
        "data = pd.read_csv('ex1data1.txt', header=None, delimiter=',',error_bad_lines=False).values\n",
        "\n"
      ],
      "execution_count": null,
      "outputs": [
        {
          "output_type": "stream",
          "name": "stdout",
          "text": [
            "--2021-11-07 11:29:25--  https://raw.githubusercontent.com/susilvaalmeida/machine-learning-andrew-ng/master/data/ex1data1.txt\n",
            "Resolving raw.githubusercontent.com (raw.githubusercontent.com)... 185.199.110.133, 185.199.109.133, 185.199.111.133, ...\n",
            "Connecting to raw.githubusercontent.com (raw.githubusercontent.com)|185.199.110.133|:443... connected.\n",
            "HTTP request sent, awaiting response... 200 OK\n",
            "Length: 1359 (1.3K) [text/plain]\n",
            "Saving to: ‘ex1data1.txt.1’\n",
            "\n",
            "ex1data1.txt.1      100%[===================>]   1.33K  --.-KB/s    in 0s      \n",
            "\n",
            "2021-11-07 11:29:25 (42.5 MB/s) - ‘ex1data1.txt.1’ saved [1359/1359]\n",
            "\n"
          ]
        }
      ]
    },
    {
      "cell_type": "code",
      "metadata": {
        "colab": {
          "base_uri": "https://localhost:8080/"
        },
        "id": "rAlJTEo6jL_5",
        "outputId": "613ab619-e525-4c91-c47b-417ac34e095f"
      },
      "source": [
        "data.shape"
      ],
      "execution_count": null,
      "outputs": [
        {
          "output_type": "execute_result",
          "data": {
            "text/plain": [
              "(97, 2)"
            ]
          },
          "metadata": {},
          "execution_count": 33
        }
      ]
    },
    {
      "cell_type": "code",
      "metadata": {
        "id": "Hs8XJd0mjLvC",
        "colab": {
          "base_uri": "https://localhost:8080/"
        },
        "outputId": "903f5611-a06b-421a-bf85-889a4235a1c8"
      },
      "source": [
        "x = data[:, 0].reshape(-1, 1) #numbers show population of the city\n",
        "y = data[:,1]  #numbers show profit of the food\n",
        "\n",
        "M = len(y)  # number of training examples\n",
        "print(M)"
      ],
      "execution_count": null,
      "outputs": [
        {
          "output_type": "stream",
          "name": "stdout",
          "text": [
            "97\n",
            "97\n"
          ]
        }
      ]
    },
    {
      "cell_type": "code",
      "metadata": {
        "colab": {
          "base_uri": "https://localhost:8080/"
        },
        "id": "vzIh3bd8hRFe",
        "outputId": "97b8a301-ffb5-4ce6-9cfe-f031e4371524"
      },
      "source": [
        "print(data)"
      ],
      "execution_count": null,
      "outputs": [
        {
          "output_type": "stream",
          "name": "stdout",
          "text": [
            "[[ 6.1101  17.592  ]\n",
            " [ 5.5277   9.1302 ]\n",
            " [ 8.5186  13.662  ]\n",
            " [ 7.0032  11.854  ]\n",
            " [ 5.8598   6.8233 ]\n",
            " [ 8.3829  11.886  ]\n",
            " [ 7.4764   4.3483 ]\n",
            " [ 8.5781  12.     ]\n",
            " [ 6.4862   6.5987 ]\n",
            " [ 5.0546   3.8166 ]\n",
            " [ 5.7107   3.2522 ]\n",
            " [14.164   15.505  ]\n",
            " [ 5.734    3.1551 ]\n",
            " [ 8.4084   7.2258 ]\n",
            " [ 5.6407   0.71618]\n",
            " [ 5.3794   3.5129 ]\n",
            " [ 6.3654   5.3048 ]\n",
            " [ 5.1301   0.56077]\n",
            " [ 6.4296   3.6518 ]\n",
            " [ 7.0708   5.3893 ]\n",
            " [ 6.1891   3.1386 ]\n",
            " [20.27    21.767  ]\n",
            " [ 5.4901   4.263  ]\n",
            " [ 6.3261   5.1875 ]\n",
            " [ 5.5649   3.0825 ]\n",
            " [18.945   22.638  ]\n",
            " [12.828   13.501  ]\n",
            " [10.957    7.0467 ]\n",
            " [13.176   14.692  ]\n",
            " [22.203   24.147  ]\n",
            " [ 5.2524  -1.22   ]\n",
            " [ 6.5894   5.9966 ]\n",
            " [ 9.2482  12.134  ]\n",
            " [ 5.8918   1.8495 ]\n",
            " [ 8.2111   6.5426 ]\n",
            " [ 7.9334   4.5623 ]\n",
            " [ 8.0959   4.1164 ]\n",
            " [ 5.6063   3.3928 ]\n",
            " [12.836   10.117  ]\n",
            " [ 6.3534   5.4974 ]\n",
            " [ 5.4069   0.55657]\n",
            " [ 6.8825   3.9115 ]\n",
            " [11.708    5.3854 ]\n",
            " [ 5.7737   2.4406 ]\n",
            " [ 7.8247   6.7318 ]\n",
            " [ 7.0931   1.0463 ]\n",
            " [ 5.0702   5.1337 ]\n",
            " [ 5.8014   1.844  ]\n",
            " [11.7      8.0043 ]\n",
            " [ 5.5416   1.0179 ]\n",
            " [ 7.5402   6.7504 ]\n",
            " [ 5.3077   1.8396 ]\n",
            " [ 7.4239   4.2885 ]\n",
            " [ 7.6031   4.9981 ]\n",
            " [ 6.3328   1.4233 ]\n",
            " [ 6.3589  -1.4211 ]\n",
            " [ 6.2742   2.4756 ]\n",
            " [ 5.6397   4.6042 ]\n",
            " [ 9.3102   3.9624 ]\n",
            " [ 9.4536   5.4141 ]\n",
            " [ 8.8254   5.1694 ]\n",
            " [ 5.1793  -0.74279]\n",
            " [21.279   17.929  ]\n",
            " [14.908   12.054  ]\n",
            " [18.959   17.054  ]\n",
            " [ 7.2182   4.8852 ]\n",
            " [ 8.2951   5.7442 ]\n",
            " [10.236    7.7754 ]\n",
            " [ 5.4994   1.0173 ]\n",
            " [20.341   20.992  ]\n",
            " [10.136    6.6799 ]\n",
            " [ 7.3345   4.0259 ]\n",
            " [ 6.0062   1.2784 ]\n",
            " [ 7.2259   3.3411 ]\n",
            " [ 5.0269  -2.6807 ]\n",
            " [ 6.5479   0.29678]\n",
            " [ 7.5386   3.8845 ]\n",
            " [ 5.0365   5.7014 ]\n",
            " [10.274    6.7526 ]\n",
            " [ 5.1077   2.0576 ]\n",
            " [ 5.7292   0.47953]\n",
            " [ 5.1884   0.20421]\n",
            " [ 6.3557   0.67861]\n",
            " [ 9.7687   7.5435 ]\n",
            " [ 6.5159   5.3436 ]\n",
            " [ 8.5172   4.2415 ]\n",
            " [ 9.1802   6.7981 ]\n",
            " [ 6.002    0.92695]\n",
            " [ 5.5204   0.152  ]\n",
            " [ 5.0594   2.8214 ]\n",
            " [ 5.7077   1.8451 ]\n",
            " [ 7.6366   4.2959 ]\n",
            " [ 5.8707   7.2029 ]\n",
            " [ 5.3054   1.9869 ]\n",
            " [ 8.2934   0.14454]\n",
            " [13.394    9.0551 ]\n",
            " [ 5.4369   0.61705]]\n"
          ]
        }
      ]
    },
    {
      "cell_type": "code",
      "metadata": {
        "colab": {
          "base_uri": "https://localhost:8080/",
          "height": 284
        },
        "id": "44Bbqdb1hkU9",
        "outputId": "7d37ed36-b1cf-4e99-c3d5-91d85d461d02"
      },
      "source": [
        "\n",
        "plt.scatter(x, y)"
      ],
      "execution_count": null,
      "outputs": [
        {
          "output_type": "execute_result",
          "data": {
            "text/plain": [
              "<matplotlib.collections.PathCollection at 0x7fd77a0ebfd0>"
            ]
          },
          "metadata": {},
          "execution_count": 8
        },
        {
          "output_type": "display_data",
          "data": {
            "image/png": "[encoded data removed]",
            "text/plain": [
              "<Figure size 432x288 with 1 Axes>"
            ]
          },
          "metadata": {
            "needs_background": "light"
          }
        }
      ]
    },
    {
      "cell_type": "code",
      "metadata": {
        "colab": {
          "base_uri": "https://localhost:8080/"
        },
        "id": "PYMkT2W8t0SD",
        "outputId": "113ea14e-65ae-4d6c-bb93-3b8c06a87e2b"
      },
      "source": [
        "ones = np.ones((M, 1)) #column of 1s for theta\n",
        "print(ones)"
      ],
      "execution_count": null,
      "outputs": [
        {
          "output_type": "stream",
          "name": "stdout",
          "text": [
            "[[1.]\n",
            " [1.]\n",
            " [1.]\n",
            " [1.]\n",
            " [1.]\n",
            " [1.]\n",
            " [1.]\n",
            " [1.]\n",
            " [1.]\n",
            " [1.]\n",
            " [1.]\n",
            " [1.]\n",
            " [1.]\n",
            " [1.]\n",
            " [1.]\n",
            " [1.]\n",
            " [1.]\n",
            " [1.]\n",
            " [1.]\n",
            " [1.]\n",
            " [1.]\n",
            " [1.]\n",
            " [1.]\n",
            " [1.]\n",
            " [1.]\n",
            " [1.]\n",
            " [1.]\n",
            " [1.]\n",
            " [1.]\n",
            " [1.]\n",
            " [1.]\n",
            " [1.]\n",
            " [1.]\n",
            " [1.]\n",
            " [1.]\n",
            " [1.]\n",
            " [1.]\n",
            " [1.]\n",
            " [1.]\n",
            " [1.]\n",
            " [1.]\n",
            " [1.]\n",
            " [1.]\n",
            " [1.]\n",
            " [1.]\n",
            " [1.]\n",
            " [1.]\n",
            " [1.]\n",
            " [1.]\n",
            " [1.]\n",
            " [1.]\n",
            " [1.]\n",
            " [1.]\n",
            " [1.]\n",
            " [1.]\n",
            " [1.]\n",
            " [1.]\n",
            " [1.]\n",
            " [1.]\n",
            " [1.]\n",
            " [1.]\n",
            " [1.]\n",
            " [1.]\n",
            " [1.]\n",
            " [1.]\n",
            " [1.]\n",
            " [1.]\n",
            " [1.]\n",
            " [1.]\n",
            " [1.]\n",
            " [1.]\n",
            " [1.]\n",
            " [1.]\n",
            " [1.]\n",
            " [1.]\n",
            " [1.]\n",
            " [1.]\n",
            " [1.]\n",
            " [1.]\n",
            " [1.]\n",
            " [1.]\n",
            " [1.]\n",
            " [1.]\n",
            " [1.]\n",
            " [1.]\n",
            " [1.]\n",
            " [1.]\n",
            " [1.]\n",
            " [1.]\n",
            " [1.]\n",
            " [1.]\n",
            " [1.]\n",
            " [1.]\n",
            " [1.]\n",
            " [1.]\n",
            " [1.]\n",
            " [1.]]\n"
          ]
        }
      ]
    },
    {
      "cell_type": "code",
      "metadata": {
        "colab": {
          "base_uri": "https://localhost:8080/"
        },
        "id": "O34jNuhJS2qH",
        "outputId": "c29c42b9-419a-4549-bb13-b9944f33c872"
      },
      "source": [
        "X=np.hstack((ones,x))\n",
        "print(X)"
      ],
      "execution_count": null,
      "outputs": [
        {
          "output_type": "stream",
          "name": "stdout",
          "text": [
            "[[ 1.      6.1101]\n",
            " [ 1.      5.5277]\n",
            " [ 1.      8.5186]\n",
            " [ 1.      7.0032]\n",
            " [ 1.      5.8598]\n",
            " [ 1.      8.3829]\n",
            " [ 1.      7.4764]\n",
            " [ 1.      8.5781]\n",
            " [ 1.      6.4862]\n",
            " [ 1.      5.0546]\n",
            " [ 1.      5.7107]\n",
            " [ 1.     14.164 ]\n",
            " [ 1.      5.734 ]\n",
            " [ 1.      8.4084]\n",
            " [ 1.      5.6407]\n",
            " [ 1.      5.3794]\n",
            " [ 1.      6.3654]\n",
            " [ 1.      5.1301]\n",
            " [ 1.      6.4296]\n",
            " [ 1.      7.0708]\n",
            " [ 1.      6.1891]\n",
            " [ 1.     20.27  ]\n",
            " [ 1.      5.4901]\n",
            " [ 1.      6.3261]\n",
            " [ 1.      5.5649]\n",
            " [ 1.     18.945 ]\n",
            " [ 1.     12.828 ]\n",
            " [ 1.     10.957 ]\n",
            " [ 1.     13.176 ]\n",
            " [ 1.     22.203 ]\n",
            " [ 1.      5.2524]\n",
            " [ 1.      6.5894]\n",
            " [ 1.      9.2482]\n",
            " [ 1.      5.8918]\n",
            " [ 1.      8.2111]\n",
            " [ 1.      7.9334]\n",
            " [ 1.      8.0959]\n",
            " [ 1.      5.6063]\n",
            " [ 1.     12.836 ]\n",
            " [ 1.      6.3534]\n",
            " [ 1.      5.4069]\n",
            " [ 1.      6.8825]\n",
            " [ 1.     11.708 ]\n",
            " [ 1.      5.7737]\n",
            " [ 1.      7.8247]\n",
            " [ 1.      7.0931]\n",
            " [ 1.      5.0702]\n",
            " [ 1.      5.8014]\n",
            " [ 1.     11.7   ]\n",
            " [ 1.      5.5416]\n",
            " [ 1.      7.5402]\n",
            " [ 1.      5.3077]\n",
            " [ 1.      7.4239]\n",
            " [ 1.      7.6031]\n",
            " [ 1.      6.3328]\n",
            " [ 1.      6.3589]\n",
            " [ 1.      6.2742]\n",
            " [ 1.      5.6397]\n",
            " [ 1.      9.3102]\n",
            " [ 1.      9.4536]\n",
            " [ 1.      8.8254]\n",
            " [ 1.      5.1793]\n",
            " [ 1.     21.279 ]\n",
            " [ 1.     14.908 ]\n",
            " [ 1.     18.959 ]\n",
            " [ 1.      7.2182]\n",
            " [ 1.      8.2951]\n",
            " [ 1.     10.236 ]\n",
            " [ 1.      5.4994]\n",
            " [ 1.     20.341 ]\n",
            " [ 1.     10.136 ]\n",
            " [ 1.      7.3345]\n",
            " [ 1.      6.0062]\n",
            " [ 1.      7.2259]\n",
            " [ 1.      5.0269]\n",
            " [ 1.      6.5479]\n",
            " [ 1.      7.5386]\n",
            " [ 1.      5.0365]\n",
            " [ 1.     10.274 ]\n",
            " [ 1.      5.1077]\n",
            " [ 1.      5.7292]\n",
            " [ 1.      5.1884]\n",
            " [ 1.      6.3557]\n",
            " [ 1.      9.7687]\n",
            " [ 1.      6.5159]\n",
            " [ 1.      8.5172]\n",
            " [ 1.      9.1802]\n",
            " [ 1.      6.002 ]\n",
            " [ 1.      5.5204]\n",
            " [ 1.      5.0594]\n",
            " [ 1.      5.7077]\n",
            " [ 1.      7.6366]\n",
            " [ 1.      5.8707]\n",
            " [ 1.      5.3054]\n",
            " [ 1.      8.2934]\n",
            " [ 1.     13.394 ]\n",
            " [ 1.      5.4369]]\n"
          ]
        }
      ]
    },
    {
      "cell_type": "code",
      "metadata": {
        "colab": {
          "base_uri": "https://localhost:8080/"
        },
        "id": "OS3s43Pd6lLl",
        "outputId": "84250a60-6c7a-4c3b-cf7d-90496754646e"
      },
      "source": [
        "theta = np.zeros(2)\n",
        "print(theta)\n",
        "num_iters = 1500\n",
        "alpha = 0.01"
      ],
      "execution_count": null,
      "outputs": [
        {
          "output_type": "stream",
          "name": "stdout",
          "text": [
            "[0. 0.]\n"
          ]
        }
      ]
    },
    {
      "cell_type": "code",
      "metadata": {
        "id": "QuKp_yJF0DDQ"
      },
      "source": [
        "def compute_cost(X, y, theta):\n",
        "    m = y.shape[0]\n",
        "    h = X.dot(theta)\n",
        "    J = (1/(2*m)) * (np.sum((h - y)**2))\n",
        "    return J"
      ],
      "execution_count": null,
      "outputs": []
    },
    {
      "cell_type": "code",
      "metadata": {
        "colab": {
          "base_uri": "https://localhost:8080/"
        },
        "id": "WAAEEl7T0kza",
        "outputId": "0161b5f2-3850-4ac9-bd63-fda980027da2"
      },
      "source": [
        "J = compute_cost(X, y, theta)\n",
        "print('With theta = [0 ; 0]\\nCost computed =', J)"
      ],
      "execution_count": null,
      "outputs": [
        {
          "output_type": "stream",
          "name": "stdout",
          "text": [
            "With theta = [0 ; 0]\n",
            "Cost computed = 32.072733877455676\n"
          ]
        }
      ]
    },
    {
      "cell_type": "code",
      "metadata": {
        "colab": {
          "base_uri": "https://localhost:8080/"
        },
        "id": "dSfbo-crTsT7",
        "outputId": "6c6f0f38-0855-47eb-8484-4229d90b029c"
      },
      "source": [
        "J = compute_cost(X, y, [-1,2])\n",
        "print('With theta = [-1 ; 2]\\nCost computed =', J)"
      ],
      "execution_count": null,
      "outputs": [
        {
          "output_type": "stream",
          "name": "stdout",
          "text": [
            "With theta = [-1 ; 2]\n",
            "Cost computed = 54.24245508201238\n"
          ]
        }
      ]
    },
    {
      "cell_type": "code",
      "metadata": {
        "id": "slw9xJJHY2oq"
      },
      "source": [
        "def gradient_descent(X, y, theta, alpha, num_iters):\n",
        "    m = y.shape[0]\n",
        "    J_history = np.zeros(num_iters)\n",
        "    theta_0 = theta.copy()\n",
        "    for i in range(0, num_iters):\n",
        "        h = X.dot(theta_0)\n",
        "        diff_hy = h - y\n",
        "\n",
        "        delta = (1/m) * (diff_hy.T.dot(X))\n",
        "        theta_0 = theta_0 - (alpha * delta.T)\n",
        "        J_history[i] = compute_cost(X, y, theta_0)\n",
        "\n",
        "    return theta_0, J_history"
      ],
      "execution_count": null,
      "outputs": []
    },
    {
      "cell_type": "code",
      "metadata": {
        "colab": {
          "base_uri": "https://localhost:8080/"
        },
        "id": "VjDOlq35ZFnZ",
        "outputId": "9de24c85-d0bc-4ef7-e7f7-9f782a66e1fc"
      },
      "source": [
        "theta, _ = gradient_descent(X, y, theta, alpha, iterations)\n",
        "print('Theta found by gradient descent:\\n', theta)"
      ],
      "execution_count": null,
      "outputs": [
        {
          "output_type": "stream",
          "name": "stdout",
          "text": [
            "Theta found by gradient descent:\n",
            " [-3.63029144  1.16636235]\n"
          ]
        }
      ]
    },
    {
      "cell_type": "code",
      "metadata": {
        "colab": {
          "base_uri": "https://localhost:8080/",
          "height": 284
        },
        "id": "tbgUSVeTahQl",
        "outputId": "5cb4188a-6a5c-4775-c102-a28fd7fe242f"
      },
      "source": [
        "plt.scatter(x, y)\n",
        "plt.plot(X[:,1], X.dot(theta), color='r')"
      ],
      "execution_count": null,
      "outputs": [
        {
          "output_type": "execute_result",
          "data": {
            "text/plain": [
              "[<matplotlib.lines.Line2D at 0x7fd7793206d0>]"
            ]
          },
          "metadata": {},
          "execution_count": 103
        },
        {
          "output_type": "display_data",
          "data": {
            "image/png": "[encoded data removed]",
            "text/plain": [
              "<Figure size 432x288 with 1 Axes>"
            ]
          },
          "metadata": {
            "needs_background": "light"
          }
        }
      ]
    }
  ]
}