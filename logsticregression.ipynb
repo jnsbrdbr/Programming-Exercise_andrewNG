{
  "nbformat": 4,
  "nbformat_minor": 0,
  "metadata": {
    "colab": {
      "name": "Untitled5.ipynb",
      "provenance": [],
      "collapsed_sections": [],
      "toc_visible": true,
      "authorship_tag": "ABX9TyOdcgfI8LuJXuQUBROuaz2/",
      "include_colab_link": true
    },
    "kernelspec": {
      "name": "python3",
      "display_name": "Python 3"
    },
    "language_info": {
      "name": "python"
    }
  },
  "cells": [
    {
      "cell_type": "markdown",
      "metadata": {
        "id": "view-in-github",
        "colab_type": "text"
      },
      "source": [
        "<a href=\"https://colab.research.google.com/github/jnsbrdbr/andrew-ng/blob/master/logsticregression.ipynb\" target=\"_parent\"><img src=\"https://colab.research.google.com/assets/colab-badge.svg\" alt=\"Open In Colab\"/></a>"
      ]
    },
    {
      "cell_type": "code",
      "metadata": {
        "colab": {
          "base_uri": "https://localhost:8080/"
        },
        "id": "8BOAEjgpHgBt",
        "outputId": "788d2138-9ef8-42a7-90e9-8814af824687"
      },
      "source": [
        "# Install TensorFlow\n",
        "# !pip install -q tensorflow-gpu==2.0.0-beta1\n",
        "\n",
        "try:\n",
        "  %tensorflow_version 2.x  # Colab only.\n",
        "except Exception:\n",
        "  pass\n",
        "\n",
        "import tensorflow as tf\n",
        "print(tf.__version__)"
      ],
      "execution_count": 5,
      "outputs": [
        {
          "output_type": "stream",
          "name": "stdout",
          "text": [
            "`%tensorflow_version` only switches the major version: 1.x or 2.x.\n",
            "You set: `2.x  # Colab only.`. This will be interpreted as: `2.x`.\n",
            "\n",
            "\n",
            "TensorFlow is already loaded. Please restart the runtime to change versions.\n",
            "2.7.0\n"
          ]
        }
      ]
    },
    {
      "cell_type": "code",
      "metadata": {
        "id": "PqMapxSfHsea"
      },
      "source": [
        "import os\n",
        "\n",
        "# Scientific and vector computation for python\n",
        "import numpy as np\n",
        "import pandas as pd\n",
        "import io\n",
        "import seaborn as sns\n",
        "\n",
        "# Plotting library\n",
        "from matplotlib import pyplot\n",
        "from mpl_toolkits.mplot3d import Axes3D  # needed to plot 3-D surfaces\n",
        "import matplotlib.pyplot as plt"
      ],
      "execution_count": 16,
      "outputs": []
    },
    {
      "cell_type": "code",
      "metadata": {
        "colab": {
          "base_uri": "https://localhost:8080/"
        },
        "id": "Q39vc8H8H07c",
        "outputId": "0bbfed30-fbaa-4418-e2fd-871a9e305adc"
      },
      "source": [
        "!wget https://raw.githubusercontent.com/susilvaalmeida/machine-learning-andrew-ng/master/data/ex2data1.txt\n",
        "\n",
        "data = pd.read_csv('ex2data1.txt', header=None, delimiter=',',error_bad_lines=False)"
      ],
      "execution_count": 12,
      "outputs": [
        {
          "output_type": "stream",
          "name": "stdout",
          "text": [
            "--2021-11-10 09:19:41--  https://raw.githubusercontent.com/susilvaalmeida/machine-learning-andrew-ng/master/data/ex2data1.txt\n",
            "Resolving raw.githubusercontent.com (raw.githubusercontent.com)... 185.199.110.133, 185.199.109.133, 185.199.108.133, ...\n",
            "Connecting to raw.githubusercontent.com (raw.githubusercontent.com)|185.199.110.133|:443... connected.\n",
            "HTTP request sent, awaiting response... 200 OK\n",
            "Length: 3775 (3.7K) [text/plain]\n",
            "Saving to: ‘ex2data1.txt.1’\n",
            "\n",
            "\rex2data1.txt.1        0%[                    ]       0  --.-KB/s               \rex2data1.txt.1      100%[===================>]   3.69K  --.-KB/s    in 0s      \n",
            "\n",
            "2021-11-10 09:19:41 (55.0 MB/s) - ‘ex2data1.txt.1’ saved [3775/3775]\n",
            "\n"
          ]
        }
      ]
    },
    {
      "cell_type": "code",
      "metadata": {
        "id": "KnxF3V6BI4eI"
      },
      "source": [
        "data.columns = ['exam_score_1', 'exam_score_2', 'label']"
      ],
      "execution_count": 13,
      "outputs": []
    },
    {
      "cell_type": "code",
      "metadata": {
        "colab": {
          "base_uri": "https://localhost:8080/",
          "height": 143
        },
        "id": "LBBNA3pwJCI4",
        "outputId": "edecef08-8db8-4610-8d71-93cd43a3549a"
      },
      "source": [
        "data.describe().T"
      ],
      "execution_count": 14,
      "outputs": [
        {
          "output_type": "execute_result",
          "data": {
            "text/html": [
              "<div>\n",
              "<style scoped>\n",
              "    .dataframe tbody tr th:only-of-type {\n",
              "        vertical-align: middle;\n",
              "    }\n",
              "\n",
              "    .dataframe tbody tr th {\n",
              "        vertical-align: top;\n",
              "    }\n",
              "\n",
              "    .dataframe thead th {\n",
              "        text-align: right;\n",
              "    }\n",
              "</style>\n",
              "<table border=\"1\" class=\"dataframe\">\n",
              "  <thead>\n",
              "    <tr style=\"text-align: right;\">\n",
              "      <th></th>\n",
              "      <th>count</th>\n",
              "      <th>mean</th>\n",
              "      <th>std</th>\n",
              "      <th>min</th>\n",
              "      <th>25%</th>\n",
              "      <th>50%</th>\n",
              "      <th>75%</th>\n",
              "      <th>max</th>\n",
              "    </tr>\n",
              "  </thead>\n",
              "  <tbody>\n",
              "    <tr>\n",
              "      <th>exam_score_1</th>\n",
              "      <td>100.0</td>\n",
              "      <td>65.644274</td>\n",
              "      <td>19.458222</td>\n",
              "      <td>30.058822</td>\n",
              "      <td>50.919511</td>\n",
              "      <td>67.032988</td>\n",
              "      <td>80.212529</td>\n",
              "      <td>99.827858</td>\n",
              "    </tr>\n",
              "    <tr>\n",
              "      <th>exam_score_2</th>\n",
              "      <td>100.0</td>\n",
              "      <td>66.221998</td>\n",
              "      <td>18.582783</td>\n",
              "      <td>30.603263</td>\n",
              "      <td>48.179205</td>\n",
              "      <td>67.682381</td>\n",
              "      <td>79.360605</td>\n",
              "      <td>98.869436</td>\n",
              "    </tr>\n",
              "    <tr>\n",
              "      <th>label</th>\n",
              "      <td>100.0</td>\n",
              "      <td>0.600000</td>\n",
              "      <td>0.492366</td>\n",
              "      <td>0.000000</td>\n",
              "      <td>0.000000</td>\n",
              "      <td>1.000000</td>\n",
              "      <td>1.000000</td>\n",
              "      <td>1.000000</td>\n",
              "    </tr>\n",
              "  </tbody>\n",
              "</table>\n",
              "</div>"
            ],
            "text/plain": [
              "              count       mean        std  ...        50%        75%        max\n",
              "exam_score_1  100.0  65.644274  19.458222  ...  67.032988  80.212529  99.827858\n",
              "exam_score_2  100.0  66.221998  18.582783  ...  67.682381  79.360605  98.869436\n",
              "label         100.0   0.600000   0.492366  ...   1.000000   1.000000   1.000000\n",
              "\n",
              "[3 rows x 8 columns]"
            ]
          },
          "metadata": {},
          "execution_count": 14
        }
      ]
    },
    {
      "cell_type": "code",
      "metadata": {
        "colab": {
          "base_uri": "https://localhost:8080/",
          "height": 351
        },
        "id": "oupQ8WM0JX_m",
        "outputId": "e2f8930f-fb04-4a05-8f04-173bf115fa78"
      },
      "source": [
        "plt.figure(figsize=(7,5))\n",
        "ax = sns.scatterplot(x='exam_score_1', y='exam_score_2' ,hue='label',  data=data, style='label', s=80)\n",
        "#handles, labels = ax.get_legend_handles_labels()\n",
        "ax.legend(handles[0:], ['Not admitted', 'Admitted'])\n",
        "plt.title('Scatter plot of training data')\n",
        "plt.show(ax)"
      ],
      "execution_count": 31,
      "outputs": [
        {
          "output_type": "display_data",
          "data": {
            "image/png": "[encoded data removed]",
            "text/plain": [
              "<Figure size 504x360 with 1 Axes>"
            ]
          },
          "metadata": {
            "needs_background": "light"
          }
        }
      ]
    },
    {
      "cell_type": "code",
      "metadata": {
        "id": "OWmEzOJ0Rk3B"
      },
      "source": [
        "def sigmoid(Z):\n",
        "  z=np.array(Z)\n",
        "  return 1/(1+np.exp(-z))"
      ],
      "execution_count": 36,
      "outputs": []
    },
    {
      "cell_type": "code",
      "metadata": {
        "colab": {
          "base_uri": "https://localhost:8080/",
          "height": 225
        },
        "id": "hp97q5Z-V_bZ",
        "outputId": "8f33347f-2e5e-46e4-e9d2-eb142bdd8254"
      },
      "source": [
        "z = np.linspace(-10, 10, 1000)\n",
        "sig = sigmoid(z)\n",
        "plt.figure(figsize=(9, 3))\n",
        "plt.plot([-10, 10], [0, 0], \"k-\")\n",
        "plt.plot([-10, 10], [0.5, 0.5], \"k:\")\n",
        "plt.plot([-10, 10], [1, 1], \"k:\")\n",
        "plt.plot([0, 0], [-1.1, 1.1], \"k-\")\n",
        "plt.plot(z, sig, \"b-\", linewidth=2)\n",
        "plt.xlabel(\"z\")\n",
        "plt.axis([-10, 10, -0.1, 1.1])\n",
        "plt.show()"
      ],
      "execution_count": 62,
      "outputs": [
        {
          "output_type": "display_data",
          "data": {
            "image/png": "[encoded data removed]",
            "text/plain": [
              "<Figure size 648x216 with 1 Axes>"
            ]
          },
          "metadata": {
            "needs_background": "light"
          }
        }
      ]
    },
    {
      "cell_type": "code",
      "metadata": {
        "colab": {
          "base_uri": "https://localhost:8080/"
        },
        "id": "4BLTR_41lzF9",
        "outputId": "39551a87-2c9d-4534-96f3-c1632bb4fbbd"
      },
      "source": [
        "m = data.shape[0]\n",
        "x = np.hstack((np.ones((m,1)),data[['exam_score_1', 'exam_score_2']].values))\n",
        "y = np.array(data.label.values).reshape(-1,1)\n",
        "theta = np.zeros(shape=(data.shape[1]))\n",
        "print(x)"
      ],
      "execution_count": 104,
      "outputs": [
        {
          "output_type": "stream",
          "name": "stdout",
          "text": [
            "[[ 1.         34.62365962 78.02469282]\n",
            " [ 1.         30.28671077 43.89499752]\n",
            " [ 1.         35.84740877 72.90219803]\n",
            " [ 1.         60.18259939 86.3085521 ]\n",
            " [ 1.         79.03273605 75.34437644]\n",
            " [ 1.         45.08327748 56.31637178]\n",
            " [ 1.         61.10666454 96.51142588]\n",
            " [ 1.         75.02474557 46.55401354]\n",
            " [ 1.         76.0987867  87.42056972]\n",
            " [ 1.         84.43281996 43.53339331]\n",
            " [ 1.         95.86155507 38.22527806]\n",
            " [ 1.         75.01365839 30.60326323]\n",
            " [ 1.         82.30705337 76.4819633 ]\n",
            " [ 1.         69.36458876 97.71869196]\n",
            " [ 1.         39.53833914 76.03681085]\n",
            " [ 1.         53.97105215 89.20735014]\n",
            " [ 1.         69.07014406 52.74046973]\n",
            " [ 1.         67.94685548 46.67857411]\n",
            " [ 1.         70.66150955 92.92713789]\n",
            " [ 1.         76.97878373 47.57596365]\n",
            " [ 1.         67.37202755 42.83843832]\n",
            " [ 1.         89.67677575 65.79936593]\n",
            " [ 1.         50.53478829 48.85581153]\n",
            " [ 1.         34.21206098 44.2095286 ]\n",
            " [ 1.         77.92409145 68.97235999]\n",
            " [ 1.         62.27101367 69.95445795]\n",
            " [ 1.         80.19018075 44.82162893]\n",
            " [ 1.         93.1143888  38.80067034]\n",
            " [ 1.         61.83020602 50.25610789]\n",
            " [ 1.         38.7858038  64.99568096]\n",
            " [ 1.         61.37928945 72.80788731]\n",
            " [ 1.         85.40451939 57.05198398]\n",
            " [ 1.         52.10797973 63.12762377]\n",
            " [ 1.         52.04540477 69.43286012]\n",
            " [ 1.         40.23689374 71.16774802]\n",
            " [ 1.         54.63510555 52.21388588]\n",
            " [ 1.         33.91550011 98.86943574]\n",
            " [ 1.         64.17698887 80.90806059]\n",
            " [ 1.         74.78925296 41.57341523]\n",
            " [ 1.         34.18364003 75.23772034]\n",
            " [ 1.         83.90239366 56.30804622]\n",
            " [ 1.         51.54772027 46.85629026]\n",
            " [ 1.         94.44336777 65.56892161]\n",
            " [ 1.         82.36875376 40.61825516]\n",
            " [ 1.         51.04775177 45.82270146]\n",
            " [ 1.         62.22267576 52.06099195]\n",
            " [ 1.         77.19303493 70.4582    ]\n",
            " [ 1.         97.77159928 86.72782233]\n",
            " [ 1.         62.0730638  96.76882412]\n",
            " [ 1.         91.5649745  88.69629255]\n",
            " [ 1.         79.94481794 74.16311935]\n",
            " [ 1.         99.27252693 60.999031  ]\n",
            " [ 1.         90.54671411 43.39060181]\n",
            " [ 1.         34.52451385 60.39634246]\n",
            " [ 1.         50.28649612 49.80453881]\n",
            " [ 1.         49.58667722 59.80895099]\n",
            " [ 1.         97.64563396 68.86157272]\n",
            " [ 1.         32.57720017 95.59854761]\n",
            " [ 1.         74.24869137 69.82457123]\n",
            " [ 1.         71.79646206 78.45356225]\n",
            " [ 1.         75.39561147 85.75993667]\n",
            " [ 1.         35.28611282 47.02051395]\n",
            " [ 1.         56.2538175  39.26147251]\n",
            " [ 1.         30.05882245 49.59297387]\n",
            " [ 1.         44.66826172 66.45008615]\n",
            " [ 1.         66.56089447 41.09209808]\n",
            " [ 1.         40.45755098 97.53518549]\n",
            " [ 1.         49.07256322 51.88321182]\n",
            " [ 1.         80.27957401 92.11606081]\n",
            " [ 1.         66.74671857 60.99139403]\n",
            " [ 1.         32.72283304 43.30717306]\n",
            " [ 1.         64.03932042 78.03168802]\n",
            " [ 1.         72.34649423 96.22759297]\n",
            " [ 1.         60.45788574 73.0949981 ]\n",
            " [ 1.         58.84095622 75.85844831]\n",
            " [ 1.         99.8278578  72.36925193]\n",
            " [ 1.         47.26426911 88.475865  ]\n",
            " [ 1.         50.4581598  75.80985953]\n",
            " [ 1.         60.45555629 42.50840944]\n",
            " [ 1.         82.22666158 42.71987854]\n",
            " [ 1.         88.91389642 69.8037889 ]\n",
            " [ 1.         94.83450672 45.6943068 ]\n",
            " [ 1.         67.31925747 66.58935318]\n",
            " [ 1.         57.23870632 59.51428198]\n",
            " [ 1.         80.366756   90.9601479 ]\n",
            " [ 1.         68.46852179 85.5943071 ]\n",
            " [ 1.         42.07545454 78.844786  ]\n",
            " [ 1.         75.47770201 90.424539  ]\n",
            " [ 1.         78.63542435 96.64742717]\n",
            " [ 1.         52.34800399 60.76950526]\n",
            " [ 1.         94.09433113 77.15910509]\n",
            " [ 1.         90.44855097 87.50879176]\n",
            " [ 1.         55.48216114 35.57070347]\n",
            " [ 1.         74.49269242 84.84513685]\n",
            " [ 1.         89.84580671 45.35828361]\n",
            " [ 1.         83.48916274 48.3802858 ]\n",
            " [ 1.         42.26170081 87.10385094]\n",
            " [ 1.         99.31500881 68.77540947]\n",
            " [ 1.         55.34001756 64.93193801]\n",
            " [ 1.         74.775893   89.5298129 ]]\n"
          ]
        }
      ]
    },
    {
      "cell_type": "code",
      "metadata": {
        "id": "IseoSIo0kSaV"
      },
      "source": [
        "def computecost(theat,x,y):\n",
        "  m=data.shape[0]\n",
        "  theta_0 = theta[:, np.newaxis]\n",
        "  h=sigmoid(x.dot(theta_0))\n",
        "  j=(1/m) * (-y.T.dot(np.log(h))- (1-y).T.dot(np.log(1-h)))\n",
        "  diff_hy = h - y\n",
        "  grad= (1/m) * diff_hy.T.dot(x)\n",
        "  return j,grad"
      ],
      "execution_count": 147,
      "outputs": []
    },
    {
      "cell_type": "code",
      "metadata": {
        "colab": {
          "base_uri": "https://localhost:8080/"
        },
        "id": "flxEPkivmNP6",
        "outputId": "5e47ccf0-6187-4e35-c14b-73ba21beeb7e"
      },
      "source": [
        "cost, grad = computecost(theta, x, y)\n",
        "print('Cost at initial theta (zeros):', cost)\n",
        "print('Expected cost (approx): 0.693')\n",
        "print('Gradient at initial theta (zeros):')\n",
        "print(grad.T)"
      ],
      "execution_count": 148,
      "outputs": [
        {
          "output_type": "stream",
          "name": "stdout",
          "text": [
            "Cost at initial theta (zeros): [[0.69314718]]\n",
            "Expected cost (approx): 0.693\n",
            "Gradient at initial theta (zeros):\n",
            "[[ -0.1       ]\n",
            " [-12.00921659]\n",
            " [-11.26284221]]\n"
          ]
        }
      ]
    },
    {
      "cell_type": "code",
      "metadata": {
        "id": "ZbvPxkKNASkH"
      },
      "source": [
        "import scipy.optimize as opt\n",
        "def optimize_theta(x,y,theta):\n",
        "  opt_result=opt.minimize(computecost, theta, args=(x, y), method='TNC',\n",
        "                               jac=True, options={'maxiter':400})\n",
        "  return opt_result['x'], opt_result['fun']"
      ],
      "execution_count": 154,
      "outputs": []
    },
    {
      "cell_type": "code",
      "metadata": {
        "id": "-82qXb5lH3zx"
      },
      "source": [
        "opt_theta, cost = optimize_theta(x, y, theta)"
      ],
      "execution_count": 155,
      "outputs": []
    },
    {
      "cell_type": "code",
      "metadata": {
        "colab": {
          "base_uri": "https://localhost:8080/"
        },
        "id": "hiMw9zWMISo1",
        "outputId": "fce97b2b-7ede-4e00-9b69-5c10345af28d"
      },
      "source": [
        "print('Cost at theta found by fminunc:', cost)\n",
        "print('Expected cost (approx): 0.203')\n",
        "print('theta:\\n', opt_theta.reshape(-1,1))\n",
        "print('Expected theta (approx):')\n",
        "print(' -25.161\\n 0.206\\n 0.201')"
      ],
      "execution_count": 156,
      "outputs": [
        {
          "output_type": "stream",
          "name": "stdout",
          "text": [
            "Cost at theta found by fminunc: [[0.69314718]]\n",
            "Expected cost (approx): 0.203\n",
            "theta:\n",
            " [[2.04620127e-16]\n",
            " [2.45732742e-14]\n",
            " [2.30460420e-14]]\n",
            "Expected theta (approx):\n",
            " -25.161\n",
            " 0.206\n",
            " 0.201\n"
          ]
        }
      ]
    }
  ]
}