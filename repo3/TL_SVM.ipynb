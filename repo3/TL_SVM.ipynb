{
  "nbformat": 4,
  "nbformat_minor": 0,
  "metadata": {
    "colab": {
      "provenance": [],
      "mount_file_id": "1tlWal34Ex3ZqG3jMr9ddphpD_b-voGg2",
      "authorship_tag": "ABX9TyNlrNuWoqLy6Kcub0nAA28A",
      "include_colab_link": true
    },
    "kernelspec": {
      "name": "python3",
      "display_name": "Python 3"
    },
    "language_info": {
      "name": "python"
    }
  },
  "cells": [
    {
      "cell_type": "markdown",
      "metadata": {
        "id": "view-in-github",
        "colab_type": "text"
      },
      "source": [
        "<a href=\"https://colab.research.google.com/github/jnsbrdbr/Programming-Exercise_andrewNG/blob/master/repo3/TL_SVM.ipynb\" target=\"_parent\"><img src=\"https://colab.research.google.com/assets/colab-badge.svg\" alt=\"Open In Colab\"/></a>"
      ]
    },
    {
      "cell_type": "code",
      "source": [
        "import numpy as np \n",
        "import matplotlib.pyplot as plt\n",
        "import glob\n",
        "import cv2\n",
        "\n",
        "from keras.models import Model, Sequential\n",
        "from keras.layers import Dense, Flatten, Conv2D, MaxPooling2D\n",
        "from tensorflow.keras.layers import BatchNormalization\n",
        "import os\n",
        "import seaborn as sns\n",
        "from keras.applications.vgg16 import VGG16"
      ],
      "metadata": {
        "id": "loWnE7IU9FGU"
      },
      "execution_count": 1,
      "outputs": []
    },
    {
      "cell_type": "code",
      "source": [
        "SIZE = 256 \n",
        "train_images = []\n",
        "train_labels = []"
      ],
      "metadata": {
        "id": "E9CGSbAd9GSH"
      },
      "execution_count": 2,
      "outputs": []
    },
    {
      "cell_type": "code",
      "source": [
        "for directory_path in glob.glob(\"/content/drive/MyDrive/images/train/*\"):\n",
        "    label = directory_path.split(\"\\\\\")[-1]#decet label\n",
        "    for img_path in glob.glob(os.path.join(directory_path, \"*.jpg\")):\n",
        "        img = cv2.imread(img_path, cv2.IMREAD_COLOR)       \n",
        "        img = cv2.resize(img, (SIZE, SIZE))\n",
        "        img = cv2.cvtColor(img, cv2.COLOR_RGB2BGR)\n",
        "        train_images.append(img)\n",
        "        train_labels.append(label)\n",
        "        #put images in train_images\n",
        "        #and every has its own label"
      ],
      "metadata": {
        "id": "THFpUfOqJgfU"
      },
      "execution_count": 3,
      "outputs": []
    },
    {
      "cell_type": "code",
      "source": [
        "#Convert lists to arrays        \n",
        "train_images = np.array(train_images)\n",
        "train_labels = np.array(train_labels)"
      ],
      "metadata": {
        "id": "kt2-1CSgLKPn"
      },
      "execution_count": 4,
      "outputs": []
    },
    {
      "cell_type": "code",
      "source": [
        "#do the same thng for validation\n",
        "test_images = []\n",
        "test_labels = [] \n",
        "for directory_path in glob.glob(\"/content/drive/MyDrive/images/validation/*\"):\n",
        "    fruit_label = directory_path.split(\"\\\\\")[-1]\n",
        "    for img_path in glob.glob(os.path.join(directory_path, \"*.jpg\")):\n",
        "        img = cv2.imread(img_path, cv2.IMREAD_COLOR)\n",
        "        img = cv2.resize(img, (SIZE, SIZE))\n",
        "        img = cv2.cvtColor(img, cv2.COLOR_RGB2BGR)\n",
        "        test_images.append(img)\n",
        "        test_labels.append(fruit_label)\n"
      ],
      "metadata": {
        "id": "9xlL7MG8LQfd"
      },
      "execution_count": 5,
      "outputs": []
    },
    {
      "cell_type": "code",
      "source": [
        "#Convert lists to arrays                \n",
        "test_images = np.array(test_images)\n",
        "test_labels = np.array(test_labels)\n"
      ],
      "metadata": {
        "id": "voJGODpGLcFB"
      },
      "execution_count": 6,
      "outputs": []
    },
    {
      "cell_type": "code",
      "source": [
        "#Encode labels from text to integers.\n",
        "from sklearn import preprocessing\n",
        "le = preprocessing.LabelEncoder()\n",
        "le.fit(test_labels)\n",
        "test_labels_encoded = le.transform(test_labels)\n",
        "le.fit(train_labels)\n",
        "train_labels_encoded = le.transform(train_labels)\n",
        "print(\"train_labels_encoded\",train_labels_encoded)\n",
        "print(\"train_labels\",train_labels)\n",
        "print(\"test_labels\",test_labels)\n"
      ],
      "metadata": {
        "colab": {
          "base_uri": "https://localhost:8080/"
        },
        "id": "F40LR_TALjJS",
        "outputId": "ebc7ccf1-c8c1-471c-d17a-f8530e7da554"
      },
      "execution_count": 7,
      "outputs": [
        {
          "output_type": "stream",
          "name": "stdout",
          "text": [
            "train_labels_encoded [0 0 0 0 0 0 0 0 0 0 0 0 0 0 0 0 0 0 0 0 0 0 0 0 0 0 0 0 0 0 0 0 0 0 0 0 0\n",
            " 0 0 0 0 0 0 0 0 0 0 0 0 0 0 0 0 0 0 0 0 0 0 0 0 0 0 0 0 0 0 0 0 0 0 0 0 0\n",
            " 0 0 0 0 0 0 0 0 0 0 0 0 0 0 0 0 0 0 0 0 0 0 0 0 0 0 0 0 0 0 0 0 0 0 0 0 0\n",
            " 0 0 0 0 0 0 0 0 0 0 0 0 0 0 0 0 0 0 0 0 0 0 0 0 0 0 0 0 0 0 0 0 0 0 0 0 0\n",
            " 0 0 0 0 0 0 0 0 0 0 0 0 0 0 0 0 0 0 0 0 0 0 0 0 0 0 0 0 0 0 0 0 0 0 0 0 0\n",
            " 0 0 0 0 0 0 0 0 0 0 0 0 0 0 0 0 0 0 0 0 0 0 0 0 0 0 0 0 0 0 0 0 0 0 0 0 0\n",
            " 0 0 0 0 0 0 0 0 0 0 0 0 0 0 0 0 0 0 0 0 0 0 0 0 0 0 0 0 0 0 0 0 0 0 0 0 0\n",
            " 0 0 0 0 0 0 0 0 0 0 0 0 0 0 0 0 0 0 0 0 0 0 0 0 0 0 0 0 0 0 0 0 0 0 0 0 0\n",
            " 0 0 0 0 0 1 1 1 1 1 1 1 1 1 1 1 1 1 1 1 1 1 1 1 1 1 1 1 1 1 1 1 1 1 1 1 1\n",
            " 1 1 1 1 1 1 1 1 1 1 1 1 1 1 1 1 1 1 1 1 1 1 1 1 1 1 1 1 1 1 1 1 1 1 1 1 1\n",
            " 1 1 1 1 1 1 1 1 1 1 1 1 1 1 1 1 1 1 1 1 1 1 1 1 1 1 1 1 1 1 1 1 1 1 1 1 1\n",
            " 1 1 1 1 1 1 1 1 1 1 1 1 1 1 1 1 1 1 1 1 1 1 1 1 1 1 1 1 1 1 1 1 1 1 1 1 1\n",
            " 1 1 1 1 1 1 1 1 1 1 1 1 1 1 1 1 1 1 1 1 1 1 1 1 1 1 1 1 1 1 1 1 1 1 1 1 1\n",
            " 1 1 1 1 1 1 1 1 1 1 1 1 1 1 1 1 1 1 1 1 1 1 1 1 1 1 1 1 1 1 1 1 1 1 1 1 1\n",
            " 1 1 1 1 1 1 1 1 1 1 1 1 1 1 1 1 1 1 1 1 1 1 1 1 1 1 1 1 1 1 1 1 1 1 1 1 1\n",
            " 1 1 1 1 1 1 1 1 1 1 1 1 1 1 1 1 1 1 1 1 1 1 1 1 1 1 1 1 1 1 1 1 1 1 1 1 1\n",
            " 1 1 1 1 1 1 1 1 1 1 1 1 1 1 1 1 1 1 1 1 1 1 1 1 1 1 1 1 1 1 1 1 1 1 1 1 1\n",
            " 1 1 1 1 1 1 1 1 1 1 1 1 1 1 1 1 1 1 1 1 1 1 1 1 1 1 1 1 1 1 1 1 1 1 1 1 1\n",
            " 1 1 1 1 1 1 1 1 1 1 1 1 1 1 1 1 1 1 1]\n",
            "train_labels ['/content/drive/MyDrive/images/train/cat'\n",
            " '/content/drive/MyDrive/images/train/cat'\n",
            " '/content/drive/MyDrive/images/train/cat'\n",
            " '/content/drive/MyDrive/images/train/cat'\n",
            " '/content/drive/MyDrive/images/train/cat'\n",
            " '/content/drive/MyDrive/images/train/cat'\n",
            " '/content/drive/MyDrive/images/train/cat'\n",
            " '/content/drive/MyDrive/images/train/cat'\n",
            " '/content/drive/MyDrive/images/train/cat'\n",
            " '/content/drive/MyDrive/images/train/cat'\n",
            " '/content/drive/MyDrive/images/train/cat'\n",
            " '/content/drive/MyDrive/images/train/cat'\n",
            " '/content/drive/MyDrive/images/train/cat'\n",
            " '/content/drive/MyDrive/images/train/cat'\n",
            " '/content/drive/MyDrive/images/train/cat'\n",
            " '/content/drive/MyDrive/images/train/cat'\n",
            " '/content/drive/MyDrive/images/train/cat'\n",
            " '/content/drive/MyDrive/images/train/cat'\n",
            " '/content/drive/MyDrive/images/train/cat'\n",
            " '/content/drive/MyDrive/images/train/cat'\n",
            " '/content/drive/MyDrive/images/train/cat'\n",
            " '/content/drive/MyDrive/images/train/cat'\n",
            " '/content/drive/MyDrive/images/train/cat'\n",
            " '/content/drive/MyDrive/images/train/cat'\n",
            " '/content/drive/MyDrive/images/train/cat'\n",
            " '/content/drive/MyDrive/images/train/cat'\n",
            " '/content/drive/MyDrive/images/train/cat'\n",
            " '/content/drive/MyDrive/images/train/cat'\n",
            " '/content/drive/MyDrive/images/train/cat'\n",
            " '/content/drive/MyDrive/images/train/cat'\n",
            " '/content/drive/MyDrive/images/train/cat'\n",
            " '/content/drive/MyDrive/images/train/cat'\n",
            " '/content/drive/MyDrive/images/train/cat'\n",
            " '/content/drive/MyDrive/images/train/cat'\n",
            " '/content/drive/MyDrive/images/train/cat'\n",
            " '/content/drive/MyDrive/images/train/cat'\n",
            " '/content/drive/MyDrive/images/train/cat'\n",
            " '/content/drive/MyDrive/images/train/cat'\n",
            " '/content/drive/MyDrive/images/train/cat'\n",
            " '/content/drive/MyDrive/images/train/cat'\n",
            " '/content/drive/MyDrive/images/train/cat'\n",
            " '/content/drive/MyDrive/images/train/cat'\n",
            " '/content/drive/MyDrive/images/train/cat'\n",
            " '/content/drive/MyDrive/images/train/cat'\n",
            " '/content/drive/MyDrive/images/train/cat'\n",
            " '/content/drive/MyDrive/images/train/cat'\n",
            " '/content/drive/MyDrive/images/train/cat'\n",
            " '/content/drive/MyDrive/images/train/cat'\n",
            " '/content/drive/MyDrive/images/train/cat'\n",
            " '/content/drive/MyDrive/images/train/cat'\n",
            " '/content/drive/MyDrive/images/train/cat'\n",
            " '/content/drive/MyDrive/images/train/cat'\n",
            " '/content/drive/MyDrive/images/train/cat'\n",
            " '/content/drive/MyDrive/images/train/cat'\n",
            " '/content/drive/MyDrive/images/train/cat'\n",
            " '/content/drive/MyDrive/images/train/cat'\n",
            " '/content/drive/MyDrive/images/train/cat'\n",
            " '/content/drive/MyDrive/images/train/cat'\n",
            " '/content/drive/MyDrive/images/train/cat'\n",
            " '/content/drive/MyDrive/images/train/cat'\n",
            " '/content/drive/MyDrive/images/train/cat'\n",
            " '/content/drive/MyDrive/images/train/cat'\n",
            " '/content/drive/MyDrive/images/train/cat'\n",
            " '/content/drive/MyDrive/images/train/cat'\n",
            " '/content/drive/MyDrive/images/train/cat'\n",
            " '/content/drive/MyDrive/images/train/cat'\n",
            " '/content/drive/MyDrive/images/train/cat'\n",
            " '/content/drive/MyDrive/images/train/cat'\n",
            " '/content/drive/MyDrive/images/train/cat'\n",
            " '/content/drive/MyDrive/images/train/cat'\n",
            " '/content/drive/MyDrive/images/train/cat'\n",
            " '/content/drive/MyDrive/images/train/cat'\n",
            " '/content/drive/MyDrive/images/train/cat'\n",
            " '/content/drive/MyDrive/images/train/cat'\n",
            " '/content/drive/MyDrive/images/train/cat'\n",
            " '/content/drive/MyDrive/images/train/cat'\n",
            " '/content/drive/MyDrive/images/train/cat'\n",
            " '/content/drive/MyDrive/images/train/cat'\n",
            " '/content/drive/MyDrive/images/train/cat'\n",
            " '/content/drive/MyDrive/images/train/cat'\n",
            " '/content/drive/MyDrive/images/train/cat'\n",
            " '/content/drive/MyDrive/images/train/cat'\n",
            " '/content/drive/MyDrive/images/train/cat'\n",
            " '/content/drive/MyDrive/images/train/cat'\n",
            " '/content/drive/MyDrive/images/train/cat'\n",
            " '/content/drive/MyDrive/images/train/cat'\n",
            " '/content/drive/MyDrive/images/train/cat'\n",
            " '/content/drive/MyDrive/images/train/cat'\n",
            " '/content/drive/MyDrive/images/train/cat'\n",
            " '/content/drive/MyDrive/images/train/cat'\n",
            " '/content/drive/MyDrive/images/train/cat'\n",
            " '/content/drive/MyDrive/images/train/cat'\n",
            " '/content/drive/MyDrive/images/train/cat'\n",
            " '/content/drive/MyDrive/images/train/cat'\n",
            " '/content/drive/MyDrive/images/train/cat'\n",
            " '/content/drive/MyDrive/images/train/cat'\n",
            " '/content/drive/MyDrive/images/train/cat'\n",
            " '/content/drive/MyDrive/images/train/cat'\n",
            " '/content/drive/MyDrive/images/train/cat'\n",
            " '/content/drive/MyDrive/images/train/cat'\n",
            " '/content/drive/MyDrive/images/train/cat'\n",
            " '/content/drive/MyDrive/images/train/cat'\n",
            " '/content/drive/MyDrive/images/train/cat'\n",
            " '/content/drive/MyDrive/images/train/cat'\n",
            " '/content/drive/MyDrive/images/train/cat'\n",
            " '/content/drive/MyDrive/images/train/cat'\n",
            " '/content/drive/MyDrive/images/train/cat'\n",
            " '/content/drive/MyDrive/images/train/cat'\n",
            " '/content/drive/MyDrive/images/train/cat'\n",
            " '/content/drive/MyDrive/images/train/cat'\n",
            " '/content/drive/MyDrive/images/train/cat'\n",
            " '/content/drive/MyDrive/images/train/cat'\n",
            " '/content/drive/MyDrive/images/train/cat'\n",
            " '/content/drive/MyDrive/images/train/cat'\n",
            " '/content/drive/MyDrive/images/train/cat'\n",
            " '/content/drive/MyDrive/images/train/cat'\n",
            " '/content/drive/MyDrive/images/train/cat'\n",
            " '/content/drive/MyDrive/images/train/cat'\n",
            " '/content/drive/MyDrive/images/train/cat'\n",
            " '/content/drive/MyDrive/images/train/cat'\n",
            " '/content/drive/MyDrive/images/train/cat'\n",
            " '/content/drive/MyDrive/images/train/cat'\n",
            " '/content/drive/MyDrive/images/train/cat'\n",
            " '/content/drive/MyDrive/images/train/cat'\n",
            " '/content/drive/MyDrive/images/train/cat'\n",
            " '/content/drive/MyDrive/images/train/cat'\n",
            " '/content/drive/MyDrive/images/train/cat'\n",
            " '/content/drive/MyDrive/images/train/cat'\n",
            " '/content/drive/MyDrive/images/train/cat'\n",
            " '/content/drive/MyDrive/images/train/cat'\n",
            " '/content/drive/MyDrive/images/train/cat'\n",
            " '/content/drive/MyDrive/images/train/cat'\n",
            " '/content/drive/MyDrive/images/train/cat'\n",
            " '/content/drive/MyDrive/images/train/cat'\n",
            " '/content/drive/MyDrive/images/train/cat'\n",
            " '/content/drive/MyDrive/images/train/cat'\n",
            " '/content/drive/MyDrive/images/train/cat'\n",
            " '/content/drive/MyDrive/images/train/cat'\n",
            " '/content/drive/MyDrive/images/train/cat'\n",
            " '/content/drive/MyDrive/images/train/cat'\n",
            " '/content/drive/MyDrive/images/train/cat'\n",
            " '/content/drive/MyDrive/images/train/cat'\n",
            " '/content/drive/MyDrive/images/train/cat'\n",
            " '/content/drive/MyDrive/images/train/cat'\n",
            " '/content/drive/MyDrive/images/train/cat'\n",
            " '/content/drive/MyDrive/images/train/cat'\n",
            " '/content/drive/MyDrive/images/train/cat'\n",
            " '/content/drive/MyDrive/images/train/cat'\n",
            " '/content/drive/MyDrive/images/train/cat'\n",
            " '/content/drive/MyDrive/images/train/cat'\n",
            " '/content/drive/MyDrive/images/train/cat'\n",
            " '/content/drive/MyDrive/images/train/cat'\n",
            " '/content/drive/MyDrive/images/train/cat'\n",
            " '/content/drive/MyDrive/images/train/cat'\n",
            " '/content/drive/MyDrive/images/train/cat'\n",
            " '/content/drive/MyDrive/images/train/cat'\n",
            " '/content/drive/MyDrive/images/train/cat'\n",
            " '/content/drive/MyDrive/images/train/cat'\n",
            " '/content/drive/MyDrive/images/train/cat'\n",
            " '/content/drive/MyDrive/images/train/cat'\n",
            " '/content/drive/MyDrive/images/train/cat'\n",
            " '/content/drive/MyDrive/images/train/cat'\n",
            " '/content/drive/MyDrive/images/train/cat'\n",
            " '/content/drive/MyDrive/images/train/cat'\n",
            " '/content/drive/MyDrive/images/train/cat'\n",
            " '/content/drive/MyDrive/images/train/cat'\n",
            " '/content/drive/MyDrive/images/train/cat'\n",
            " '/content/drive/MyDrive/images/train/cat'\n",
            " '/content/drive/MyDrive/images/train/cat'\n",
            " '/content/drive/MyDrive/images/train/cat'\n",
            " '/content/drive/MyDrive/images/train/cat'\n",
            " '/content/drive/MyDrive/images/train/cat'\n",
            " '/content/drive/MyDrive/images/train/cat'\n",
            " '/content/drive/MyDrive/images/train/cat'\n",
            " '/content/drive/MyDrive/images/train/cat'\n",
            " '/content/drive/MyDrive/images/train/cat'\n",
            " '/content/drive/MyDrive/images/train/cat'\n",
            " '/content/drive/MyDrive/images/train/cat'\n",
            " '/content/drive/MyDrive/images/train/cat'\n",
            " '/content/drive/MyDrive/images/train/cat'\n",
            " '/content/drive/MyDrive/images/train/cat'\n",
            " '/content/drive/MyDrive/images/train/cat'\n",
            " '/content/drive/MyDrive/images/train/cat'\n",
            " '/content/drive/MyDrive/images/train/cat'\n",
            " '/content/drive/MyDrive/images/train/cat'\n",
            " '/content/drive/MyDrive/images/train/cat'\n",
            " '/content/drive/MyDrive/images/train/cat'\n",
            " '/content/drive/MyDrive/images/train/cat'\n",
            " '/content/drive/MyDrive/images/train/cat'\n",
            " '/content/drive/MyDrive/images/train/cat'\n",
            " '/content/drive/MyDrive/images/train/cat'\n",
            " '/content/drive/MyDrive/images/train/cat'\n",
            " '/content/drive/MyDrive/images/train/cat'\n",
            " '/content/drive/MyDrive/images/train/cat'\n",
            " '/content/drive/MyDrive/images/train/cat'\n",
            " '/content/drive/MyDrive/images/train/cat'\n",
            " '/content/drive/MyDrive/images/train/cat'\n",
            " '/content/drive/MyDrive/images/train/cat'\n",
            " '/content/drive/MyDrive/images/train/cat'\n",
            " '/content/drive/MyDrive/images/train/cat'\n",
            " '/content/drive/MyDrive/images/train/cat'\n",
            " '/content/drive/MyDrive/images/train/cat'\n",
            " '/content/drive/MyDrive/images/train/cat'\n",
            " '/content/drive/MyDrive/images/train/cat'\n",
            " '/content/drive/MyDrive/images/train/cat'\n",
            " '/content/drive/MyDrive/images/train/cat'\n",
            " '/content/drive/MyDrive/images/train/cat'\n",
            " '/content/drive/MyDrive/images/train/cat'\n",
            " '/content/drive/MyDrive/images/train/cat'\n",
            " '/content/drive/MyDrive/images/train/cat'\n",
            " '/content/drive/MyDrive/images/train/cat'\n",
            " '/content/drive/MyDrive/images/train/cat'\n",
            " '/content/drive/MyDrive/images/train/cat'\n",
            " '/content/drive/MyDrive/images/train/cat'\n",
            " '/content/drive/MyDrive/images/train/cat'\n",
            " '/content/drive/MyDrive/images/train/cat'\n",
            " '/content/drive/MyDrive/images/train/cat'\n",
            " '/content/drive/MyDrive/images/train/cat'\n",
            " '/content/drive/MyDrive/images/train/cat'\n",
            " '/content/drive/MyDrive/images/train/cat'\n",
            " '/content/drive/MyDrive/images/train/cat'\n",
            " '/content/drive/MyDrive/images/train/cat'\n",
            " '/content/drive/MyDrive/images/train/cat'\n",
            " '/content/drive/MyDrive/images/train/cat'\n",
            " '/content/drive/MyDrive/images/train/cat'\n",
            " '/content/drive/MyDrive/images/train/cat'\n",
            " '/content/drive/MyDrive/images/train/cat'\n",
            " '/content/drive/MyDrive/images/train/cat'\n",
            " '/content/drive/MyDrive/images/train/cat'\n",
            " '/content/drive/MyDrive/images/train/cat'\n",
            " '/content/drive/MyDrive/images/train/cat'\n",
            " '/content/drive/MyDrive/images/train/cat'\n",
            " '/content/drive/MyDrive/images/train/cat'\n",
            " '/content/drive/MyDrive/images/train/cat'\n",
            " '/content/drive/MyDrive/images/train/cat'\n",
            " '/content/drive/MyDrive/images/train/cat'\n",
            " '/content/drive/MyDrive/images/train/cat'\n",
            " '/content/drive/MyDrive/images/train/cat'\n",
            " '/content/drive/MyDrive/images/train/cat'\n",
            " '/content/drive/MyDrive/images/train/cat'\n",
            " '/content/drive/MyDrive/images/train/cat'\n",
            " '/content/drive/MyDrive/images/train/cat'\n",
            " '/content/drive/MyDrive/images/train/cat'\n",
            " '/content/drive/MyDrive/images/train/cat'\n",
            " '/content/drive/MyDrive/images/train/cat'\n",
            " '/content/drive/MyDrive/images/train/cat'\n",
            " '/content/drive/MyDrive/images/train/cat'\n",
            " '/content/drive/MyDrive/images/train/cat'\n",
            " '/content/drive/MyDrive/images/train/cat'\n",
            " '/content/drive/MyDrive/images/train/cat'\n",
            " '/content/drive/MyDrive/images/train/cat'\n",
            " '/content/drive/MyDrive/images/train/cat'\n",
            " '/content/drive/MyDrive/images/train/cat'\n",
            " '/content/drive/MyDrive/images/train/cat'\n",
            " '/content/drive/MyDrive/images/train/cat'\n",
            " '/content/drive/MyDrive/images/train/cat'\n",
            " '/content/drive/MyDrive/images/train/cat'\n",
            " '/content/drive/MyDrive/images/train/cat'\n",
            " '/content/drive/MyDrive/images/train/cat'\n",
            " '/content/drive/MyDrive/images/train/cat'\n",
            " '/content/drive/MyDrive/images/train/cat'\n",
            " '/content/drive/MyDrive/images/train/cat'\n",
            " '/content/drive/MyDrive/images/train/cat'\n",
            " '/content/drive/MyDrive/images/train/cat'\n",
            " '/content/drive/MyDrive/images/train/cat'\n",
            " '/content/drive/MyDrive/images/train/cat'\n",
            " '/content/drive/MyDrive/images/train/cat'\n",
            " '/content/drive/MyDrive/images/train/cat'\n",
            " '/content/drive/MyDrive/images/train/cat'\n",
            " '/content/drive/MyDrive/images/train/cat'\n",
            " '/content/drive/MyDrive/images/train/cat'\n",
            " '/content/drive/MyDrive/images/train/cat'\n",
            " '/content/drive/MyDrive/images/train/cat'\n",
            " '/content/drive/MyDrive/images/train/cat'\n",
            " '/content/drive/MyDrive/images/train/cat'\n",
            " '/content/drive/MyDrive/images/train/cat'\n",
            " '/content/drive/MyDrive/images/train/cat'\n",
            " '/content/drive/MyDrive/images/train/cat'\n",
            " '/content/drive/MyDrive/images/train/cat'\n",
            " '/content/drive/MyDrive/images/train/cat'\n",
            " '/content/drive/MyDrive/images/train/cat'\n",
            " '/content/drive/MyDrive/images/train/cat'\n",
            " '/content/drive/MyDrive/images/train/cat'\n",
            " '/content/drive/MyDrive/images/train/cat'\n",
            " '/content/drive/MyDrive/images/train/cat'\n",
            " '/content/drive/MyDrive/images/train/cat'\n",
            " '/content/drive/MyDrive/images/train/cat'\n",
            " '/content/drive/MyDrive/images/train/cat'\n",
            " '/content/drive/MyDrive/images/train/cat'\n",
            " '/content/drive/MyDrive/images/train/cat'\n",
            " '/content/drive/MyDrive/images/train/cat'\n",
            " '/content/drive/MyDrive/images/train/cat'\n",
            " '/content/drive/MyDrive/images/train/cat'\n",
            " '/content/drive/MyDrive/images/train/cat'\n",
            " '/content/drive/MyDrive/images/train/cat'\n",
            " '/content/drive/MyDrive/images/train/cat'\n",
            " '/content/drive/MyDrive/images/train/cat'\n",
            " '/content/drive/MyDrive/images/train/cat'\n",
            " '/content/drive/MyDrive/images/train/cat'\n",
            " '/content/drive/MyDrive/images/train/cat'\n",
            " '/content/drive/MyDrive/images/train/cat'\n",
            " '/content/drive/MyDrive/images/train/dog'\n",
            " '/content/drive/MyDrive/images/train/dog'\n",
            " '/content/drive/MyDrive/images/train/dog'\n",
            " '/content/drive/MyDrive/images/train/dog'\n",
            " '/content/drive/MyDrive/images/train/dog'\n",
            " '/content/drive/MyDrive/images/train/dog'\n",
            " '/content/drive/MyDrive/images/train/dog'\n",
            " '/content/drive/MyDrive/images/train/dog'\n",
            " '/content/drive/MyDrive/images/train/dog'\n",
            " '/content/drive/MyDrive/images/train/dog'\n",
            " '/content/drive/MyDrive/images/train/dog'\n",
            " '/content/drive/MyDrive/images/train/dog'\n",
            " '/content/drive/MyDrive/images/train/dog'\n",
            " '/content/drive/MyDrive/images/train/dog'\n",
            " '/content/drive/MyDrive/images/train/dog'\n",
            " '/content/drive/MyDrive/images/train/dog'\n",
            " '/content/drive/MyDrive/images/train/dog'\n",
            " '/content/drive/MyDrive/images/train/dog'\n",
            " '/content/drive/MyDrive/images/train/dog'\n",
            " '/content/drive/MyDrive/images/train/dog'\n",
            " '/content/drive/MyDrive/images/train/dog'\n",
            " '/content/drive/MyDrive/images/train/dog'\n",
            " '/content/drive/MyDrive/images/train/dog'\n",
            " '/content/drive/MyDrive/images/train/dog'\n",
            " '/content/drive/MyDrive/images/train/dog'\n",
            " '/content/drive/MyDrive/images/train/dog'\n",
            " '/content/drive/MyDrive/images/train/dog'\n",
            " '/content/drive/MyDrive/images/train/dog'\n",
            " '/content/drive/MyDrive/images/train/dog'\n",
            " '/content/drive/MyDrive/images/train/dog'\n",
            " '/content/drive/MyDrive/images/train/dog'\n",
            " '/content/drive/MyDrive/images/train/dog'\n",
            " '/content/drive/MyDrive/images/train/dog'\n",
            " '/content/drive/MyDrive/images/train/dog'\n",
            " '/content/drive/MyDrive/images/train/dog'\n",
            " '/content/drive/MyDrive/images/train/dog'\n",
            " '/content/drive/MyDrive/images/train/dog'\n",
            " '/content/drive/MyDrive/images/train/dog'\n",
            " '/content/drive/MyDrive/images/train/dog'\n",
            " '/content/drive/MyDrive/images/train/dog'\n",
            " '/content/drive/MyDrive/images/train/dog'\n",
            " '/content/drive/MyDrive/images/train/dog'\n",
            " '/content/drive/MyDrive/images/train/dog'\n",
            " '/content/drive/MyDrive/images/train/dog'\n",
            " '/content/drive/MyDrive/images/train/dog'\n",
            " '/content/drive/MyDrive/images/train/dog'\n",
            " '/content/drive/MyDrive/images/train/dog'\n",
            " '/content/drive/MyDrive/images/train/dog'\n",
            " '/content/drive/MyDrive/images/train/dog'\n",
            " '/content/drive/MyDrive/images/train/dog'\n",
            " '/content/drive/MyDrive/images/train/dog'\n",
            " '/content/drive/MyDrive/images/train/dog'\n",
            " '/content/drive/MyDrive/images/train/dog'\n",
            " '/content/drive/MyDrive/images/train/dog'\n",
            " '/content/drive/MyDrive/images/train/dog'\n",
            " '/content/drive/MyDrive/images/train/dog'\n",
            " '/content/drive/MyDrive/images/train/dog'\n",
            " '/content/drive/MyDrive/images/train/dog'\n",
            " '/content/drive/MyDrive/images/train/dog'\n",
            " '/content/drive/MyDrive/images/train/dog'\n",
            " '/content/drive/MyDrive/images/train/dog'\n",
            " '/content/drive/MyDrive/images/train/dog'\n",
            " '/content/drive/MyDrive/images/train/dog'\n",
            " '/content/drive/MyDrive/images/train/dog'\n",
            " '/content/drive/MyDrive/images/train/dog'\n",
            " '/content/drive/MyDrive/images/train/dog'\n",
            " '/content/drive/MyDrive/images/train/dog'\n",
            " '/content/drive/MyDrive/images/train/dog'\n",
            " '/content/drive/MyDrive/images/train/dog'\n",
            " '/content/drive/MyDrive/images/train/dog'\n",
            " '/content/drive/MyDrive/images/train/dog'\n",
            " '/content/drive/MyDrive/images/train/dog'\n",
            " '/content/drive/MyDrive/images/train/dog'\n",
            " '/content/drive/MyDrive/images/train/dog'\n",
            " '/content/drive/MyDrive/images/train/dog'\n",
            " '/content/drive/MyDrive/images/train/dog'\n",
            " '/content/drive/MyDrive/images/train/dog'\n",
            " '/content/drive/MyDrive/images/train/dog'\n",
            " '/content/drive/MyDrive/images/train/dog'\n",
            " '/content/drive/MyDrive/images/train/dog'\n",
            " '/content/drive/MyDrive/images/train/dog'\n",
            " '/content/drive/MyDrive/images/train/dog'\n",
            " '/content/drive/MyDrive/images/train/dog'\n",
            " '/content/drive/MyDrive/images/train/dog'\n",
            " '/content/drive/MyDrive/images/train/dog'\n",
            " '/content/drive/MyDrive/images/train/dog'\n",
            " '/content/drive/MyDrive/images/train/dog'\n",
            " '/content/drive/MyDrive/images/train/dog'\n",
            " '/content/drive/MyDrive/images/train/dog'\n",
            " '/content/drive/MyDrive/images/train/dog'\n",
            " '/content/drive/MyDrive/images/train/dog'\n",
            " '/content/drive/MyDrive/images/train/dog'\n",
            " '/content/drive/MyDrive/images/train/dog'\n",
            " '/content/drive/MyDrive/images/train/dog'\n",
            " '/content/drive/MyDrive/images/train/dog'\n",
            " '/content/drive/MyDrive/images/train/dog'\n",
            " '/content/drive/MyDrive/images/train/dog'\n",
            " '/content/drive/MyDrive/images/train/dog'\n",
            " '/content/drive/MyDrive/images/train/dog'\n",
            " '/content/drive/MyDrive/images/train/dog'\n",
            " '/content/drive/MyDrive/images/train/dog'\n",
            " '/content/drive/MyDrive/images/train/dog'\n",
            " '/content/drive/MyDrive/images/train/dog'\n",
            " '/content/drive/MyDrive/images/train/dog'\n",
            " '/content/drive/MyDrive/images/train/dog'\n",
            " '/content/drive/MyDrive/images/train/dog'\n",
            " '/content/drive/MyDrive/images/train/dog'\n",
            " '/content/drive/MyDrive/images/train/dog'\n",
            " '/content/drive/MyDrive/images/train/dog'\n",
            " '/content/drive/MyDrive/images/train/dog'\n",
            " '/content/drive/MyDrive/images/train/dog'\n",
            " '/content/drive/MyDrive/images/train/dog'\n",
            " '/content/drive/MyDrive/images/train/dog'\n",
            " '/content/drive/MyDrive/images/train/dog'\n",
            " '/content/drive/MyDrive/images/train/dog'\n",
            " '/content/drive/MyDrive/images/train/dog'\n",
            " '/content/drive/MyDrive/images/train/dog'\n",
            " '/content/drive/MyDrive/images/train/dog'\n",
            " '/content/drive/MyDrive/images/train/dog'\n",
            " '/content/drive/MyDrive/images/train/dog'\n",
            " '/content/drive/MyDrive/images/train/dog'\n",
            " '/content/drive/MyDrive/images/train/dog'\n",
            " '/content/drive/MyDrive/images/train/dog'\n",
            " '/content/drive/MyDrive/images/train/dog'\n",
            " '/content/drive/MyDrive/images/train/dog'\n",
            " '/content/drive/MyDrive/images/train/dog'\n",
            " '/content/drive/MyDrive/images/train/dog'\n",
            " '/content/drive/MyDrive/images/train/dog'\n",
            " '/content/drive/MyDrive/images/train/dog'\n",
            " '/content/drive/MyDrive/images/train/dog'\n",
            " '/content/drive/MyDrive/images/train/dog'\n",
            " '/content/drive/MyDrive/images/train/dog'\n",
            " '/content/drive/MyDrive/images/train/dog'\n",
            " '/content/drive/MyDrive/images/train/dog'\n",
            " '/content/drive/MyDrive/images/train/dog'\n",
            " '/content/drive/MyDrive/images/train/dog'\n",
            " '/content/drive/MyDrive/images/train/dog'\n",
            " '/content/drive/MyDrive/images/train/dog'\n",
            " '/content/drive/MyDrive/images/train/dog'\n",
            " '/content/drive/MyDrive/images/train/dog'\n",
            " '/content/drive/MyDrive/images/train/dog'\n",
            " '/content/drive/MyDrive/images/train/dog'\n",
            " '/content/drive/MyDrive/images/train/dog'\n",
            " '/content/drive/MyDrive/images/train/dog'\n",
            " '/content/drive/MyDrive/images/train/dog'\n",
            " '/content/drive/MyDrive/images/train/dog'\n",
            " '/content/drive/MyDrive/images/train/dog'\n",
            " '/content/drive/MyDrive/images/train/dog'\n",
            " '/content/drive/MyDrive/images/train/dog'\n",
            " '/content/drive/MyDrive/images/train/dog'\n",
            " '/content/drive/MyDrive/images/train/dog'\n",
            " '/content/drive/MyDrive/images/train/dog'\n",
            " '/content/drive/MyDrive/images/train/dog'\n",
            " '/content/drive/MyDrive/images/train/dog'\n",
            " '/content/drive/MyDrive/images/train/dog'\n",
            " '/content/drive/MyDrive/images/train/dog'\n",
            " '/content/drive/MyDrive/images/train/dog'\n",
            " '/content/drive/MyDrive/images/train/dog'\n",
            " '/content/drive/MyDrive/images/train/dog'\n",
            " '/content/drive/MyDrive/images/train/dog'\n",
            " '/content/drive/MyDrive/images/train/dog'\n",
            " '/content/drive/MyDrive/images/train/dog'\n",
            " '/content/drive/MyDrive/images/train/dog'\n",
            " '/content/drive/MyDrive/images/train/dog'\n",
            " '/content/drive/MyDrive/images/train/dog'\n",
            " '/content/drive/MyDrive/images/train/dog'\n",
            " '/content/drive/MyDrive/images/train/dog'\n",
            " '/content/drive/MyDrive/images/train/dog'\n",
            " '/content/drive/MyDrive/images/train/dog'\n",
            " '/content/drive/MyDrive/images/train/dog'\n",
            " '/content/drive/MyDrive/images/train/dog'\n",
            " '/content/drive/MyDrive/images/train/dog'\n",
            " '/content/drive/MyDrive/images/train/dog'\n",
            " '/content/drive/MyDrive/images/train/dog'\n",
            " '/content/drive/MyDrive/images/train/dog'\n",
            " '/content/drive/MyDrive/images/train/dog'\n",
            " '/content/drive/MyDrive/images/train/dog'\n",
            " '/content/drive/MyDrive/images/train/dog'\n",
            " '/content/drive/MyDrive/images/train/dog'\n",
            " '/content/drive/MyDrive/images/train/dog'\n",
            " '/content/drive/MyDrive/images/train/dog'\n",
            " '/content/drive/MyDrive/images/train/dog'\n",
            " '/content/drive/MyDrive/images/train/dog'\n",
            " '/content/drive/MyDrive/images/train/dog'\n",
            " '/content/drive/MyDrive/images/train/dog'\n",
            " '/content/drive/MyDrive/images/train/dog'\n",
            " '/content/drive/MyDrive/images/train/dog'\n",
            " '/content/drive/MyDrive/images/train/dog'\n",
            " '/content/drive/MyDrive/images/train/dog'\n",
            " '/content/drive/MyDrive/images/train/dog'\n",
            " '/content/drive/MyDrive/images/train/dog'\n",
            " '/content/drive/MyDrive/images/train/dog'\n",
            " '/content/drive/MyDrive/images/train/dog'\n",
            " '/content/drive/MyDrive/images/train/dog'\n",
            " '/content/drive/MyDrive/images/train/dog'\n",
            " '/content/drive/MyDrive/images/train/dog'\n",
            " '/content/drive/MyDrive/images/train/dog'\n",
            " '/content/drive/MyDrive/images/train/dog'\n",
            " '/content/drive/MyDrive/images/train/dog'\n",
            " '/content/drive/MyDrive/images/train/dog'\n",
            " '/content/drive/MyDrive/images/train/dog'\n",
            " '/content/drive/MyDrive/images/train/dog'\n",
            " '/content/drive/MyDrive/images/train/dog'\n",
            " '/content/drive/MyDrive/images/train/dog'\n",
            " '/content/drive/MyDrive/images/train/dog'\n",
            " '/content/drive/MyDrive/images/train/dog'\n",
            " '/content/drive/MyDrive/images/train/dog'\n",
            " '/content/drive/MyDrive/images/train/dog'\n",
            " '/content/drive/MyDrive/images/train/dog'\n",
            " '/content/drive/MyDrive/images/train/dog'\n",
            " '/content/drive/MyDrive/images/train/dog'\n",
            " '/content/drive/MyDrive/images/train/dog'\n",
            " '/content/drive/MyDrive/images/train/dog'\n",
            " '/content/drive/MyDrive/images/train/dog'\n",
            " '/content/drive/MyDrive/images/train/dog'\n",
            " '/content/drive/MyDrive/images/train/dog'\n",
            " '/content/drive/MyDrive/images/train/dog'\n",
            " '/content/drive/MyDrive/images/train/dog'\n",
            " '/content/drive/MyDrive/images/train/dog'\n",
            " '/content/drive/MyDrive/images/train/dog'\n",
            " '/content/drive/MyDrive/images/train/dog'\n",
            " '/content/drive/MyDrive/images/train/dog'\n",
            " '/content/drive/MyDrive/images/train/dog'\n",
            " '/content/drive/MyDrive/images/train/dog'\n",
            " '/content/drive/MyDrive/images/train/dog'\n",
            " '/content/drive/MyDrive/images/train/dog'\n",
            " '/content/drive/MyDrive/images/train/dog'\n",
            " '/content/drive/MyDrive/images/train/dog'\n",
            " '/content/drive/MyDrive/images/train/dog'\n",
            " '/content/drive/MyDrive/images/train/dog'\n",
            " '/content/drive/MyDrive/images/train/dog'\n",
            " '/content/drive/MyDrive/images/train/dog'\n",
            " '/content/drive/MyDrive/images/train/dog'\n",
            " '/content/drive/MyDrive/images/train/dog'\n",
            " '/content/drive/MyDrive/images/train/dog'\n",
            " '/content/drive/MyDrive/images/train/dog'\n",
            " '/content/drive/MyDrive/images/train/dog'\n",
            " '/content/drive/MyDrive/images/train/dog'\n",
            " '/content/drive/MyDrive/images/train/dog'\n",
            " '/content/drive/MyDrive/images/train/dog'\n",
            " '/content/drive/MyDrive/images/train/dog'\n",
            " '/content/drive/MyDrive/images/train/dog'\n",
            " '/content/drive/MyDrive/images/train/dog'\n",
            " '/content/drive/MyDrive/images/train/dog'\n",
            " '/content/drive/MyDrive/images/train/dog'\n",
            " '/content/drive/MyDrive/images/train/dog'\n",
            " '/content/drive/MyDrive/images/train/dog'\n",
            " '/content/drive/MyDrive/images/train/dog'\n",
            " '/content/drive/MyDrive/images/train/dog'\n",
            " '/content/drive/MyDrive/images/train/dog'\n",
            " '/content/drive/MyDrive/images/train/dog'\n",
            " '/content/drive/MyDrive/images/train/dog'\n",
            " '/content/drive/MyDrive/images/train/dog'\n",
            " '/content/drive/MyDrive/images/train/dog'\n",
            " '/content/drive/MyDrive/images/train/dog'\n",
            " '/content/drive/MyDrive/images/train/dog'\n",
            " '/content/drive/MyDrive/images/train/dog'\n",
            " '/content/drive/MyDrive/images/train/dog'\n",
            " '/content/drive/MyDrive/images/train/dog'\n",
            " '/content/drive/MyDrive/images/train/dog'\n",
            " '/content/drive/MyDrive/images/train/dog'\n",
            " '/content/drive/MyDrive/images/train/dog'\n",
            " '/content/drive/MyDrive/images/train/dog'\n",
            " '/content/drive/MyDrive/images/train/dog'\n",
            " '/content/drive/MyDrive/images/train/dog'\n",
            " '/content/drive/MyDrive/images/train/dog'\n",
            " '/content/drive/MyDrive/images/train/dog'\n",
            " '/content/drive/MyDrive/images/train/dog'\n",
            " '/content/drive/MyDrive/images/train/dog'\n",
            " '/content/drive/MyDrive/images/train/dog'\n",
            " '/content/drive/MyDrive/images/train/dog'\n",
            " '/content/drive/MyDrive/images/train/dog'\n",
            " '/content/drive/MyDrive/images/train/dog'\n",
            " '/content/drive/MyDrive/images/train/dog'\n",
            " '/content/drive/MyDrive/images/train/dog'\n",
            " '/content/drive/MyDrive/images/train/dog'\n",
            " '/content/drive/MyDrive/images/train/dog'\n",
            " '/content/drive/MyDrive/images/train/dog'\n",
            " '/content/drive/MyDrive/images/train/dog'\n",
            " '/content/drive/MyDrive/images/train/dog'\n",
            " '/content/drive/MyDrive/images/train/dog'\n",
            " '/content/drive/MyDrive/images/train/dog'\n",
            " '/content/drive/MyDrive/images/train/dog'\n",
            " '/content/drive/MyDrive/images/train/dog'\n",
            " '/content/drive/MyDrive/images/train/dog'\n",
            " '/content/drive/MyDrive/images/train/dog'\n",
            " '/content/drive/MyDrive/images/train/dog'\n",
            " '/content/drive/MyDrive/images/train/dog'\n",
            " '/content/drive/MyDrive/images/train/dog'\n",
            " '/content/drive/MyDrive/images/train/dog'\n",
            " '/content/drive/MyDrive/images/train/dog'\n",
            " '/content/drive/MyDrive/images/train/dog'\n",
            " '/content/drive/MyDrive/images/train/dog'\n",
            " '/content/drive/MyDrive/images/train/dog'\n",
            " '/content/drive/MyDrive/images/train/dog'\n",
            " '/content/drive/MyDrive/images/train/dog'\n",
            " '/content/drive/MyDrive/images/train/dog'\n",
            " '/content/drive/MyDrive/images/train/dog'\n",
            " '/content/drive/MyDrive/images/train/dog'\n",
            " '/content/drive/MyDrive/images/train/dog'\n",
            " '/content/drive/MyDrive/images/train/dog'\n",
            " '/content/drive/MyDrive/images/train/dog'\n",
            " '/content/drive/MyDrive/images/train/dog'\n",
            " '/content/drive/MyDrive/images/train/dog'\n",
            " '/content/drive/MyDrive/images/train/dog'\n",
            " '/content/drive/MyDrive/images/train/dog'\n",
            " '/content/drive/MyDrive/images/train/dog'\n",
            " '/content/drive/MyDrive/images/train/dog'\n",
            " '/content/drive/MyDrive/images/train/dog'\n",
            " '/content/drive/MyDrive/images/train/dog'\n",
            " '/content/drive/MyDrive/images/train/dog'\n",
            " '/content/drive/MyDrive/images/train/dog'\n",
            " '/content/drive/MyDrive/images/train/dog'\n",
            " '/content/drive/MyDrive/images/train/dog'\n",
            " '/content/drive/MyDrive/images/train/dog'\n",
            " '/content/drive/MyDrive/images/train/dog'\n",
            " '/content/drive/MyDrive/images/train/dog'\n",
            " '/content/drive/MyDrive/images/train/dog'\n",
            " '/content/drive/MyDrive/images/train/dog'\n",
            " '/content/drive/MyDrive/images/train/dog'\n",
            " '/content/drive/MyDrive/images/train/dog'\n",
            " '/content/drive/MyDrive/images/train/dog'\n",
            " '/content/drive/MyDrive/images/train/dog'\n",
            " '/content/drive/MyDrive/images/train/dog'\n",
            " '/content/drive/MyDrive/images/train/dog'\n",
            " '/content/drive/MyDrive/images/train/dog'\n",
            " '/content/drive/MyDrive/images/train/dog'\n",
            " '/content/drive/MyDrive/images/train/dog'\n",
            " '/content/drive/MyDrive/images/train/dog'\n",
            " '/content/drive/MyDrive/images/train/dog'\n",
            " '/content/drive/MyDrive/images/train/dog'\n",
            " '/content/drive/MyDrive/images/train/dog'\n",
            " '/content/drive/MyDrive/images/train/dog'\n",
            " '/content/drive/MyDrive/images/train/dog'\n",
            " '/content/drive/MyDrive/images/train/dog'\n",
            " '/content/drive/MyDrive/images/train/dog'\n",
            " '/content/drive/MyDrive/images/train/dog'\n",
            " '/content/drive/MyDrive/images/train/dog'\n",
            " '/content/drive/MyDrive/images/train/dog'\n",
            " '/content/drive/MyDrive/images/train/dog'\n",
            " '/content/drive/MyDrive/images/train/dog'\n",
            " '/content/drive/MyDrive/images/train/dog'\n",
            " '/content/drive/MyDrive/images/train/dog'\n",
            " '/content/drive/MyDrive/images/train/dog'\n",
            " '/content/drive/MyDrive/images/train/dog'\n",
            " '/content/drive/MyDrive/images/train/dog'\n",
            " '/content/drive/MyDrive/images/train/dog'\n",
            " '/content/drive/MyDrive/images/train/dog'\n",
            " '/content/drive/MyDrive/images/train/dog'\n",
            " '/content/drive/MyDrive/images/train/dog'\n",
            " '/content/drive/MyDrive/images/train/dog'\n",
            " '/content/drive/MyDrive/images/train/dog'\n",
            " '/content/drive/MyDrive/images/train/dog'\n",
            " '/content/drive/MyDrive/images/train/dog'\n",
            " '/content/drive/MyDrive/images/train/dog'\n",
            " '/content/drive/MyDrive/images/train/dog'\n",
            " '/content/drive/MyDrive/images/train/dog'\n",
            " '/content/drive/MyDrive/images/train/dog'\n",
            " '/content/drive/MyDrive/images/train/dog'\n",
            " '/content/drive/MyDrive/images/train/dog'\n",
            " '/content/drive/MyDrive/images/train/dog'\n",
            " '/content/drive/MyDrive/images/train/dog'\n",
            " '/content/drive/MyDrive/images/train/dog'\n",
            " '/content/drive/MyDrive/images/train/dog'\n",
            " '/content/drive/MyDrive/images/train/dog'\n",
            " '/content/drive/MyDrive/images/train/dog'\n",
            " '/content/drive/MyDrive/images/train/dog'\n",
            " '/content/drive/MyDrive/images/train/dog'\n",
            " '/content/drive/MyDrive/images/train/dog'\n",
            " '/content/drive/MyDrive/images/train/dog'\n",
            " '/content/drive/MyDrive/images/train/dog'\n",
            " '/content/drive/MyDrive/images/train/dog'\n",
            " '/content/drive/MyDrive/images/train/dog'\n",
            " '/content/drive/MyDrive/images/train/dog'\n",
            " '/content/drive/MyDrive/images/train/dog'\n",
            " '/content/drive/MyDrive/images/train/dog'\n",
            " '/content/drive/MyDrive/images/train/dog'\n",
            " '/content/drive/MyDrive/images/train/dog'\n",
            " '/content/drive/MyDrive/images/train/dog'\n",
            " '/content/drive/MyDrive/images/train/dog'\n",
            " '/content/drive/MyDrive/images/train/dog'\n",
            " '/content/drive/MyDrive/images/train/dog'\n",
            " '/content/drive/MyDrive/images/train/dog'\n",
            " '/content/drive/MyDrive/images/train/dog']\n",
            "test_labels ['/content/drive/MyDrive/images/validation/dog'\n",
            " '/content/drive/MyDrive/images/validation/dog'\n",
            " '/content/drive/MyDrive/images/validation/dog'\n",
            " '/content/drive/MyDrive/images/validation/dog'\n",
            " '/content/drive/MyDrive/images/validation/dog'\n",
            " '/content/drive/MyDrive/images/validation/dog'\n",
            " '/content/drive/MyDrive/images/validation/dog'\n",
            " '/content/drive/MyDrive/images/validation/dog'\n",
            " '/content/drive/MyDrive/images/validation/dog'\n",
            " '/content/drive/MyDrive/images/validation/dog'\n",
            " '/content/drive/MyDrive/images/validation/dog'\n",
            " '/content/drive/MyDrive/images/validation/dog'\n",
            " '/content/drive/MyDrive/images/validation/dog'\n",
            " '/content/drive/MyDrive/images/validation/dog'\n",
            " '/content/drive/MyDrive/images/validation/cat'\n",
            " '/content/drive/MyDrive/images/validation/cat'\n",
            " '/content/drive/MyDrive/images/validation/cat'\n",
            " '/content/drive/MyDrive/images/validation/cat'\n",
            " '/content/drive/MyDrive/images/validation/cat'\n",
            " '/content/drive/MyDrive/images/validation/cat'\n",
            " '/content/drive/MyDrive/images/validation/cat'\n",
            " '/content/drive/MyDrive/images/validation/cat'\n",
            " '/content/drive/MyDrive/images/validation/cat'\n",
            " '/content/drive/MyDrive/images/validation/cat'\n",
            " '/content/drive/MyDrive/images/validation/cat'\n",
            " '/content/drive/MyDrive/images/validation/cat'\n",
            " '/content/drive/MyDrive/images/validation/cat'\n",
            " '/content/drive/MyDrive/images/validation/cat']\n"
          ]
        }
      ]
    },
    {
      "cell_type": "code",
      "source": [
        "#Split data into test and train datasets (already split but assigning to meaningful convention)\n",
        "x_train, y_train, x_test, y_test = train_images, train_labels_encoded, test_images, test_labels_encoded"
      ],
      "metadata": {
        "id": "Nt6aWHXpLvyf"
      },
      "execution_count": 8,
      "outputs": []
    },
    {
      "cell_type": "code",
      "source": [
        "# Normalize pixel values to between 0 and 1\n",
        "x_train, x_test = x_train / 255.0, x_test / 255.0"
      ],
      "metadata": {
        "id": "vKz0rCGML5aJ"
      },
      "execution_count": 9,
      "outputs": []
    },
    {
      "cell_type": "code",
      "source": [
        "#Load vgg \n",
        "VGG_model = VGG16(weights='imagenet', include_top=False, input_shape=(SIZE, SIZE, 3))"
      ],
      "metadata": {
        "id": "E3LYehhjMCUw",
        "colab": {
          "base_uri": "https://localhost:8080/"
        },
        "outputId": "b2fb5a27-ed96-4fa4-ffa4-7369d2d10073"
      },
      "execution_count": 10,
      "outputs": [
        {
          "output_type": "stream",
          "name": "stdout",
          "text": [
            "Downloading data from https://storage.googleapis.com/tensorflow/keras-applications/vgg16/vgg16_weights_tf_dim_ordering_tf_kernels_notop.h5\n",
            "58889256/58889256 [==============================] - 0s 0us/step\n"
          ]
        }
      ]
    },
    {
      "cell_type": "code",
      "source": [
        "#for not train again in every epoch\n",
        "for layer in VGG_model.layers:\n",
        "\tlayer.trainable = False\n",
        "    \n",
        "VGG_model.summary() "
      ],
      "metadata": {
        "colab": {
          "base_uri": "https://localhost:8080/"
        },
        "id": "YQL1vnb1MIhu",
        "outputId": "e8c512c8-a977-4c57-9fca-ae8b6336557f"
      },
      "execution_count": 11,
      "outputs": [
        {
          "output_type": "stream",
          "name": "stdout",
          "text": [
            "Model: \"vgg16\"\n",
            "_________________________________________________________________\n",
            " Layer (type)                Output Shape              Param #   \n",
            "=================================================================\n",
            " input_1 (InputLayer)        [(None, 256, 256, 3)]     0         \n",
            "                                                                 \n",
            " block1_conv1 (Conv2D)       (None, 256, 256, 64)      1792      \n",
            "                                                                 \n",
            " block1_conv2 (Conv2D)       (None, 256, 256, 64)      36928     \n",
            "                                                                 \n",
            " block1_pool (MaxPooling2D)  (None, 128, 128, 64)      0         \n",
            "                                                                 \n",
            " block2_conv1 (Conv2D)       (None, 128, 128, 128)     73856     \n",
            "                                                                 \n",
            " block2_conv2 (Conv2D)       (None, 128, 128, 128)     147584    \n",
            "                                                                 \n",
            " block2_pool (MaxPooling2D)  (None, 64, 64, 128)       0         \n",
            "                                                                 \n",
            " block3_conv1 (Conv2D)       (None, 64, 64, 256)       295168    \n",
            "                                                                 \n",
            " block3_conv2 (Conv2D)       (None, 64, 64, 256)       590080    \n",
            "                                                                 \n",
            " block3_conv3 (Conv2D)       (None, 64, 64, 256)       590080    \n",
            "                                                                 \n",
            " block3_pool (MaxPooling2D)  (None, 32, 32, 256)       0         \n",
            "                                                                 \n",
            " block4_conv1 (Conv2D)       (None, 32, 32, 512)       1180160   \n",
            "                                                                 \n",
            " block4_conv2 (Conv2D)       (None, 32, 32, 512)       2359808   \n",
            "                                                                 \n",
            " block4_conv3 (Conv2D)       (None, 32, 32, 512)       2359808   \n",
            "                                                                 \n",
            " block4_pool (MaxPooling2D)  (None, 16, 16, 512)       0         \n",
            "                                                                 \n",
            " block5_conv1 (Conv2D)       (None, 16, 16, 512)       2359808   \n",
            "                                                                 \n",
            " block5_conv2 (Conv2D)       (None, 16, 16, 512)       2359808   \n",
            "                                                                 \n",
            " block5_conv3 (Conv2D)       (None, 16, 16, 512)       2359808   \n",
            "                                                                 \n",
            " block5_pool (MaxPooling2D)  (None, 8, 8, 512)         0         \n",
            "                                                                 \n",
            "=================================================================\n",
            "Total params: 14,714,688\n",
            "Trainable params: 0\n",
            "Non-trainable params: 14,714,688\n",
            "_________________________________________________________________\n"
          ]
        }
      ]
    },
    {
      "cell_type": "code",
      "source": [
        "feature_extractor=VGG_model.predict(x_train) #try toextract feaures from vggmodel for next model"
      ],
      "metadata": {
        "colab": {
          "base_uri": "https://localhost:8080/"
        },
        "id": "QQrQsj5wMXgp",
        "outputId": "65580474-4be0-4bf0-d794-80fdeec71e95"
      },
      "execution_count": 12,
      "outputs": [
        {
          "output_type": "stream",
          "name": "stdout",
          "text": [
            "22/22 [==============================] - 460s 21s/step\n"
          ]
        }
      ]
    },
    {
      "cell_type": "code",
      "source": [
        "features = feature_extractor.reshape(feature_extractor.shape[0], -1)\n",
        "print(features)"
      ],
      "metadata": {
        "colab": {
          "base_uri": "https://localhost:8080/"
        },
        "id": "kAOiZUseMx7t",
        "outputId": "d31bb096-be3f-4fe5-f156-31f2ec2c4194"
      },
      "execution_count": 13,
      "outputs": [
        {
          "output_type": "stream",
          "name": "stdout",
          "text": [
            "[[0.09650663 0.         0.         ... 0.         0.6950834  0.        ]\n",
            " [0.7278121  0.         0.         ... 0.         0.7333193  0.        ]\n",
            " [0.43491417 0.         0.         ... 0.06923617 0.87144357 0.        ]\n",
            " ...\n",
            " [0.6889681  0.         0.         ... 0.         0.87498975 0.        ]\n",
            " [0.         0.         0.         ... 0.2721424  0.8902186  0.        ]\n",
            " [0.84302056 0.         0.         ... 0.         0.9276079  0.        ]]\n"
          ]
        }
      ]
    },
    {
      "cell_type": "code",
      "source": [
        "#NM=next model\n",
        "X_for_SVM = features"
      ],
      "metadata": {
        "id": "J3U6DEgBMtyj"
      },
      "execution_count": 14,
      "outputs": []
    },
    {
      "cell_type": "code",
      "source": [
        "#from sklearn.ensemble import RandomForestClassifier\n",
        "#RF_model = RandomForestClassifier(n_estimators = 50, random_state = 42)"
      ],
      "metadata": {
        "id": "Xwe9_qYdcrx8"
      },
      "execution_count": 15,
      "outputs": []
    },
    {
      "cell_type": "code",
      "source": [
        "from sklearn.svm import SVC\n",
        "from sklearn import svm\n",
        "SVM_model = svm.SVC(kernel='rbf')"
      ],
      "metadata": {
        "id": "-ypFkdMzWIXJ"
      },
      "execution_count": 16,
      "outputs": []
    },
    {
      "cell_type": "code",
      "source": [
        "SVM_model.fit(X_for_SVM, y_train) "
      ],
      "metadata": {
        "colab": {
          "base_uri": "https://localhost:8080/"
        },
        "id": "wmEnusc-YwzY",
        "outputId": "b058963a-b160-4656-f1e2-562ef88f9c72"
      },
      "execution_count": 17,
      "outputs": [
        {
          "output_type": "execute_result",
          "data": {
            "text/plain": [
              "SVC()"
            ]
          },
          "metadata": {},
          "execution_count": 17
        }
      ]
    },
    {
      "cell_type": "code",
      "source": [
        "#RF_model.fit(X_for_RF, y_train) #For sklearn no one hot encoding"
      ],
      "metadata": {
        "id": "y3m4_Pf9c435"
      },
      "execution_count": 18,
      "outputs": []
    },
    {
      "cell_type": "code",
      "source": [
        "X_test_feature = VGG_model.predict(x_test)"
      ],
      "metadata": {
        "colab": {
          "base_uri": "https://localhost:8080/"
        },
        "id": "rnMASb_2ZWUw",
        "outputId": "ecdfb68d-6216-4a5a-9088-dd6908c12d24"
      },
      "execution_count": 19,
      "outputs": [
        {
          "output_type": "stream",
          "name": "stdout",
          "text": [
            "1/1 [==============================] - 23s 23s/step\n"
          ]
        }
      ]
    },
    {
      "cell_type": "code",
      "source": [
        "#X_test_feature = VGG_model.predict(x_test)\n",
        "#X_test_features = X_test_feature.reshape(X_test_feature.shape[0], -1)"
      ],
      "metadata": {
        "id": "9QiZVzNMc--u"
      },
      "execution_count": 20,
      "outputs": []
    },
    {
      "cell_type": "code",
      "source": [
        "X_test_features = X_test_feature.reshape(X_test_feature.shape[0], -1)"
      ],
      "metadata": {
        "id": "sruz1zJaZd3G"
      },
      "execution_count": 21,
      "outputs": []
    },
    {
      "cell_type": "code",
      "source": [
        "#prediction_RF = RF_model.predict(X_test_features)"
      ],
      "metadata": {
        "id": "pkJTztT9dJUU"
      },
      "execution_count": 22,
      "outputs": []
    },
    {
      "cell_type": "code",
      "source": [
        "prediction_SVM = SVM_model.predict(X_test_features)\n",
        "print(prediction_SVM)"
      ],
      "metadata": {
        "colab": {
          "base_uri": "https://localhost:8080/"
        },
        "id": "je4g7ozPZjMw",
        "outputId": "04ac0b00-a981-4b17-a6cc-3b06902eda58"
      },
      "execution_count": 23,
      "outputs": [
        {
          "output_type": "stream",
          "name": "stdout",
          "text": [
            "[1 1 1 1 1 1 1 1 1 1 1 1 1 0 0 0 0 0 0 0 0 0 0 0 0 1 0 0]\n"
          ]
        }
      ]
    },
    {
      "cell_type": "code",
      "source": [
        "from sklearn import metrics\n",
        "print (\"Accuracy = \", metrics.accuracy_score(test_labels_encoded, prediction_SVM))"
      ],
      "metadata": {
        "colab": {
          "base_uri": "https://localhost:8080/"
        },
        "id": "Nn1muH4RdOig",
        "outputId": "872a5dff-2820-4932-89f4-199e277c0a27"
      },
      "execution_count": 24,
      "outputs": [
        {
          "output_type": "stream",
          "name": "stdout",
          "text": [
            "Accuracy =  0.9285714285714286\n"
          ]
        }
      ]
    },
    {
      "cell_type": "code",
      "source": [
        "#from sklearn import metrics\n",
        "#print (\"Accuracy = \", metrics.accuracy_score(test_labels, prediction_SVM))"
      ],
      "metadata": {
        "id": "QaWXFoh5ZnvF"
      },
      "execution_count": 25,
      "outputs": []
    },
    {
      "cell_type": "code",
      "source": [
        "#Check results on a few select images\n",
        "n=np.random.randint(0, x_test.shape[0])\n",
        "img = x_test[n]\n",
        "plt.imshow(img)\n",
        "input_img = np.expand_dims(img, axis=0) #Expand dims so the input is (num images, x, y, c)\n",
        "input_img_feature=VGG_model.predict(input_img)\n",
        "input_img_features=input_img_feature.reshape(input_img_feature.shape[0], -1)\n",
        "prediction_SVM = SVM_model.predict(input_img_features)[0] \n",
        "prediction_SVM = le.inverse_transform([prediction_SVM])  #Reverse the label encoder to original name\n",
        "print(\"The prediction for this image is: \", prediction_SVM)\n",
        "print(\"The actual label for this image is: \", test_labels[n])"
      ],
      "metadata": {
        "colab": {
          "base_uri": "https://localhost:8080/",
          "height": 323
        },
        "id": "QVV-EHK3Zn8r",
        "outputId": "fcd2d0c5-deda-4953-ebc7-abcc3f842aa2"
      },
      "execution_count": 34,
      "outputs": [
        {
          "output_type": "stream",
          "name": "stdout",
          "text": [
            "1/1 [==============================] - 1s 700ms/step\n",
            "The prediction for this image is:  ['/content/drive/MyDrive/images/train/dog']\n",
            "The actual label for this image is:  /content/drive/MyDrive/images/validation/dog\n"
          ]
        },
        {
          "output_type": "display_data",
          "data": {
            "text/plain": [
              "<Figure size 432x288 with 1 Axes>"
            ],
            "image/png": "[encoded data removed]"
          },
          "metadata": {
            "needs_background": "light"
          }
        }
      ]
    }
  ]
}