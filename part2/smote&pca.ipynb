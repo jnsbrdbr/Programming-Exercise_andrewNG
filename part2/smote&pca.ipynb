{
  "nbformat": 4,
  "nbformat_minor": 0,
  "metadata": {
    "colab": {
      "name": "part2.ipynb",
      "provenance": [],
      "collapsed_sections": [],
      "mount_file_id": "14Y81SWYa0DylBbr9XJn0fM3Iupm6dYrU",
      "authorship_tag": "ABX9TyM5U8bki8VOX5w4HyLfx5hE",
      "include_colab_link": true
    },
    "kernelspec": {
      "name": "python3",
      "display_name": "Python 3"
    },
    "language_info": {
      "name": "python"
    }
  },
  "cells": [
    {
      "cell_type": "markdown",
      "metadata": {
        "id": "view-in-github",
        "colab_type": "text"
      },
      "source": [
        "<a href=\"https://colab.research.google.com/github/jnsbrdbr/andrew-ng/blob/master/part2/smote%26pca.ipynb\" target=\"_parent\"><img src=\"https://colab.research.google.com/assets/colab-badge.svg\" alt=\"Open In Colab\"/></a>"
      ]
    },
    {
      "cell_type": "code",
      "execution_count": 1,
      "metadata": {
        "id": "DEyAIL80xhGZ"
      },
      "outputs": [],
      "source": [
        "import numpy as np\n",
        "import pandas as pd\n",
        "import seaborn as sns\n",
        "import matplotlib.pyplot as plt\n",
        "\n",
        "from sklearn.metrics import jaccard_score\n",
        "from scipy.spatial.distance import pdist, squareform"
      ]
    },
    {
      "cell_type": "code",
      "source": [
        "from google.colab import drive\n",
        "drive.mount('/content/drive')"
      ],
      "metadata": {
        "colab": {
          "base_uri": "https://localhost:8080/"
        },
        "id": "HcfHFqNWxmsX",
        "outputId": "a6f26ae8-e5b6-4820-d27b-829a7452a9dc"
      },
      "execution_count": 2,
      "outputs": [
        {
          "output_type": "stream",
          "name": "stdout",
          "text": [
            "Drive already mounted at /content/drive; to attempt to forcibly remount, call drive.mount(\"/content/drive\", force_remount=True).\n"
          ]
        }
      ]
    },
    {
      "cell_type": "code",
      "source": [
        "import pandas as pd\n",
        "store = pd.HDFStore('/content/drive/MyDrive/1000/Tdata.h5')\n",
        "\n",
        "adj=store['adj']\n",
        "store.close()"
      ],
      "metadata": {
        "id": "pTaFqe5Uxt7C"
      },
      "execution_count": 3,
      "outputs": []
    },
    {
      "cell_type": "code",
      "source": [
        "store = pd.HDFStore('/content/drive/MyDrive/1000/TCFdf.h5')\n",
        "CF=store['CFdf']\n",
        "store.close()"
      ],
      "metadata": {
        "id": "YR7CF3kcxwFZ"
      },
      "execution_count": 4,
      "outputs": []
    },
    {
      "cell_type": "code",
      "source": [
        "store = pd.HDFStore('/content/drive/MyDrive/1000/TTFdf.h5')\n",
        "TF=store['TFdf']\n",
        "store.close()"
      ],
      "metadata": {
        "id": "SxQKug9Bx1yx"
      },
      "execution_count": 5,
      "outputs": []
    },
    {
      "cell_type": "code",
      "source": [
        "with pd.HDFStore('/content/drive/MyDrive/1000/TjaccardsimilaritydfR.h5',  mode='r') as newstore:\n",
        "    jaccardsimilarity = newstore.select('jaccardsimilaritydfR')"
      ],
      "metadata": {
        "id": "EK75N8BG2Hra"
      },
      "execution_count": 6,
      "outputs": []
    },
    {
      "cell_type": "code",
      "source": [
        "store = pd.HDFStore('/content/drive/MyDrive/1000/TcosinesimilaritydfR.h5')\n",
        "cosine=store['cosine_similaritydfR']"
      ],
      "metadata": {
        "id": "PODLTJi2205O"
      },
      "execution_count": 7,
      "outputs": []
    },
    {
      "cell_type": "code",
      "source": [
        "store = pd.HDFStore('/content/drive/MyDrive/1000/TL1normdf.h5')\n",
        "L1_normdf=store['L1_normdf']\n",
        "store.close()"
      ],
      "metadata": {
        "id": "9OYR4I85zr58"
      },
      "execution_count": 8,
      "outputs": []
    },
    {
      "cell_type": "code",
      "source": [
        "store = pd.HDFStore('/content/drive/MyDrive/1000/Tsum.h5')\n",
        "wsumdf=store['wsumdf']\n",
        "store.close()"
      ],
      "metadata": {
        "id": "OXPlnFRX0W2N"
      },
      "execution_count": 9,
      "outputs": []
    },
    {
      "cell_type": "code",
      "source": [
        "with pd.HDFStore('/content/drive/MyDrive/1000/Tmul.h5',  mode='r') as newstore:\n",
        "    wmuldf = newstore.select('wmuldf')"
      ],
      "metadata": {
        "id": "FfjKHwXC0i8p"
      },
      "execution_count": 10,
      "outputs": []
    },
    {
      "cell_type": "code",
      "source": [
        "store = pd.HDFStore('/content/drive/MyDrive/1000/TLdata.h5')\n",
        "adjl=store['adjl']\n",
        "store.close()"
      ],
      "metadata": {
        "id": "pAlWE_VT3-dn"
      },
      "execution_count": 11,
      "outputs": []
    },
    {
      "cell_type": "markdown",
      "source": [
        "# SMOTE:Synthetic Minority Oversampling **TEchnique**"
      ],
      "metadata": {
        "id": "R6F4A7wK7YSX"
      }
    },
    {
      "cell_type": "code",
      "source": [
        "#CF\n",
        "from imblearn.over_sampling import SMOTE\n",
        "\n",
        "\n",
        "oversample1 = SMOTE()#k_neighbors=2\n",
        "CF_smote,CF_label= oversample1.fit_resample(CF,adjl['label'])"
      ],
      "metadata": {
        "id": "RGkDb23b7PJA"
      },
      "execution_count": 14,
      "outputs": []
    },
    {
      "cell_type": "code",
      "source": [
        "#TF\n",
        "oversample2 = SMOTE()#k_neighbors=2\n",
        "TF_smote,TF_label= oversample2.fit_resample(TF,adjl['label'])"
      ],
      "metadata": {
        "id": "LqtxtwoFAvHC"
      },
      "execution_count": 60,
      "outputs": []
    },
    {
      "cell_type": "code",
      "source": [
        "#jaccardsimilarity\n",
        "oversample3 = SMOTE()#k_neighbors=2\n",
        "jaccard_similarity_smote,jaccard_similarity_label= oversample3.fit_resample(jaccardsimilarity,\n",
        "                                                                            adjl['label'])"
      ],
      "metadata": {
        "id": "-E6QIyPJ765m"
      },
      "execution_count": 19,
      "outputs": []
    },
    {
      "cell_type": "code",
      "source": [
        "oversample4 = SMOTE()#k_neighbors=2\n",
        "cosine_similarity_smote,cosine_similarity_label= oversample4.fit_resample(cosine,\n",
        "                                                                          adjl['label'])"
      ],
      "metadata": {
        "id": "kWqIGfgh76wI"
      },
      "execution_count": 20,
      "outputs": []
    },
    {
      "cell_type": "code",
      "source": [
        "#L1_norm\n",
        "oversample5 = SMOTE()#k_neighbors=2\n",
        "L1_norm_smote,L1_norm_label= oversample5.fit_resample(L1_normdf,adjl['label'])"
      ],
      "metadata": {
        "id": "PZ9ING0N8EwI"
      },
      "execution_count": 21,
      "outputs": []
    },
    {
      "cell_type": "code",
      "source": [
        "#wsum\n",
        "oversample6 = SMOTE()#k_neighbors=2\n",
        "wsum_smote,wsum_label= oversample6.fit_resample(wsumdf,adjl['label'])"
      ],
      "metadata": {
        "id": "4gp5bH_z8UOI"
      },
      "execution_count": 22,
      "outputs": []
    },
    {
      "cell_type": "code",
      "source": [
        "#wmul\n",
        "oversample7 = SMOTE()#k_neighbors=2\n",
        "wmul_smote,wmul_label= oversample7.fit_resample(wmuldf,adjl['label'])"
      ],
      "metadata": {
        "id": "w8wU9Y0K8aRN"
      },
      "execution_count": 23,
      "outputs": []
    },
    {
      "cell_type": "markdown",
      "source": [
        "# **PCA**"
      ],
      "metadata": {
        "id": "7-AjZepa8uae"
      }
    },
    {
      "cell_type": "code",
      "source": [
        "from sklearn.decomposition import PCA\n",
        "\n",
        "\n",
        "pca = PCA(n_components=10)\n",
        "CF_pca = pca.fit_transform(CF_smote)\n",
        "print(np.round(CF_pca))"
      ],
      "metadata": {
        "colab": {
          "base_uri": "https://localhost:8080/"
        },
        "id": "m64r672n8v3-",
        "outputId": "b1eb3378-d599-4f6e-f066-c7c738c95932"
      },
      "execution_count": 67,
      "outputs": [
        {
          "output_type": "stream",
          "name": "stdout",
          "text": [
            "[[-1. -3. -0. ... -0. -0. -0.]\n",
            " [-1. -3. -0. ... -0. -0. -0.]\n",
            " [-1. -3. -0. ... -0. -0. -0.]\n",
            " ...\n",
            " [-1. -3. -0. ... -0. -0. -0.]\n",
            " [-1. -3. -0. ... -0. -0. -0.]\n",
            " [-1. -3. -0. ... -0. -0. -0.]]\n"
          ]
        }
      ]
    },
    {
      "cell_type": "code",
      "source": [
        "pca = PCA(n_components=10)\n",
        "TF_pca = pca.fit_transform(TF_smote)\n",
        "print(np.round(TF_pca))"
      ],
      "metadata": {
        "colab": {
          "base_uri": "https://localhost:8080/"
        },
        "id": "8_k0LOA4-Kni",
        "outputId": "ceb8fb4a-9d61-4fa7-d7a9-1dc81635e40a"
      },
      "execution_count": 68,
      "outputs": [
        {
          "output_type": "stream",
          "name": "stdout",
          "text": [
            "[[-169.    0.   -0. ...   -0.    0.   -0.]\n",
            " [-169.    0.   -0. ...   -0.   -0.   -0.]\n",
            " [-169.    0.   -0. ...   -0.    0.   -0.]\n",
            " ...\n",
            " [-177.    0.    0. ...    0.   -0.    0.]\n",
            " [-173.    0.    0. ...   -0.   -0.   -0.]\n",
            " [-173.    0.    0. ...   -0.    0.   -6.]]\n"
          ]
        }
      ]
    },
    {
      "cell_type": "code",
      "source": [
        "pca = PCA(n_components=10)\n",
        "jaccard_similarity_pca = pca.fit_transform(jaccard_similarity_smote)\n",
        "print(np.round(jaccard_similarity_pca))"
      ],
      "metadata": {
        "colab": {
          "base_uri": "https://localhost:8080/"
        },
        "id": "K2I-r4lO-ao3",
        "outputId": "46f25bff-f6f5-45e5-a982-27db270bed68"
      },
      "execution_count": 62,
      "outputs": [
        {
          "output_type": "stream",
          "name": "stdout",
          "text": [
            "[[-1. -4. -1. ...  3. -0.  0.]\n",
            " [-1. -4. -1. ...  3. -0.  0.]\n",
            " [-1. -4. -1. ...  3. -0.  0.]\n",
            " ...\n",
            " [-9.  7. -0. ... -0.  1. -0.]\n",
            " [-7.  4. -0. ...  1. -0.  1.]\n",
            " [-5.  0. -3. ... -0.  0. -0.]]\n"
          ]
        }
      ]
    },
    {
      "cell_type": "code",
      "source": [
        "pca = PCA(n_components=10)\n",
        "cosine_similarity_pca = pca.fit_transform(cosine_similarity_smote)\n",
        "print(np.round(cosine_similarity_pca))"
      ],
      "metadata": {
        "colab": {
          "base_uri": "https://localhost:8080/"
        },
        "id": "uaurRY82-yVf",
        "outputId": "3c3f0246-345f-4152-a19a-5fc4aebeb632"
      },
      "execution_count": 61,
      "outputs": [
        {
          "output_type": "stream",
          "name": "stdout",
          "text": [
            "[[-1. -4. -0. ...  3. -0.  0.]\n",
            " [-1. -4. -0. ...  3. -0.  0.]\n",
            " [-1. -4. -0. ...  3. -0.  0.]\n",
            " ...\n",
            " [12.  4. -0. ... -0.  0. -0.]\n",
            " [-1. -6. -4. ... -0.  0. -0.]\n",
            " [-1. -4. -0. ... -1. -0.  0.]]\n"
          ]
        }
      ]
    },
    {
      "cell_type": "code",
      "source": [
        "pca = PCA(n_components=10)\n",
        "L1_normdf_similarity_pca = pca.fit_transform(L1_norm_smote)\n",
        "print(np.round(L1_normdf_similarity_pca))"
      ],
      "metadata": {
        "colab": {
          "base_uri": "https://localhost:8080/"
        },
        "id": "e8bJnk7B-yLq",
        "outputId": "f66e9b4b-1436-493a-b746-c414a27ce497"
      },
      "execution_count": 64,
      "outputs": [
        {
          "output_type": "stream",
          "name": "stdout",
          "text": [
            "[[-1. -4. -0. ...  3. -0.  0.]\n",
            " [-1. -4. -0. ...  3. -0.  0.]\n",
            " [-1. -4. -0. ...  3. -0.  0.]\n",
            " ...\n",
            " [-0. -4. -0. ...  3. -0.  0.]\n",
            " [ 2. -2. -0. ... -1. -0.  0.]\n",
            " [-4. -0. -0. ... -1. -0.  0.]]\n"
          ]
        }
      ]
    },
    {
      "cell_type": "code",
      "source": [
        "pca = PCA(n_components=10)\n",
        "wsumdf_similarity_pca = pca.fit_transform(wsum_smote)\n",
        "print(np.round(wsumdf_similarity_pca))"
      ],
      "metadata": {
        "colab": {
          "base_uri": "https://localhost:8080/"
        },
        "id": "KFqx-ctK-yHO",
        "outputId": "3e2e89d2-e626-4afe-8628-9bd36cc00cd7"
      },
      "execution_count": 65,
      "outputs": [
        {
          "output_type": "stream",
          "name": "stdout",
          "text": [
            "[[-1.  0. -0. ... -0. -0. -0.]\n",
            " [-1.  0. -0. ... -0. -0. -0.]\n",
            " [-1.  0. -0. ... -0. -0. -0.]\n",
            " ...\n",
            " [-1. -0. -0. ... -0.  1.  0.]\n",
            " [-1. -0. -0. ... -0.  0.  0.]\n",
            " [-1.  0. -0. ... -0.  0.  0.]]\n"
          ]
        }
      ]
    },
    {
      "cell_type": "code",
      "source": [
        "pca = PCA(n_components=10)\n",
        "wmuldf_similarity_pca = pca.fit_transform(wmul_smote)\n",
        "print(np.round(wmuldf_similarity_pca))"
      ],
      "metadata": {
        "colab": {
          "base_uri": "https://localhost:8080/"
        },
        "id": "ztaqHeP2-yFY",
        "outputId": "b1aa107b-1719-48aa-c33d-40a8941e720d"
      },
      "execution_count": 66,
      "outputs": [
        {
          "output_type": "stream",
          "name": "stdout",
          "text": [
            "[[-1. -0.  0. ... -0. -0. -0.]\n",
            " [-1. -0.  0. ... -0. -0. -0.]\n",
            " [-1. -0.  0. ... -0. -0. -0.]\n",
            " ...\n",
            " [-1. -0.  0. ... -0. -0.  0.]\n",
            " [-1. -0. -0. ... -0. -0.  0.]\n",
            " [-1. -0. -0. ... -0. -0. -0.]]\n"
          ]
        }
      ]
    }
  ]
}